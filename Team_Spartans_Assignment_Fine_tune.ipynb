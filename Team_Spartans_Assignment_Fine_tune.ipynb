{
  "cells": [
    {
      "cell_type": "markdown",
      "metadata": {
        "id": "StcuyijcRvfE"
      },
      "source": [
        "# **CMPE-257**\n",
        "\n",
        "**Homework Week 10 NLP Part 4; Fine-tune a LLM for your Poet**\n",
        "\n",
        "---\n",
        "\n",
        "**Part 4: Fine-tune a LLM for your Poet**\n",
        "\n",
        "---\n",
        "\n",
        "```\n",
        "Rishikesh Andhare\n",
        "Jack Kalavadia\n",
        "Rutvik Moradiya\n",
        "Pramatha Nadig\n",
        "```\n"
      ]
    },
    {
      "cell_type": "markdown",
      "metadata": {
        "id": "7TMC4m-Wc64m"
      },
      "source": [
        "\n",
        "```\n",
        "1. Pick one poet\n",
        "2. Scrape 30-40 poems from this poet\n",
        "3. convert the poems into one csv file\n",
        "4. Use this notebook to fine tune a mistral 7b model with the 30-40 poems of that poet\n",
        "5. save the model as <poet>_mistral7b.mod\n",
        "6. query the model for new poetry\n",
        "7. your model will generate new poetry in the style of the origianl poet\n",
        "8. save the output for 5 poems you generate\n",
        "9. try [poem] and try [line] determine which one of these chunking options will generate more coherent language\n",
        "10. assess the cosine similarity between the generated poems of this poem -- whatveer this lang model produces and the previous poems you scraped from this poet.\n",
        "11. Human assessment of the resulting putcomes\n",
        "```\n"
      ]
    },
    {
      "cell_type": "code",
      "execution_count": 10,
      "metadata": {
        "id": "nCTR7PAG1TaQ",
        "colab": {
          "base_uri": "https://localhost:8080/"
        },
        "outputId": "9aac2e14-385b-4c92-b5a7-34a04b9a624b"
      },
      "outputs": [
        {
          "output_type": "stream",
          "name": "stderr",
          "text": [
            "/usr/local/lib/python3.10/dist-packages/ipykernel/ipkernel.py:283: DeprecationWarning: `should_run_async` will not call `transform_cell` automatically in the future. Please pass the result to `transformed_cell` argument and any exception that happen during thetransform in `preprocessing_exc_tuple` in IPython 7.17 and above.\n",
            "  and should_run_async(code)\n"
          ]
        }
      ],
      "source": [
        "poet1 = \"John Keats\"\n",
        "# poet2 = \"John Keats\"\n",
        "store_loc = \"/content/drive/MyDrive/poets/\"\n"
      ]
    },
    {
      "cell_type": "markdown",
      "source": [
        "#Installing Packages"
      ],
      "metadata": {
        "id": "txeGkjWIIaJs"
      }
    },
    {
      "cell_type": "code",
      "execution_count": 2,
      "metadata": {
        "colab": {
          "base_uri": "https://localhost:8080/"
        },
        "id": "TWjgTi4PaLj1",
        "outputId": "0074b601-e686-488d-8e65-04ec9d763162"
      },
      "outputs": [
        {
          "output_type": "stream",
          "name": "stdout",
          "text": [
            "Requirement already satisfied: nltk in /usr/local/lib/python3.10/dist-packages (3.8.1)\n",
            "Requirement already satisfied: click in /usr/local/lib/python3.10/dist-packages (from nltk) (8.1.7)\n",
            "Requirement already satisfied: joblib in /usr/local/lib/python3.10/dist-packages (from nltk) (1.3.2)\n",
            "Requirement already satisfied: regex>=2021.8.3 in /usr/local/lib/python3.10/dist-packages (from nltk) (2023.6.3)\n",
            "Requirement already satisfied: tqdm in /usr/local/lib/python3.10/dist-packages (from nltk) (4.66.1)\n",
            "Collecting sentence-transformers\n",
            "  Downloading sentence-transformers-2.2.2.tar.gz (85 kB)\n",
            "\u001b[2K     \u001b[90m━━━━━━━━━━━━━━━━━━━━━━━━━━━━━━━━━━━━━━━━\u001b[0m \u001b[32m86.0/86.0 kB\u001b[0m \u001b[31m2.2 MB/s\u001b[0m eta \u001b[36m0:00:00\u001b[0m\n",
            "\u001b[?25h  Preparing metadata (setup.py) ... \u001b[?25l\u001b[?25hdone\n",
            "Collecting transformers<5.0.0,>=4.6.0 (from sentence-transformers)\n",
            "  Downloading transformers-4.35.0-py3-none-any.whl (7.9 MB)\n",
            "\u001b[2K     \u001b[90m━━━━━━━━━━━━━━━━━━━━━━━━━━━━━━━━━━━━━━━━\u001b[0m \u001b[32m7.9/7.9 MB\u001b[0m \u001b[31m104.9 MB/s\u001b[0m eta \u001b[36m0:00:00\u001b[0m\n",
            "\u001b[?25hRequirement already satisfied: tqdm in /usr/local/lib/python3.10/dist-packages (from sentence-transformers) (4.66.1)\n",
            "Requirement already satisfied: torch>=1.6.0 in /usr/local/lib/python3.10/dist-packages (from sentence-transformers) (2.1.0+cu118)\n",
            "Requirement already satisfied: torchvision in /usr/local/lib/python3.10/dist-packages (from sentence-transformers) (0.16.0+cu118)\n",
            "Requirement already satisfied: numpy in /usr/local/lib/python3.10/dist-packages (from sentence-transformers) (1.23.5)\n",
            "Requirement already satisfied: scikit-learn in /usr/local/lib/python3.10/dist-packages (from sentence-transformers) (1.2.2)\n",
            "Requirement already satisfied: scipy in /usr/local/lib/python3.10/dist-packages (from sentence-transformers) (1.11.3)\n",
            "Requirement already satisfied: nltk in /usr/local/lib/python3.10/dist-packages (from sentence-transformers) (3.8.1)\n",
            "Collecting sentencepiece (from sentence-transformers)\n",
            "  Downloading sentencepiece-0.1.99-cp310-cp310-manylinux_2_17_x86_64.manylinux2014_x86_64.whl (1.3 MB)\n",
            "\u001b[2K     \u001b[90m━━━━━━━━━━━━━━━━━━━━━━━━━━━━━━━━━━━━━━━━\u001b[0m \u001b[32m1.3/1.3 MB\u001b[0m \u001b[31m83.1 MB/s\u001b[0m eta \u001b[36m0:00:00\u001b[0m\n",
            "\u001b[?25hCollecting huggingface-hub>=0.4.0 (from sentence-transformers)\n",
            "  Downloading huggingface_hub-0.19.1-py3-none-any.whl (311 kB)\n",
            "\u001b[2K     \u001b[90m━━━━━━━━━━━━━━━━━━━━━━━━━━━━━━━━━━━━━━━━\u001b[0m \u001b[32m311.1/311.1 kB\u001b[0m \u001b[31m41.8 MB/s\u001b[0m eta \u001b[36m0:00:00\u001b[0m\n",
            "\u001b[?25hRequirement already satisfied: filelock in /usr/local/lib/python3.10/dist-packages (from huggingface-hub>=0.4.0->sentence-transformers) (3.13.1)\n",
            "Requirement already satisfied: fsspec>=2023.5.0 in /usr/local/lib/python3.10/dist-packages (from huggingface-hub>=0.4.0->sentence-transformers) (2023.6.0)\n",
            "Requirement already satisfied: requests in /usr/local/lib/python3.10/dist-packages (from huggingface-hub>=0.4.0->sentence-transformers) (2.31.0)\n",
            "Requirement already satisfied: pyyaml>=5.1 in /usr/local/lib/python3.10/dist-packages (from huggingface-hub>=0.4.0->sentence-transformers) (6.0.1)\n",
            "Requirement already satisfied: typing-extensions>=3.7.4.3 in /usr/local/lib/python3.10/dist-packages (from huggingface-hub>=0.4.0->sentence-transformers) (4.5.0)\n",
            "Requirement already satisfied: packaging>=20.9 in /usr/local/lib/python3.10/dist-packages (from huggingface-hub>=0.4.0->sentence-transformers) (23.2)\n",
            "Requirement already satisfied: sympy in /usr/local/lib/python3.10/dist-packages (from torch>=1.6.0->sentence-transformers) (1.12)\n",
            "Requirement already satisfied: networkx in /usr/local/lib/python3.10/dist-packages (from torch>=1.6.0->sentence-transformers) (3.2.1)\n",
            "Requirement already satisfied: jinja2 in /usr/local/lib/python3.10/dist-packages (from torch>=1.6.0->sentence-transformers) (3.1.2)\n",
            "Requirement already satisfied: triton==2.1.0 in /usr/local/lib/python3.10/dist-packages (from torch>=1.6.0->sentence-transformers) (2.1.0)\n",
            "Requirement already satisfied: regex!=2019.12.17 in /usr/local/lib/python3.10/dist-packages (from transformers<5.0.0,>=4.6.0->sentence-transformers) (2023.6.3)\n",
            "Collecting tokenizers<0.15,>=0.14 (from transformers<5.0.0,>=4.6.0->sentence-transformers)\n",
            "  Downloading tokenizers-0.14.1-cp310-cp310-manylinux_2_17_x86_64.manylinux2014_x86_64.whl (3.8 MB)\n",
            "\u001b[2K     \u001b[90m━━━━━━━━━━━━━━━━━━━━━━━━━━━━━━━━━━━━━━━━\u001b[0m \u001b[32m3.8/3.8 MB\u001b[0m \u001b[31m105.6 MB/s\u001b[0m eta \u001b[36m0:00:00\u001b[0m\n",
            "\u001b[?25hCollecting safetensors>=0.3.1 (from transformers<5.0.0,>=4.6.0->sentence-transformers)\n",
            "  Downloading safetensors-0.4.0-cp310-cp310-manylinux_2_17_x86_64.manylinux2014_x86_64.whl (1.3 MB)\n",
            "\u001b[2K     \u001b[90m━━━━━━━━━━━━━━━━━━━━━━━━━━━━━━━━━━━━━━━━\u001b[0m \u001b[32m1.3/1.3 MB\u001b[0m \u001b[31m95.3 MB/s\u001b[0m eta \u001b[36m0:00:00\u001b[0m\n",
            "\u001b[?25hRequirement already satisfied: click in /usr/local/lib/python3.10/dist-packages (from nltk->sentence-transformers) (8.1.7)\n",
            "Requirement already satisfied: joblib in /usr/local/lib/python3.10/dist-packages (from nltk->sentence-transformers) (1.3.2)\n",
            "Requirement already satisfied: threadpoolctl>=2.0.0 in /usr/local/lib/python3.10/dist-packages (from scikit-learn->sentence-transformers) (3.2.0)\n",
            "Requirement already satisfied: pillow!=8.3.*,>=5.3.0 in /usr/local/lib/python3.10/dist-packages (from torchvision->sentence-transformers) (9.4.0)\n",
            "Collecting huggingface-hub>=0.4.0 (from sentence-transformers)\n",
            "  Downloading huggingface_hub-0.17.3-py3-none-any.whl (295 kB)\n",
            "\u001b[2K     \u001b[90m━━━━━━━━━━━━━━━━━━━━━━━━━━━━━━━━━━━━━━━━\u001b[0m \u001b[32m295.0/295.0 kB\u001b[0m \u001b[31m38.6 MB/s\u001b[0m eta \u001b[36m0:00:00\u001b[0m\n",
            "\u001b[?25hRequirement already satisfied: MarkupSafe>=2.0 in /usr/local/lib/python3.10/dist-packages (from jinja2->torch>=1.6.0->sentence-transformers) (2.1.3)\n",
            "Requirement already satisfied: charset-normalizer<4,>=2 in /usr/local/lib/python3.10/dist-packages (from requests->huggingface-hub>=0.4.0->sentence-transformers) (3.3.2)\n",
            "Requirement already satisfied: idna<4,>=2.5 in /usr/local/lib/python3.10/dist-packages (from requests->huggingface-hub>=0.4.0->sentence-transformers) (3.4)\n",
            "Requirement already satisfied: urllib3<3,>=1.21.1 in /usr/local/lib/python3.10/dist-packages (from requests->huggingface-hub>=0.4.0->sentence-transformers) (2.0.7)\n",
            "Requirement already satisfied: certifi>=2017.4.17 in /usr/local/lib/python3.10/dist-packages (from requests->huggingface-hub>=0.4.0->sentence-transformers) (2023.7.22)\n",
            "Requirement already satisfied: mpmath>=0.19 in /usr/local/lib/python3.10/dist-packages (from sympy->torch>=1.6.0->sentence-transformers) (1.3.0)\n",
            "Building wheels for collected packages: sentence-transformers\n",
            "  Building wheel for sentence-transformers (setup.py) ... \u001b[?25l\u001b[?25hdone\n",
            "  Created wheel for sentence-transformers: filename=sentence_transformers-2.2.2-py3-none-any.whl size=125923 sha256=8208b4b3427687993226435c9079b72283277b74a0458e3ebaecebe3d9393bce\n",
            "  Stored in directory: /root/.cache/pip/wheels/62/f2/10/1e606fd5f02395388f74e7462910fe851042f97238cbbd902f\n",
            "Successfully built sentence-transformers\n",
            "Installing collected packages: sentencepiece, safetensors, huggingface-hub, tokenizers, transformers, sentence-transformers\n",
            "Successfully installed huggingface-hub-0.17.3 safetensors-0.4.0 sentence-transformers-2.2.2 sentencepiece-0.1.99 tokenizers-0.14.1 transformers-4.35.0\n",
            "Collecting contractions\n",
            "  Downloading contractions-0.1.73-py2.py3-none-any.whl (8.7 kB)\n",
            "Collecting textsearch>=0.0.21 (from contractions)\n",
            "  Downloading textsearch-0.0.24-py2.py3-none-any.whl (7.6 kB)\n",
            "Collecting anyascii (from textsearch>=0.0.21->contractions)\n",
            "  Downloading anyascii-0.3.2-py3-none-any.whl (289 kB)\n",
            "\u001b[2K     \u001b[90m━━━━━━━━━━━━━━━━━━━━━━━━━━━━━━━━━━━━━━━━\u001b[0m \u001b[32m289.9/289.9 kB\u001b[0m \u001b[31m7.0 MB/s\u001b[0m eta \u001b[36m0:00:00\u001b[0m\n",
            "\u001b[?25hCollecting pyahocorasick (from textsearch>=0.0.21->contractions)\n",
            "  Downloading pyahocorasick-2.0.0-cp310-cp310-manylinux_2_5_x86_64.manylinux1_x86_64.manylinux_2_12_x86_64.manylinux2010_x86_64.whl (110 kB)\n",
            "\u001b[2K     \u001b[90m━━━━━━━━━━━━━━━━━━━━━━━━━━━━━━━━━━━━━━━━\u001b[0m \u001b[32m110.8/110.8 kB\u001b[0m \u001b[31m18.1 MB/s\u001b[0m eta \u001b[36m0:00:00\u001b[0m\n",
            "\u001b[?25hInstalling collected packages: pyahocorasick, anyascii, textsearch, contractions\n",
            "Successfully installed anyascii-0.3.2 contractions-0.1.73 pyahocorasick-2.0.0 textsearch-0.0.24\n",
            "Requirement already satisfied: pandas in /usr/local/lib/python3.10/dist-packages (1.5.3)\n",
            "Requirement already satisfied: python-dateutil>=2.8.1 in /usr/local/lib/python3.10/dist-packages (from pandas) (2.8.2)\n",
            "Requirement already satisfied: pytz>=2020.1 in /usr/local/lib/python3.10/dist-packages (from pandas) (2023.3.post1)\n",
            "Requirement already satisfied: numpy>=1.21.0 in /usr/local/lib/python3.10/dist-packages (from pandas) (1.23.5)\n",
            "Requirement already satisfied: six>=1.5 in /usr/local/lib/python3.10/dist-packages (from python-dateutil>=2.8.1->pandas) (1.16.0)\n",
            "Collecting bertopic\n",
            "  Downloading bertopic-0.15.0-py2.py3-none-any.whl (143 kB)\n",
            "\u001b[2K     \u001b[90m━━━━━━━━━━━━━━━━━━━━━━━━━━━━━━━━━━━━━━━━\u001b[0m \u001b[32m143.4/143.4 kB\u001b[0m \u001b[31m3.5 MB/s\u001b[0m eta \u001b[36m0:00:00\u001b[0m\n",
            "\u001b[?25hRequirement already satisfied: numpy>=1.20.0 in /usr/local/lib/python3.10/dist-packages (from bertopic) (1.23.5)\n",
            "Collecting hdbscan>=0.8.29 (from bertopic)\n",
            "  Downloading hdbscan-0.8.33.tar.gz (5.2 MB)\n",
            "\u001b[2K     \u001b[90m━━━━━━━━━━━━━━━━━━━━━━━━━━━━━━━━━━━━━━━━\u001b[0m \u001b[32m5.2/5.2 MB\u001b[0m \u001b[31m95.1 MB/s\u001b[0m eta \u001b[36m0:00:00\u001b[0m\n",
            "\u001b[?25h  Installing build dependencies ... \u001b[?25l\u001b[?25hdone\n",
            "  Getting requirements to build wheel ... \u001b[?25l\u001b[?25hdone\n",
            "  Preparing metadata (pyproject.toml) ... \u001b[?25l\u001b[?25hdone\n",
            "Collecting umap-learn>=0.5.0 (from bertopic)\n",
            "  Downloading umap-learn-0.5.4.tar.gz (90 kB)\n",
            "\u001b[2K     \u001b[90m━━━━━━━━━━━━━━━━━━━━━━━━━━━━━━━━━━━━━━━━\u001b[0m \u001b[32m90.8/90.8 kB\u001b[0m \u001b[31m13.2 MB/s\u001b[0m eta \u001b[36m0:00:00\u001b[0m\n",
            "\u001b[?25h  Preparing metadata (setup.py) ... \u001b[?25l\u001b[?25hdone\n",
            "Requirement already satisfied: pandas>=1.1.5 in /usr/local/lib/python3.10/dist-packages (from bertopic) (1.5.3)\n",
            "Requirement already satisfied: scikit-learn>=0.22.2.post1 in /usr/local/lib/python3.10/dist-packages (from bertopic) (1.2.2)\n",
            "Requirement already satisfied: tqdm>=4.41.1 in /usr/local/lib/python3.10/dist-packages (from bertopic) (4.66.1)\n",
            "Requirement already satisfied: sentence-transformers>=0.4.1 in /usr/local/lib/python3.10/dist-packages (from bertopic) (2.2.2)\n",
            "Requirement already satisfied: plotly>=4.7.0 in /usr/local/lib/python3.10/dist-packages (from bertopic) (5.15.0)\n",
            "Collecting cython<3,>=0.27 (from hdbscan>=0.8.29->bertopic)\n",
            "  Using cached Cython-0.29.36-cp310-cp310-manylinux_2_17_x86_64.manylinux2014_x86_64.manylinux_2_24_x86_64.whl (1.9 MB)\n",
            "Requirement already satisfied: scipy>=1.0 in /usr/local/lib/python3.10/dist-packages (from hdbscan>=0.8.29->bertopic) (1.11.3)\n",
            "Requirement already satisfied: joblib>=1.0 in /usr/local/lib/python3.10/dist-packages (from hdbscan>=0.8.29->bertopic) (1.3.2)\n",
            "Requirement already satisfied: python-dateutil>=2.8.1 in /usr/local/lib/python3.10/dist-packages (from pandas>=1.1.5->bertopic) (2.8.2)\n",
            "Requirement already satisfied: pytz>=2020.1 in /usr/local/lib/python3.10/dist-packages (from pandas>=1.1.5->bertopic) (2023.3.post1)\n",
            "Requirement already satisfied: tenacity>=6.2.0 in /usr/local/lib/python3.10/dist-packages (from plotly>=4.7.0->bertopic) (8.2.3)\n",
            "Requirement already satisfied: packaging in /usr/local/lib/python3.10/dist-packages (from plotly>=4.7.0->bertopic) (23.2)\n",
            "Requirement already satisfied: threadpoolctl>=2.0.0 in /usr/local/lib/python3.10/dist-packages (from scikit-learn>=0.22.2.post1->bertopic) (3.2.0)\n",
            "Requirement already satisfied: transformers<5.0.0,>=4.6.0 in /usr/local/lib/python3.10/dist-packages (from sentence-transformers>=0.4.1->bertopic) (4.35.0)\n",
            "Requirement already satisfied: torch>=1.6.0 in /usr/local/lib/python3.10/dist-packages (from sentence-transformers>=0.4.1->bertopic) (2.1.0+cu118)\n",
            "Requirement already satisfied: torchvision in /usr/local/lib/python3.10/dist-packages (from sentence-transformers>=0.4.1->bertopic) (0.16.0+cu118)\n",
            "Requirement already satisfied: nltk in /usr/local/lib/python3.10/dist-packages (from sentence-transformers>=0.4.1->bertopic) (3.8.1)\n",
            "Requirement already satisfied: sentencepiece in /usr/local/lib/python3.10/dist-packages (from sentence-transformers>=0.4.1->bertopic) (0.1.99)\n",
            "Requirement already satisfied: huggingface-hub>=0.4.0 in /usr/local/lib/python3.10/dist-packages (from sentence-transformers>=0.4.1->bertopic) (0.17.3)\n",
            "Requirement already satisfied: numba>=0.51.2 in /usr/local/lib/python3.10/dist-packages (from umap-learn>=0.5.0->bertopic) (0.58.1)\n",
            "Collecting pynndescent>=0.5 (from umap-learn>=0.5.0->bertopic)\n",
            "  Downloading pynndescent-0.5.10.tar.gz (1.1 MB)\n",
            "\u001b[2K     \u001b[90m━━━━━━━━━━━━━━━━━━━━━━━━━━━━━━━━━━━━━━━━\u001b[0m \u001b[32m1.1/1.1 MB\u001b[0m \u001b[31m83.2 MB/s\u001b[0m eta \u001b[36m0:00:00\u001b[0m\n",
            "\u001b[?25h  Preparing metadata (setup.py) ... \u001b[?25l\u001b[?25hdone\n",
            "Requirement already satisfied: tbb>=2019.0 in /usr/local/lib/python3.10/dist-packages (from umap-learn>=0.5.0->bertopic) (2021.10.0)\n",
            "Requirement already satisfied: filelock in /usr/local/lib/python3.10/dist-packages (from huggingface-hub>=0.4.0->sentence-transformers>=0.4.1->bertopic) (3.13.1)\n",
            "Requirement already satisfied: fsspec in /usr/local/lib/python3.10/dist-packages (from huggingface-hub>=0.4.0->sentence-transformers>=0.4.1->bertopic) (2023.6.0)\n",
            "Requirement already satisfied: requests in /usr/local/lib/python3.10/dist-packages (from huggingface-hub>=0.4.0->sentence-transformers>=0.4.1->bertopic) (2.31.0)\n",
            "Requirement already satisfied: pyyaml>=5.1 in /usr/local/lib/python3.10/dist-packages (from huggingface-hub>=0.4.0->sentence-transformers>=0.4.1->bertopic) (6.0.1)\n",
            "Requirement already satisfied: typing-extensions>=3.7.4.3 in /usr/local/lib/python3.10/dist-packages (from huggingface-hub>=0.4.0->sentence-transformers>=0.4.1->bertopic) (4.5.0)\n",
            "Requirement already satisfied: llvmlite<0.42,>=0.41.0dev0 in /usr/local/lib/python3.10/dist-packages (from numba>=0.51.2->umap-learn>=0.5.0->bertopic) (0.41.1)\n",
            "Requirement already satisfied: six>=1.5 in /usr/local/lib/python3.10/dist-packages (from python-dateutil>=2.8.1->pandas>=1.1.5->bertopic) (1.16.0)\n",
            "Requirement already satisfied: sympy in /usr/local/lib/python3.10/dist-packages (from torch>=1.6.0->sentence-transformers>=0.4.1->bertopic) (1.12)\n",
            "Requirement already satisfied: networkx in /usr/local/lib/python3.10/dist-packages (from torch>=1.6.0->sentence-transformers>=0.4.1->bertopic) (3.2.1)\n",
            "Requirement already satisfied: jinja2 in /usr/local/lib/python3.10/dist-packages (from torch>=1.6.0->sentence-transformers>=0.4.1->bertopic) (3.1.2)\n",
            "Requirement already satisfied: triton==2.1.0 in /usr/local/lib/python3.10/dist-packages (from torch>=1.6.0->sentence-transformers>=0.4.1->bertopic) (2.1.0)\n",
            "Requirement already satisfied: regex!=2019.12.17 in /usr/local/lib/python3.10/dist-packages (from transformers<5.0.0,>=4.6.0->sentence-transformers>=0.4.1->bertopic) (2023.6.3)\n",
            "Requirement already satisfied: tokenizers<0.15,>=0.14 in /usr/local/lib/python3.10/dist-packages (from transformers<5.0.0,>=4.6.0->sentence-transformers>=0.4.1->bertopic) (0.14.1)\n",
            "Requirement already satisfied: safetensors>=0.3.1 in /usr/local/lib/python3.10/dist-packages (from transformers<5.0.0,>=4.6.0->sentence-transformers>=0.4.1->bertopic) (0.4.0)\n",
            "Requirement already satisfied: click in /usr/local/lib/python3.10/dist-packages (from nltk->sentence-transformers>=0.4.1->bertopic) (8.1.7)\n",
            "Requirement already satisfied: pillow!=8.3.*,>=5.3.0 in /usr/local/lib/python3.10/dist-packages (from torchvision->sentence-transformers>=0.4.1->bertopic) (9.4.0)\n",
            "Requirement already satisfied: MarkupSafe>=2.0 in /usr/local/lib/python3.10/dist-packages (from jinja2->torch>=1.6.0->sentence-transformers>=0.4.1->bertopic) (2.1.3)\n",
            "Requirement already satisfied: charset-normalizer<4,>=2 in /usr/local/lib/python3.10/dist-packages (from requests->huggingface-hub>=0.4.0->sentence-transformers>=0.4.1->bertopic) (3.3.2)\n",
            "Requirement already satisfied: idna<4,>=2.5 in /usr/local/lib/python3.10/dist-packages (from requests->huggingface-hub>=0.4.0->sentence-transformers>=0.4.1->bertopic) (3.4)\n",
            "Requirement already satisfied: urllib3<3,>=1.21.1 in /usr/local/lib/python3.10/dist-packages (from requests->huggingface-hub>=0.4.0->sentence-transformers>=0.4.1->bertopic) (2.0.7)\n",
            "Requirement already satisfied: certifi>=2017.4.17 in /usr/local/lib/python3.10/dist-packages (from requests->huggingface-hub>=0.4.0->sentence-transformers>=0.4.1->bertopic) (2023.7.22)\n",
            "Requirement already satisfied: mpmath>=0.19 in /usr/local/lib/python3.10/dist-packages (from sympy->torch>=1.6.0->sentence-transformers>=0.4.1->bertopic) (1.3.0)\n",
            "Building wheels for collected packages: hdbscan, umap-learn, pynndescent\n",
            "  Building wheel for hdbscan (pyproject.toml) ... \u001b[?25l\u001b[?25hdone\n",
            "  Created wheel for hdbscan: filename=hdbscan-0.8.33-cp310-cp310-linux_x86_64.whl size=3039175 sha256=1148124af08481cb3dceb84d65c3a9026ed78248bd36a53dd86b5905a03bf2ba\n",
            "  Stored in directory: /root/.cache/pip/wheels/75/0b/3b/dc4f60b7cc455efaefb62883a7483e76f09d06ca81cf87d610\n",
            "  Building wheel for umap-learn (setup.py) ... \u001b[?25l\u001b[?25hdone\n",
            "  Created wheel for umap-learn: filename=umap_learn-0.5.4-py3-none-any.whl size=86770 sha256=2980020ef866b86089fbeb764cfe726af564e36a7f5e87057254184503b5cf5d\n",
            "  Stored in directory: /root/.cache/pip/wheels/fb/66/29/199acf5784d0f7b8add6d466175ab45506c96e386ed5dd0633\n",
            "  Building wheel for pynndescent (setup.py) ... \u001b[?25l\u001b[?25hdone\n",
            "  Created wheel for pynndescent: filename=pynndescent-0.5.10-py3-none-any.whl size=55615 sha256=1be68229d15712aaec39f9e22f0fc983e0d5eaa74db92d2a5de4704613691da0\n",
            "  Stored in directory: /root/.cache/pip/wheels/4a/38/5d/f60a40a66a9512b7e5e83517ebc2d1b42d857be97d135f1096\n",
            "Successfully built hdbscan umap-learn pynndescent\n",
            "Installing collected packages: cython, pynndescent, hdbscan, umap-learn, bertopic\n",
            "  Attempting uninstall: cython\n",
            "    Found existing installation: Cython 3.0.5\n",
            "    Uninstalling Cython-3.0.5:\n",
            "      Successfully uninstalled Cython-3.0.5\n",
            "Successfully installed bertopic-0.15.0 cython-0.29.36 hdbscan-0.8.33 pynndescent-0.5.10 umap-learn-0.5.4\n",
            "Requirement already satisfied: gensim in /usr/local/lib/python3.10/dist-packages (4.3.2)\n",
            "Requirement already satisfied: numpy>=1.18.5 in /usr/local/lib/python3.10/dist-packages (from gensim) (1.23.5)\n",
            "Requirement already satisfied: scipy>=1.7.0 in /usr/local/lib/python3.10/dist-packages (from gensim) (1.11.3)\n",
            "Requirement already satisfied: smart-open>=1.8.1 in /usr/local/lib/python3.10/dist-packages (from gensim) (6.4.0)\n",
            "Collecting pyLDAvis\n",
            "  Downloading pyLDAvis-3.4.1-py3-none-any.whl (2.6 MB)\n",
            "\u001b[2K     \u001b[90m━━━━━━━━━━━━━━━━━━━━━━━━━━━━━━━━━━━━━━━━\u001b[0m \u001b[32m2.6/2.6 MB\u001b[0m \u001b[31m30.0 MB/s\u001b[0m eta \u001b[36m0:00:00\u001b[0m\n",
            "\u001b[?25hCollecting numpy>=1.24.2 (from pyLDAvis)\n",
            "  Downloading numpy-1.26.2-cp310-cp310-manylinux_2_17_x86_64.manylinux2014_x86_64.whl (18.2 MB)\n",
            "\u001b[2K     \u001b[90m━━━━━━━━━━━━━━━━━━━━━━━━━━━━━━━━━━━━━━━━\u001b[0m \u001b[32m18.2/18.2 MB\u001b[0m \u001b[31m53.8 MB/s\u001b[0m eta \u001b[36m0:00:00\u001b[0m\n",
            "\u001b[?25hRequirement already satisfied: scipy in /usr/local/lib/python3.10/dist-packages (from pyLDAvis) (1.11.3)\n",
            "Collecting pandas>=2.0.0 (from pyLDAvis)\n",
            "  Downloading pandas-2.1.3-cp310-cp310-manylinux_2_17_x86_64.manylinux2014_x86_64.whl (12.3 MB)\n",
            "\u001b[2K     \u001b[90m━━━━━━━━━━━━━━━━━━━━━━━━━━━━━━━━━━━━━━━━\u001b[0m \u001b[32m12.3/12.3 MB\u001b[0m \u001b[31m38.9 MB/s\u001b[0m eta \u001b[36m0:00:00\u001b[0m\n",
            "\u001b[?25hRequirement already satisfied: joblib>=1.2.0 in /usr/local/lib/python3.10/dist-packages (from pyLDAvis) (1.3.2)\n",
            "Requirement already satisfied: jinja2 in /usr/local/lib/python3.10/dist-packages (from pyLDAvis) (3.1.2)\n",
            "Requirement already satisfied: numexpr in /usr/local/lib/python3.10/dist-packages (from pyLDAvis) (2.8.7)\n",
            "Collecting funcy (from pyLDAvis)\n",
            "  Downloading funcy-2.0-py2.py3-none-any.whl (30 kB)\n",
            "Requirement already satisfied: scikit-learn>=1.0.0 in /usr/local/lib/python3.10/dist-packages (from pyLDAvis) (1.2.2)\n",
            "Requirement already satisfied: gensim in /usr/local/lib/python3.10/dist-packages (from pyLDAvis) (4.3.2)\n",
            "Requirement already satisfied: setuptools in /usr/local/lib/python3.10/dist-packages (from pyLDAvis) (67.7.2)\n",
            "Requirement already satisfied: python-dateutil>=2.8.2 in /usr/local/lib/python3.10/dist-packages (from pandas>=2.0.0->pyLDAvis) (2.8.2)\n",
            "Requirement already satisfied: pytz>=2020.1 in /usr/local/lib/python3.10/dist-packages (from pandas>=2.0.0->pyLDAvis) (2023.3.post1)\n",
            "Collecting tzdata>=2022.1 (from pandas>=2.0.0->pyLDAvis)\n",
            "  Downloading tzdata-2023.3-py2.py3-none-any.whl (341 kB)\n",
            "\u001b[2K     \u001b[90m━━━━━━━━━━━━━━━━━━━━━━━━━━━━━━━━━━━━━━━━\u001b[0m \u001b[32m341.8/341.8 kB\u001b[0m \u001b[31m40.9 MB/s\u001b[0m eta \u001b[36m0:00:00\u001b[0m\n",
            "\u001b[?25hRequirement already satisfied: threadpoolctl>=2.0.0 in /usr/local/lib/python3.10/dist-packages (from scikit-learn>=1.0.0->pyLDAvis) (3.2.0)\n",
            "Requirement already satisfied: smart-open>=1.8.1 in /usr/local/lib/python3.10/dist-packages (from gensim->pyLDAvis) (6.4.0)\n",
            "Requirement already satisfied: MarkupSafe>=2.0 in /usr/local/lib/python3.10/dist-packages (from jinja2->pyLDAvis) (2.1.3)\n",
            "Requirement already satisfied: six>=1.5 in /usr/local/lib/python3.10/dist-packages (from python-dateutil>=2.8.2->pandas>=2.0.0->pyLDAvis) (1.16.0)\n",
            "Installing collected packages: funcy, tzdata, numpy, pandas, pyLDAvis\n",
            "  Attempting uninstall: numpy\n",
            "    Found existing installation: numpy 1.23.5\n",
            "    Uninstalling numpy-1.23.5:\n",
            "      Successfully uninstalled numpy-1.23.5\n",
            "  Attempting uninstall: pandas\n",
            "    Found existing installation: pandas 1.5.3\n",
            "    Uninstalling pandas-1.5.3:\n",
            "      Successfully uninstalled pandas-1.5.3\n",
            "\u001b[31mERROR: pip's dependency resolver does not currently take into account all the packages that are installed. This behaviour is the source of the following dependency conflicts.\n",
            "lida 0.0.10 requires fastapi, which is not installed.\n",
            "lida 0.0.10 requires kaleido, which is not installed.\n",
            "lida 0.0.10 requires python-multipart, which is not installed.\n",
            "lida 0.0.10 requires uvicorn, which is not installed.\n",
            "cupy-cuda11x 11.0.0 requires numpy<1.26,>=1.20, but you have numpy 1.26.2 which is incompatible.\n",
            "google-colab 1.0.0 requires pandas==1.5.3, but you have pandas 2.1.3 which is incompatible.\u001b[0m\u001b[31m\n",
            "\u001b[0mSuccessfully installed funcy-2.0 numpy-1.26.2 pandas-2.1.3 pyLDAvis-3.4.1 tzdata-2023.3\n",
            "Requirement already satisfied: spacy in /usr/local/lib/python3.10/dist-packages (3.6.1)\n",
            "Requirement already satisfied: spacy-legacy<3.1.0,>=3.0.11 in /usr/local/lib/python3.10/dist-packages (from spacy) (3.0.12)\n",
            "Requirement already satisfied: spacy-loggers<2.0.0,>=1.0.0 in /usr/local/lib/python3.10/dist-packages (from spacy) (1.0.5)\n",
            "Requirement already satisfied: murmurhash<1.1.0,>=0.28.0 in /usr/local/lib/python3.10/dist-packages (from spacy) (1.0.10)\n",
            "Requirement already satisfied: cymem<2.1.0,>=2.0.2 in /usr/local/lib/python3.10/dist-packages (from spacy) (2.0.8)\n",
            "Requirement already satisfied: preshed<3.1.0,>=3.0.2 in /usr/local/lib/python3.10/dist-packages (from spacy) (3.0.9)\n",
            "Requirement already satisfied: thinc<8.2.0,>=8.1.8 in /usr/local/lib/python3.10/dist-packages (from spacy) (8.1.12)\n",
            "Requirement already satisfied: wasabi<1.2.0,>=0.9.1 in /usr/local/lib/python3.10/dist-packages (from spacy) (1.1.2)\n",
            "Requirement already satisfied: srsly<3.0.0,>=2.4.3 in /usr/local/lib/python3.10/dist-packages (from spacy) (2.4.8)\n",
            "Requirement already satisfied: catalogue<2.1.0,>=2.0.6 in /usr/local/lib/python3.10/dist-packages (from spacy) (2.0.10)\n",
            "Requirement already satisfied: typer<0.10.0,>=0.3.0 in /usr/local/lib/python3.10/dist-packages (from spacy) (0.9.0)\n",
            "Requirement already satisfied: pathy>=0.10.0 in /usr/local/lib/python3.10/dist-packages (from spacy) (0.10.3)\n",
            "Requirement already satisfied: smart-open<7.0.0,>=5.2.1 in /usr/local/lib/python3.10/dist-packages (from spacy) (6.4.0)\n",
            "Requirement already satisfied: tqdm<5.0.0,>=4.38.0 in /usr/local/lib/python3.10/dist-packages (from spacy) (4.66.1)\n",
            "Requirement already satisfied: numpy>=1.15.0 in /usr/local/lib/python3.10/dist-packages (from spacy) (1.26.2)\n",
            "Requirement already satisfied: requests<3.0.0,>=2.13.0 in /usr/local/lib/python3.10/dist-packages (from spacy) (2.31.0)\n",
            "Requirement already satisfied: pydantic!=1.8,!=1.8.1,<3.0.0,>=1.7.4 in /usr/local/lib/python3.10/dist-packages (from spacy) (1.10.13)\n",
            "Requirement already satisfied: jinja2 in /usr/local/lib/python3.10/dist-packages (from spacy) (3.1.2)\n",
            "Requirement already satisfied: setuptools in /usr/local/lib/python3.10/dist-packages (from spacy) (67.7.2)\n",
            "Requirement already satisfied: packaging>=20.0 in /usr/local/lib/python3.10/dist-packages (from spacy) (23.2)\n",
            "Requirement already satisfied: langcodes<4.0.0,>=3.2.0 in /usr/local/lib/python3.10/dist-packages (from spacy) (3.3.0)\n",
            "Requirement already satisfied: typing-extensions>=4.2.0 in /usr/local/lib/python3.10/dist-packages (from pydantic!=1.8,!=1.8.1,<3.0.0,>=1.7.4->spacy) (4.5.0)\n",
            "Requirement already satisfied: charset-normalizer<4,>=2 in /usr/local/lib/python3.10/dist-packages (from requests<3.0.0,>=2.13.0->spacy) (3.3.2)\n",
            "Requirement already satisfied: idna<4,>=2.5 in /usr/local/lib/python3.10/dist-packages (from requests<3.0.0,>=2.13.0->spacy) (3.4)\n",
            "Requirement already satisfied: urllib3<3,>=1.21.1 in /usr/local/lib/python3.10/dist-packages (from requests<3.0.0,>=2.13.0->spacy) (2.0.7)\n",
            "Requirement already satisfied: certifi>=2017.4.17 in /usr/local/lib/python3.10/dist-packages (from requests<3.0.0,>=2.13.0->spacy) (2023.7.22)\n",
            "Requirement already satisfied: blis<0.8.0,>=0.7.8 in /usr/local/lib/python3.10/dist-packages (from thinc<8.2.0,>=8.1.8->spacy) (0.7.11)\n",
            "Requirement already satisfied: confection<1.0.0,>=0.0.1 in /usr/local/lib/python3.10/dist-packages (from thinc<8.2.0,>=8.1.8->spacy) (0.1.3)\n",
            "Requirement already satisfied: click<9.0.0,>=7.1.1 in /usr/local/lib/python3.10/dist-packages (from typer<0.10.0,>=0.3.0->spacy) (8.1.7)\n",
            "Requirement already satisfied: MarkupSafe>=2.0 in /usr/local/lib/python3.10/dist-packages (from jinja2->spacy) (2.1.3)\n",
            "Requirement already satisfied: requests in /usr/local/lib/python3.10/dist-packages (2.31.0)\n",
            "Requirement already satisfied: charset-normalizer<4,>=2 in /usr/local/lib/python3.10/dist-packages (from requests) (3.3.2)\n",
            "Requirement already satisfied: idna<4,>=2.5 in /usr/local/lib/python3.10/dist-packages (from requests) (3.4)\n",
            "Requirement already satisfied: urllib3<3,>=1.21.1 in /usr/local/lib/python3.10/dist-packages (from requests) (2.0.7)\n",
            "Requirement already satisfied: certifi>=2017.4.17 in /usr/local/lib/python3.10/dist-packages (from requests) (2023.7.22)\n",
            "Requirement already satisfied: beautifulsoup4 in /usr/local/lib/python3.10/dist-packages (4.11.2)\n",
            "Requirement already satisfied: soupsieve>1.2 in /usr/local/lib/python3.10/dist-packages (from beautifulsoup4) (2.5)\n",
            "Requirement already satisfied: lxml in /usr/local/lib/python3.10/dist-packages (4.9.3)\n",
            "Requirement already satisfied: bertopic in /usr/local/lib/python3.10/dist-packages (0.15.0)\n",
            "Requirement already satisfied: numpy>=1.20.0 in /usr/local/lib/python3.10/dist-packages (from bertopic) (1.26.2)\n",
            "Requirement already satisfied: hdbscan>=0.8.29 in /usr/local/lib/python3.10/dist-packages (from bertopic) (0.8.33)\n",
            "Requirement already satisfied: umap-learn>=0.5.0 in /usr/local/lib/python3.10/dist-packages (from bertopic) (0.5.4)\n",
            "Requirement already satisfied: pandas>=1.1.5 in /usr/local/lib/python3.10/dist-packages (from bertopic) (2.1.3)\n",
            "Requirement already satisfied: scikit-learn>=0.22.2.post1 in /usr/local/lib/python3.10/dist-packages (from bertopic) (1.2.2)\n",
            "Requirement already satisfied: tqdm>=4.41.1 in /usr/local/lib/python3.10/dist-packages (from bertopic) (4.66.1)\n",
            "Requirement already satisfied: sentence-transformers>=0.4.1 in /usr/local/lib/python3.10/dist-packages (from bertopic) (2.2.2)\n",
            "Requirement already satisfied: plotly>=4.7.0 in /usr/local/lib/python3.10/dist-packages (from bertopic) (5.15.0)\n",
            "Requirement already satisfied: cython<3,>=0.27 in /usr/local/lib/python3.10/dist-packages (from hdbscan>=0.8.29->bertopic) (0.29.36)\n",
            "Requirement already satisfied: scipy>=1.0 in /usr/local/lib/python3.10/dist-packages (from hdbscan>=0.8.29->bertopic) (1.11.3)\n",
            "Requirement already satisfied: joblib>=1.0 in /usr/local/lib/python3.10/dist-packages (from hdbscan>=0.8.29->bertopic) (1.3.2)\n",
            "Requirement already satisfied: python-dateutil>=2.8.2 in /usr/local/lib/python3.10/dist-packages (from pandas>=1.1.5->bertopic) (2.8.2)\n",
            "Requirement already satisfied: pytz>=2020.1 in /usr/local/lib/python3.10/dist-packages (from pandas>=1.1.5->bertopic) (2023.3.post1)\n",
            "Requirement already satisfied: tzdata>=2022.1 in /usr/local/lib/python3.10/dist-packages (from pandas>=1.1.5->bertopic) (2023.3)\n",
            "Requirement already satisfied: tenacity>=6.2.0 in /usr/local/lib/python3.10/dist-packages (from plotly>=4.7.0->bertopic) (8.2.3)\n",
            "Requirement already satisfied: packaging in /usr/local/lib/python3.10/dist-packages (from plotly>=4.7.0->bertopic) (23.2)\n",
            "Requirement already satisfied: threadpoolctl>=2.0.0 in /usr/local/lib/python3.10/dist-packages (from scikit-learn>=0.22.2.post1->bertopic) (3.2.0)\n",
            "Requirement already satisfied: transformers<5.0.0,>=4.6.0 in /usr/local/lib/python3.10/dist-packages (from sentence-transformers>=0.4.1->bertopic) (4.35.0)\n",
            "Requirement already satisfied: torch>=1.6.0 in /usr/local/lib/python3.10/dist-packages (from sentence-transformers>=0.4.1->bertopic) (2.1.0+cu118)\n",
            "Requirement already satisfied: torchvision in /usr/local/lib/python3.10/dist-packages (from sentence-transformers>=0.4.1->bertopic) (0.16.0+cu118)\n",
            "Requirement already satisfied: nltk in /usr/local/lib/python3.10/dist-packages (from sentence-transformers>=0.4.1->bertopic) (3.8.1)\n",
            "Requirement already satisfied: sentencepiece in /usr/local/lib/python3.10/dist-packages (from sentence-transformers>=0.4.1->bertopic) (0.1.99)\n",
            "Requirement already satisfied: huggingface-hub>=0.4.0 in /usr/local/lib/python3.10/dist-packages (from sentence-transformers>=0.4.1->bertopic) (0.17.3)\n",
            "Requirement already satisfied: numba>=0.51.2 in /usr/local/lib/python3.10/dist-packages (from umap-learn>=0.5.0->bertopic) (0.58.1)\n",
            "Requirement already satisfied: pynndescent>=0.5 in /usr/local/lib/python3.10/dist-packages (from umap-learn>=0.5.0->bertopic) (0.5.10)\n",
            "Requirement already satisfied: tbb>=2019.0 in /usr/local/lib/python3.10/dist-packages (from umap-learn>=0.5.0->bertopic) (2021.10.0)\n",
            "Requirement already satisfied: filelock in /usr/local/lib/python3.10/dist-packages (from huggingface-hub>=0.4.0->sentence-transformers>=0.4.1->bertopic) (3.13.1)\n",
            "Requirement already satisfied: fsspec in /usr/local/lib/python3.10/dist-packages (from huggingface-hub>=0.4.0->sentence-transformers>=0.4.1->bertopic) (2023.6.0)\n",
            "Requirement already satisfied: requests in /usr/local/lib/python3.10/dist-packages (from huggingface-hub>=0.4.0->sentence-transformers>=0.4.1->bertopic) (2.31.0)\n",
            "Requirement already satisfied: pyyaml>=5.1 in /usr/local/lib/python3.10/dist-packages (from huggingface-hub>=0.4.0->sentence-transformers>=0.4.1->bertopic) (6.0.1)\n",
            "Requirement already satisfied: typing-extensions>=3.7.4.3 in /usr/local/lib/python3.10/dist-packages (from huggingface-hub>=0.4.0->sentence-transformers>=0.4.1->bertopic) (4.5.0)\n",
            "Requirement already satisfied: llvmlite<0.42,>=0.41.0dev0 in /usr/local/lib/python3.10/dist-packages (from numba>=0.51.2->umap-learn>=0.5.0->bertopic) (0.41.1)\n",
            "Requirement already satisfied: six>=1.5 in /usr/local/lib/python3.10/dist-packages (from python-dateutil>=2.8.2->pandas>=1.1.5->bertopic) (1.16.0)\n",
            "Requirement already satisfied: sympy in /usr/local/lib/python3.10/dist-packages (from torch>=1.6.0->sentence-transformers>=0.4.1->bertopic) (1.12)\n",
            "Requirement already satisfied: networkx in /usr/local/lib/python3.10/dist-packages (from torch>=1.6.0->sentence-transformers>=0.4.1->bertopic) (3.2.1)\n",
            "Requirement already satisfied: jinja2 in /usr/local/lib/python3.10/dist-packages (from torch>=1.6.0->sentence-transformers>=0.4.1->bertopic) (3.1.2)\n",
            "Requirement already satisfied: triton==2.1.0 in /usr/local/lib/python3.10/dist-packages (from torch>=1.6.0->sentence-transformers>=0.4.1->bertopic) (2.1.0)\n",
            "Requirement already satisfied: regex!=2019.12.17 in /usr/local/lib/python3.10/dist-packages (from transformers<5.0.0,>=4.6.0->sentence-transformers>=0.4.1->bertopic) (2023.6.3)\n",
            "Requirement already satisfied: tokenizers<0.15,>=0.14 in /usr/local/lib/python3.10/dist-packages (from transformers<5.0.0,>=4.6.0->sentence-transformers>=0.4.1->bertopic) (0.14.1)\n",
            "Requirement already satisfied: safetensors>=0.3.1 in /usr/local/lib/python3.10/dist-packages (from transformers<5.0.0,>=4.6.0->sentence-transformers>=0.4.1->bertopic) (0.4.0)\n",
            "Requirement already satisfied: click in /usr/local/lib/python3.10/dist-packages (from nltk->sentence-transformers>=0.4.1->bertopic) (8.1.7)\n",
            "Requirement already satisfied: pillow!=8.3.*,>=5.3.0 in /usr/local/lib/python3.10/dist-packages (from torchvision->sentence-transformers>=0.4.1->bertopic) (9.4.0)\n",
            "Requirement already satisfied: MarkupSafe>=2.0 in /usr/local/lib/python3.10/dist-packages (from jinja2->torch>=1.6.0->sentence-transformers>=0.4.1->bertopic) (2.1.3)\n",
            "Requirement already satisfied: charset-normalizer<4,>=2 in /usr/local/lib/python3.10/dist-packages (from requests->huggingface-hub>=0.4.0->sentence-transformers>=0.4.1->bertopic) (3.3.2)\n",
            "Requirement already satisfied: idna<4,>=2.5 in /usr/local/lib/python3.10/dist-packages (from requests->huggingface-hub>=0.4.0->sentence-transformers>=0.4.1->bertopic) (3.4)\n",
            "Requirement already satisfied: urllib3<3,>=1.21.1 in /usr/local/lib/python3.10/dist-packages (from requests->huggingface-hub>=0.4.0->sentence-transformers>=0.4.1->bertopic) (2.0.7)\n",
            "Requirement already satisfied: certifi>=2017.4.17 in /usr/local/lib/python3.10/dist-packages (from requests->huggingface-hub>=0.4.0->sentence-transformers>=0.4.1->bertopic) (2023.7.22)\n",
            "Requirement already satisfied: mpmath>=0.19 in /usr/local/lib/python3.10/dist-packages (from sympy->torch>=1.6.0->sentence-transformers>=0.4.1->bertopic) (1.3.0)\n"
          ]
        }
      ],
      "source": [
        "!pip3 install nltk\n",
        "!pip3 install sentence-transformers\n",
        "!pip3 install contractions\n",
        "!pip3 install pandas\n",
        "!pip install bertopic\n",
        "!pip install --upgrade gensim\n",
        "!pip install pyLDAvis\n",
        "!pip install spacy\n",
        "!pip install requests\n",
        "!pip install beautifulsoup4\n",
        "!pip install lxml\n",
        "!pip install bertopic"
      ]
    },
    {
      "cell_type": "markdown",
      "source": [
        "#Importing libraries"
      ],
      "metadata": {
        "id": "PIZ8-F2oIjcP"
      }
    },
    {
      "cell_type": "code",
      "execution_count": 1,
      "metadata": {
        "id": "SWa2_MA6BA7R",
        "colab": {
          "base_uri": "https://localhost:8080/"
        },
        "outputId": "4db58874-d6e2-4113-c95b-71778bfa91e5"
      },
      "outputs": [
        {
          "output_type": "stream",
          "name": "stdout",
          "text": [
            "Mounted at /content/drive\n"
          ]
        },
        {
          "output_type": "stream",
          "name": "stderr",
          "text": [
            "/usr/local/lib/python3.10/dist-packages/google/rpc/__init__.py:20: DeprecationWarning: Deprecated call to `pkg_resources.declare_namespace('google.rpc')`.\n",
            "Implementing implicit namespace packages (as specified in PEP 420) is preferred to `pkg_resources.declare_namespace`. See https://setuptools.pypa.io/en/latest/references/keywords.html#keyword-namespace-packages\n",
            "  pkg_resources.declare_namespace(__name__)\n",
            "/usr/local/lib/python3.10/dist-packages/pkg_resources/__init__.py:2349: DeprecationWarning: Deprecated call to `pkg_resources.declare_namespace('google')`.\n",
            "Implementing implicit namespace packages (as specified in PEP 420) is preferred to `pkg_resources.declare_namespace`. See https://setuptools.pypa.io/en/latest/references/keywords.html#keyword-namespace-packages\n",
            "  declare_namespace(parent)\n"
          ]
        }
      ],
      "source": [
        "import requests\n",
        "import pandas as pd\n",
        "import bs4 as bs\n",
        "import urllib.request\n",
        "import json\n",
        "import contractions\n",
        "import re\n",
        "import nltk\n",
        "from nltk.tokenize import word_tokenize\n",
        "from sentence_transformers import SentenceTransformer, util\n",
        "from nltk.corpus import stopwords\n",
        "from transformers import pipeline\n",
        "from spacy import displacy\n",
        "from bertopic import BERTopic\n",
        "import os\n",
        "from google.colab import drive\n",
        "drive.mount('/content/drive', force_remount=True)\n",
        "import pyLDAvis\n",
        "import gensim\n",
        "import spacy\n",
        "import gensim.corpora as corpora\n",
        "from gensim.models import CoherenceModel\n",
        "import pyLDAvis.gensim as gensimvis\n",
        "from gensim.utils import simple_preprocess"
      ]
    },
    {
      "cell_type": "code",
      "execution_count": 2,
      "metadata": {
        "id": "FA8eAxXTzGQ9",
        "colab": {
          "base_uri": "https://localhost:8080/"
        },
        "outputId": "84d07b65-8202-4c91-f92f-5f283755161d"
      },
      "outputs": [
        {
          "output_type": "stream",
          "name": "stderr",
          "text": [
            "/usr/local/lib/python3.10/dist-packages/ipykernel/ipkernel.py:283: DeprecationWarning: `should_run_async` will not call `transform_cell` automatically in the future. Please pass the result to `transformed_cell` argument and any exception that happen during thetransform in `preprocessing_exc_tuple` in IPython 7.17 and above.\n",
            "  and should_run_async(code)\n"
          ]
        }
      ],
      "source": [
        "import locale\n",
        "locale.getpreferredencoding = lambda: \"UTF-8\""
      ]
    },
    {
      "cell_type": "code",
      "execution_count": null,
      "metadata": {
        "id": "_0LQLHX57AIN",
        "colab": {
          "base_uri": "https://localhost:8080/"
        },
        "outputId": "5cac4475-6427-44c0-8c18-05727a145d44"
      },
      "outputs": [
        {
          "output_type": "stream",
          "name": "stdout",
          "text": [
            "Requirement already satisfied: t5 in ./anaconda3/lib/python3.10/site-packages (0.9.4)\r\n",
            "Requirement already satisfied: rouge-score>=0.1.2 in ./anaconda3/lib/python3.10/site-packages (from t5) (0.1.2)\r\n",
            "Requirement already satisfied: babel in ./anaconda3/lib/python3.10/site-packages (from t5) (2.11.0)\r\n",
            "Requirement already satisfied: sacrebleu in ./anaconda3/lib/python3.10/site-packages (from t5) (2.3.1)\r\n",
            "Requirement already satisfied: numpy in ./anaconda3/lib/python3.10/site-packages (from t5) (1.23.5)\n",
            "Requirement already satisfied: transformers>=2.7.0 in ./anaconda3/lib/python3.10/site-packages (from t5) (4.27.4)\n",
            "Requirement already satisfied: nltk in ./anaconda3/lib/python3.10/site-packages (from t5) (3.7)\n",
            "Requirement already satisfied: immutabledict in ./anaconda3/lib/python3.10/site-packages (from t5) (2.2.4)\n",
            "Requirement already satisfied: pandas in ./anaconda3/lib/python3.10/site-packages (from t5) (1.5.3)\n",
            "Requirement already satisfied: scipy in ./anaconda3/lib/python3.10/site-packages (from t5) (1.10.0)\n",
            "Requirement already satisfied: seqio-nightly in ./anaconda3/lib/python3.10/site-packages (from t5) (0.0.15.dev20230411)\n",
            "Requirement already satisfied: editdistance in ./anaconda3/lib/python3.10/site-packages (from t5) (0.6.2)\n",
            "Requirement already satisfied: mesh-tensorflow[transformer]>=0.1.13 in ./anaconda3/lib/python3.10/site-packages (from t5) (0.1.21)\n",
            "Requirement already satisfied: gin-config in ./anaconda3/lib/python3.10/site-packages (from t5) (0.5.0)\n",
            "Requirement already satisfied: sentencepiece in ./anaconda3/lib/python3.10/site-packages (from t5) (0.1.97)\n",
            "Requirement already satisfied: absl-py in ./anaconda3/lib/python3.10/site-packages (from t5) (1.4.0)\n",
            "Requirement already satisfied: scikit-learn in ./anaconda3/lib/python3.10/site-packages (from t5) (1.2.1)\n",
            "Requirement already satisfied: six>=1.14 in ./anaconda3/lib/python3.10/site-packages (from t5) (1.16.0)\n",
            "Requirement already satisfied: tfds-nightly in ./anaconda3/lib/python3.10/site-packages (from t5) (4.9.0.dev202304110044)\n",
            "Requirement already satisfied: future in ./anaconda3/lib/python3.10/site-packages (from mesh-tensorflow[transformer]>=0.1.13->t5) (0.18.3)\n",
            "Requirement already satisfied: tensorflow-datasets in ./anaconda3/lib/python3.10/site-packages (from mesh-tensorflow[transformer]>=0.1.13->t5) (4.9.0)\n",
            "Requirement already satisfied: tqdm>=4.27 in ./anaconda3/lib/python3.10/site-packages (from transformers>=2.7.0->t5) (4.64.1)\n",
            "Requirement already satisfied: regex!=2019.12.17 in ./anaconda3/lib/python3.10/site-packages (from transformers>=2.7.0->t5) (2022.7.9)\n",
            "Requirement already satisfied: requests in ./anaconda3/lib/python3.10/site-packages (from transformers>=2.7.0->t5) (2.28.1)\n",
            "Requirement already satisfied: pyyaml>=5.1 in ./anaconda3/lib/python3.10/site-packages (from transformers>=2.7.0->t5) (5.4.1)\n",
            "Requirement already satisfied: huggingface-hub<1.0,>=0.11.0 in ./anaconda3/lib/python3.10/site-packages (from transformers>=2.7.0->t5) (0.13.4)\n",
            "Requirement already satisfied: filelock in ./anaconda3/lib/python3.10/site-packages (from transformers>=2.7.0->t5) (3.9.0)\n",
            "Requirement already satisfied: packaging>=20.0 in ./anaconda3/lib/python3.10/site-packages (from transformers>=2.7.0->t5) (21.3)\n",
            "Requirement already satisfied: tokenizers!=0.11.3,<0.14,>=0.11.1 in ./anaconda3/lib/python3.10/site-packages (from transformers>=2.7.0->t5) (0.11.4)\n",
            "Requirement already satisfied: pytz>=2015.7 in ./anaconda3/lib/python3.10/site-packages (from babel->t5) (2022.7)\n",
            "Requirement already satisfied: joblib in ./anaconda3/lib/python3.10/site-packages (from nltk->t5) (1.2.0)\n",
            "Requirement already satisfied: click in ./anaconda3/lib/python3.10/site-packages (from nltk->t5) (8.0.4)\n",
            "Requirement already satisfied: python-dateutil>=2.8.1 in ./anaconda3/lib/python3.10/site-packages (from pandas->t5) (2.8.2)\n",
            "Requirement already satisfied: colorama in ./anaconda3/lib/python3.10/site-packages (from sacrebleu->t5) (0.4.6)\n",
            "Requirement already satisfied: lxml in ./anaconda3/lib/python3.10/site-packages (from sacrebleu->t5) (4.9.1)\n",
            "Requirement already satisfied: portalocker in ./anaconda3/lib/python3.10/site-packages (from sacrebleu->t5) (2.7.0)\n",
            "Requirement already satisfied: tabulate>=0.8.9 in ./anaconda3/lib/python3.10/site-packages (from sacrebleu->t5) (0.8.10)\n",
            "Requirement already satisfied: threadpoolctl>=2.0.0 in ./anaconda3/lib/python3.10/site-packages (from scikit-learn->t5) (2.2.0)\n",
            "Requirement already satisfied: jaxlib in ./anaconda3/lib/python3.10/site-packages (from seqio-nightly->t5) (0.4.7)\n",
            "Requirement already satisfied: jax in ./anaconda3/lib/python3.10/site-packages (from seqio-nightly->t5) (0.4.8)\n",
            "Requirement already satisfied: pyglove in ./anaconda3/lib/python3.10/site-packages (from seqio-nightly->t5) (0.3.0)\n",
            "Requirement already satisfied: clu in ./anaconda3/lib/python3.10/site-packages (from seqio-nightly->t5) (0.0.8)\n",
            "Requirement already satisfied: tensorflow-text in ./anaconda3/lib/python3.10/site-packages (from seqio-nightly->t5) (2.12.0)\n",
            "Requirement already satisfied: dm-tree in ./anaconda3/lib/python3.10/site-packages (from tfds-nightly->t5) (0.1.8)\n",
            "Requirement already satisfied: protobuf in ./anaconda3/lib/python3.10/site-packages (from tfds-nightly->t5) (3.20.3)\n",
            "Requirement already satisfied: tensorflow-metadata in ./anaconda3/lib/python3.10/site-packages (from tfds-nightly->t5) (1.13.0)\n",
            "Requirement already satisfied: termcolor in ./anaconda3/lib/python3.10/site-packages (from tfds-nightly->t5) (2.2.0)\n",
            "Requirement already satisfied: etils[enp,epath]>=0.9.0 in ./anaconda3/lib/python3.10/site-packages (from tfds-nightly->t5) (1.2.0)\n",
            "Requirement already satisfied: toml in ./anaconda3/lib/python3.10/site-packages (from tfds-nightly->t5) (0.10.2)\n",
            "Requirement already satisfied: promise in ./anaconda3/lib/python3.10/site-packages (from tfds-nightly->t5) (2.3)\n",
            "Requirement already satisfied: wrapt in ./anaconda3/lib/python3.10/site-packages (from tfds-nightly->t5) (1.14.1)\n",
            "Requirement already satisfied: array-record in ./anaconda3/lib/python3.10/site-packages (from tfds-nightly->t5) (0.2.0)\n",
            "Requirement already satisfied: psutil in ./anaconda3/lib/python3.10/site-packages (from tfds-nightly->t5) (5.9.0)\n",
            "Requirement already satisfied: zipp in ./anaconda3/lib/python3.10/site-packages (from etils[enp,epath]>=0.9.0->tfds-nightly->t5) (3.11.0)\n",
            "Requirement already satisfied: typing_extensions in ./anaconda3/lib/python3.10/site-packages (from etils[enp,epath]>=0.9.0->tfds-nightly->t5) (4.4.0)\n",
            "Requirement already satisfied: importlib_resources in ./anaconda3/lib/python3.10/site-packages (from etils[enp,epath]>=0.9.0->tfds-nightly->t5) (5.12.0)\n",
            "Requirement already satisfied: pyparsing!=3.0.5,>=2.0.2 in ./anaconda3/lib/python3.10/site-packages (from packaging>=20.0->transformers>=2.7.0->t5) (3.0.9)\n",
            "Requirement already satisfied: charset-normalizer<3,>=2 in ./anaconda3/lib/python3.10/site-packages (from requests->transformers>=2.7.0->t5) (2.0.4)\n",
            "Requirement already satisfied: certifi>=2017.4.17 in ./anaconda3/lib/python3.10/site-packages (from requests->transformers>=2.7.0->t5) (2022.12.7)\n",
            "Requirement already satisfied: urllib3<1.27,>=1.21.1 in ./anaconda3/lib/python3.10/site-packages (from requests->transformers>=2.7.0->t5) (1.26.14)\n",
            "Requirement already satisfied: idna<4,>=2.5 in ./anaconda3/lib/python3.10/site-packages (from requests->transformers>=2.7.0->t5) (3.4)\n",
            "Requirement already satisfied: flax in ./anaconda3/lib/python3.10/site-packages (from clu->seqio-nightly->t5) (0.6.8)\n",
            "Requirement already satisfied: ml-collections in ./anaconda3/lib/python3.10/site-packages (from clu->seqio-nightly->t5) (0.1.1)\n",
            "Requirement already satisfied: opt-einsum in ./anaconda3/lib/python3.10/site-packages (from jax->seqio-nightly->t5) (3.3.0)\n",
            "Requirement already satisfied: ml-dtypes>=0.0.3 in ./anaconda3/lib/python3.10/site-packages (from jax->seqio-nightly->t5) (0.0.4)\n",
            "Requirement already satisfied: googleapis-common-protos<2,>=1.52.0 in ./anaconda3/lib/python3.10/site-packages (from tensorflow-metadata->tfds-nightly->t5) (1.59.0)\n",
            "Requirement already satisfied: tensorflow<2.13,>=2.12.0 in ./anaconda3/lib/python3.10/site-packages (from tensorflow-text->seqio-nightly->t5) (2.12.0)\n",
            "Requirement already satisfied: tensorflow-hub>=0.8.0 in ./anaconda3/lib/python3.10/site-packages (from tensorflow-text->seqio-nightly->t5) (0.13.0)\n",
            "Requirement already satisfied: tensorflow-io-gcs-filesystem>=0.23.1 in ./anaconda3/lib/python3.10/site-packages (from tensorflow<2.13,>=2.12.0->tensorflow-text->seqio-nightly->t5) (0.32.0)\n",
            "Requirement already satisfied: h5py>=2.9.0 in ./anaconda3/lib/python3.10/site-packages (from tensorflow<2.13,>=2.12.0->tensorflow-text->seqio-nightly->t5) (3.7.0)\n",
            "Requirement already satisfied: setuptools in ./anaconda3/lib/python3.10/site-packages (from tensorflow<2.13,>=2.12.0->tensorflow-text->seqio-nightly->t5) (65.6.3)\n",
            "Requirement already satisfied: tensorboard<2.13,>=2.12 in ./anaconda3/lib/python3.10/site-packages (from tensorflow<2.13,>=2.12.0->tensorflow-text->seqio-nightly->t5) (2.12.1)\n",
            "Requirement already satisfied: keras<2.13,>=2.12.0 in ./anaconda3/lib/python3.10/site-packages (from tensorflow<2.13,>=2.12.0->tensorflow-text->seqio-nightly->t5) (2.12.0)\n",
            "Requirement already satisfied: grpcio<2.0,>=1.24.3 in ./anaconda3/lib/python3.10/site-packages (from tensorflow<2.13,>=2.12.0->tensorflow-text->seqio-nightly->t5) (1.53.0)\n",
            "Requirement already satisfied: gast<=0.4.0,>=0.2.1 in ./anaconda3/lib/python3.10/site-packages (from tensorflow<2.13,>=2.12.0->tensorflow-text->seqio-nightly->t5) (0.4.0)\n",
            "Requirement already satisfied: flatbuffers>=2.0 in ./anaconda3/lib/python3.10/site-packages (from tensorflow<2.13,>=2.12.0->tensorflow-text->seqio-nightly->t5) (23.3.3)\n",
            "Requirement already satisfied: libclang>=13.0.0 in ./anaconda3/lib/python3.10/site-packages (from tensorflow<2.13,>=2.12.0->tensorflow-text->seqio-nightly->t5) (16.0.0)\n",
            "Requirement already satisfied: astunparse>=1.6.0 in ./anaconda3/lib/python3.10/site-packages (from tensorflow<2.13,>=2.12.0->tensorflow-text->seqio-nightly->t5) (1.6.3)\n",
            "Requirement already satisfied: google-pasta>=0.1.1 in ./anaconda3/lib/python3.10/site-packages (from tensorflow<2.13,>=2.12.0->tensorflow-text->seqio-nightly->t5) (0.2.0)\n",
            "Requirement already satisfied: tensorflow-estimator<2.13,>=2.12.0 in ./anaconda3/lib/python3.10/site-packages (from tensorflow<2.13,>=2.12.0->tensorflow-text->seqio-nightly->t5) (2.12.0)\n",
            "Requirement already satisfied: optax in ./anaconda3/lib/python3.10/site-packages (from flax->clu->seqio-nightly->t5) (0.1.4)\n",
            "Requirement already satisfied: msgpack in ./anaconda3/lib/python3.10/site-packages (from flax->clu->seqio-nightly->t5) (1.0.3)\n",
            "Requirement already satisfied: tensorstore in ./anaconda3/lib/python3.10/site-packages (from flax->clu->seqio-nightly->t5) (0.1.35)\n",
            "Requirement already satisfied: rich>=11.1 in ./anaconda3/lib/python3.10/site-packages (from flax->clu->seqio-nightly->t5) (13.3.3)\n",
            "Requirement already satisfied: orbax in ./anaconda3/lib/python3.10/site-packages (from flax->clu->seqio-nightly->t5) (0.1.7)\n",
            "Requirement already satisfied: contextlib2 in ./anaconda3/lib/python3.10/site-packages (from ml-collections->clu->seqio-nightly->t5) (21.6.0)\n",
            "Requirement already satisfied: wheel<1.0,>=0.23.0 in ./anaconda3/lib/python3.10/site-packages (from astunparse>=1.6.0->tensorflow<2.13,>=2.12.0->tensorflow-text->seqio-nightly->t5) (0.38.4)\n",
            "Requirement already satisfied: pygments<3.0.0,>=2.13.0 in ./anaconda3/lib/python3.10/site-packages (from rich>=11.1->flax->clu->seqio-nightly->t5) (2.15.0)\n",
            "Requirement already satisfied: markdown-it-py<3.0.0,>=2.2.0 in ./anaconda3/lib/python3.10/site-packages (from rich>=11.1->flax->clu->seqio-nightly->t5) (2.2.0)\n",
            "Requirement already satisfied: tensorboard-data-server<0.8.0,>=0.7.0 in ./anaconda3/lib/python3.10/site-packages (from tensorboard<2.13,>=2.12->tensorflow<2.13,>=2.12.0->tensorflow-text->seqio-nightly->t5) (0.7.0)\n",
            "Requirement already satisfied: google-auth-oauthlib<1.1,>=0.5 in ./anaconda3/lib/python3.10/site-packages (from tensorboard<2.13,>=2.12->tensorflow<2.13,>=2.12.0->tensorflow-text->seqio-nightly->t5) (1.0.0)\n",
            "Requirement already satisfied: google-auth<3,>=1.6.3 in ./anaconda3/lib/python3.10/site-packages (from tensorboard<2.13,>=2.12->tensorflow<2.13,>=2.12.0->tensorflow-text->seqio-nightly->t5) (2.17.2)\n",
            "Requirement already satisfied: werkzeug>=1.0.1 in ./anaconda3/lib/python3.10/site-packages (from tensorboard<2.13,>=2.12->tensorflow<2.13,>=2.12.0->tensorflow-text->seqio-nightly->t5) (2.2.2)\n",
            "Requirement already satisfied: tensorboard-plugin-wit>=1.6.0 in ./anaconda3/lib/python3.10/site-packages (from tensorboard<2.13,>=2.12->tensorflow<2.13,>=2.12.0->tensorflow-text->seqio-nightly->t5) (1.8.1)\n",
            "Requirement already satisfied: markdown>=2.6.8 in ./anaconda3/lib/python3.10/site-packages (from tensorboard<2.13,>=2.12->tensorflow<2.13,>=2.12.0->tensorflow-text->seqio-nightly->t5) (3.4.1)\n",
            "Requirement already satisfied: chex>=0.1.5 in ./anaconda3/lib/python3.10/site-packages (from optax->flax->clu->seqio-nightly->t5) (0.1.7)\n",
            "Requirement already satisfied: nest_asyncio in ./anaconda3/lib/python3.10/site-packages (from orbax->flax->clu->seqio-nightly->t5) (1.5.6)\n",
            "Requirement already satisfied: cached_property in ./anaconda3/lib/python3.10/site-packages (from orbax->flax->clu->seqio-nightly->t5) (1.5.2)\n",
            "Requirement already satisfied: toolz>=0.9.0 in ./anaconda3/lib/python3.10/site-packages (from chex>=0.1.5->optax->flax->clu->seqio-nightly->t5) (0.12.0)\n",
            "Requirement already satisfied: rsa<5,>=3.1.4 in ./anaconda3/lib/python3.10/site-packages (from google-auth<3,>=1.6.3->tensorboard<2.13,>=2.12->tensorflow<2.13,>=2.12.0->tensorflow-text->seqio-nightly->t5) (4.9)\n",
            "Requirement already satisfied: pyasn1-modules>=0.2.1 in ./anaconda3/lib/python3.10/site-packages (from google-auth<3,>=1.6.3->tensorboard<2.13,>=2.12->tensorflow<2.13,>=2.12.0->tensorflow-text->seqio-nightly->t5) (0.2.8)\n",
            "Requirement already satisfied: cachetools<6.0,>=2.0.0 in ./anaconda3/lib/python3.10/site-packages (from google-auth<3,>=1.6.3->tensorboard<2.13,>=2.12->tensorflow<2.13,>=2.12.0->tensorflow-text->seqio-nightly->t5) (5.3.0)\n",
            "Requirement already satisfied: requests-oauthlib>=0.7.0 in ./anaconda3/lib/python3.10/site-packages (from google-auth-oauthlib<1.1,>=0.5->tensorboard<2.13,>=2.12->tensorflow<2.13,>=2.12.0->tensorflow-text->seqio-nightly->t5) (1.3.1)\n",
            "Requirement already satisfied: mdurl~=0.1 in ./anaconda3/lib/python3.10/site-packages (from markdown-it-py<3.0.0,>=2.2.0->rich>=11.1->flax->clu->seqio-nightly->t5) (0.1.2)\n",
            "Requirement already satisfied: MarkupSafe>=2.1.1 in ./anaconda3/lib/python3.10/site-packages (from werkzeug>=1.0.1->tensorboard<2.13,>=2.12->tensorflow<2.13,>=2.12.0->tensorflow-text->seqio-nightly->t5) (2.1.1)\n",
            "Requirement already satisfied: pyasn1<0.5.0,>=0.4.6 in ./anaconda3/lib/python3.10/site-packages (from pyasn1-modules>=0.2.1->google-auth<3,>=1.6.3->tensorboard<2.13,>=2.12->tensorflow<2.13,>=2.12.0->tensorflow-text->seqio-nightly->t5) (0.4.8)\n",
            "Requirement already satisfied: oauthlib>=3.0.0 in ./anaconda3/lib/python3.10/site-packages (from requests-oauthlib>=0.7.0->google-auth-oauthlib<1.1,>=0.5->tensorboard<2.13,>=2.12->tensorflow<2.13,>=2.12.0->tensorflow-text->seqio-nightly->t5) (3.2.2)\n"
          ]
        }
      ],
      "source": [
        "# !pip install t5"
      ]
    },
    {
      "cell_type": "code",
      "execution_count": 3,
      "metadata": {
        "id": "zEdMBa3lZti8",
        "colab": {
          "base_uri": "https://localhost:8080/"
        },
        "outputId": "f1b9a825-44bc-44ee-df5c-0f96ad1c20d8"
      },
      "outputs": [
        {
          "output_type": "stream",
          "name": "stderr",
          "text": [
            "/usr/local/lib/python3.10/dist-packages/ipykernel/ipkernel.py:283: DeprecationWarning: `should_run_async` will not call `transform_cell` automatically in the future. Please pass the result to `transformed_cell` argument and any exception that happen during thetransform in `preprocessing_exc_tuple` in IPython 7.17 and above.\n",
            "  and should_run_async(code)\n"
          ]
        }
      ],
      "source": [
        "import warnings\n",
        "warnings.filterwarnings('ignore', 'Calling')\n",
        "warnings.filterwarnings('ignore', 'For a faster implementation')\n",
        "warnings.filterwarnings('ignore', 'In')\n",
        "warnings.filterwarnings('ignore', 'SelectableGroups dict interface')\n",
        "warnings.filterwarnings('ignore', '`np')\n",
        "warnings.filterwarnings('ignore', 'SelectableGroups')"
      ]
    },
    {
      "cell_type": "code",
      "execution_count": 4,
      "metadata": {
        "id": "kYUE9bBoVQjU",
        "colab": {
          "base_uri": "https://localhost:8080/"
        },
        "outputId": "ad964bd3-232b-4c48-c3f1-88a560a1e5d9"
      },
      "outputs": [
        {
          "output_type": "stream",
          "name": "stderr",
          "text": [
            "/usr/local/lib/python3.10/dist-packages/ipykernel/ipkernel.py:283: DeprecationWarning: `should_run_async` will not call `transform_cell` automatically in the future. Please pass the result to `transformed_cell` argument and any exception that happen during thetransform in `preprocessing_exc_tuple` in IPython 7.17 and above.\n",
            "  and should_run_async(code)\n",
            "[nltk_data] Downloading package stopwords to /root/nltk_data...\n",
            "[nltk_data]   Unzipping corpora/stopwords.zip.\n",
            "[nltk_data] Downloading package averaged_perceptron_tagger to\n",
            "[nltk_data]     /root/nltk_data...\n",
            "[nltk_data]   Unzipping taggers/averaged_perceptron_tagger.zip.\n",
            "[nltk_data] Downloading package universal_tagset to /root/nltk_data...\n",
            "[nltk_data]   Unzipping taggers/universal_tagset.zip.\n",
            "[nltk_data] Downloading package wordnet to /root/nltk_data...\n",
            "[nltk_data] Downloading package punkt to /root/nltk_data...\n",
            "[nltk_data]   Unzipping tokenizers/punkt.zip.\n"
          ]
        },
        {
          "output_type": "execute_result",
          "data": {
            "text/plain": [
              "True"
            ]
          },
          "metadata": {},
          "execution_count": 4
        }
      ],
      "source": [
        "nltk.download('stopwords')\n",
        "nltk.download('averaged_perceptron_tagger')\n",
        "nltk.download('universal_tagset')\n",
        "nltk.download('wordnet')\n",
        "nltk.download('punkt')"
      ]
    },
    {
      "cell_type": "markdown",
      "metadata": {
        "id": "hK851pcofwnu"
      },
      "source": [
        "## Scrape 30 poems of 2 Poets from allpoetry.com"
      ]
    },
    {
      "cell_type": "code",
      "execution_count": 5,
      "metadata": {
        "id": "O_TVxM96640m",
        "colab": {
          "base_uri": "https://localhost:8080/"
        },
        "outputId": "bd053c3d-3c61-4d2c-e9b2-e2e6826bd8e6"
      },
      "outputs": [
        {
          "output_type": "stream",
          "name": "stderr",
          "text": [
            "/usr/local/lib/python3.10/dist-packages/ipykernel/ipkernel.py:283: DeprecationWarning: `should_run_async` will not call `transform_cell` automatically in the future. Please pass the result to `transformed_cell` argument and any exception that happen during thetransform in `preprocessing_exc_tuple` in IPython 7.17 and above.\n",
            "  and should_run_async(code)\n"
          ]
        }
      ],
      "source": [
        "def clean_txt(text):\n",
        "    text=text.replace(u'\\xa0', u' ').replace(r'\\r',u'\\n').replace(r'\\n', ' ').replace('\\n', ' ').replace('\\t', ' ')\n",
        "    text = contractions.fix(text)\n",
        "    text = text.strip().lower()\n",
        "    text = re.sub(r\"'\", ' ', text)\n",
        "    filters='!\"\\'#$%&()*+,-./:;<=>?@[\\\\]^_`{|}~\\t\\n'\n",
        "    translate_dict = dict((i, \" \") for i in filters)\n",
        "    translate_map = str.maketrans(translate_dict)\n",
        "    text = text.translate(translate_map)\n",
        "    text = ' '.join([w for w in text.split() if len(w)>1])\n",
        "    text = re.sub(' +', ' ', text)\n",
        "    text = ''.join(text)\n",
        "    return text\n",
        "\n",
        "def scrapePoemFromURL(poem_url_list):\n",
        "    poems_results=[]\n",
        "    for url in poem_url_list:\n",
        "        header = {'User-Agent':'Mozilla/5.0'}\n",
        "        requests = urllib.request.Request(url,headers=header)\n",
        "        requestread = urllib.request.urlopen(requests).read()\n",
        "        soup = bs.BeautifulSoup(requestread,'html.parser')\n",
        "        poem_for_human = soup.find_all('div', class_=\"poem_body\")[0].text.replace(\"© by owner. provided at no charge for educational purposes\", \"\")\n",
        "        poem_for_machine = (clean_txt(poem_for_human))\n",
        "        poem_title = soup.find_all('h1')[0].text\n",
        "        poems_results.append([poem_title, poem_for_machine, poem_for_human])\n",
        "    return poems_results"
      ]
    },
    {
      "cell_type": "code",
      "execution_count": 6,
      "metadata": {
        "id": "HUtMMbgh3f3d",
        "colab": {
          "base_uri": "https://localhost:8080/"
        },
        "outputId": "0d5a3c97-6b41-4ce3-bccc-a985791f1f66"
      },
      "outputs": [
        {
          "output_type": "stream",
          "name": "stderr",
          "text": [
            "/usr/local/lib/python3.10/dist-packages/ipykernel/ipkernel.py:283: DeprecationWarning: `should_run_async` will not call `transform_cell` automatically in the future. Please pass the result to `transformed_cell` argument and any exception that happen during thetransform in `preprocessing_exc_tuple` in IPython 7.17 and above.\n",
            "  and should_run_async(code)\n"
          ]
        }
      ],
      "source": [
        "def get_poem_url_json(poet):\n",
        "    site = \"https://allpoetry.com\"\n",
        "    search = \"https://allpoetry.com/items/read_by/\"\n",
        "    page = 1\n",
        "    URL_list = list()\n",
        "    print(\"site\")\n",
        "    while len(URL_list) < 30:\n",
        "        url = search + poet + \"?page=\" + str(page)\n",
        "\n",
        "        response = requests.get(url)\n",
        "        soup = bs.BeautifulSoup(response.text, 'lxml')\n",
        "        poem_list = soup.find_all('a', href=True, class_='nocolor fn')\n",
        "        for i in range(len(poem_list)):\n",
        "            #print(poem_list[i]['href'])\n",
        "            URL_list.append(site + poem_list[i]['href'])\n",
        "            if len(URL_list) == 30:\n",
        "                break\n",
        "        page += 1\n",
        "    return {\"poet\":poet, \"URL\":URL_list}"
      ]
    },
    {
      "cell_type": "code",
      "execution_count": 7,
      "metadata": {
        "id": "mnpyC4eq2mRV",
        "colab": {
          "base_uri": "https://localhost:8080/"
        },
        "outputId": "0d76e4e4-d1ef-4326-9bc7-0dbe8f750084"
      },
      "outputs": [
        {
          "output_type": "stream",
          "name": "stderr",
          "text": [
            "/usr/local/lib/python3.10/dist-packages/ipykernel/ipkernel.py:283: DeprecationWarning: `should_run_async` will not call `transform_cell` automatically in the future. Please pass the result to `transformed_cell` argument and any exception that happen during thetransform in `preprocessing_exc_tuple` in IPython 7.17 and above.\n",
            "  and should_run_async(code)\n"
          ]
        }
      ],
      "source": [
        "pd_title_list = [\"Title\", \"Poem\", \"Poem_for_Human\"]"
      ]
    },
    {
      "cell_type": "code",
      "execution_count": 8,
      "metadata": {
        "id": "xywbU-Wh9wEt",
        "colab": {
          "base_uri": "https://localhost:8080/"
        },
        "outputId": "3d43690f-6c2c-4505-9a0c-f52a2559b501"
      },
      "outputs": [
        {
          "output_type": "stream",
          "name": "stderr",
          "text": [
            "/usr/local/lib/python3.10/dist-packages/ipykernel/ipkernel.py:283: DeprecationWarning: `should_run_async` will not call `transform_cell` automatically in the future. Please pass the result to `transformed_cell` argument and any exception that happen during thetransform in `preprocessing_exc_tuple` in IPython 7.17 and above.\n",
            "  and should_run_async(code)\n"
          ]
        }
      ],
      "source": [
        "def getPoem(file_name, URLs):\n",
        "    df = pd.DataFrame()\n",
        "    if os.path.exists(file_name):\n",
        "        df = pd.read_csv(file_name)\n",
        "    else:\n",
        "        os.makedirs(os.path.dirname(file_name), exist_ok=True)\n",
        "        df = pd.DataFrame(scrapePoemFromURL(URLs), columns=pd_title_list)\n",
        "        df.to_csv(file_name)\n",
        "    return df"
      ]
    },
    {
      "cell_type": "markdown",
      "metadata": {
        "id": "TU9DfCI4OJFO"
      },
      "source": [
        "If the poem file exist, avoid re-scrape it. Else, scrape it."
      ]
    },
    {
      "cell_type": "code",
      "execution_count": 11,
      "metadata": {
        "id": "_M0YFLAaF5f-",
        "colab": {
          "base_uri": "https://localhost:8080/"
        },
        "outputId": "84d6e07d-078f-47d4-8e7d-81a6822efa30"
      },
      "outputs": [
        {
          "output_type": "stream",
          "name": "stderr",
          "text": [
            "/usr/local/lib/python3.10/dist-packages/ipykernel/ipkernel.py:283: DeprecationWarning: `should_run_async` will not call `transform_cell` automatically in the future. Please pass the result to `transformed_cell` argument and any exception that happen during thetransform in `preprocessing_exc_tuple` in IPython 7.17 and above.\n",
            "  and should_run_async(code)\n"
          ]
        },
        {
          "output_type": "stream",
          "name": "stdout",
          "text": [
            "site\n",
            "site\n"
          ]
        }
      ],
      "source": [
        "file_name = store_loc + poet1.replace(\" \", \"_\") + \".csv\"\n",
        "WS_df = getPoem(file_name, get_poem_url_json(poet1)['URL'])\n",
        "\n",
        "file_name = store_loc + poet2.replace(\" \", \"_\") + \".csv\"\n",
        "JWG_df = getPoem(file_name, get_poem_url_json(poet2)['URL'])"
      ]
    },
    {
      "cell_type": "code",
      "source": [
        "WS_df"
      ],
      "metadata": {
        "colab": {
          "base_uri": "https://localhost:8080/",
          "height": 1000
        },
        "id": "4ngksarCO2pH",
        "outputId": "48728b19-c960-4838-bd71-fdcf6c666319"
      },
      "execution_count": 12,
      "outputs": [
        {
          "output_type": "stream",
          "name": "stderr",
          "text": [
            "/usr/local/lib/python3.10/dist-packages/ipykernel/ipkernel.py:283: DeprecationWarning: `should_run_async` will not call `transform_cell` automatically in the future. Please pass the result to `transformed_cell` argument and any exception that happen during thetransform in `preprocessing_exc_tuple` in IPython 7.17 and above.\n",
            "  and should_run_async(code)\n"
          ]
        },
        {
          "output_type": "execute_result",
          "data": {
            "text/plain": [
              "    Unnamed: 0                                              Title  \\\n",
              "0            0   Sonnet: When I Have Fears That I May Cease To Be   \n",
              "1            1                                      Ode To Autumn   \n",
              "2            2                               Ode To A Nightingale   \n",
              "3            3                                A Song About Myself   \n",
              "4            4                               Ode On A Grecian Urn   \n",
              "5            5                                      Meg Merrilies   \n",
              "6            6          Sonnet XV. On The Grasshopper And Cricket   \n",
              "7            7                                     Lamia. Part I    \n",
              "8            8                           La Belle Dame Sans Merci   \n",
              "9            9  Sonnet. Written On A Blank Page In Shakespeare...   \n",
              "10          10                                   Endymion: Book I   \n",
              "11          11   Sonnet XI. On First Looking Into Chapman's Homer   \n",
              "12          12                                    Sonnet To Sleep   \n",
              "13          13  Sonnet. If By Dull Rhymes Our English Must Be ...   \n",
              "14          14                            Sonnet VII. To Solitude   \n",
              "15          15  Two Sonnets. To Haydon, With A Sonnet Written ...   \n",
              "16          16                                   You Say You Love   \n",
              "17          17                     Give Me Women, Wine, And Snuff   \n",
              "18          18                                      Ode To Psyche   \n",
              "19          19                                 Ode  On Melancholy   \n",
              "20          20                                    Sonnet To Homer   \n",
              "21          21       La Belle Dame Sans Merci (Original version )   \n",
              "22          22               Stanzas. In A Drear-Nighted December   \n",
              "23          23                                   This Living Hand   \n",
              "24          24                                             Staffa   \n",
              "25          25                          Sonnet. The Human Seasons   \n",
              "26          26                               Hither, Hither, Love   \n",
              "27          27                                  Hyperion. Book I    \n",
              "28          28                        Fill For Me A Brimming Bowl   \n",
              "29          29  Isabella; Or, The Pot Of Basil: A Story From B...   \n",
              "\n",
              "                                                 Poem  \\\n",
              "0   when have fears that may cease to be before my...   \n",
              "1   season of mists and mellow fruitfulness close ...   \n",
              "2   my heart aches and drowsy numbness pains my se...   \n",
              "3   there was naughty boy naughty boy was he he wo...   \n",
              "4   thou still unravish bride of quietness thou fo...   \n",
              "5   old meg she was gipsy and liv upon the moors h...   \n",
              "6   the poetry of earth is never dead when all the...   \n",
              "7   upon time before the faery broods drove nymph ...   \n",
              "8   ah what can ail thee wretched wight alone and ...   \n",
              "9   bright star would were stedfast as thou art no...   \n",
              "10  thing of beauty is joy for ever its loveliness...   \n",
              "11  much have travell in the realms of gold and ma...   \n",
              "12  soft embalmer of the still midnight shutting w...   \n",
              "13  if by dull rhymes our english must be chain an...   \n",
              "14  solitude if must with thee dwell let it not be...   \n",
              "15  haydon forgive me that cannot speak definitive...   \n",
              "16  you say you love but with voice chaster than n...   \n",
              "17  give me women wine and snuff until cry out hol...   \n",
              "18  goddess hear these tuneless numbers wrung by s...   \n",
              "19  no no go not to lethe neither twist wolf bane ...   \n",
              "20  standing aloof in giant ignorance of thee hear...   \n",
              "21  oh what can ail thee knight at arms alone and ...   \n",
              "22  in drear nighted december too happy happy tree...   \n",
              "23  this living hand now warm and capable of earne...   \n",
              "24  not aladdin magian ever such work began not th...   \n",
              "25  four seasons fill the measure of the year ther...   \n",
              "26  hither hither love it is shady mead hither hit...   \n",
              "27  deep in the shady sadness of vale far sunken f...   \n",
              "28  fill for me brimming bowl and in it let me dro...   \n",
              "29  fair isabel poor simple isabel lorenzo young p...   \n",
              "\n",
              "                                       Poem_for_Human  \n",
              "0   When I have fears that I may cease to be\\n    ...  \n",
              "1   1.\\nSeason of mists and mellow fruitfulness, \\...  \n",
              "2   My heart aches, and a drowsy numbness pains\\n ...  \n",
              "3   I.\\nThere was a naughty boy,\\n  A naughty boy ...  \n",
              "4   1.\\nThou still unravish'd bride of quietness, ...  \n",
              "5   Old Meg she was a gipsy;\\r\\n      And liv'd up...  \n",
              "6   The poetry of earth is never dead:\\nWhen all t...  \n",
              "7   Upon a time, before the faery broods \\nDrove N...  \n",
              "8   I.\\nAh, what can ail thee, wretched wight,\\n  ...  \n",
              "9   Bright star, would I were stedfast as thou art...  \n",
              "10  A thing of beauty is a joy for ever:\\nIts love...  \n",
              "11  Much have I travell'd in the realms of gold,  ...  \n",
              "12  O soft embalmer of the still midnight!\\nShutti...  \n",
              "13  If by dull rhymes our English must be chain'd,...  \n",
              "14  O Solitude! if I must with thee dwell,Let it n...  \n",
              "15  I. \\nHaydon! forgive me that I cannot speak \\n...  \n",
              "16  I\\nYou say you love ; but with a voice\\nChaste...  \n",
              "17  Give me women, wine, and snuff Until I cry out...  \n",
              "18  O Goddess! hear these tuneless numbers, wrung ...  \n",
              "19  1.\\nNo, no! go not to Lethe, neither twist \\n ...  \n",
              "20  Standing aloof in giant ignorance,Of thee I he...  \n",
              "21  \\n\\tOh what can ail thee, knight-at-arms,\\n\\t ...  \n",
              "22  1.In drear-nighted December,Too happy, happy t...  \n",
              "23  This living hand, now warm and capable\\nOf ear...  \n",
              "24  Not Aladdin magian Ever such a work began; Not...  \n",
              "25  Four Seasons fill the measure of the year;    ...  \n",
              "26  Hither hither, love--      'Tis a shady mead--...  \n",
              "27  Deep in the shady sadness of a vale\\nFar sunke...  \n",
              "28  Fill for me a brimming bowl\\nAnd in it let me ...  \n",
              "29  I.\\nFair Isabel, poor simple Isabel!\\nLorenzo,...  "
            ],
            "text/html": [
              "\n",
              "  <div id=\"df-47c559e1-d978-4d3f-ad2b-af3f69858268\" class=\"colab-df-container\">\n",
              "    <div>\n",
              "<style scoped>\n",
              "    .dataframe tbody tr th:only-of-type {\n",
              "        vertical-align: middle;\n",
              "    }\n",
              "\n",
              "    .dataframe tbody tr th {\n",
              "        vertical-align: top;\n",
              "    }\n",
              "\n",
              "    .dataframe thead th {\n",
              "        text-align: right;\n",
              "    }\n",
              "</style>\n",
              "<table border=\"1\" class=\"dataframe\">\n",
              "  <thead>\n",
              "    <tr style=\"text-align: right;\">\n",
              "      <th></th>\n",
              "      <th>Unnamed: 0</th>\n",
              "      <th>Title</th>\n",
              "      <th>Poem</th>\n",
              "      <th>Poem_for_Human</th>\n",
              "    </tr>\n",
              "  </thead>\n",
              "  <tbody>\n",
              "    <tr>\n",
              "      <th>0</th>\n",
              "      <td>0</td>\n",
              "      <td>Sonnet: When I Have Fears That I May Cease To Be</td>\n",
              "      <td>when have fears that may cease to be before my...</td>\n",
              "      <td>When I have fears that I may cease to be\\n    ...</td>\n",
              "    </tr>\n",
              "    <tr>\n",
              "      <th>1</th>\n",
              "      <td>1</td>\n",
              "      <td>Ode To Autumn</td>\n",
              "      <td>season of mists and mellow fruitfulness close ...</td>\n",
              "      <td>1.\\nSeason of mists and mellow fruitfulness, \\...</td>\n",
              "    </tr>\n",
              "    <tr>\n",
              "      <th>2</th>\n",
              "      <td>2</td>\n",
              "      <td>Ode To A Nightingale</td>\n",
              "      <td>my heart aches and drowsy numbness pains my se...</td>\n",
              "      <td>My heart aches, and a drowsy numbness pains\\n ...</td>\n",
              "    </tr>\n",
              "    <tr>\n",
              "      <th>3</th>\n",
              "      <td>3</td>\n",
              "      <td>A Song About Myself</td>\n",
              "      <td>there was naughty boy naughty boy was he he wo...</td>\n",
              "      <td>I.\\nThere was a naughty boy,\\n  A naughty boy ...</td>\n",
              "    </tr>\n",
              "    <tr>\n",
              "      <th>4</th>\n",
              "      <td>4</td>\n",
              "      <td>Ode On A Grecian Urn</td>\n",
              "      <td>thou still unravish bride of quietness thou fo...</td>\n",
              "      <td>1.\\nThou still unravish'd bride of quietness, ...</td>\n",
              "    </tr>\n",
              "    <tr>\n",
              "      <th>5</th>\n",
              "      <td>5</td>\n",
              "      <td>Meg Merrilies</td>\n",
              "      <td>old meg she was gipsy and liv upon the moors h...</td>\n",
              "      <td>Old Meg she was a gipsy;\\r\\n      And liv'd up...</td>\n",
              "    </tr>\n",
              "    <tr>\n",
              "      <th>6</th>\n",
              "      <td>6</td>\n",
              "      <td>Sonnet XV. On The Grasshopper And Cricket</td>\n",
              "      <td>the poetry of earth is never dead when all the...</td>\n",
              "      <td>The poetry of earth is never dead:\\nWhen all t...</td>\n",
              "    </tr>\n",
              "    <tr>\n",
              "      <th>7</th>\n",
              "      <td>7</td>\n",
              "      <td>Lamia. Part I</td>\n",
              "      <td>upon time before the faery broods drove nymph ...</td>\n",
              "      <td>Upon a time, before the faery broods \\nDrove N...</td>\n",
              "    </tr>\n",
              "    <tr>\n",
              "      <th>8</th>\n",
              "      <td>8</td>\n",
              "      <td>La Belle Dame Sans Merci</td>\n",
              "      <td>ah what can ail thee wretched wight alone and ...</td>\n",
              "      <td>I.\\nAh, what can ail thee, wretched wight,\\n  ...</td>\n",
              "    </tr>\n",
              "    <tr>\n",
              "      <th>9</th>\n",
              "      <td>9</td>\n",
              "      <td>Sonnet. Written On A Blank Page In Shakespeare...</td>\n",
              "      <td>bright star would were stedfast as thou art no...</td>\n",
              "      <td>Bright star, would I were stedfast as thou art...</td>\n",
              "    </tr>\n",
              "    <tr>\n",
              "      <th>10</th>\n",
              "      <td>10</td>\n",
              "      <td>Endymion: Book I</td>\n",
              "      <td>thing of beauty is joy for ever its loveliness...</td>\n",
              "      <td>A thing of beauty is a joy for ever:\\nIts love...</td>\n",
              "    </tr>\n",
              "    <tr>\n",
              "      <th>11</th>\n",
              "      <td>11</td>\n",
              "      <td>Sonnet XI. On First Looking Into Chapman's Homer</td>\n",
              "      <td>much have travell in the realms of gold and ma...</td>\n",
              "      <td>Much have I travell'd in the realms of gold,  ...</td>\n",
              "    </tr>\n",
              "    <tr>\n",
              "      <th>12</th>\n",
              "      <td>12</td>\n",
              "      <td>Sonnet To Sleep</td>\n",
              "      <td>soft embalmer of the still midnight shutting w...</td>\n",
              "      <td>O soft embalmer of the still midnight!\\nShutti...</td>\n",
              "    </tr>\n",
              "    <tr>\n",
              "      <th>13</th>\n",
              "      <td>13</td>\n",
              "      <td>Sonnet. If By Dull Rhymes Our English Must Be ...</td>\n",
              "      <td>if by dull rhymes our english must be chain an...</td>\n",
              "      <td>If by dull rhymes our English must be chain'd,...</td>\n",
              "    </tr>\n",
              "    <tr>\n",
              "      <th>14</th>\n",
              "      <td>14</td>\n",
              "      <td>Sonnet VII. To Solitude</td>\n",
              "      <td>solitude if must with thee dwell let it not be...</td>\n",
              "      <td>O Solitude! if I must with thee dwell,Let it n...</td>\n",
              "    </tr>\n",
              "    <tr>\n",
              "      <th>15</th>\n",
              "      <td>15</td>\n",
              "      <td>Two Sonnets. To Haydon, With A Sonnet Written ...</td>\n",
              "      <td>haydon forgive me that cannot speak definitive...</td>\n",
              "      <td>I. \\nHaydon! forgive me that I cannot speak \\n...</td>\n",
              "    </tr>\n",
              "    <tr>\n",
              "      <th>16</th>\n",
              "      <td>16</td>\n",
              "      <td>You Say You Love</td>\n",
              "      <td>you say you love but with voice chaster than n...</td>\n",
              "      <td>I\\nYou say you love ; but with a voice\\nChaste...</td>\n",
              "    </tr>\n",
              "    <tr>\n",
              "      <th>17</th>\n",
              "      <td>17</td>\n",
              "      <td>Give Me Women, Wine, And Snuff</td>\n",
              "      <td>give me women wine and snuff until cry out hol...</td>\n",
              "      <td>Give me women, wine, and snuff Until I cry out...</td>\n",
              "    </tr>\n",
              "    <tr>\n",
              "      <th>18</th>\n",
              "      <td>18</td>\n",
              "      <td>Ode To Psyche</td>\n",
              "      <td>goddess hear these tuneless numbers wrung by s...</td>\n",
              "      <td>O Goddess! hear these tuneless numbers, wrung ...</td>\n",
              "    </tr>\n",
              "    <tr>\n",
              "      <th>19</th>\n",
              "      <td>19</td>\n",
              "      <td>Ode  On Melancholy</td>\n",
              "      <td>no no go not to lethe neither twist wolf bane ...</td>\n",
              "      <td>1.\\nNo, no! go not to Lethe, neither twist \\n ...</td>\n",
              "    </tr>\n",
              "    <tr>\n",
              "      <th>20</th>\n",
              "      <td>20</td>\n",
              "      <td>Sonnet To Homer</td>\n",
              "      <td>standing aloof in giant ignorance of thee hear...</td>\n",
              "      <td>Standing aloof in giant ignorance,Of thee I he...</td>\n",
              "    </tr>\n",
              "    <tr>\n",
              "      <th>21</th>\n",
              "      <td>21</td>\n",
              "      <td>La Belle Dame Sans Merci (Original version )</td>\n",
              "      <td>oh what can ail thee knight at arms alone and ...</td>\n",
              "      <td>\\n\\tOh what can ail thee, knight-at-arms,\\n\\t ...</td>\n",
              "    </tr>\n",
              "    <tr>\n",
              "      <th>22</th>\n",
              "      <td>22</td>\n",
              "      <td>Stanzas. In A Drear-Nighted December</td>\n",
              "      <td>in drear nighted december too happy happy tree...</td>\n",
              "      <td>1.In drear-nighted December,Too happy, happy t...</td>\n",
              "    </tr>\n",
              "    <tr>\n",
              "      <th>23</th>\n",
              "      <td>23</td>\n",
              "      <td>This Living Hand</td>\n",
              "      <td>this living hand now warm and capable of earne...</td>\n",
              "      <td>This living hand, now warm and capable\\nOf ear...</td>\n",
              "    </tr>\n",
              "    <tr>\n",
              "      <th>24</th>\n",
              "      <td>24</td>\n",
              "      <td>Staffa</td>\n",
              "      <td>not aladdin magian ever such work began not th...</td>\n",
              "      <td>Not Aladdin magian Ever such a work began; Not...</td>\n",
              "    </tr>\n",
              "    <tr>\n",
              "      <th>25</th>\n",
              "      <td>25</td>\n",
              "      <td>Sonnet. The Human Seasons</td>\n",
              "      <td>four seasons fill the measure of the year ther...</td>\n",
              "      <td>Four Seasons fill the measure of the year;    ...</td>\n",
              "    </tr>\n",
              "    <tr>\n",
              "      <th>26</th>\n",
              "      <td>26</td>\n",
              "      <td>Hither, Hither, Love</td>\n",
              "      <td>hither hither love it is shady mead hither hit...</td>\n",
              "      <td>Hither hither, love--      'Tis a shady mead--...</td>\n",
              "    </tr>\n",
              "    <tr>\n",
              "      <th>27</th>\n",
              "      <td>27</td>\n",
              "      <td>Hyperion. Book I</td>\n",
              "      <td>deep in the shady sadness of vale far sunken f...</td>\n",
              "      <td>Deep in the shady sadness of a vale\\nFar sunke...</td>\n",
              "    </tr>\n",
              "    <tr>\n",
              "      <th>28</th>\n",
              "      <td>28</td>\n",
              "      <td>Fill For Me A Brimming Bowl</td>\n",
              "      <td>fill for me brimming bowl and in it let me dro...</td>\n",
              "      <td>Fill for me a brimming bowl\\nAnd in it let me ...</td>\n",
              "    </tr>\n",
              "    <tr>\n",
              "      <th>29</th>\n",
              "      <td>29</td>\n",
              "      <td>Isabella; Or, The Pot Of Basil: A Story From B...</td>\n",
              "      <td>fair isabel poor simple isabel lorenzo young p...</td>\n",
              "      <td>I.\\nFair Isabel, poor simple Isabel!\\nLorenzo,...</td>\n",
              "    </tr>\n",
              "  </tbody>\n",
              "</table>\n",
              "</div>\n",
              "    <div class=\"colab-df-buttons\">\n",
              "\n",
              "  <div class=\"colab-df-container\">\n",
              "    <button class=\"colab-df-convert\" onclick=\"convertToInteractive('df-47c559e1-d978-4d3f-ad2b-af3f69858268')\"\n",
              "            title=\"Convert this dataframe to an interactive table.\"\n",
              "            style=\"display:none;\">\n",
              "\n",
              "  <svg xmlns=\"http://www.w3.org/2000/svg\" height=\"24px\" viewBox=\"0 -960 960 960\">\n",
              "    <path d=\"M120-120v-720h720v720H120Zm60-500h600v-160H180v160Zm220 220h160v-160H400v160Zm0 220h160v-160H400v160ZM180-400h160v-160H180v160Zm440 0h160v-160H620v160ZM180-180h160v-160H180v160Zm440 0h160v-160H620v160Z\"/>\n",
              "  </svg>\n",
              "    </button>\n",
              "\n",
              "  <style>\n",
              "    .colab-df-container {\n",
              "      display:flex;\n",
              "      gap: 12px;\n",
              "    }\n",
              "\n",
              "    .colab-df-convert {\n",
              "      background-color: #E8F0FE;\n",
              "      border: none;\n",
              "      border-radius: 50%;\n",
              "      cursor: pointer;\n",
              "      display: none;\n",
              "      fill: #1967D2;\n",
              "      height: 32px;\n",
              "      padding: 0 0 0 0;\n",
              "      width: 32px;\n",
              "    }\n",
              "\n",
              "    .colab-df-convert:hover {\n",
              "      background-color: #E2EBFA;\n",
              "      box-shadow: 0px 1px 2px rgba(60, 64, 67, 0.3), 0px 1px 3px 1px rgba(60, 64, 67, 0.15);\n",
              "      fill: #174EA6;\n",
              "    }\n",
              "\n",
              "    .colab-df-buttons div {\n",
              "      margin-bottom: 4px;\n",
              "    }\n",
              "\n",
              "    [theme=dark] .colab-df-convert {\n",
              "      background-color: #3B4455;\n",
              "      fill: #D2E3FC;\n",
              "    }\n",
              "\n",
              "    [theme=dark] .colab-df-convert:hover {\n",
              "      background-color: #434B5C;\n",
              "      box-shadow: 0px 1px 3px 1px rgba(0, 0, 0, 0.15);\n",
              "      filter: drop-shadow(0px 1px 2px rgba(0, 0, 0, 0.3));\n",
              "      fill: #FFFFFF;\n",
              "    }\n",
              "  </style>\n",
              "\n",
              "    <script>\n",
              "      const buttonEl =\n",
              "        document.querySelector('#df-47c559e1-d978-4d3f-ad2b-af3f69858268 button.colab-df-convert');\n",
              "      buttonEl.style.display =\n",
              "        google.colab.kernel.accessAllowed ? 'block' : 'none';\n",
              "\n",
              "      async function convertToInteractive(key) {\n",
              "        const element = document.querySelector('#df-47c559e1-d978-4d3f-ad2b-af3f69858268');\n",
              "        const dataTable =\n",
              "          await google.colab.kernel.invokeFunction('convertToInteractive',\n",
              "                                                    [key], {});\n",
              "        if (!dataTable) return;\n",
              "\n",
              "        const docLinkHtml = 'Like what you see? Visit the ' +\n",
              "          '<a target=\"_blank\" href=https://colab.research.google.com/notebooks/data_table.ipynb>data table notebook</a>'\n",
              "          + ' to learn more about interactive tables.';\n",
              "        element.innerHTML = '';\n",
              "        dataTable['output_type'] = 'display_data';\n",
              "        await google.colab.output.renderOutput(dataTable, element);\n",
              "        const docLink = document.createElement('div');\n",
              "        docLink.innerHTML = docLinkHtml;\n",
              "        element.appendChild(docLink);\n",
              "      }\n",
              "    </script>\n",
              "  </div>\n",
              "\n",
              "\n",
              "<div id=\"df-69833fd8-de2c-4e03-94e1-a8c31f961bcd\">\n",
              "  <button class=\"colab-df-quickchart\" onclick=\"quickchart('df-69833fd8-de2c-4e03-94e1-a8c31f961bcd')\"\n",
              "            title=\"Suggest charts\"\n",
              "            style=\"display:none;\">\n",
              "\n",
              "<svg xmlns=\"http://www.w3.org/2000/svg\" height=\"24px\"viewBox=\"0 0 24 24\"\n",
              "     width=\"24px\">\n",
              "    <g>\n",
              "        <path d=\"M19 3H5c-1.1 0-2 .9-2 2v14c0 1.1.9 2 2 2h14c1.1 0 2-.9 2-2V5c0-1.1-.9-2-2-2zM9 17H7v-7h2v7zm4 0h-2V7h2v10zm4 0h-2v-4h2v4z\"/>\n",
              "    </g>\n",
              "</svg>\n",
              "  </button>\n",
              "\n",
              "<style>\n",
              "  .colab-df-quickchart {\n",
              "      --bg-color: #E8F0FE;\n",
              "      --fill-color: #1967D2;\n",
              "      --hover-bg-color: #E2EBFA;\n",
              "      --hover-fill-color: #174EA6;\n",
              "      --disabled-fill-color: #AAA;\n",
              "      --disabled-bg-color: #DDD;\n",
              "  }\n",
              "\n",
              "  [theme=dark] .colab-df-quickchart {\n",
              "      --bg-color: #3B4455;\n",
              "      --fill-color: #D2E3FC;\n",
              "      --hover-bg-color: #434B5C;\n",
              "      --hover-fill-color: #FFFFFF;\n",
              "      --disabled-bg-color: #3B4455;\n",
              "      --disabled-fill-color: #666;\n",
              "  }\n",
              "\n",
              "  .colab-df-quickchart {\n",
              "    background-color: var(--bg-color);\n",
              "    border: none;\n",
              "    border-radius: 50%;\n",
              "    cursor: pointer;\n",
              "    display: none;\n",
              "    fill: var(--fill-color);\n",
              "    height: 32px;\n",
              "    padding: 0;\n",
              "    width: 32px;\n",
              "  }\n",
              "\n",
              "  .colab-df-quickchart:hover {\n",
              "    background-color: var(--hover-bg-color);\n",
              "    box-shadow: 0 1px 2px rgba(60, 64, 67, 0.3), 0 1px 3px 1px rgba(60, 64, 67, 0.15);\n",
              "    fill: var(--button-hover-fill-color);\n",
              "  }\n",
              "\n",
              "  .colab-df-quickchart-complete:disabled,\n",
              "  .colab-df-quickchart-complete:disabled:hover {\n",
              "    background-color: var(--disabled-bg-color);\n",
              "    fill: var(--disabled-fill-color);\n",
              "    box-shadow: none;\n",
              "  }\n",
              "\n",
              "  .colab-df-spinner {\n",
              "    border: 2px solid var(--fill-color);\n",
              "    border-color: transparent;\n",
              "    border-bottom-color: var(--fill-color);\n",
              "    animation:\n",
              "      spin 1s steps(1) infinite;\n",
              "  }\n",
              "\n",
              "  @keyframes spin {\n",
              "    0% {\n",
              "      border-color: transparent;\n",
              "      border-bottom-color: var(--fill-color);\n",
              "      border-left-color: var(--fill-color);\n",
              "    }\n",
              "    20% {\n",
              "      border-color: transparent;\n",
              "      border-left-color: var(--fill-color);\n",
              "      border-top-color: var(--fill-color);\n",
              "    }\n",
              "    30% {\n",
              "      border-color: transparent;\n",
              "      border-left-color: var(--fill-color);\n",
              "      border-top-color: var(--fill-color);\n",
              "      border-right-color: var(--fill-color);\n",
              "    }\n",
              "    40% {\n",
              "      border-color: transparent;\n",
              "      border-right-color: var(--fill-color);\n",
              "      border-top-color: var(--fill-color);\n",
              "    }\n",
              "    60% {\n",
              "      border-color: transparent;\n",
              "      border-right-color: var(--fill-color);\n",
              "    }\n",
              "    80% {\n",
              "      border-color: transparent;\n",
              "      border-right-color: var(--fill-color);\n",
              "      border-bottom-color: var(--fill-color);\n",
              "    }\n",
              "    90% {\n",
              "      border-color: transparent;\n",
              "      border-bottom-color: var(--fill-color);\n",
              "    }\n",
              "  }\n",
              "</style>\n",
              "\n",
              "  <script>\n",
              "    async function quickchart(key) {\n",
              "      const quickchartButtonEl =\n",
              "        document.querySelector('#' + key + ' button');\n",
              "      quickchartButtonEl.disabled = true;  // To prevent multiple clicks.\n",
              "      quickchartButtonEl.classList.add('colab-df-spinner');\n",
              "      try {\n",
              "        const charts = await google.colab.kernel.invokeFunction(\n",
              "            'suggestCharts', [key], {});\n",
              "      } catch (error) {\n",
              "        console.error('Error during call to suggestCharts:', error);\n",
              "      }\n",
              "      quickchartButtonEl.classList.remove('colab-df-spinner');\n",
              "      quickchartButtonEl.classList.add('colab-df-quickchart-complete');\n",
              "    }\n",
              "    (() => {\n",
              "      let quickchartButtonEl =\n",
              "        document.querySelector('#df-69833fd8-de2c-4e03-94e1-a8c31f961bcd button');\n",
              "      quickchartButtonEl.style.display =\n",
              "        google.colab.kernel.accessAllowed ? 'block' : 'none';\n",
              "    })();\n",
              "  </script>\n",
              "</div>\n",
              "    </div>\n",
              "  </div>\n"
            ]
          },
          "metadata": {},
          "execution_count": 12
        }
      ]
    },
    {
      "cell_type": "code",
      "source": [
        "import pandas as pd\n",
        "\n",
        "# Read CSV file into a pandas DataFrame\n",
        "csv_file_path = '/content/drive/MyDrive/poets/John_Keats.csv'  # Replace with the path to your CSV file\n",
        "df = pd.read_csv(csv_file_path)\n",
        "\n",
        "# Convert DataFrame to JSON\n",
        "json_data = df.to_dict(orient='records')\n",
        "\n",
        "# Print or save the JSON data\n",
        "print(json_data)\n",
        "# If you want to save it to a file\n",
        "with open('output.json', 'w') as json_file:\n",
        "    json.dump(json_data, json_file, indent=2)\n"
      ],
      "metadata": {
        "colab": {
          "base_uri": "https://localhost:8080/"
        },
        "id": "uwWcLqnVSveT",
        "outputId": "23f0231e-b21d-44d8-bf64-82592bad3ed8"
      },
      "execution_count": 14,
      "outputs": [
        {
          "output_type": "stream",
          "name": "stdout",
          "text": [
            "[{'Unnamed: 0': 0, 'Title': 'Sonnet: When I Have Fears That I May Cease To Be', 'Poem': 'when have fears that may cease to be before my pen has glean my teeming brain before high piled books in charactry hold like rich garners the full ripen grain when behold upon the night starr face huge cloudy symbols of high romance and think that may never live to trace their shadows with the magic hand of chance and when feel fair creature of an hour that shall never look upon thee more never have relish in the faery power of unreflecting love then on the shore of the wide world stand alone and think till love and fame to nothingness do sink', 'Poem_for_Human': \"When I have fears that I may cease to be\\n\\xa0 \\xa0 \\xa0  Before my pen has glean'd my teeming brain, \\n\\xa0 \\xa0  Before high piled books, in charactry,\\n\\xa0 Hold like rich garners the full-ripen'd grain; \\nWhen I behold, upon the night's starr'd face,\\n\\xa0 Huge cloudy symbols of a high romance, \\nAnd think that I may never live to trace \\n\\xa0 Their shadows, with the magic hand of chance; \\nAnd when I feel, fair creature of an hour,\\n\\xa0 That I shall never look upon thee more,\\nNever have relish in the faery power \\n\\xa0 Of unreflecting love; -- then on the shore \\nOf the wide world I stand alone, and think\\nTill Love and Fame to nothingness do sink.     \"}, {'Unnamed: 0': 1, 'Title': 'Ode To Autumn', 'Poem': 'season of mists and mellow fruitfulness close bosom friend of the maturing sun conspiring with him how to load and bless with fruit the vines that round the thatch eves run to bend with apples the moss cottage trees and fill all fruit with ripeness to the core to swell the gourd and plump the hazel shells with sweet kernel to set budding more and still more later flowers for the bees until they think warm days will never cease for summer has over brimm their clammy cells who hath not seen thee oft amid thy store sometimes whoever seeks abroad may find thee sitting careless on granary floor thy hair soft lifted by the winnowing wind or on half reap furrow sound asleep drows with the fume of poppies while thy hook spares the next swath and all its twined flowers and sometimes like gleaner thou dost keep steady thy laden head across brook or by cyder press with patient look thou watchest the last oozings hours by hours where are the songs of spring ay where are they think not of them thou hast thy music too while barred clouds bloom the soft dying day and touch the stubble plains with rosy hue then in wailful choir the small gnats mourn among the river sallows borne aloft or sinking as the light wind lives or dies and full grown lambs loud bleat from hilly bourn hedge crickets sing and now with treble soft the red breast whistles from garden croft and gathering swallows twitter in the skies', 'Poem_for_Human': \"1.\\nSeason of mists and mellow fruitfulness, \\n\\xa0 \\xa0 \\xa0 \\xa0 Close bosom-friend of the maturing sun;\\n\\xa0 \\xa0 Conspiring with him how to load and bless\\n\\xa0 \\xa0 \\xa0 \\xa0 With fruit the vines that round the thatch-eves run;\\n\\xa0 \\xa0 To bend with apples the moss'd cottage-trees,\\n\\xa0 \\xa0 \\xa0 \\xa0 And fill all fruit with ripeness to the core;\\n\\xa0 \\xa0 \\xa0 \\xa0 \\xa0  To swell the gourd, and plump the hazel shells\\n\\xa0 \\xa0 \\xa0 \\xa0 With a sweet kernel; to set budding more,\\n\\xa0 \\xa0 And still more, later flowers for the bees,\\n\\xa0  Until they think warm days will never cease,\\n\\xa0 \\xa0 \\xa0 \\xa0 \\xa0 For Summer has o'er-brimm'd their clammy cells.\\n\\n2.\\n\\xa0  Who hath not seen thee oft amid thy store?\\n\\xa0 \\xa0 \\xa0  Sometimes whoever seeks abroad may find\\n\\xa0  Thee sitting careless on a granary floor,\\n\\xa0 \\xa0 \\xa0  Thy hair soft-lifted by the winnowing wind;\\n\\xa0  Or on a half-reap'd furrow sound asleep,\\n\\xa0 \\xa0 \\xa0  Drows'd with the fume of poppies, while thy hook\\n\\xa0 \\xa0 \\xa0 \\xa0 \\xa0 Spares the next swath and all its twined flowers:\\n\\xa0  And sometimes like a gleaner thou dost keep\\n\\xa0 \\xa0 \\xa0  Steady thy laden head across a brook;\\n\\xa0 \\xa0 \\xa0  Or by a cyder-press, with patient look,\\n\\xa0 \\xa0 \\xa0 \\xa0 \\xa0 Thou watchest the last oozings hours by hours.\\n\\n3.\\n\\xa0  Where are the songs of Spring? Ay, where are they?\\n\\xa0 \\xa0 \\xa0  Think not of them, thou hast thy music too,—\\n\\xa0  While barred clouds bloom the soft-dying day,\\n\\xa0 \\xa0 \\xa0  And touch the stubble-plains with rosy hue;\\n\\xa0  Then in a wailful choir the small gnats mourn\\n\\xa0 \\xa0 \\xa0  Among the river sallows, borne aloft\\n\\xa0 \\xa0 \\xa0 \\xa0 \\xa0 Or sinking as the light wind lives or dies;\\n\\xa0  And full-grown lambs loud bleat from hilly bourn;\\n\\xa0 \\xa0 \\xa0  Hedge-crickets sing; and now with treble soft\\n\\xa0 \\xa0 \\xa0  The red-breast whistles from a garden-croft;\\n\\xa0 \\xa0 \\xa0 \\xa0 \\xa0 And gathering swallows twitter in the skies.     \"}, {'Unnamed: 0': 2, 'Title': 'Ode To A Nightingale', 'Poem': 'my heart aches and drowsy numbness pains my sense as though of hemlock had drunk or emptied some dull opiate to the drains one minute past and lethe wards had sunk it is not through envy of thy happy lot but being too happy in thy happiness that thou light winged dryad of the trees in some melodious plot of beechen green and shadows numberless singest of summer in full throated ease for draught of vintage that hath been cooled long age in the deep delved earth tasting of flora and the country green dance and provencal song and sun burnt mirth for beaker full of the warm south full of the true the blushful hippocrene with beaded bubbles winking at the brim and purple stained mouth that might drink and leave the world unseen and with thee fade away into the forest dim fade far away dissolve and quite forget what thou among the leaves hast never known the weariness the fever and the fret here where men sit and hear each other groan where palsy shakes few sad last gray hairs where youth grows pale and spectre thin and dies where but to think is to be full of sorrow and leaden eyed despairs where beauty cannot keep her lustrous eyes or new love pine at them beyond tomorrow away away for will fly to thee not charioted by bacchus and his pards but on the viewless wings of poesy though the dull brain perplexes and retards already with thee tender is the night and haply the queen moon is on her throne clustered around by all her starry fays but here there is no light save what from heaven is with the breezes blown through verdurous glooms and winding mossy ways cannot see what flowers are at my feet nor what soft incense hangs upon the boughs but in embalmed darkness guess each sweet wherewith the seasonable month endows the grass the thicket and the fruit tree wild white hawthorn and the pastoral eglantine fast fading violets covered up in leaves and mid may eldest child the coming musk rose full of dewy wine the murmurous haunt of flies on summer eves darkling listen and for many time have been half in love with easeful death called him soft names in many mused rhyme to take into the air my quiet breath now more than ever seems it rich to die to cease upon the midnight with no pain while thou art pouring forth thy soul abroad in such an ecstasy still wouldst thou sing and have ears in vain— to thy high requiem become sod thou wast not born for death immortal bird no hungry generations tread thee down the voice hear this passing night was heard in ancient days by emperor and clown perhaps the self same song that found path through the sad heart of ruth when sick for home she stood in tears amid the alien corn the same that oft times hath charmed magic casements opening on the foam of perilous seas in faery lands forlorn forlorn the very word is like bell to toll me back from thee to my sole self adieu the fancy cannot cheat so well as she is famed to do deceiving elf adieu adieu thy plaintive anthem fades past the near meadows over the still stream up the hill side and now it is buried deep in the next valley glades was it vision or waking dream fled is that music do wake or sleep haydon in one of his letters to miss mitford corresp vol pg 72 says of keats the death of his brother wounded him deeply and it appeared to me from that hour he began to droop he wrote his exquisite ode to the nightingale at this time and as we were one evening walking in the kilburn meadows he repeated it to me before he put it to paper in low tremulous undertone which affected me extremely lord houghton says the ode was suggested by the continued song of nightingale which in the spring of 1819 had built its nest close to wentworth place keats says his lordship aldine ed 1876 pg 237 took great pleasure in her song and one morning took his chair from the breakfast table to the grass plot under plum tree where he remained between two and three hours he then reached the house with some scraps of paper in his hand which he soon put together in the form of his ode stanza of keats partiality for claret enough and too much has been made but with his delightful list of desiderata given to his sister in letter now before me it is impossible to resist citing as prose parallel to these two splendid lines of poetry the words and please heaven little claret wine cool out of cellar mile deep with few or good many ratafia cakes stanza the sixth line very clearly bears out haydon words connecting the sadness of the poem with the death of tom keats and should be compared with the passage about his sister in the letter to brown written from rome on the 30th november 1820 my sister who walks about my imagination like ghost she is so like tom in the same letter he says it runs in my head we shall all die young stanza in the last line of this stanza the word fairy instead of faery stands in the manuscript and in the annals but the lamia volume reads faery which enhances the poetic value of the line in the subtlest manner eliminating all possible connexion of fairy land with christmas trees tinsel and santa claus and carrying out the imagination safely back to the middle ages poetical works of john keats ed buxton forman crowell publ 1895', 'Poem_for_Human': 'My heart aches, and a drowsy numbness pains\\n\\xa0 \\xa0  My sense, as though of hemlock I had drunk,\\nOr emptied some dull opiate to the drains\\n\\xa0 \\xa0  One minute past, and Lethe-wards had sunk:\\n\\'Tis not through envy of thy happy lot,\\n\\xa0 \\xa0  But being too happy in thy happiness,—-\\n\\xa0 \\xa0 \\xa0 \\xa0 \\xa0 That thou, light-winged Dryad of the trees,\\n\\xa0 \\xa0 \\xa0 \\xa0 \\xa0 \\xa0 \\xa0  In some melodious plot\\n\\xa0 \\xa0  Of beechen green, and shadows numberless,\\n\\xa0 \\xa0 \\xa0 \\xa0 \\xa0 Singest of summer in full-throated ease.\\n\\nO for a draught of vintage, that hath been\\n\\xa0 \\xa0  Cooled a long age in the deep-delved earth,\\nTasting of Flora and the country green,\\n\\xa0 \\xa0  Dance, and Provencal song, and sun-burnt mirth!\\nO for a beaker full of the warm South,\\n\\xa0 \\xa0  Full of the true, the blushful Hippocrene,\\n\\xa0 \\xa0 \\xa0 \\xa0 \\xa0 With beaded bubbles winking at the brim,\\n\\xa0 \\xa0 \\xa0 \\xa0 \\xa0 \\xa0 \\xa0  And purple-stained mouth;\\n\\xa0 \\xa0  That I might drink, and leave the world unseen,\\n\\xa0 \\xa0 \\xa0 \\xa0 \\xa0 And with thee fade away into the forest dim:\\n\\nFade far away, dissolve, and quite forget\\n\\xa0 \\xa0  What thou among the leaves hast never known,\\nThe weariness, the fever, and the fret\\n\\xa0 \\xa0  Here, where men sit and hear each other groan;\\nWhere palsy shakes a few, sad, last gray hairs,\\n\\xa0 \\xa0  Where youth grows pale, and spectre-thin, and dies;\\n\\xa0 \\xa0 \\xa0 \\xa0 \\xa0 Where but to think is to be full of sorrow\\n\\xa0 \\xa0 \\xa0 \\xa0 \\xa0 \\xa0 \\xa0  And leaden-eyed despairs;\\n\\xa0 \\xa0  Where beauty cannot keep her lustrous eyes,\\n\\xa0 \\xa0 \\xa0 \\xa0 \\xa0 Or new love pine at them beyond tomorrow.\\n\\nAway! away! for I will fly to thee,\\n\\xa0 \\xa0  Not charioted by Bacchus and his pards,\\nBut on the viewless wings of Poesy,\\n\\xa0 \\xa0  Though the dull brain perplexes and retards:\\nAlready with thee! tender is the night,\\n\\xa0 \\xa0  And haply the Queen-Moon is on her throne,\\n\\xa0 \\xa0 \\xa0 \\xa0 \\xa0 Clustered around by all her starry fays;\\n\\xa0 \\xa0 \\xa0 \\xa0 \\xa0 \\xa0 \\xa0  But here there is no light,\\n\\xa0 \\xa0  Save what from heaven is with the breezes blown\\n\\xa0 \\xa0 \\xa0 \\xa0 \\xa0 Through verdurous glooms and winding mossy ways.\\n\\nI cannot see what flowers are at my feet,\\n\\xa0 \\xa0  Nor what soft incense hangs upon the boughs,\\nBut, in embalmed darkness, guess each sweet\\n\\xa0 \\xa0  Wherewith the seasonable month endows\\nThe grass, the thicket, and the fruit-tree wild;\\n\\xa0 \\xa0  White hawthorn, and the pastoral eglantine;\\n\\xa0 \\xa0 \\xa0 \\xa0 \\xa0 Fast-fading violets covered up in leaves;\\n\\xa0 \\xa0 \\xa0 \\xa0 \\xa0 \\xa0 \\xa0  And mid-May\\'s eldest child,\\n\\xa0 \\xa0  The coming musk-rose, full of dewy wine,\\n\\xa0 \\xa0 \\xa0 \\xa0 \\xa0 The murmurous haunt of flies on summer eves.\\n\\nDarkling I listen; and for many a time\\n\\xa0 \\xa0  I have been half in love with easeful Death,\\nCalled him soft names in many a mused rhyme,\\n\\xa0 \\xa0  To take into the air my quiet breath;\\nNow more than ever seems it rich to die,\\n\\xa0 \\xa0  To cease upon the midnight with no pain,\\n\\xa0 \\xa0 \\xa0 \\xa0 \\xa0 While thou art pouring forth thy soul abroad\\n\\xa0 \\xa0 \\xa0 \\xa0 \\xa0 \\xa0 \\xa0  In such an ecstasy!\\n\\xa0 \\xa0  Still wouldst thou sing, and I have ears in vain—-\\n\\xa0 \\xa0 \\xa0 \\xa0 \\xa0 To thy high requiem become a sod\\n\\nThou wast not born for death, immortal Bird!\\n\\xa0 \\xa0  No hungry generations tread thee down;\\nThe voice I hear this passing night was heard\\n\\xa0 \\xa0  In ancient days by emperor and clown:\\nPerhaps the self-same song that found a path\\n\\xa0 \\xa0  Through the sad heart of Ruth, when, sick for home,\\n\\xa0 \\xa0 \\xa0 \\xa0 \\xa0 She stood in tears amid the alien corn;\\n\\xa0 \\xa0 \\xa0 \\xa0 \\xa0 \\xa0 \\xa0  The same that oft-times hath\\n\\xa0 \\xa0  Charmed magic casements, opening on the foam\\n\\xa0 \\xa0 \\xa0 \\xa0 \\xa0 Of perilous seas, in faery lands forlorn.\\n\\nForlorn! the very word is like a bell\\n\\xa0 \\xa0  To toll me back from thee to my sole self!\\nAdieu! the fancy cannot cheat so well\\n\\xa0 \\xa0  As she is famed to do, deceiving elf.\\nAdieu! adieu! thy plaintive anthem fades\\n\\xa0 \\xa0  Past the near meadows, over the still stream,\\n\\xa0 \\xa0 \\xa0 \\xa0 \\xa0 Up the hill-side; and now \\'tis buried deep\\n\\xa0 \\xa0 \\xa0 \\xa0 \\xa0 \\xa0 \\xa0  In the next valley-glades:\\n\\xa0 \\xa0  Was it a vision, or a waking dream?\\n\\xa0 \\xa0 \\xa0 \\xa0 \\xa0 Fled is that music:—-do I wake or sleep?\\n\\nHaydon, in one of his letters to Miss Mitford (Corresp. &c., Vol. 2, pg. 72) says of Keats-- \"The death of his brother wounded him deeply, and it appeared to me from that hour he began to droop. He wrote his exquisite \\'Ode to the Nightingale\\' at this time, and as we were one evening walking in the Kilburn meadows he repeated it to me, before he put it to paper, in a low, tremulous undertone which affected me extremely.\"\\nLord Houghton says the Ode was suggested by the continued song of a nightingale which, in the spring of 1819, had built its nest close to Wentworth Place. \"Keats,\" says his Lordship (Aldine ed., 1876, pg. 237), \"took great pleasure in her song, and one morning took his chair from the breakfast-table to the grass plot under a plum tree, where he remained between two and three hours. He then reached the house with some scraps of paper in his hand, which he soon put together in the form of his Ode.\" \\n\\n(stanza 2): Of Keats\\'s partiality for claret enough and too much has been made; but with his delightful list of desiderata given to his sister in a letter, now before me, it is impossible to resist citing as a prose parallel to these two splendid lines of poetry the words, \"and, please heaven, a little claret wine cool out of a cellar a mile deep -- with a few or a good many ratafia cakes.\"\\xa0 \\n\\n(stanza 3): The sixth line very clearly bears out Haydon\\'s words connecting the sadness of the poem with the death of Tom Keats, and should be compared with the passage about his sister in the letter to Brown written from Rome on the 30th November, 1820,-- \"my sister - who walks about my imagination like a ghost - she is so like Tom.\" In the same letter he says \"it runs in my head we shall all die young.\"\\n\\n(stanza 7): In the last line of this stanza the word \"fairy\" instead of \"faery\" stands in the manuscript and in the Annals; but the Lamia volume reads \"faery\", which enhances the poetic value of the line in the subtlest manner -- eliminating all possible connexion of fairy-land with Christmas trees, tinsel, and Santa Claus, and carrying out the imagination safely back to the middle ages. \\n\\n~ Poetical Works of John Keats, ed. H. Buxton Forman, Crowell publ. 1895.     '}, {'Unnamed: 0': 3, 'Title': 'A Song About Myself', 'Poem': 'there was naughty boy naughty boy was he he would not stop at home he could not quiet be he took in his knapsack book full of vowels and shirt with some towels slight cap for night cap hair brush comb ditto new stockings for old ones would split this knapsack tight at back he rivetted close and followed his nose to the north to the north and follow his nose to the north ii there was naughty boy and naughty boy was he for nothing would he do but scribble poetry he took an ink stand in his hand and pen big as ten in the other and away in pother he ran to the mountains and fountains and ghostes and postes and witches and ditches and wrote in his coat when the weather was cool fear of gout and without when the weather was warm och the charm when we choose to follow one nose to the north to the north to follow one nose to the north iii there was naughty boy and naughty boy was he he kept little fishes in washing tubs three in spite of the might of the maid nor afraid of his granny good he often would hurly burly get up early and go by hook or crook to the brook and bring home miller thumb tittlebat not over fat minnows small as the stall of glove not above the size of nice little baby little fingers he made it was his trade of fish pretty kettle kettle kettle of fish pretty kettle kettle iv there was naughty boy and naughty boy was he he ran away to scotland the people for to see there he found that the ground was as hard that yard was as long that song was as merry that cherry was as red that lead was as weighty that fourscore was as eighty that door was as wooden as in england so he stood in his shoes and he wonder he wonder he stood in his shoes and he wonder in letter to his sister keats makes fresh start with since scribbled the song we have walked through beautiful country to kirkcudbright at which place will write you song about myself he then proceeds with the very curious piece of doggerel now first given from the manuscript and excuses himself on the plea of fatigue my chief purpose in including these verses here is that students may note the variety of the pieces of this class addressed to different correspondents compare this with the devon pieces sent to haydon and more particularly with the gadfly sent to tom keats little later than this presume this piece should be dated the 3rd of july 1818 stanza this is genuine autobiographic reminiscence of the time when the young keatses lived with their grandmother after the death of their parents stanza there is an under current of dissatisfaction with things caledonian in this fourth stanza and indeed do not think keats ever got entirely rid of this during the whole of the tour albeit he enjoyed many transient visitations of true enthusiasm inspired both by fine scenery and by associations poetical works of john keats ed buxton forman crowell publ 1895', 'Poem_for_Human': 'I.\\nThere was a naughty boy,\\n\\xa0 A naughty boy was he,\\nHe would not stop at home,\\n\\xa0 He could not quiet be-\\n\\xa0 \\xa0 He took\\n\\xa0 \\xa0 In his knapsack\\n\\xa0 \\xa0 A book\\n\\xa0 \\xa0 Full of vowels\\n\\xa0 \\xa0 And a shirt\\n\\xa0 \\xa0 With some towels,\\n\\xa0 \\xa0 A slight cap\\n\\xa0 \\xa0 For night cap,\\n\\xa0 \\xa0 A hair brush,\\n\\xa0 \\xa0 Comb ditto,\\n\\xa0 \\xa0 New stockings\\n\\xa0 \\xa0 For old ones\\n\\xa0 \\xa0 Would split O!\\n\\xa0 \\xa0 This knapsack\\n\\xa0 \\xa0 Tight at\\'s back\\n\\xa0 \\xa0 He rivetted close\\n\\xa0 And followed his nose\\n\\xa0 \\xa0 To the north,\\n\\xa0 \\xa0 To the north,\\n\\xa0 And follow\\'d his nose\\n\\xa0 \\xa0 To the north.\\n\\nII.\\nThere was a naughty boy\\n\\xa0 And a naughty boy was he,\\nFor nothing would he do\\n\\xa0 But scribble poetry-\\n\\xa0 \\xa0 He took\\n\\xa0 \\xa0 An ink stand\\n\\xa0 \\xa0 In his hand\\n\\xa0 \\xa0 And a pen\\n\\xa0 \\xa0 Big as ten\\n\\xa0 \\xa0 In the other,\\n\\xa0 \\xa0 And away\\n\\xa0 \\xa0 In a pother\\n\\xa0 \\xa0 He ran\\n\\xa0 \\xa0 To the mountains\\n\\xa0 \\xa0 And fountains\\n\\xa0 \\xa0 And ghostes\\n\\xa0 \\xa0 And postes\\n\\xa0 \\xa0 And witches\\n\\xa0 \\xa0 And ditches\\n\\xa0 \\xa0 And wrote\\n\\xa0 \\xa0 In his coat\\n\\xa0 \\xa0 When the weather\\n\\xa0 \\xa0 Was cool,\\n\\xa0 \\xa0 Fear of gout,\\n\\xa0 \\xa0 And without\\n\\xa0 \\xa0 When the weather\\n\\xa0 \\xa0 Was warm-\\n\\xa0 \\xa0 Och the charm\\n\\xa0 \\xa0 When we choose\\n\\xa0 To follow one\\'s nose\\n\\xa0 \\xa0 To the north,\\n\\xa0 \\xa0 To the north,\\n\\xa0 To follow one\\'s nose\\n\\xa0 \\xa0 To the north!\\n\\nIII.\\nThere was a naughty boy\\n\\xa0 And a naughty boy was he,\\nHe kept little fishes\\n\\xa0 In washing tubs three\\n\\xa0 \\xa0 In spite\\n\\xa0 \\xa0 Of the might\\n\\xa0 \\xa0 Of the maid\\n\\xa0 \\xa0 Nor afraid\\n\\xa0 \\xa0 Of his Granny-good-\\n\\xa0 \\xa0 He often would\\n\\xa0 \\xa0 Hurly burly\\n\\xa0 \\xa0 Get up early\\n\\xa0 \\xa0 And go\\n\\xa0 \\xa0 By hook or crook\\n\\xa0 \\xa0 To the brook\\n\\xa0 \\xa0 And bring home\\n\\xa0 \\xa0 Miller\\'s thumb,\\n\\xa0 \\xa0 Tittlebat\\n\\xa0 \\xa0 Not over fat,\\n\\xa0 \\xa0 Minnows small\\n\\xa0 \\xa0 As the stall\\n\\xa0 \\xa0 Of a glove,\\n\\xa0 \\xa0 Not above\\n\\xa0 \\xa0 The size\\n\\xa0 \\xa0 Of a nice\\n\\xa0 \\xa0 Little baby\\'s\\n\\xa0 \\xa0 Little fingers-\\n\\xa0 \\xa0 O he made\\n\\xa0 \\xa0 \\'Twas his trade\\n\\xa0 Of fish a pretty kettle\\n\\xa0 \\xa0 A kettle-\\n\\xa0 \\xa0 A kettle\\n\\xa0 Of fish a pretty kettle\\n\\xa0 \\xa0 A kettle!\\n\\nIV.\\nThere was a naughty boy,\\n\\xa0 And a naughty boy was he,\\nHe ran away to Scotland\\n\\xa0 The people for to see-\\n\\xa0 \\xa0 There he found\\n\\xa0 \\xa0 That the ground\\n\\xa0 \\xa0 Was as hard,\\n\\xa0 \\xa0 That a yard\\n\\xa0 \\xa0 Was as long,\\n\\xa0 \\xa0 That a song\\n\\xa0 \\xa0 Was as merry,\\n\\xa0 \\xa0 That a cherry\\n\\xa0 \\xa0 Was as red,\\n\\xa0 \\xa0 That lead\\n\\xa0 \\xa0 Was as weighty,\\n\\xa0 \\xa0 That fourscore\\n\\xa0 \\xa0 Was as eighty,\\n\\xa0 \\xa0 That a door\\n\\xa0 \\xa0 Was as wooden\\n\\xa0 \\xa0 As in England-\\n\\xa0 So he stood in his shoes\\n\\xa0 \\xa0 And he wonder\\'d,\\n\\xa0 \\xa0 He wonder\\'d,\\n\\xa0 He stood in his\\n\\xa0 \\xa0 Shoes and he wonder\\'d.\\'In a letter to his sister, Keats makes a fresh start with -- \"since I scribbled the Song we have walked through a beautiful Country to Kirkcudbright -- at which place I will write you a song about myself.\"  He then proceeds with the very curious piece of doggerel now first given from the manuscript, and excuses himself on the plea of fatigue.  My chief purpose in including these verses here is that students may note the variety of the pieces of this class addressed to different correspondents. Compare this with the Devon pieces sent to Haydon, and more particularly with The Gadfly, sent to Tom Keats a little later than this. I presume this piece should be dated the 3rd of July 1818.\\n\\n(stanza 2): This is a genuine autobiographic reminiscence of the time when the young Keatses lived with their grandmother after the death of their parents.\\n\\n(stanza 4): There is an under-current of dissatisfaction with things Caledonian in this fourth stanza; and indeed I do not think Keats ever got entirely rid of this during the whole of the tour, albeit he enjoyed many transient visitations of true enthusiasm inspired both by fine scenery and by associations.\\n\\n~ Poetical Works of John Keats, ed. H. Buxton Forman, Crowell publ. 1895.     '}, {'Unnamed: 0': 4, 'Title': 'Ode On A Grecian Urn', 'Poem': 'thou still unravish bride of quietness thou foster child of silence and slow time sylvan historian who canst thus express flowery tale more sweetly than our rhyme what leaf fring legend haunts about thy shape of deities or mortals or of both in tempe or the dales of arcady what men or gods are these what maidens loth what mad pursuit what struggle to escape what pipes and timbrels what wild ecstasy heard melodies are sweet but those unheard are sweeter therefore ye soft pipes play on not to the sensual ear but more endear pipe to the spirit ditties of no tone fair youth beneath the trees thou canst not leave thy song nor ever can those trees be bare bold lover never never canst thou kiss though winning near the goal yet do not grieve she cannot fade though thou hast not thy bliss for ever wilt thou love and she be fair ah happy happy boughs that cannot she would your leaves nor ever bid the spring adieu and happy melodist unwearied for ever piping songs for ever new more happy love more happy happy love for ever warm and still to be enjoy for ever panting and for ever young all breathing human passion far above that leaves heart high sorrowful and cloy burning forehead and parching tongue who are these coming to the sacrifice to what green altar mysterious priest lead st thou that heifer lowing at the skies and all her silken flanks with garlands drest what little town by river or sea shore or mountain built with peaceful citadel is emptied of this folk this pious morn and little town thy streets for evermore will silent be and not soul to tell why thou art desolate can ever return attic shape fair attitude with brede of marble men and maidens overwrought with forest branches and the trodden weed thou silent form dost tease us out of thought as doth eternity cold pastoral when old age shall this generation waste thou shalt remain in midst of other woe than ours friend to man to whom thou say st beauty is truth truth beauty that is all ye know on earth and all ye need to know this ode is mentioned by lord houghton in connexion with the ode to nightingale as belonging to the spring of 1819 and we are informed of both alike that soon after they were composed keats repeated or rather chanted them to mr haydon in the sort of recitative that so well suited his deep grave voice as they strolled together through kilburn meadows leaving an indelible impression on the mind of his surviving friend there is some reason for thinking that the particular urn which inspired this beautiful poem is somewhat weather beaten work in marble still preserved in the garden of holland house and figured in piranesi vasi candelabri stanza beauty is truth truth beauty that is all ye know on earth and all ye need to know this seems to confirm the limitation of the urn moral to the five words indicated in the text beauty is truth truth beauty that is all ye know on earth and all ye need to know seems part of the urn lesson and not as the poet personal comment poetical works of john keats ed buxton forman crowell publ 1895', 'Poem_for_Human': '1.\\nThou still unravish\\'d bride of quietness, \\n\\xa0 \\xa0 \\xa0  Thou foster-child of silence and slow time,\\n\\xa0  Sylvan historian, who canst thus express\\n\\xa0 \\xa0 \\xa0  A flowery tale more sweetly than our rhyme:\\n\\xa0  What leaf-fring\\'d legend haunts about thy shape\\n\\xa0 \\xa0 \\xa0  Of deities or mortals, or of both,\\n\\xa0 \\xa0 \\xa0 \\xa0 \\xa0  In Tempe or the dales of Arcady?\\n\\xa0 \\xa0 \\xa0  What men or gods are these? What maidens loth?\\n\\xa0  What mad pursuit? What struggle to escape?\\n\\xa0 \\xa0 \\xa0 \\xa0 \\xa0  What pipes and timbrels? What wild ecstasy?\\n\\n2.\\n\\xa0  Heard melodies are sweet, but those unheard\\n\\xa0 \\xa0 \\xa0  Are sweeter; therefore, ye soft pipes, play on;\\n\\xa0  Not to the sensual ear, but, more endear\\'d,\\n\\xa0 \\xa0 \\xa0  Pipe to the spirit ditties of no tone:\\n\\xa0  Fair youth, beneath the trees, thou canst not leave\\n\\xa0 \\xa0 \\xa0  Thy song, nor ever can those trees be bare;\\n\\xa0 \\xa0 \\xa0 \\xa0 \\xa0  Bold Lover, never, never canst thou kiss,\\n\\xa0  Though winning near the goal yet, do not grieve;\\n\\xa0 \\xa0 \\xa0  She cannot fade, though thou hast not thy bliss,\\n\\xa0 \\xa0 \\xa0 \\xa0 \\xa0  For ever wilt thou love, and she be fair!\\n\\n3.\\n\\xa0  Ah, happy, happy boughs! that cannot shed\\n\\xa0 \\xa0 \\xa0  Your leaves, nor ever bid the Spring adieu;\\n\\xa0  And, happy melodist, unwearied,\\n\\xa0 \\xa0 \\xa0  For ever piping songs for ever new;\\n\\xa0  More happy love! more happy, happy love!\\n\\xa0 \\xa0 \\xa0  For ever warm and still to be enjoy\\'d,\\n\\xa0 \\xa0 \\xa0 \\xa0 \\xa0  For ever panting, and for ever young;\\n\\xa0  All breathing human passion far above,\\n\\xa0 \\xa0 \\xa0  That leaves a heart high-sorrowful and cloy\\'d,\\n\\xa0 \\xa0 \\xa0 \\xa0 \\xa0  A burning forehead, and a parching tongue.\\n\\n4.\\n\\xa0  Who are these coming to the sacrifice?\\n\\xa0 \\xa0 \\xa0  To what green altar, O mysterious priest,\\n\\xa0  Lead\\'st thou that heifer lowing at the skies,\\n\\xa0 \\xa0 \\xa0  And all her silken flanks with garlands drest?\\n\\xa0  What little town by river or sea shore,\\n\\xa0 \\xa0 \\xa0  Or mountain-built with peaceful citadel,\\n\\xa0 \\xa0 \\xa0 \\xa0 \\xa0  Is emptied of this folk, this pious morn?\\n\\xa0  And, little town, thy streets for evermore\\n\\xa0 \\xa0 \\xa0  Will silent be; and not a soul to tell\\n\\xa0 \\xa0 \\xa0 \\xa0 \\xa0  Why thou art desolate, can e\\'er return.\\n\\n5.\\n\\xa0  O Attic shape! Fair attitude! with brede\\n\\xa0 \\xa0 \\xa0  Of marble men and maidens overwrought,\\n\\xa0  With forest branches and the trodden weed;\\n\\xa0 \\xa0 \\xa0  Thou, silent form, dost tease us out of thought\\n\\xa0  As doth eternity: Cold Pastoral!\\n\\xa0 \\xa0 \\xa0  When old age shall this generation waste,\\n\\xa0 \\xa0 \\xa0 \\xa0 \\xa0  Thou shalt remain, in midst of other woe\\n\\xa0  Than ours, a friend to man, to whom thou say\\'st,\\n\\xa0 \\xa0 \\xa0  \"Beauty is truth, truth beauty,--that is all\\n\\xa0 \\xa0 \\xa0 \\xa0 \\xa0  Ye know on earth, and all ye need to know.\"This Ode is mentioned by Lord Houghton in connexion with the Ode To a Nightingale as belonging to the Spring of 1819; and we are informed of both alike that, soon after they were composed, Keats \"repeated, or rather chanted, them to Mr. Haydon, in the sort of recitative that so well suited his deep grave voice, as they strolled together through Kilburn meadows, leaving an indelible impression on the mind of his surviving friend.\"\\nThere is some reason for thinking that the particular urn which inspired this beautiful poem is a somewhat weather-beaten work in marble still preserved in the garden of Holland House, and figured in Piranesi\\'s Vasi e Candelabri.\\n\\n(stanza 5): \\n\"Beauty is truth, truth beauty,--that is all\\nYe know on earth, and all ye need to know.\"\\nThis seems to confirm the limitation of the Urn\\'s moral to the five words indicated in the text, \"Beauty is truth, truth beauty\"\\n\\n\"-- that is all\\nYe know on earth, and all ye need to know.\"\\n[seems] a part of the Urn\\'s lesson, and not as the poet\\'s personal comment.\\n\\n~ Poetical Works of John Keats, ed. H. Buxton Forman, Crowell publ. 1895.     '}, {'Unnamed: 0': 5, 'Title': 'Meg Merrilies', 'Poem': 'old meg she was gipsy and liv upon the moors her bed it was the brown heath turf and her house was out of doors her apples were swart blackberries her currants pods of broom her wine was dew of the wild white rose her book church yard tomb her brothers were the craggy hills her sisters larchen trees alone with her great family she liv as she did please no breakfast had she many morn no dinner many noon and stead of supper she would stare full hard against the moon but every morn of woodbine fresh she made her garlanding and every night the dark glen yew she wove and she would sing and with her fingers old and brown she plaited mats of rushes and gave them to the cottagers she met among the bushes old meg was brave as margaret queen and tall as amazon an old red blanket cloak she wore chip hat had she on god rest her aged bones somewhere she died full long agone keats and his companion seem to have started from dumfries again on the 2nd of july through galloway all very pleasant and pretty with no fatigue when one is used to it as he writes to his sister adding we are in the midst of meg merrilies country of whom suppose you have heard and giving her forthwith copy of the poem lord houghton says of this stage the pedestrians passed by solway frith through that delightful part of kirkcudbrightshire the scene of guy mannering keats had never read the novel but was much struck with the character of meg merrilies as delineated to him by brown he seemed at once to realise the creation of the novelist and suddenly stopping in the pathway at point where profusion of honeysuckles wild rose and fox glove mingled with the bramble and broom that filled up the spaces between the shattered rocks he cried out without shadow of doubt on that spot has old meg merrilies often boiled her kettle on the 3rd of july he writes to tom from auchtercairn meaning presume auchencairn some six miles east of kirkcudbright we are now in meg merrilies country and have this morning passed through some parts exactly suited to her kirkcudbright county is very beautiful very wild with craggy hills somewhat in the westmoreland fashion we have come down from dumfries to the sea coast part of it the following song you will have from dilke but perhaps you would like it here should judge that the scene given by brown to lord houghton belonged rather to the morning of the 3rd than to the evening of the 2nd and that keats took out his current letter to his sister at auchencairn on pausing there to breakfast and wrote the poem into it when he began fresh letter to tom with it thus besides rough draft there would be three fair copies of the poem one for tom one for fanny and one for mr dilke poetical works of john keats ed buxton forman crowell publ 1895', 'Poem_for_Human': 'Old Meg she was a gipsy;\\r\\n\\xa0 \\xa0 \\xa0 And liv\\'d upon the moors:\\r\\nHer bed it was the brown heath turf,\\r\\n\\xa0 \\xa0 \\xa0 And her house was out of doors.\\r\\nHer apples were swart blackberries,\\r\\n\\xa0 \\xa0 \\xa0 Her currants, pods o\\' broom;\\r\\nHer wine was dew of the wild white rose,\\r\\n\\xa0 \\xa0 \\xa0 Her book a church-yard tomb.\\r\\nHer brothers were the craggy hills,\\r\\n\\xa0 \\xa0 \\xa0 Her sisters larchen trees;\\r\\nAlone with her great family\\r\\n\\xa0 \\xa0 \\xa0 She liv\\'d as she did please.\\r\\nNo breakfast had she many a morn,\\r\\n\\xa0 \\xa0 \\xa0 No dinner many a noon,\\r\\nAnd \\'stead of supper she would stare\\r\\n\\xa0 \\xa0 \\xa0 Full hard against the moon.\\r\\nBut every morn, of woodbine fresh\\r\\n\\xa0 \\xa0 \\xa0 She made her garlanding,\\r\\nAnd every night the dark glen yew\\r\\n\\xa0 \\xa0 \\xa0 She wove, and she would sing.\\r\\nAnd with her fingers old and brown\\r\\n\\xa0 \\xa0 \\xa0 She plaited mats o\\' rushes,\\r\\nAnd gave them to the cottagers\\r\\n\\xa0 \\xa0 \\xa0 She met among the bushes.\\r\\nOld Meg was brave as Margaret Queen,\\r\\n\\xa0 \\xa0 \\xa0 And tall as Amazon:\\r\\nAn old red blanket cloak she wore,\\r\\n\\xa0 \\xa0 \\xa0 A chip hat had she on.\\r\\nGod rest her aged bones somewhere--\\r\\n\\xa0 \\xa0 \\xa0 She died full long agone!\\'Keats and his companion seem to have started from Dumfries again on the 2nd of July, \"through Galloway -- all very pleasant and pretty with no fatigue when one is used to it,\" as he writes to his sister, adding \"We are in the midst of Meg Merrilies\\' country of whom I suppose you have heard,\" and giving her forthwith a copy of the poem. Lord Houghton says of this stage --\\r\\n\"The pedestrians passed by Solway Frith through that delightful part of Kirkcudbrightshire, the scene of \\'Guy Mannering.\\' Keats had never read the novel, but was much struck with the character of Meg Merrilies as delineated to him by Brown. He seemed at once to realise the creation of the novelist, and, suddenly stopping in the pathway, at a point where a profusion of honeysuckles, wild rose, and fox-glove, mingled with the bramble and broom that filled up the spaces between the shattered rocks, he cried out, \\'Without a shadow of a doubt on that spot has old Meg Merrilies often boiled her kettle.\\'\"\\r\\nOn the 3rd of July he writes to Tom from \"Auchtercairn\" (meaning, I presume, Auchencairn, some six miles east of Kirkcudbright) -- \"We are now in Meg Merrilies\\' country, and have, this morning, passed through some parts exactly suited to her. Kirkcudbright County is very beautiful, very wild, with craggy hills, somewhat in the Westmoreland fashion.  We have come down from Dumfries to the sea-coast part of it. The following song you will have from Dilke, but perhaps you would like it here.\"\\r\\nI should judge that the scene given by Brown to Lord Houghton belonged rather to the morning of the 3rd than to the evening of the 2nd; and that Keats took out his current letter to his sister at Auchencairn on pausing there to breakfast, and wrote the poem into it when he began a fresh letter to Tom with it. Thus, besides a rough draft, there would be three fair copies of the poem, one for Tom, one for Fanny, and one for Mr. Dilke.\\'\\r\\n~ Poetical Works of John Keats, ed. H. Buxton Forman, Crowell publ. 1895.     '}, {'Unnamed: 0': 6, 'Title': 'Sonnet XV. On The Grasshopper And Cricket', 'Poem': 'the poetry of earth is never dead when all the birds are faint with the hot sun and hide in cooling trees voice will run from hedge to hedge about the new mown mead that is the grasshopper he takes the lead in summer luxury he has never done with his delights for when tired out with fun he rests at ease beneath some pleasant weed the poetry of earth is ceasing never on lone winter evening when the frost has wrought silence from the stove there shrills the cricket song in warmth increasing ever and seems to one in drowsiness half lost the grasshopper among some grassy hills charles cowden clarke records that this sonnet was written at leigh hunt cottage on challenge from hunt both hunt and keats sonnets appeared together in the examiner for the 21st of september 1817 but keats volume poems had already appeared in june of that year poetical works of john keats ed buxton forman crowell publ 1895', 'Poem_for_Human': \"The poetry of earth is never dead:\\nWhen all the birds are faint with the hot sun,\\nAnd hide in cooling trees, a voice will run\\nFrom hedge to hedge about the new-mown mead;\\nThat is the Grasshopper's -- he takes the lead\\nIn summer luxury, -- he has never done\\nWith his delights; for when tired out with fun\\nHe rests at ease beneath some pleasant weed.\\nThe poetry of earth is ceasing never:\\nOn a lone winter evening, when the frost\\nHas wrought a silence, from the stove there shrills\\nThe Cricket's song, in warmth increasing ever,\\nAnd seems to one in drowsiness half lost,\\nThe Grasshopper's among some grassy hills.'Charles Cowden Clarke records that this sonnet was written at Leigh Hunt's cottage, on a challenge from Hunt.' Both Hunt's and Keats's sonnets 'appeared together in The Examiner for the 21st of September 1817; but Keats's volume [Poems] had already appeared in June of that year.' \\n~ Poetical Works of John Keats, ed. H. Buxton Forman, Crowell publ. 1895.     \"}, {'Unnamed: 0': 7, 'Title': 'Lamia. Part I ', 'Poem': 'upon time before the faery broods drove nymph and satyr from the prosperous woods before king oberon bright diadem sceptre and mantle clasp with dewy gem frighted away the dryads and the fauns from rushes green and brakes and cowslip lawns the ever smitten hermes empty left his golden throne bent warm on amorous theft from high olympus had he stolen light on this side of jove clouds to escape the sight of his great summoner and made retreat into forest on the shores of crete for somewhere in that sacred island dwelt nymph to whom all hoofed satyrs knelt at whose white feet the languid tritons poured pearls while on land they wither’d and adored fast by the springs where she to bathe was will not and in those meads where sometime she might haunt were strewn rich gifts unknown to any muse though fancy’s casket were unlock’d to choose ah what world of love was at her feet so hermes thought and celestial heat burnt from his winged heels to either ear that from whiteness as the lily clear blush’d into roses ’mid his golden hair fallen in jealous curls about his shoulders bare from vale to vale from wood to wood he flew breathing upon the flowers his passion new and wound with many river to its head to find where this sweet nymph prepar’d her secret bed in vain the sweet nymph might nowhere be found and so he rested on the lonely ground pensive and full of painful jealousies of the wood gods and even the very trees there as he stood he heard mournful voice such as once heard in gentle heart destroys all pain but pity thus the lone voice spake “when from this wreathed tomb shall awake “when move in sweet body fit for life “and love and pleasure and the ruddy strife “of hearts and lips ah miserable me the god dove footed glided silently round bush and tree soft brushing in his speed the taller grasses and full flowering weed until he found palpitating snake bright and cirque couchant in dusky brake she was gordian shape of dazzling hue vermilion spotted golden green and blue striped like zebra freckled like pard eyed like peacock and all crimson barr’d and full of silver moons that as she breathed dissolv’d or brighter shone or interwreathed their lustres with the gloomier tapestries— so rainbow sided touch’d with miseries she seem’d at once some penanced lady elf some demon’s mistress or the demon’s self upon her crest she wore wannish fire sprinkled with stars like ariadne’s tiar her head was serpent but ah bitter sweet she had woman’s mouth with all its pearls complete and for her eyes what could such eyes do there but weep and weep that they were born so fair as proserpine still weeps for her sicilian air her throat was serpent but the words she spake came as through bubbling honey for love’s sake and thus while hermes on his pinions lay like stoop’d falcon ere he takes his prey “fair hermes crown’d with feathers fluttering light “i had splendid dream of thee last night “i saw thee sitting on throne of gold “among the gods upon olympus old “the only sad one for thou didst not hear “the soft lute finger’d muses chaunting clear “nor even apollo when he sang alone “deaf to his throbbing throat’s long long melodious moan “i dreamt saw thee robed in purple flakes “break amorous through the clouds as morning breaks “and swiftly as bright phoebean dart “strike for the cretan isle and here thou art “too gentle hermes hast thou found the maid whereat the star of lethe not delay’d his rosy eloquence and thus inquired “thou smooth lipp’d serpent surely high inspired “thou beauteous wreath with melancholy eyes “possess whatever bliss thou canst devise “telling me only where my nymph is fled “where she doth breathe “bright planet thou hast said return’d the snake “but seal with oaths fair god “i swear said hermes “by my serpent rod “and by thine eyes and by thy starry crown light flew his earnest words among the blossoms blown then thus again the brilliance feminine “too frail of heart for this lost nymph of thine “free as the air invisibly she strays “about these thornless wilds her pleasant days “she tastes unseen unseen her nimble feet “leave traces in the grass and flowers sweet “from weary tendrils and bow’d branches green “she plucks the fruit unseen she bathes unseen “and by my power is her beauty veil’d “to keep it unaffronted unassail’d “by the love glances of unlovely eyes “of satyrs fauns and blear’d silenus’ sighs “pale grew her immortality for woe “of all these lovers and she grieved so “i took compassion on her bade her steep “her hair in weird syrops that would keep “her loveliness invisible yet free “to wander as she loves in liberty “thou shalt behold her hermes thou alone “if thou wilt as thou swearest grant my boon then once again the charmed god began an oath and through the serpent’s ears it ran warm tremulous devout psalterian ravish’d she lifted her circean head blush’d live damask and swift lisping said “i was woman let me have once more “a woman’s shape and charming as before “i love youth of corinth—o the bliss “give me my woman’s form and place me where he is “stoop hermes let me breathe upon thy brow “and thou shalt see thy sweet nymph even now the god on half shut feathers sank serene she breath’d upon his eyes and swift was seen of both the guarded nymph near smiling on the green it was no dream or say dream it was real are the dreams of gods and smoothly pass their pleasures in long immortal dream one warm flush’d moment hovering it might seem dash’d by the wood nymph’s beauty so he burn’d then lighting on the printless verdure turn’d to the swoon’d serpent and with languid arm delicate put to proof the lythe caducean charm so done upon the nymph his eyes he bent full of adoring tears and blandishment and towards her stept she like moon in wane faded before him cower’d nor could restrain her fearful sobs self folding like flower that faints into itself at evening hour but the god fostering her chilled hand she felt the warmth her eyelids open’d bland and like new flowers at morning song of bees bloom’d and gave up her honey to the lees into the green recessed woods they flew nor grew they pale as mortal lovers do left to herself the serpent now began to change her elfin blood in madness ran her mouth foam’d and the grass therewith besprent wither’d at dew so sweet and virulent her eyes in torture fix’d and anguish drear hot glaz’d and wide with lid lashes all sear flash’d phosphor and sharp sparks without one cooling tear the colours all inflam’d throughout her train she writh’d about convuls’d with scarlet pain deep volcanian yellow took the place of all her milder mooned body’s grace and as the lava ravishes the mead spoilt all her silver mail and golden brede made gloom of all her frecklings streaks and bars eclips’d her crescents and lick’d up her stars so that in moments few she was undrest of all her sapphires greens and amethyst and rubious argent of all these bereft nothing but pain and ugliness were left still shone her crown that vanish’d also she melted and disappear’d as suddenly and in the air her new voice luting soft cried “lycius gentle lycius ”—borne aloft with the bright mists about the mountains hoar these words dissolv’d crete’s forests heard no more whither fled lamia now lady bright full born beauty new and exquisite she fled into that valley they pass over who go to corinth from cenchreas’ shore and rested at the foot of those wild hills the rugged founts of the peraean rills and of that other ridge whose barren back stretches with all its mist and cloudy rack south westward to cleone there she stood about young bird’s flutter from wood fair on sloping green of mossy tread by clear pool wherein she passioned to see herself escap’d from so sore ills while her robes flaunted with the daffodils ah happy lycius —for she was maid more beautiful than ever twisted braid or sigh’d or blush’d or on spring flowered lea spread green kirtle to the minstrelsy virgin purest lipp’d yet in the lore of love deep learned to the red heart’s core not one hour old yet of sciential brain to unperplex bliss from its neighbour pain define their pettish limits and estrange their points of contact and swift counterchange intrigue with the specious chaos and dispart its most ambiguous atoms with sure art as though in cupid’s college she had spent sweet days lovely graduate still unshent and kept his rosy terms in idle languishment why this fair creature chose so fairily by the wayside to linger we shall see but first it is fit to tell how she could muse and dream when in the serpent prison house of all she list strange or magnificent how ever where she will’d her spirit went whether to faint elysium or where down through tress lifting waves the nereids fair wind into thetis’ bower by many pearly stair or where god bacchus drains his cups divine stretch’d out at ease beneath glutinous pine or where in pluto’s gardens palatine mulciber’s columns gleam in far piazzian line and sometimes into cities she would send her dream with feast and rioting to blend and once while among mortals dreaming thus she saw the young corinthian lycius charioting foremost in the envious race like young jove with calm uneager face and fell into swooning love of him now on the moth time of that evening dim he would return that way as well she knew to corinth from the shore for freshly blew the eastern soft wind and his galley now grated the quaystones with her brazen prow in port cenchreas from egina isle fresh anchor’d whither he had been awhile to sacrifice to jove whose temple there waits with high marble doors for blood and incense rare jove heard his vows and better’d his desire for by some freakful chance he made retire from his companions and set forth to walk perhaps grown wearied of their corinth talk over the solitary hills he fared thoughtless at first but ere eve’s star appeared his phantasy was lost where reason fades in the calm’d twilight of platonic shades lamia beheld him coming near more near— close to her passing in indifference drear his silent sandals swept the mossy green so neighbour’d to him and yet so unseen she stood he pass’d shut up in mysteries his mind wrapp’d like his mantle while her eyes follow’d his steps and her neck regal white turn’d—syllabling thus “ah lycius bright “and will you leave me on the hills alone “lycius look back and be some pity shown he did not with cold wonder fearingly but orpheus like at an eurydice for so delicious were the words she sung it seem’d he had lov’d them whole summer long and soon his eyes had drunk her beauty up leaving no drop in the bewildering cup and still the cup was full —while he afraid lest she should vanish ere his lip had paid due adoration thus began to adore her soft look growing coy she saw his chain so sure “leave thee alone look back ah goddess see “whether my eyes can ever turn from thee “for pity do not this sad heart belie— “even as thou vanishest so shall die “stay though naiad of the rivers stay “to thy far wishes will thy streams obey “stay though the greenest woods be thy domain “alone they can drink up the morning rain “though descended pleiad will not one “of thine harmonious sisters keep in tune “thy spheres and as thy silver proxy shine “so sweetly to these ravish’d ears of mine “came thy sweet greeting that if thou shouldst fade “thy memory will waste me to shade “for pity do not melt ”—“if should stay said lamia “here upon this floor of clay “and pain my steps upon these flowers too rough “what canst thou say or do of charm enough “to dull the nice remembrance of my home “thou canst not ask me with thee here to roam “over these hills and vales where no joy is “empty of immortality and bliss “thou art scholar lycius and must know “that finer spirits cannot breathe below “in human climes and live alas poor youth “what taste of purer air hast thou to soothe “my essence what serener palaces “where may all my many senses please “and by mysterious sleights hundred thirsts appease “it cannot be—adieu so said she rose tiptoe with white arms spread he sick to lose the amorous promise of her lone complain swoon’d murmuring of love and pale with pain the cruel lady without any show of sorrow for her tender favourite’s woe but rather if her eyes could brighter be with brighter eyes and slow amenity put her new lips to his and gave afresh the life she had so tangled in her mesh and as he from one trance was wakening into another she began to sing happy in beauty life and love and every thing song of love too sweet for earthly lyres while like held breath the stars drew in their panting fires and then she whisper’d in such trembling tone as those who safe together met alone for the first time through many anguish’d days use other speech than looks bidding him raise his drooping head and clear his soul of doubt for that she was woman and without any more subtle fluid in her veins than throbbing blood and that the self same pains inhabited her frail strung heart as his and next she wonder’d how his eyes could miss her face so long in corinth where she said she dwelt but half retir’d and there had led days happy as the gold coin could invent without the aid of love yet in content till she saw him as once she pass’d him by where ’gainst column he leant thoughtfully at venus’ temple porch ’mid baskets heap’d of amorous herbs and flowers newly reap’d late on that eve as it was the night before the adonian feast whereof she saw no more but wept alone those days for why should she adore lycius from death awoke into amaze to see her still and singing so sweet lays then from amaze into delight he fell to hear her whisper woman’s lore so well and every word she spake entic’d him on to unperplex’d delight and pleasure known let the mad poets say whate’er they please of the sweets of fairies peris goddesses there is not such treat among them all haunters of cavern lake and waterfall as real woman lineal indeed from pyrrha’s pebbles or old adam’s seed thus gentle lamia judg’d and judg’d aright that lycius could not love in half fright so threw the goddess off and won his heart more pleasantly by playing woman’s part with no more awe than what her beauty gave that while it smote still guaranteed to save lycius to all made eloquent reply marrying to every word twinborn sigh and last pointing to corinth ask’d her sweet if it was too far that night for her soft feet the way was short for lamia’s eagerness made by spell the triple league decrease to few paces not at all surmised by blinded lycius so in her comprized they pass’d the city gates he knew not how so noiseless and he never thought to know as men talk in dream so corinth all throughout her palaces imperial and all her populous streets and temples lewd mutter’d like tempest in the distance brew’d to the wide spreaded night above her towers men women rich and poor in the cool hours shuffled their sandals over the pavement white companion’d or alone while many light flared here and there from wealthy festivals and threw their moving shadows on the walls or found them cluster’d in the corniced shade of some arch’d temple door or dusky colonnade muffling his face of greeting friends in fear her fingers he press’d hard as one came near with curl’d gray beard sharp eyes and smooth bald crown slow stepp’d and robed in philosophic gown lycius shrank closer as they met and past into his mantle adding wings to haste while hurried lamia trembled “ah said he “why do you shudder love so ruefully “why does your tender palm dissolve in dew ”— “i am wearied said fair lamia “tell me who “is that old man cannot bring to mind “his features —lycius wherefore did you blind “yourself from his quick eyes lycius replied “it is apollonius sage my trusty guide “and good instructor but to night he seems “the ghost of folly haunting my sweet dreams while yet he spake they had arrived before pillar porch with lofty portal door where hung silver lamp whose phosphor glow reflected in the slabbed steps below mild as star in water for so new and so unsullied was the marble hue so through the crystal polish liquid fine ran the dark veins that none but feet divine could ever have touch there sounds aeolian breath from the hinges as the ample span of the wide doors disclos place unknown some time to any but those two alone and few persian mutes who that same year were seen about the markets none knew where they could inhabit the most curious were foil who watch to trace them to their house and but the flitter winged verse must tell for truth sake what woe afterwards befel twould humour many heart to leave them thus shut from the busy world of more incredulous line 48 originally cerulean spotted leigh hunt says of this passage the admiration pity and horror to be excited by humanity in brute shape were never perhaps called upon by greater mixture of beauty and deformity than in the picture of this creature our pity and suspicions are begged by the first word the profuse and vital beauties with which she is covered seem proportioned to her misery and natural rights and lest we should lose sight of them in this gorgeousness the woman mouth fills us at once with shuddering and compassion line 158 the manuscript reads vulcanian the first edition volcanian it seems to me more likely that the manuscript accords with the poet intention than that printed text does for this old orthography is the more characteristic of the vocabulary of this particular poem as introducing the more conspicuously the mythic personal origin of the common noun volcano or vulcano poetical works of john keats ed buxton forman crowell publ 1895', 'Poem_for_Human': 'Upon a time, before the faery broods \\nDrove Nymph and Satyr from the prosperous woods, \\nBefore King Oberon\\'s bright diadem, \\nSceptre, and mantle, clasp\\'d with dewy gem, \\nFrighted away the Dryads and the Fauns\\xa0  \\nFrom rushes green, and brakes, and cowslip\\'d lawns, \\nThe ever-smitten Hermes empty left \\nHis golden throne, bent warm on amorous theft: \\nFrom high Olympus had he stolen light, \\nOn this side of Jove\\'s clouds, to escape the sight\\xa0 \\nOf his great summoner, and made retreat \\nInto a forest on the shores of Crete. \\nFor somewhere in that sacred island dwelt \\nA nymph, to whom all hoofed Satyrs knelt; \\nAt whose white feet the languid Tritons poured\\xa0 \\nPearls, while on land they wither’d and adored. \\nFast by the springs where she to bathe was wont, \\nAnd in those meads where sometime she might haunt, \\nWere strewn rich gifts, unknown to any Muse, \\nThough Fancy’s casket were unlock’d to choose.\\xa0 \\nAh, what a world of love was at her feet! \\nSo Hermes thought, and a celestial heat \\nBurnt from his winged heels to either ear, \\nThat from a whiteness, as the lily clear, \\nBlush’d into roses ’mid his golden hair,\\xa0 \\nFallen in jealous curls about his shoulders bare. \\nFrom vale to vale, from wood to wood, he flew, \\nBreathing upon the flowers his passion new, \\nAnd wound with many a river to its head, \\nTo find where this sweet nymph prepar’d her secret bed:\\xa0 \\nIn vain; the sweet nymph might nowhere be found, \\nAnd so he rested, on the lonely ground, \\nPensive, and full of painful jealousies \\nOf the Wood-Gods, and even the very trees. \\nThere as he stood, he heard a mournful voice,\\xa0 \\nSuch as once heard, in gentle heart, destroys \\nAll pain but pity: thus the lone voice spake: \\n“When from this wreathed tomb shall I awake! \\n“When move in a sweet body fit for life, \\n“And love, and pleasure, and the ruddy strife\\xa0 \\n“Of hearts and lips! Ah, miserable me!” \\nThe God, dove-footed, glided silently \\nRound bush and tree, soft-brushing, in his speed, \\nThe taller grasses and full-flowering weed, \\nUntil he found a palpitating snake,\\xa0 \\nBright, and cirque-couchant in a dusky brake. \\n\\xa0 \\n\\xa0 She was a gordian shape of dazzling hue, \\nVermilion-spotted, golden, green, and blue; \\nStriped like a zebra, freckled like a pard, \\nEyed like a peacock, and all crimson barr’d;\\xa0 \\nAnd full of silver moons, that, as she breathed, \\nDissolv’d, or brighter shone, or interwreathed \\nTheir lustres with the gloomier tapestries— \\nSo rainbow-sided, touch’d with miseries, \\nShe seem’d, at once, some penanced lady elf,\\xa0 \\nSome demon’s mistress, or the demon’s self. \\nUpon her crest she wore a wannish fire \\nSprinkled with stars, like Ariadne’s tiar: \\nHer head was serpent, but ah, bitter-sweet! \\nShe had a woman’s mouth with all its pearls complete:\\xa0 \\nAnd for her eyes: what could such eyes do there \\nBut weep, and weep, that they were born so fair? \\nAs Proserpine still weeps for her Sicilian air. \\nHer throat was serpent, but the words she spake \\nCame, as through bubbling honey, for Love’s sake,\\xa0 \\nAnd thus; while Hermes on his pinions lay, \\nLike a stoop’d falcon ere he takes his prey. \\n\\xa0 \\n\\xa0 “Fair Hermes, crown’d with feathers, fluttering light, \\n“I had a splendid dream of thee last night: \\n“I saw thee sitting, on a throne of gold,\\xa0 \\n“Among the Gods, upon Olympus old, \\n“The only sad one; for thou didst not hear \\n“The soft, lute-finger’d Muses chaunting clear, \\n“Nor even Apollo when he sang alone, \\n“Deaf to his throbbing throat’s long, long melodious moan.\\xa0 \\n“I dreamt I saw thee, robed in purple flakes, \\n“Break amorous through the clouds, as morning breaks, \\n“And, swiftly as a bright Phoebean dart, \\n“Strike for the Cretan isle; and here thou art! \\n“Too gentle Hermes, hast thou found the maid?”\\xa0 \\nWhereat the star of Lethe not delay’d \\nHis rosy eloquence, and thus inquired: \\n“Thou smooth-lipp’d serpent, surely high inspired! \\n“Thou beauteous wreath, with melancholy eyes, \\n“Possess whatever bliss thou canst devise,\\xa0 \\n“Telling me only where my nymph is fled,— \\n“Where she doth breathe!” “Bright planet, thou hast said,” \\nReturn’d the snake, “but seal with oaths, fair God!” \\n“I swear,” said Hermes, “by my serpent rod, \\n“And by thine eyes, and by thy starry crown!”\\xa0 \\nLight flew his earnest words, among the blossoms blown. \\nThen thus again the brilliance feminine: \\n“Too frail of heart! for this lost nymph of thine, \\n“Free as the air, invisibly, she strays \\n“About these thornless wilds; her pleasant days\\xa0 \\n“She tastes unseen; unseen her nimble feet \\n“Leave traces in the grass and flowers sweet; \\n“From weary tendrils, and bow’d branches green, \\n“She plucks the fruit unseen, she bathes unseen: \\n“And by my power is her beauty veil’d \\n“To keep it unaffronted, unassail’d \\n“By the love-glances of unlovely eyes, \\n“Of Satyrs, Fauns, and blear’d Silenus’ sighs. \\n“Pale grew her immortality, for woe \\n“Of all these lovers, and she grieved so \\n“I took compassion on her, bade her steep \\n“Her hair in weird syrops, that would keep \\n“Her loveliness invisible, yet free \\n“To wander as she loves, in liberty. \\n“Thou shalt behold her, Hermes, thou alone, \\n“If thou wilt, as thou swearest, grant my boon!” \\nThen, once again, the charmed God began \\nAn oath, and through the serpent’s ears it ran \\nWarm, tremulous, devout, psalterian. \\nRavish’d, she lifted her Circean head, \\nBlush’d a live damask, and swift-lisping said, \\n“I was a woman, let me have once more \\n“A woman’s shape, and charming as before. \\n“I love a youth of Corinth—O the bliss! \\n“Give me my woman’s form, and place me where he is. \\n“Stoop, Hermes, let me breathe upon thy brow, \\n“And thou shalt see thy sweet nymph even now.” \\nThe God on half-shut feathers sank serene, \\nShe breath’d upon his eyes, and swift was seen \\nOf both the guarded nymph near-smiling on the green. \\nIt was no dream; or say a dream it was, \\nReal are the dreams of Gods, and smoothly pass \\nTheir pleasures in a long immortal dream. \\nOne warm, flush’d moment, hovering, it might seem \\nDash’d by the wood-nymph’s beauty, so he burn’d; \\nThen, lighting on the printless verdure, turn’d \\nTo the swoon’d serpent, and with languid arm, \\nDelicate, put to proof the lythe Caducean charm. \\nSo done, upon the nymph his eyes he bent, \\nFull of adoring tears and blandishment, \\nAnd towards her stept: she, like a moon in wane, \\nFaded before him, cower’d, nor could restrain \\nHer fearful sobs, self-folding like a flower \\nThat faints into itself at evening hour: \\nBut the God fostering her chilled hand, \\nShe felt the warmth, her eyelids open’d bland, \\nAnd, like new flowers at morning song of bees, \\nBloom’d, and gave up her honey to the lees. \\nInto the green-recessed woods they flew; \\nNor grew they pale, as mortal lovers do. \\n\\xa0 \\n\\xa0 Left to herself, the serpent now began \\nTo change; her elfin blood in madness ran, \\nHer mouth foam’d, and the grass, therewith besprent, \\nWither’d at dew so sweet and virulent; \\nHer eyes in torture fix’d, and anguish drear, \\nHot, glaz’d, and wide, with lid-lashes all sear, \\nFlash’d phosphor and sharp sparks, without one cooling tear. \\nThe colours all inflam’d throughout her train, \\nShe writh’d about, convuls’d with scarlet pain: \\nA deep volcanian yellow took the place \\nOf all her milder-mooned body’s grace; \\nAnd, as the lava ravishes the mead, \\nSpoilt all her silver mail, and golden brede; \\nMade gloom of all her frecklings, streaks and bars, \\nEclips’d her crescents, and lick’d up her stars: \\nSo that, in moments few, she was undrest \\nOf all her sapphires, greens, and amethyst, \\nAnd rubious-argent: of all these bereft, \\nNothing but pain and ugliness were left. \\nStill shone her crown; that vanish’d, also she \\nMelted and disappear’d as suddenly; \\nAnd in the air, her new voice luting soft, \\nCried, “Lycius! gentle Lycius!”—Borne aloft \\nWith the bright mists about the mountains hoar \\nThese words dissolv’d: Crete’s forests heard no more. \\n\\xa0 \\n\\xa0 Whither fled Lamia, now a lady bright, \\nA full-born beauty new and exquisite? \\nShe fled into that valley they pass o’er \\nWho go to Corinth from Cenchreas’ shore; \\nAnd rested at the foot of those wild hills, \\nThe rugged founts of the Peraean rills, \\nAnd of that other ridge whose barren back \\nStretches, with all its mist and cloudy rack, \\nSouth-westward to Cleone. There she stood \\nAbout a young bird’s flutter from a wood, \\nFair, on a sloping green of mossy tread, \\nBy a clear pool, wherein she passioned \\nTo see herself escap’d from so sore ills, \\nWhile her robes flaunted with the daffodils. \\n\\xa0 \\n\\xa0 Ah, happy Lycius!—for she was a maid \\nMore beautiful than ever twisted braid, \\nOr sigh’d, or blush’d, or on spring-flowered lea \\nSpread a green kirtle to the minstrelsy: \\nA virgin purest lipp’d, yet in the lore \\nOf love deep learned to the red heart’s core: \\nNot one hour old, yet of sciential brain \\nTo unperplex bliss from its neighbour pain; \\nDefine their pettish limits, and estrange \\nTheir points of contact, and swift counterchange; \\nIntrigue with the specious chaos, and dispart \\nIts most ambiguous atoms with sure art; \\nAs though in Cupid’s college she had spent \\nSweet days a lovely graduate, still unshent, \\nAnd kept his rosy terms in idle languishment. \\n\\xa0 \\n\\xa0 Why this fair creature chose so fairily \\nBy the wayside to linger, we shall see; \\nBut first ’tis fit to tell how she could muse \\nAnd dream, when in the serpent prison-house, \\nOf all she list, strange or magnificent: \\nHow, ever, where she will’d, her spirit went; \\nWhether to faint Elysium, or where \\nDown through tress-lifting waves the Nereids fair \\nWind into Thetis’ bower by many a pearly stair; \\nOr where God Bacchus drains his cups divine, \\nStretch’d out, at ease, beneath a glutinous pine; \\nOr where in Pluto’s gardens palatine \\nMulciber’s columns gleam in far piazzian line. \\nAnd sometimes into cities she would send \\nHer dream, with feast and rioting to blend; \\nAnd once, while among mortals dreaming thus, \\nShe saw the young Corinthian Lycius \\nCharioting foremost in the envious race, \\nLike a young Jove with calm uneager face, \\nAnd fell into a swooning love of him. \\nNow on the moth-time of that evening dim \\nHe would return that way, as well she knew, \\nTo Corinth from the shore; for freshly blew \\nThe eastern soft wind, and his galley now \\nGrated the quaystones with her brazen prow \\nIn port Cenchreas, from Egina isle \\nFresh anchor’d; whither he had been awhile \\nTo sacrifice to Jove, whose temple there \\nWaits with high marble doors for blood and incense rare. \\nJove heard his vows, and better’d his desire; \\nFor by some freakful chance he made retire \\nFrom his companions, and set forth to walk, \\nPerhaps grown wearied of their Corinth talk: \\nOver the solitary hills he fared, \\nThoughtless at first, but ere eve’s star appeared \\nHis phantasy was lost, where reason fades, \\nIn the calm’d twilight of Platonic shades. \\nLamia beheld him coming, near, more near— \\nClose to her passing, in indifference drear, \\nHis silent sandals swept the mossy green; \\nSo neighbour’d to him, and yet so unseen \\nShe stood: he pass’d, shut up in mysteries, \\nHis mind wrapp’d like his mantle, while her eyes \\nFollow’d his steps, and her neck regal white \\nTurn’d—syllabling thus, “Ah, Lycius bright, \\n“And will you leave me on the hills alone? \\n“Lycius, look back! and be some pity shown.” \\nHe did; not with cold wonder fearingly, \\nBut Orpheus-like at an Eurydice; \\nFor so delicious were the words she sung, \\nIt seem’d he had lov’d them a whole summer long: \\nAnd soon his eyes had drunk her beauty up, \\nLeaving no drop in the bewildering cup, \\nAnd still the cup was full,—while he afraid \\nLest she should vanish ere his lip had paid \\nDue adoration, thus began to adore; \\nHer soft look growing coy, she saw his chain so sure: \\n“Leave thee alone! Look back! Ah, Goddess, see \\n“Whether my eyes can ever turn from thee! \\n“For pity do not this sad heart belie— \\n“Even as thou vanishest so I shall die. \\n“Stay! though a Naiad of the rivers, stay! \\n“To thy far wishes will thy streams obey: \\n“Stay! though the greenest woods be thy domain, \\n“Alone they can drink up the morning rain: \\n“Though a descended Pleiad, will not one \\n“Of thine harmonious sisters keep in tune \\n“Thy spheres, and as thy silver proxy shine? \\n“So sweetly to these ravish’d ears of mine \\n“Came thy sweet greeting, that if thou shouldst fade \\n“Thy memory will waste me to a shade:— \\n“For pity do not melt!”—“If I should stay,” \\nSaid Lamia, “here, upon this floor of clay, \\n“And pain my steps upon these flowers too rough, \\n“What canst thou say or do of charm enough \\n“To dull the nice remembrance of my home? \\n“Thou canst not ask me with thee here to roam \\n“Over these hills and vales, where no joy is,— \\n“Empty of immortality and bliss! \\n“Thou art a scholar, Lycius, and must know \\n“That finer spirits cannot breathe below \\n“In human climes, and live: Alas! poor youth, \\n“What taste of purer air hast thou to soothe \\n“My essence? What serener palaces, \\n“Where I may all my many senses please, \\n“And by mysterious sleights a hundred thirsts appease? \\n“It cannot be—Adieu!” So said, she rose \\nTiptoe with white arms spread. He, sick to lose \\nThe amorous promise of her lone complain, \\nSwoon’d, murmuring of love, and pale with pain. \\nThe cruel lady, without any show \\nOf sorrow for her tender favourite’s woe, \\nBut rather, if her eyes could brighter be, \\nWith brighter eyes and slow amenity, \\nPut her new lips to his, and gave afresh \\nThe life she had so tangled in her mesh: \\nAnd as he from one trance was wakening \\nInto another, she began to sing, \\nHappy in beauty, life, and love, and every thing, \\nA song of love, too sweet for earthly lyres, \\nWhile, like held breath, the stars drew in their panting fires \\nAnd then she whisper’d in such trembling tone, \\nAs those who, safe together met alone \\nFor the first time through many anguish’d days, \\nUse other speech than looks; bidding him raise \\nHis drooping head, and clear his soul of doubt, \\nFor that she was a woman, and without \\nAny more subtle fluid in her veins \\nThan throbbing blood, and that the self-same pains \\nInhabited her frail-strung heart as his. \\nAnd next she wonder’d how his eyes could miss \\nHer face so long in Corinth, where, she said, \\nShe dwelt but half retir’d, and there had led \\nDays happy as the gold coin could invent \\nWithout the aid of love; yet in content \\nTill she saw him, as once she pass’d him by, \\nWhere ’gainst a column he leant thoughtfully \\nAt Venus’ temple porch, ’mid baskets heap’d \\nOf amorous herbs and flowers, newly reap’d \\nLate on that eve, as ’twas the night before \\nThe Adonian feast; whereof she saw no more, \\nBut wept alone those days, for why should she adore? \\nLycius from death awoke into amaze, \\nTo see her still, and singing so sweet lays; \\nThen from amaze into delight he fell \\nTo hear her whisper woman’s lore so well; \\nAnd every word she spake entic’d him on \\nTo unperplex’d delight and pleasure known. \\nLet the mad poets say whate’er they please \\nOf the sweets of Fairies, Peris, Goddesses, \\nThere is not such a treat among them all, \\nHaunters of cavern, lake, and waterfall, \\nAs a real woman, lineal indeed \\nFrom Pyrrha’s pebbles or old Adam’s seed. \\nThus gentle Lamia judg’d, and judg’d aright, \\nThat Lycius could not love in half a fright, \\nSo threw the goddess off, and won his heart \\nMore pleasantly by playing woman’s part, \\nWith no more awe than what her beauty gave, \\nThat, while it smote, still guaranteed to save. \\nLycius to all made eloquent reply, \\nMarrying to every word a twinborn sigh; \\nAnd last, pointing to Corinth, ask’d her sweet, \\nIf ’twas too far that night for her soft feet. \\nThe way was short, for Lamia’s eagerness \\nMade, by a spell, the triple league decrease \\nTo a few paces; not at all surmised \\nBy blinded Lycius, so in her comprized. \\nThey pass’d the city gates, he knew not how \\nSo noiseless, and he never thought to know. \\n\\xa0 \\n\\xa0 As men talk in a dream, so Corinth all, \\nThroughout her palaces imperial, \\nAnd all her populous streets and temples lewd, \\nMutter’d, like tempest in the distance brew’d, \\nTo the wide-spreaded night above her towers. \\nMen, women, rich and poor, in the cool hours, \\nShuffled their sandals o’er the pavement white, \\nCompanion’d or alone; while many a light \\nFlared, here and there, from wealthy festivals, \\nAnd threw their moving shadows on the walls, \\nOr found them cluster’d in the corniced shade \\nOf some arch’d temple door, or dusky colonnade. \\n\\xa0 \\n\\xa0 Muffling his face, of greeting friends in fear, \\nHer fingers he press’d hard, as one came near \\nWith curl’d gray beard, sharp eyes, and smooth bald crown, \\nSlow-stepp’d, and robed in philosophic gown: \\nLycius shrank closer, as they met and past, \\nInto his mantle, adding wings to haste, \\nWhile hurried Lamia trembled: “Ah,” said he, \\n“Why do you shudder, love, so ruefully? \\n“Why does your tender palm dissolve in dew?”— \\n“I’m wearied,” said fair Lamia: “tell me who \\n“Is that old man? I cannot bring to mind \\n“His features:—Lycius! wherefore did you blind \\n“Yourself from his quick eyes?” Lycius replied, \\n“’Tis Apollonius sage, my trusty guide \\n“And good instructor; but to-night he seems \\n“The ghost of folly haunting my sweet dreams. \\n\\xa0 \\n\\xa0 While yet he spake they had arrived before \\nA pillar\\'d porch, with lofty portal door, \\nWhere hung a silver lamp, whose phosphor glow \\nReflected in the slabbed steps below, \\nMild as a star in water; for so new, \\nAnd so unsullied was the marble hue, \\nSo through the crystal polish, liquid fine, \\nRan the dark veins, that none but feet divine \\nCould e\\'er have touch\\'d there. Sounds Aeolian \\nBreath\\'d from the hinges, as the ample span \\nOf the wide doors disclos\\'d a place unknown \\nSome time to any, but those two alone, \\nAnd a few Persian mutes, who that same year \\nWere seen about the markets: none knew where \\nThey could inhabit; the most curious \\nWere foil\\'d, who watch\\'d to trace them to their house: \\nAnd but the flitter-winged verse must tell, \\nFor truth\\'s sake, what woe afterwards befel, \\n\\'Twould humour many a heart to leave them thus, \\nShut from the busy world of more incredulous.(line 48): Originally, \"Cerulean-spotted.\" Leigh Hunt says of this passage, \"The admiration, pity, and horror, to be excited by humanity in a brute shape, were never perhaps called upon by a greater mixture of beauty and deformity than in the picture of this creature. Our pity and suspicions are begged by the first word: the profuse and vital beauties with which she is covered seem proportioned to her misery and natural rights; and lest we should lose sight of them in this gorgeousness, the \\'woman\\'s mouth\\' fills us at once with shuddering and compassion.\"\\n\\n(line 158): The manuscript reads \"vulcanian,\" the first edition \"volcanian.\" It seems to me more likely that the manuscript accords with the poet\\'s intention than that printed text does, for this old orthography is the more characteristic of the vocabulary of this particular poem, as introducing the more conspicuously the mythic personal origin of the common noun \"volcano\" or \"vulcano.\"\\n\\n~ Poetical Works of John Keats, ed. H. Buxton Forman, Crowell publ. 1895.     '}, {'Unnamed: 0': 8, 'Title': 'La Belle Dame Sans Merci', 'Poem': 'ah what can ail thee wretched wight alone and palely loitering the sedge is withered from the lake and no birds sing ah what can ail thee wretched wight so haggard and so woe begone the squirrel granary is full and the harvest done see lily on thy brow with anguish moist and fever dew and on thy cheek fading rose fast withereth too met lady in the meads full beautiful faery child her hair was long her foot was ligh and her eyes were wild set her on my pacing steed and nothing else saw all day long for sideways would she lean and sing faery song made garland for her head and bracelets too and fragrant zone she looked at me as she did love and made sweet moan she found me roots of relish sweet and honey wild and manna dew and sure in language strange she said love thee true she took me to her elfin grot and there she gazed and sighed deep and there shut her wild sad eyes— so kissed to sleep and there we slumbered on the moss and there dreamed ah woe betide the latest dream ever dreamed on the cold hill side 10 saw pale kings and princes too pale warriors death pale were they all who cried— la belle dame sans merci hath thee in thrall 11 saw their starved lips in the gloam with horrid warning gaped wide and awoke and found me here on the cold hill side 12 and that is why sojourn here alone and palely loitering though the sedge is withered from the lake and no birds sing', 'Poem_for_Human': 'I.\\nAh, what can ail thee, wretched wight,\\n\\xa0 \\xa0 \\xa0 Alone and palely loitering?\\nThe sedge is withered from the lake,\\n\\xa0 \\xa0 \\xa0 And no birds sing.\\n\\n2.\\nAh, what can ail thee, wretched wight,\\n\\xa0 \\xa0 \\xa0 So haggard and so woe-begone\\nThe squirrel\\'s granary is full,\\n\\xa0 \\xa0 \\xa0 And the harvest\\'s done.\\n\\n3.\\nI see a lily on thy brow\\n\\xa0 \\xa0 \\xa0 With anguish moist and fever dew,\\nAnd on thy cheek a fading rose\\n\\xa0 \\xa0 \\xa0 Fast withereth too.\\n\\n4.\\nI met a lady in the meads,\\n\\xa0 \\xa0 \\xa0 Full beautiful, a faery\\'s child:\\nHer hair was long, her foot was ligh,\\n\\xa0 \\xa0 \\xa0 And her eyes were wild.\\n\\n5.\\nI set her on my pacing steed,\\n\\xa0 \\xa0 \\xa0 And nothing else saw all day long;\\nFor sideways would she lean, and sing\\n\\xa0 \\xa0 \\xa0 A faery\\'s song.\\n\\n6.\\nI made a garland for her head,\\n\\xa0 \\xa0 \\xa0 And bracelets too, and fragrant zone;\\nShe looked at me as she did love,\\n\\xa0 \\xa0 \\xa0 And made sweet moan.\\n\\n7.\\nShe found me roots of relish sweet,\\n\\xa0 \\xa0 \\xa0 And honey wild, and manna dew,\\nAnd sure in language strange she said,\\n\\xa0 \\xa0 \\xa0 \"I love thee true!\"\\n\\n8.\\nShe took me to her elfin grot,\\n\\xa0 \\xa0 \\xa0 And there she gazed and sighed deep,\\nAnd there I shut her wild, sad eyes—-\\n\\xa0 \\xa0 \\xa0 So kissed to sleep.\\n\\n9.\\nAnd there we slumbered on the moss,\\n\\xa0 \\xa0 \\xa0 And there I dreamed, ah! woe betide,\\nThe latest dream I ever dreamed\\n\\xa0 \\xa0 \\xa0 On the cold hill side.\\n\\n10.\\nI saw pale kings, and princes too,\\n\\xa0 \\xa0 \\xa0 Pale warriors, death-pale were they all;\\nWho cried—-\"La belle Dame sans merci\\n\\xa0 \\xa0 \\xa0 Hath thee in thrall!\"\\n\\n11.\\nI saw their starved lips in the gloam,\\n\\xa0 \\xa0 \\xa0 With horrid warning gaped wide,\\nAnd I awoke and found me here,\\n\\xa0 \\xa0 \\xa0 On the cold hill side.\\n\\n12.\\nAnd that is why I sojourn here,\\n\\xa0 \\xa0 \\xa0 Alone and palely loitering,\\nThough the sedge is withered from the lake,\\n\\xa0 \\xa0 \\xa0 And no birds sing.     '}, {'Unnamed: 0': 9, 'Title': \"Sonnet. Written On A Blank Page In Shakespeare's Poems, Facing 'A Lover's Complaint'\", 'Poem': 'bright star would were stedfast as thou art not in lone splendour hung aloft the nightand watching with eternal lids apart like nature patient sleepless eremite the moving waters at their priest like taskof pure ablution round earth human shores or gazing on the new soft fallen maskof snow upon the mountains and the moors no yet still stedfast still unchangeable pillow upon my fair love ripening breast to feel for ever its soft fall and swell awake for ever in sweet unrest still still to hear her tender taken breath and so live ever or else swoon to death lord houghton records that after keats had embarked for italy he landed once more in england on the dorsetshire coast after weary fortnight spent in beating about the channel the bright beauty of the day and the scene revived the poet drooping heart and the inspiration remained on him for some time even after his return to the ship it was then that he composed that sonnet of solemn tenderness bright star would were stedfast as thou art and wrote it out in copy of shakespeare poems he had given to severn few days before know nothing written afterwards the copy of shakespeare poetical works had been given to keats by john hamilton reynolds and is now in the possession of sir charles dilke rather was in 125 years ago it is royal 8vo volume printed for thomas wilson no 10 london house yard st paul in 1806 and this sonnet of which fac simile is here given is written upon the verso of the fly title to lover complaint it seems fair to assume that the reason of its being so high up on the page is that it thus faces space of equal size containing no words except boldly printed heading of shakespeare poem lover complaint as if in that mournful moment keats desired to appropriate to his last poetic utterance style and title already immortal lord houghton gives variant of the last line half passionless and so swoon on to death as there is no trace of this in the shakespeare there must have been another manuscript perhaps pencilled draft and it is to be presumed that the words fall and swell in line 11 of lord houghton text occurred in that swell and fall the reading of the shakespeare being in that case an error of transcription on keats part the date of the poem is about the end of september or beginning of october 1820 it was published in february 1846 with letter from severn in the union magazine poetical works of john keats ed buxton forman crowell publ 1895', 'Poem_for_Human': 'Bright star, would I were stedfast as thou art --Not in lone splendour hung aloft the nightAnd watching, with eternal lids apart,Like nature\\'s patient, sleepless Eremite,The moving waters at their priest-like taskOf pure ablution round earth\\'s human shores,Or gazing on the new soft-fallen maskOf snow upon the mountains and the moors --No -- yet still stedfast, still unchangeable,Pillow\\'d upon my fair love\\'s ripening breast,To feel for ever its soft fall and swell,Awake for ever in a sweet unrest,Still, still to hear her tender-taken breath,And so live ever -- or else swoon to death.\\'Lord Houghton records that, after Keats had embarked for Italy he \"landed once more in England, on the Dorsetshire coast, after a weary fortnight spent in beating about the Channel; the bright beauty of the day and the scene revived the poet\\'s drooping heart, and the inspiration remained on him for some time even after his return to the ship.  It was then that he composed that sonnet of solemn tenderness, \\'Bright star! would I were stedfast as thou art,\\' &c.and wrote it out in a copy of Shakespeare\\'s Poems he had given to Severn a few days before.  I know nothing written afterwards.\"The copy of Shakespeare\\'s Poetical Works had been given to Keats by John Hamilton Reynolds, and is now in the possession of Sir Charles Dilke [rather was in 125 years ago]. It is a royal 8vo volume \"printed for Thomas Wilson, No. 10, London-House-yard, St. Paul\\'s,\" in 1806; and this sonnet, of which a fac-simile is here given, is written upon the verso of the fly-title to A Lover\\'s Complaint.  It seems fair to assume that the reason of its being so high up on the page is that it thus faces a space of equal size containing no words except a boldly printed heading of Shakespeare\\'s poem, A Lover\\'s Complaint, as if in that mournful moment Keats desired to appropriate to his last poetic utterance a style and title already immortal.  Lord Houghton gives a variant of the last line -- \\'Half-passionless, and so swoon on to death.\\'As there is no trace of this in the Shakespeare, there must have been another manuscript -- perhaps a pencilled draft -- and it is to be presumed that the words \\'fall and swell\\', in line 11 of Lord Houghton\\'s text occurred in that, \\'swell and fall\\', the reading of the Shakespeare, being in that case an error of transcription on Keats\\'s part. The date of the poem is about the end of September or beginning of October 1820. It was published in February 1846, with a letter from Severn, in The Union Magazine.\\' ~ Poetical Works of John Keats, ed. H. Buxton Forman, Crowell publ. 1895.     '}, {'Unnamed: 0': 10, 'Title': 'Endymion: Book I', 'Poem': 'thing of beauty is joy for ever its loveliness increases it will never pass into nothingness but still will keep bower quiet for us and sleep full of sweet dreams and health and quiet breathing therefore on every morrow are we wreathing flowery band to bind us to the earth spite of despondence of the inhuman dearth of noble natures of the gloomy days of all the unhealthy and over darkened ways made for our searching yes in spite of all some shape of beauty moves away the pall from our dark spirits such the sun the moon trees old and young sprouting shady boon for simple sheep and such are daffodils with the green world they live in and clear rills that for themselves cooling covert make gainst the hot season the mid forest brake rich with sprinkling of fair musk rose blooms and such too is the grandeur of the dooms we have imagined for the mighty dead all lovely tales that we have heard or read an endless fountain of immortal drink pouring unto us from the heaven brink nor do we merely feel these essences for one short hour no even as the trees that whisper round temple become soon dear as the temple self so does the moon the passion poesy glories infinite haunt us till they become cheering light unto our souls and bound to us so fast that whether there be shine or gloom ercast they alway must be with us or we die therefore it is with full happiness that will trace the story of endymion the very music of the name has gone into my being and each pleasant scene is growing fresh before me as the green of our own vallies so will begin now while cannot hear the city din now while the early budders are just new and run in mazes of the youngest hue about old forests while the willow trails its delicate amber and the dairy pails bring home increase of milk and as the year grows lush in juicy stalks will smoothly steer my little boat for many quiet hours with streams that deepen freshly into bowers many and many verse hope to write before the daisies vermeil rimm and white hide in deep herbage and ere yet the bees hum about globes of clover and sweet peas must be near the middle of my story may no wintry season bare and hoary see it half finished but let autumn bold with universal tinge of sober gold be all about me when make an end and now at once adventuresome send my herald thought into wilderness there let its trumpet blow and quickly dress my uncertain path with green that may speed easily onward thorough flowers and weed upon the sides of latmos was outspread mighty forest for the moist earth fed so plenteously all weed hidden roots into over hanging boughs and precious fruits and it had gloomy shades sequestered deep where no man went and if from shepherd keep lamb strayed far down those inmost glens never again saw he the happy pens whither his brethren bleating with content over the hills at every nightfall went among the shepherds it was believed ever that not one fleecy lamb which thus did sever from the white flock but pass unworried by angry wolf or pard with prying head until it came to some unfooted plains where fed the herds of pan ay great his gains who thus one lamb did lose paths there were many winding through palmy fern and rushes fenny and ivy banks all leading pleasantly to wide lawn whence one could only see stems thronging all around between the swell of turf and slanting branches who could tell the freshness of the space of heaven above edg round with dark tree tops through which dove would often beat its wings and often too little cloud would move across the blue full in the middle of this pleasantness there stood marble altar with tress of flowers budded newly and the dew had taken fairy phantasies to strew daisies upon the sacred sward last eve and so the dawned light in pomp receive for it was the morn apollo upward fire made every eastern cloud silvery pyre of brightness so unsullied that therein melancholy spirit well might win oblivion and melt out his essence fine into the winds rain scented eglantine gave temperate sweets to that well wooing sun the lark was lost in him cold springs had run to warm their chilliest bubbles in the grass man voice was on the mountains and the mass of nature lives and wonders puls tenfold to feel this sun rise and its glories old now while the silent workings of the dawn were busiest into that self same lawn all suddenly with joyful cries there sped troop of little children garlanded who gathering round the altar seemed to pry earnestly round as wishing to espy some folk of holiday nor had they waited for many moments ere their ears were sated with faint breath of music which ev then fill out its voice and died away again within little space again it gave its airy swellings with gentle wave to light hung leaves in smoothest echoes breaking through copse clad vallies —ere their death over taking the surgy murmurs of the lonely sea and now as deep into the wood as we might mark lynx eye there glimmered light fair faces and rush of garments white plainer and plainer shewing till at last into the widest alley they all past making directly for the woodland altar kindly muse let not my weak tongue faulter in telling of this goodly company of their old piety and of their glee but let portion of ethereal dew fall on my head and presently unmew my soul that may dare in wayfaring to stammer where old chaucer used to sing leading the way young damsels danced along bearing the burden of shepherd song each having white wicker over brimm with april tender younglings next well trimm crowd of shepherds with as sunburnt looks as may be read of in arcadian books such as sat listening round apollo pipe when the great deity for earth too ripe let his divinity over flowing die in music through the vales of thessaly some idly trailed their sheep hooks on the ground and some kept up shrilly mellow sound with ebon tipped flutes close after these now coming from beneath the forest trees venerable priest full soberly begirt with ministring looks alway his eye stedfast upon the matted turf he kept and after him his sacred vestments swept from his right hand there swung vase milk white of mingled wine out sparkling generous light and in his left he held basket full of all sweet herbs that searching eye could cull wild thyme and valley lilies whiter still than leda love and cresses from the rill his aged head crowned with beechen wreath seem like poll of ivy in the teeth of winter hoar then came another crowd of shepherds lifting in due time aloud their share of the ditty after them appear up followed by multitude that rear their voices to the clouds fair wrought car easily rolling so as scarce to mar the freedom of three steeds of dapple brown who stood therein did seem of great renown among the throng his youth was fully blown shewing like ganymede to manhood grown and for those simple times his garments were chieftain king beneath his breast half bare was hung silver bugle and between his nervy knees there lay boar spear keen smile was on his countenance he seem to common lookers on like one who dream of idleness in groves elysian but there were some who feelingly could scan lurking trouble in his nether lip and see that oftentimes the reins would slip through his forgotten hands then would they sigh and think of yellow leaves of owlets cry of logs piled solemnly —ah well day why should our young endymion pine away soon the assembly in circle rang stood silent round the shrine each look was chang to sudden veneration women meek beckon their sons to silence while each cheek of virgin bloom paled gently for slight fear endymion too without forest peer stood wan and pale and with an awed face among his brothers of the mountain chase in midst of all the venerable priest eyed them with joy from greatest to the least and after lifting up his aged hands thus spake he men of latmos shepherd bands whose care it is to guard thousand flocks whether descended from beneath the rocks that overtop your mountains whether come from vallies where the pipe is never dumb or from your swelling downs where sweet air stirs blue hare bells lightly and where prickly furze buds lavish gold or ye whose precious charge nibble their fill at ocean very marge whose mellow reeds are touch with sounds forlorn by the dim echoes of old triton horn mothers and wives who day by day prepare the scrip with needments for the mountain air and all ye gentle girls who foster up udderless lambs and in little cup will put choice honey for favoured youth yea every one attend for in good truth our vows are wanting to our great god pan are not our lowing heifers sleeker than night swollen mushrooms are not our wide plains speckled with countless fleeces have not rains green over april lap no howling sad sickens our fearful ewes and we have had great bounty from endymion our lord the earth is glad the merry lark has pour his early song against yon breezy sky that spreads so clear over our solemnity thus ending on the shrine he heap spire of teeming sweets enkindling sacred fire anon he stain the thick and spongy sod with wine in honour of the shepherd god now while the earth was drinking it and while bay leaves were crackling in the fragrant pile and gummy frankincense was sparkling bright neath smothering parsley and hazy light spread greyly eastward thus chorus sang thou whose mighty palace roof doth hang from jagged trunks and overshadoweth eternal whispers glooms the birth life death of unseen flowers in heavy peacefulness who lov st to see the hamadryads dress their ruffled locks where meeting hazels darken and through whole solemn hours dost sit and hearken the dreary melody of bedded reeds— in desolate places where dank moisture breeds the pipy hemlock to strange overgrowth bethinking thee how melancholy loth thou wast to lose fair syrinx—do thou now by thy love milky brow by all the trembling mazes that she ran hear us great pan thou for whose soul soothing quiet turtles passion their voices cooingly mong myrtles what time thou wanderest at eventide through sunny meadows that outskirt the side of thine enmossed realms thou to whom broad leaved fig trees even now foredoom their ripen fruitage yellow girted bees their golden honeycombs our village leas their fairest blossom beans and poppied corn the chuckling linnet its five young unborn to sing for thee low creeping strawberries their summer coolness pent up butterflies their freckled wings yea the fresh budding year all its completions—be quickly near by every wind that nods the mountain pine forester divine thou to whom every fawn and satyr flies for willing service whether to surprise the squatted hare while in half sleeping fit or upward ragged precipices flit to save poor lambkins from the eagle maw or by mysterious enticement draw bewildered shepherds to their path again or to tread breathless round the frothy main and gather up all fancifullest shells for thee to tumble into naiads cells and being hidden laugh at their out peeping or to delight thee with fantastic leaping the while they pelt each other on the crown with silvery oak apples and fir cones brown— by all the echoes that about thee ring hear us satyr king hearkener to the loud clapping shears while ever and anon to his shorn peers ram goes bleating winder of the horn when snouted wild boars routing tender corn anger our huntsman breather round our farms to keep off mildews and all weather harms strange ministrant of undescribed sounds that come swooning over hollow grounds and wither drearily on barren moors dread opener of the mysterious doors leading to universal knowledge—see great son of dryope the many that are come to pay their vows with leaves about their brows be still the unimaginable lodge for solitary thinkings such as dodge conception to the very bourne of heaven then leave the naked brain be still the leaven that spreading in this dull and clodded earth gives it touch ethereal—a new birth be still symbol of immensity firmament reflected in sea an element filling the space between an unknown—but no more we humbly screen with uplift hands our foreheads lowly bending and giving out shout most heaven rending conjure thee to receive our humble paean upon thy mount lycean even while they brought the burden to close shout from the whole multitude arose that lingered in the air like dying rolls of abrupt thunder when ionian shoals of dolphins bob their noses through the brine meantime on shady levels mossy fine young companies nimbly began dancing to the swift treble pipe and humming string aye those fair living forms swam heavenly to tunes forgotten—out of memory fair creatures whose young children children bred thermopylæ its heroes—not yet dead but in old marbles ever beautiful high genitors unconscious did they cull time sweet first fruits—they danc to weariness and then in quiet circles did they press the hillock turf and caught the latter end of some strange history potent to send young mind from its bodily tenement or they might watch the quoit pitchers intent on either side pitying the sad death of hyacinthus when the cruel breath of zephyr slew him —zephyr penitent who now ere phoebus mounts the firmament fondles the flower amid the sobbing rain the archers too upon wider plain beside the feathery whizzing of the shaft and the dull twanging bowstring and the raft branch down sweeping from tall ash top call up thousand thoughts to envelope those who would watch perhaps the trembling knee and frantic gape of lonely niobe poor lonely niobe when her lovely young were dead and gone and her caressing tongue lay lost thing upon her paly lip and very very deadliness did nip her motherly cheeks arous from this sad mood by one who at distance loud halloo uplifting his strong bow into the air many might after brighter visions stare after the argonauts in blind amaze tossing about on neptune restless ways until from the horizon vaulted side there shot golden splendour far and wide spangling those million poutings of the brine with quivering ore it was even an awful shine from the exaltation of apollo bow heavenly beacon in their dreary woe who thus were ripe for high contemplating might turn their steps towards the sober ring where sat endymion and the aged priest mong shepherds gone in eld whose looks increas the silvery setting of their mortal star there they discours upon the fragile bar that keeps us from our homes ethereal and what our duties there to nightly call vesper the beauty crest of summer weather to summon all the downiest clouds together for the sun purple couch to emulate in ministring the potent rule of fate with speed of fire tailed exhalations to tint her pallid cheek with bloom who cons sweet poesy by moonlight besides these world of other unguess offices anon they wander by divine converse into elysium vieing to rehearse each one his own anticipated bliss one felt heart certain that he could not miss his quick gone love among fair blossom boughs where every zephyr sigh pouts and endows her lips with music for the welcoming another wish mid that eternal spring to meet his rosy child with feathery sails sweeping eye earnestly through almond vales who suddenly should stoop through the smooth wind and with the balmiest leaves his temples bind and ever after through those regions be his messenger his little mercury some were athirst in soul to see again their fellow huntsmen over the wide champaign in times long past to sit with them and talk of all the chances in their earthly walk comparing joyfully their plenteous stores of happiness to when upon the moors benighted close they huddled from the cold and shar their famish scrips thus all out told their fond imaginations —saving him whose eyelids curtain up their jewels dim endymion yet hourly had he striven to hide the cankering venom that had riven his fainting recollections now indeed his senses had swoon off he did not heed the sudden silence or the whispers low or the old eyes dissolving at his woe or anxious calls or close of trembling palms or maiden sigh that grief itself embalms but in the self same fixed trance he kept like one who on the earth had never stept aye even as dead still as marble man frozen in that old tale arabian who whispers him so pantingly and close peona his sweet sister of all those his friends the dearest hushing signs she made and breath sister sorrow to persuade yielding up cradling on her care her eloquence did breathe away the curse she led him like some midnight spirit nurse of happy changes in emphatic dreams along path between two little streams guarding his forehead with her round elbow from low grown branches and his footsteps slow from stumbling over stumps and hillocks small until they came to where these streamlets fall with mingled bubblings and gentle rush into river clear brimful and flush with crystal mocking of the trees and sky little shallop floating there hard by pointed its beak over the fringed bank and soon it lightly dipt and rose and sank and dipt again with the young couple weight peona guiding through the water straight towards bowery island opposite which gaining presently she steered light into shady fresh and ripply cove where nested was an arbour overwove by many summer silent fingering to whose cool bosom she was used to bring her playmates with their needle broidery and minstrel memories of times gone by so she was gently glad to see him laid under her favourite bower quiet shade on her own couch new made of flower leaves dried carefully on the cooler side of sheaves when last the sun his autumn tresses shook and the tann harvesters rich armfuls took soon was he quieted to slumbrous rest but ere it crept upon him he had prest peona busy hand against his lips and still sleeping held her finger tips in tender pressure and as willow keeps patient watch over the stream that creeps windingly by it so the quiet maid held her in peace so that whispering blade of grass wailful gnat bee bustling down in the blue bells or wren light rustling among seer leaves and twigs might all be heard magic sleep comfortable bird that broodest over the troubled sea of the mind till it is hush and smooth unconfin restraint imprisoned liberty great key to golden palaces strange minstrelsy fountains grotesque new trees bespangled caves echoing grottos full of tumbling waves and moonlight aye to all the mazy world of silvery enchantment —who upfurl beneath thy drowsy wing triple hour but renovates and lives —thus in the bower endymion was calm to life again opening his eyelids with healthier brain he said feel this thine endearing love all through my bosom thou art as dove trembling its closed eyes and sleeked wings about me and the pearliest dew not brings such morning incense from the fields of may as do those brighter drops that twinkling stray from those kind eyes —the very home and haunt of sisterly affection can want aught else aught nearer heaven than such tears yet dry them up in bidding hence all fears that any longer will pass my days alone and sad no will once more raise my voice upon the mountain heights once more make my horn parley from their foreheads hoar again my trooping hounds their tongues shall loll around the breathed boar again will poll the fair grown yew tree for chosen bow and when the pleasant sun is getting low again will linger in sloping mead to hear the speckled thrushes and see feed our idle sheep so be thou cheered sweet and if thy lute is here softly intreat my soul to keep in its resolved course hereat peona in their silver source shut her pure sorrow drops with glad exclaim and took lute from which there pulsing came lively prelude fashioning the way in which her voice should wander it was lay more subtle cadenced more forest wild than dryope lone lulling of her child and nothing since has floated in the air so mournful strange surely some influence rare went spiritual through the damsel hand for still with delphic emphasis she spann the quick invisible strings even though she saw endymion spirit melt away and thaw before the deep intoxication but soon she came with sudden burst upon her self possession—swung the lute aside and earnestly said brother it is vain to hide that thou dost know of things mysterious immortal starry such alone could thus weigh down thy nature hast thou sinn in aught offensive to the heavenly powers caught paphian dove upon message sent thy deathful bow against some deer herd bent sacred to dian haply thou hast seen her naked limbs among the alders green and that alas is death no can trace something more high perplexing in thy face endymion look at her and press her hand and said art thou so pale who wast so bland and merry in our meadows how is this tell me thine ailment tell me all amiss ah thou hast been unhappy at the change wrought suddenly in me what indeed more strange or more complete to overwhelm surmise ambition is no sluggard it is no prize that toiling years would put within my grasp that have sigh for with so deadly gasp no man ever panted for mortal love so all have set my heavier grief above these things which happen rightly have they done who still saw the horizontal sun heave his broad shoulder over the edge of the world out facing lucifer and then had hurl my spear aloft as signal for the chace— who for very sport of heart would race with my own steed from araby pluck down vulture from his towery perching frown lion into growling loth retire— to lose at once all my toil breeding fire and sink thus low but will ease my breast of secret grief here in this bowery nest this river does not see the naked sky till it begins to progress silverly around the western border of the wood whence from certain spot its winding flood seems at the distance like crescent moon and in that nook the very pride of june had been used to pass my weary eves the rather for the sun unwilling leaves so dear picture of his sovereign power and could witness his most kingly hour when he doth lighten up the golden reins and paces leisurely down amber plains his snorting four now when his chariot last its beams against the zodiac lion cast there blossom suddenly magic bed of sacred ditamy and poppies red at which wondered greatly knowing well that but one night had wrought this flowery spell and sitting down close by began to muse what it might mean perhaps thought morpheus in passing here his owlet pinions shook or it may be ere matron night uptook her ebon urn young mercury by stealth had dipt his rod in it such garland wealth came not by common growth thus on thought until my head was dizzy and distraught moreover through the dancing poppies stole breeze most softly lulling to my soul and shaping visions all about my sight of colours wings and bursts of spangly light the which became more strange and strange and dim and then were gulph in tumultuous swim and then fell asleep ah can tell the enchantment that afterwards befel yet it was but dream yet such dream that never tongue although it overteem with mellow utterance like cavern spring could figure out and to conception bring all beheld and felt methought lay watching the zenith where the milky way among the stars in virgin splendour pours and travelling my eye until the doors of heaven appear to open for my flight became loth and fearful to alight from such high soaring by downward glance so kept me stedfast in that airy trance spreading imaginary pinions wide when presently the stars began to glide and faint away before my eager view at which sigh that could not pursue and dropt my vision to the horizon verge and lo from opening clouds saw emerge the loveliest moon that ever silver over she will for neptune goblet she did soar so passionately bright my dazzled soul commingling with her argent spheres did roll through clear and cloudy even when she went at last into dark and vapoury tent— whereat methought the lidless eyed train of planets all were in the blue again to commune with those orbs once more rais my sight right upward but it was quite dazed by bright something sailing down apace making me quickly veil my eyes and face again look and ye deities who from olympus watch our destinies whence that completed form of all completeness whence came that high perfection of all sweetness speak stubborn earth and tell me where where hast thou symbol of her golden hair not oat sheaves drooping in the western sun not—thy soft hand fair sister let me shun such follying before thee—yet she had indeed locks bright enough to make me mad and they were simply gordian up and braided leaving in naked comeliness unshaded her pearl round ears white neck and orbed brow the which were blended in know not how with such paradise of lips and eyes blush tinted cheeks half smiles and faintest sighs that when think thereon my spirit clings and plays about its fancy till the stings of human neighbourhood envenom all unto what awful power shall call to what high fane —ah see her hovering feet more bluely vein more soft more whitely sweet than those of sea born venus when she rose from out her cradle she will the wind out blows her scarf into fluttering pavilion it is blue and over spangled with million of little eyes as though thou wert to she would over the darkest lushest blue bell bed handfuls of daisies endymion how strange dream within dream she took an airy range and then towards me like very maid came blushing waning willing and afraid and press me by the hand ah it was too much methought fainted at the charmed touch yet held my recollection even as one who dives three fathoms where the waters run gurgling in beds of coral for anon felt upmounted in that region where falling stars dart their artillery forth and eagles struggle with the buffeting north that balances the heavy meteor stone felt too was not fearful nor alone but lapp and lull along the dangerous sky soon as it seem we left our journeying high and straightway into frightful eddies swoop such as ay muster where grey time has scoop huge dens and caverns in mountain side there hollow sounds arous me and sigh to faint once more by looking on my bliss— was distracted madly did kiss the wooing arms which held me and did give my eyes at once to death but it was to live to take in draughts of life from the gold fount of kind and passionate looks to count and count the moments by some greedy help that seem second self that each might be redeem and plunder of its load of blessedness ah desperate mortal ev dar to press her very cheek against my crowned lip and at that moment felt my body dip into warmer air moment more our feet were soft in flowers there was store of newest joys upon that alp sometimes scent of violets and blossoming limes loiter around us then of honey cells made delicate from all white flower bells and once above the edges of our nest an arch face peep —an oread as guess why did dream that sleep over power me in midst of all this heaven why not see far off the shadows of his pinions dark and stare them from me but no like spark that needs must die although its little beam reflects upon diamond my sweet dream fell into nothing—into stupid sleep and so it was until gentle creep careful moving caught my waking ears and up started ah my sighs my tears my clenched hands —for lo the poppies hung dew dabbled on their stalks the ouzel sung heavy ditty and the sullen day had chidden herald hesperus away with leaden looks the solitary breeze bluster and slept and its wild self did teaze with wayward melancholy and thought mark me peona that sometimes it brought faint fare thee wells and sigh shrilled adieus away wander d—all the pleasant hues of heaven and earth had faded deepest shades were deepest dungeons heaths and sunny glades were full of pestilent light our taintless rills seem sooty and over spread with upturn gills of dying fish the vermeil rose had blown in frightful scarlet and its thorns out grown like spiked aloe if an innocent bird before my heedless footsteps stirr and stirr in little journeys beheld in it disguis demon missioned to knit my soul with under darkness to entice my stumblings down some monstrous precipice therefore eager followed and did curse the disappointment time that aged nurse rock me to patience now thank gentle heaven these things with all their comfortings are given to my down sunken hours and with thee sweet sister help to stem the ebbing sea of weary life thus ended he and both sat silent for the maid was very loth to answer feeling well that breathed words would all be lost unheard and vain as swords against the enchased crocodile or leaps of grasshoppers against the sun she weeps and wonders struggles to devise some blame to put on such look as would say shame on this poor weakness but for all her strife she could as soon have crush away the life from sick dove at length to break the pause she said with trembling chance is this the because this all yet it is strange and sad alas that one who through this middle earth should pass most like sojourning demi god and leave his name upon the harp string should achieve no higher bard than simple maidenhood singing alone and fearfully —how the blood left his young cheek and how he used to stray he knew not where and how he would say nay if any said it was love and yet it was love what could it be but love how ring dove let fall sprig of yew tree in his path and how he died and then that love doth scathe the gentle heart as northern blasts do roses and then the ballad of his sad life closes with sighs and an alas —endymion be rather in the trumpet mouth —anon among the winds at large—that all may hearken although before the crystal heavens darken watch and dote upon the silver lakes pictur in western cloudiness that takes the semblance of gold rocks and bright gold sands islands and creeks and amber fretted strands with horses prancing over them palaces and towers of amethyst —would so tease my pleasant days because could not mount into those regions the morphean fount of that fine element that visions dreams and fitful whims of sleep are made of streams into its airy channels with so subtle so thin breathing not the spider shuttle circled million times within the space of swallow nest door could delay trace tinting of its quality how light must dreams themselves be seeing they are more slight than the mere nothing that engenders them then wherefore sully the entrusted gem of high and noble life with thoughts so sick why pierce high fronted honour to the quick for nothing but dream hereat the youth look up conflicting of shame and ruth was in his plaited brow yet his eyelids widened little as when zephyr bids little breeze to creep between the fans of careless butterflies amid his pains he seem to taste drop of manna dew full palatable and colour grew upon his cheek while thus he lifeful spake peona ever have long to slake my thirst for the world praises nothing base no merely slumberous phantasm could unlace the stubborn canvas for my voyage prepar d— though now it is tatter leaving my bark bar and sullenly drifting yet my higher hope is of too wide too rainbow large scope to fret at myriads of earthly wrecks wherein lies happiness in that which becks our ready minds to fellowship divine fellowship with essence till we shine full alchemiz and free of space behold the clear religion of heaven fold rose leaf round thy finger taperness and soothe thy lips hist when the airy stress of music kiss impregnates the free winds and with sympathetic touch unbinds eolian magic from their lucid wombs then old songs waken from enclouded tombs old ditties sigh above their father grave ghosts of melodious prophecyings rave round every spot where trod apollo foot bronze clarions awake and faintly bruit where long ago giant battle was and from the turf lullaby doth pass in every place where infant orpheus slept feel we these things —that moment have we stept into sort of oneness and our state is like floating spirit but there are richer entanglements enthralments far more self destroying leading by degrees to the chief intensity the crown of these is made of love and friendship and sits high upon the forehead of humanity all its more ponderous and bulky worth is friendship whence there ever issues forth steady splendour but at the tip top there hangs by unseen film an orbed drop of light and that is love its influence thrown in our eyes genders novel sense at which we start and fret till in the end melting into its radiance we blend mingle and so become part of it nor with aught else can our souls interknit so wingedly when we combine therewith life self is nourish by its proper pith and we are nurtured like pelican brood aye so delicious is the unsating food that men who might have tower in the van of all the congregated world to fan and winnow from the coming step of time all chaff of custom wipe away all slime left by men slugs and human serpentry have been content to let occasion die whilst they did sleep in love elysium and truly would rather be struck dumb than speak against this ardent listlessness for have ever thought that it might bless the world with benefits unknowingly as does the nightingale upperched high and cloister among cool and bunched leaves— she sings but to her love nor ever conceives how tiptoe night holds back her dark grey hood just so may love although it is understood the mere commingling of passionate breath produce more than our searching witnesseth what know not but who of men can tell that flowers would bloom or that green fruit would swell to melting pulp that fish would have bright mail the earth its dower of river wood and vale the meadows runnels runnels pebble stones the seed its harvest or the lute its tones tones ravishment or ravishment its sweet if human souls did never kiss and greet now if this earthly love has power to make men being mortal immortal to shake ambition from their memories and brim their measure of content what merest whim seems all this poor endeavour after fame to one who keeps within his stedfast aim love immortal an immortal too look not so wilder for these things are true and never can be born of atomies that buzz about our slumbers like brain flies leaving us fancy sick no no am sure my restless spirit never could endure to brood so long upon one luxury unless it did though fearfully espy hope beyond the shadow of dream my sayings will the less obscured seem when have told thee how my waking sight has made me scruple whether that same night was pass in dreaming hearken sweet peona beyond the matron temple of latona which we should see but for these darkening boughs lies deep hollow from whose ragged brows bushes and trees do lean all round athwart and meet so nearly that with wings outraught and spreaded tail vulture could not glide past them but he must brush on every side some moulder steps lead into this cool cell far as the slabbed margin of well whose patient level peeps its crystal eye right upward through the bushes to the sky oft have brought thee flowers on their stalks set like vestal primroses but dark velvet edges them round and they have golden pits it was there got them from the gaps and slits in mossy stone that sometimes was my seat when all above was faint with mid day heat and there in strife no burning thoughts to heed would bubble up the water through reed so reaching back to boy hood make me ships of moulted feathers touchwood alder chips with leaves stuck in them and the neptune be of their petty ocean oftener heavily when love lorn hours had left me less child sat contemplating the figures wild of over head clouds melting the mirror through upon day while thus watch by flew cloudy cupid with his bow and quiver so plainly character no breeze would shiver the happy chance so happy was fain to follow it upon the open plain and therefore was just going when behold wonder fair as any have told— the same bright face tasted in my sleep smiling in the clear well my heart did leap through the cool depth —it moved as if to flee— started up when lo refreshfully there came upon my face in plenteous showers dew drops and dewy buds and leaves and flowers wrapping all objects from my smothered sight bathing my spirit in new delight aye such breathless honey feel of bliss alone preserved me from the drear abyss of death for the fair form had gone again pleasure is oft visitant but pain clings cruelly to us like the gnawing sloth on the deer tender haunches late and loth it is scar away by slow returning pleasure how sickening how dark the dreadful leisure of weary days made deeper exquisite by fore knowledge of unslumbrous night like sorrow came upon me heavier still than when wander from the poppy hill and whole age of lingering moments crept sluggishly by ere more contentment swept away at once the deadly yellow spleen yes thrice have this fair enchantment seen once more been tortured with renewed life when last the wintry gusts gave over strife with the conquering sun of spring and left the skies warm and serene but yet with moistened eyes in pity of the shatter infant buds that time thou didst adorn with amber studs my hunting cap because laugh and smil chatted with thee and many days exil all torment from my breast —it was even then straying about yet coop up in the den of helpless discontent —hurling my lance from place to place and following at chance at last by hap through some young trees it struck and plashing among bedded pebbles stuck in the middle of brook —whose silver ramble down twenty little falls through reeds and bramble tracing along it brought me to cave whence it ran brightly forth and white did lave the nether sides of mossy stones and rock mong which it gurgled blythe adieus to mock its own sweet grief at parting overhead hung lush screen of drooping weeds and spread thick as to curtain up some wood nymph home ah impious mortal whither do roam said low voic ah whither it is the grot of proserpine when hell obscure and hot doth her resign and where her tender hands she dabbles on the cool and sluicy sands or it is the cell of echo where she sits and babbles thorough silence till her wits are gone in tender madness and anon faints into sleep with many dying tone of sadness that she would take my vows and breathe them sighingly among the boughs to sue her gentle ears for whose fair head daily pluck sweet flowerets from their bed and weave them dyingly—send honey whispers round every leaf that all those gentle lispers may sigh my love unto her pitying charitable echo hear and sing this ditty to her —tell her —so stay my foolish tongue and listening half afraid stood stupefied with my own empty folly and blushing for the freaks of melancholy salt tears were coming when heard my name most fondly lipp and then these accents came ‘endymion the cave is secreter than the isle of delos echo hence shall stir no sighs but sigh warm kisses or light noise of thy combing hand the while it travelling cloys and trembles through my labyrinthine hair at that oppress hurried in —ah where are those swift moments whither are they fled will smile no more peona nor will wed sorrow the way to death but patiently bear up against it so farewel sad sigh and come instead demurest meditation to occupy me wholly and to fashion my pilgrimage for the world dusky brink no more will count over link by link my chain of grief no longer strive to find half forgetfulness in mountain wind blustering about my ears aye thou shalt see dearest of sisters what my life shall be what calm round of hours shall make my days there is paly flame of hope that plays where er look but yet will say it is naught— and here bid it die have not caught already more healthy countenance by this the sun is setting we may chance meet some of our near dwellers with my car this said he rose faint smiling like star through autumn mists and took peona hand they stept into the boat and launch from land endymion romance the stretched metre of an antique song shakspeare sonnets inscribed with every feeling of pride and regret and with bowed mind to the memory of the most english of poets except shakspeare thomas chatteron line 144 lovely allusion to the story of apollo nine years sojourn on earth as the herdsman of admetus when banished from olympus for killing the cyclops who had forged the thunder bolts wherewith aesculapius had been slain line 232 it was the hymn to pan beginning here that the young poet when engaged in the composition of endymion was induced to recite in the presence of wordsworth on the 28th of december 1817 at haydon house leigh hunt records that the elder poet pronounced it very pretty piece of paganism line 319 doubtless meant to refer specially to the elgin marbles line 347 the reference here is to the passage from the second book of the argonautica of apollonius rhodius beginning at verse 674 which shelley had in mind when prose works vol 56 he alluded to the apollo so finely described by apollonius rhodius when the dazzling radiance of his beautiful limbs suddenly shone over the dark euxine note found before the preface of endymion in the poetical works of john keats ed buxton forman crowell publ 1895 in woodhouse copy of endymion there is note against the passage so will begin line 39 book to the effect that the poem was begun in the spring of 1817 and finished in the winter of 1817 18 and in the title page he has inserted april before 1818 the statement corresponds with keats own record of may 1817 that he was busying himself at margate with the commencement of endymion preface knowing within myself the manner in which this poem has been produced it is not without feeling of regret that make it public what manner mean will be quite clear to the reader who must soon perceive great inexperience immaturity and every error denoting feverish attempt rather than deed accomplished the two first books and indeed the two last feel sensible are not of such completion as to warrant their passing the press nor should they if thought year castigation would do them any good it will not the foundations are too sandy it is just that this youngster should die away sad thought for me if had not some hope that while it is dwindling may be plotting and fitting myself for verses fit to live this may be speaking too presumptuously and may deserve punishment but no feeling man will be forward to inflict it he will leave me alone with the conviction that there is not fiercer hell than the failure in great object this is not written with the least atom of purpose to forestall criticisms of course but from the desire have to conciliate men who are competent to look and who do look with zealous eye to the honor of english literature the imagination of boy is healthy and the mature imagination of man is healthy but there is space of life between in which the soul is in ferment the character undecided the way of life uncertain the ambition thick sighted thence proceeds mawkishness and all the thousand bitters which those men speak of must necessarily taste in going over the following pages hope have not in too late day touched the beautiful mythology of greece and dulled its brightness for wish to try once more before bid it farewell teignmouth april 10 1818 footnote woodhouse notes for wish to try once more this alluded to his then intention of writing poem on the fall of hyperion he commenced this poem but thanks to the critics who fell foul of this work he discontinued it the fragment was published in 1820', 'Poem_for_Human': 'A thing of beauty is a joy for ever:\\nIts loveliness increases; it will never\\nPass into nothingness; but still will keep\\nA bower quiet for us, and a sleep\\nFull of sweet dreams, and health, and quiet breathing.\\nTherefore, on every morrow, are we wreathing\\nA flowery band to bind us to the earth,\\nSpite of despondence, of the inhuman dearth\\nOf noble natures, of the gloomy days,\\nOf all the unhealthy and o\\'er-darkened ways\\nMade for our searching: yes, in spite of all,\\nSome shape of beauty moves away the pall\\nFrom our dark spirits. Such the sun, the moon,\\nTrees old and young, sprouting a shady boon\\nFor simple sheep; and such are daffodils\\nWith the green world they live in; and clear rills\\nThat for themselves a cooling covert make\\n\\'Gainst the hot season; the mid forest brake,\\nRich with a sprinkling of fair musk-rose blooms:\\nAnd such too is the grandeur of the dooms\\nWe have imagined for the mighty dead;\\nAll lovely tales that we have heard or read:\\nAn endless fountain of immortal drink,\\nPouring unto us from the heaven\\'s brink.\\n\\n\\xa0 Nor do we merely feel these essences\\nFor one short hour; no, even as the trees\\nThat whisper round a temple become soon\\nDear as the temple\\'s self, so does the moon,\\nThe passion poesy, glories infinite,\\nHaunt us till they become a cheering light\\nUnto our souls, and bound to us so fast,\\nThat, whether there be shine, or gloom o\\'ercast,\\nThey alway must be with us, or we die.\\n\\n\\xa0 Therefore, \\'tis with full happiness that I\\nWill trace the story of Endymion.\\nThe very music of the name has gone\\nInto my being, and each pleasant scene\\nIs growing fresh before me as the green\\nOf our own vallies: so I will begin\\nNow while I cannot hear the city\\'s din;\\nNow while the early budders are just new,\\nAnd run in mazes of the youngest hue\\nAbout old forests; while the willow trails\\nIts delicate amber; and the dairy pails\\nBring home increase of milk. And, as the year\\nGrows lush in juicy stalks, I\\'ll smoothly steer\\nMy little boat, for many quiet hours,\\nWith streams that deepen freshly into bowers.\\nMany and many a verse I hope to write,\\nBefore the daisies, vermeil rimm\\'d and white,\\nHide in deep herbage; and ere yet the bees\\nHum about globes of clover and sweet peas,\\nI must be near the middle of my story.\\nO may no wintry season, bare and hoary,\\nSee it half finished: but let Autumn bold,\\nWith universal tinge of sober gold,\\nBe all about me when I make an end.\\nAnd now at once, adventuresome, I send\\nMy herald thought into a wilderness:\\nThere let its trumpet blow, and quickly dress\\nMy uncertain path with green, that I may speed\\nEasily onward, thorough flowers and weed.\\n\\n\\xa0 Upon the sides of Latmos was outspread\\nA mighty forest; for the moist earth fed\\nSo plenteously all weed-hidden roots\\nInto o\\'er-hanging boughs, and precious fruits.\\nAnd it had gloomy shades, sequestered deep,\\nWhere no man went; and if from shepherd\\'s keep\\nA lamb strayed far a-down those inmost glens,\\nNever again saw he the happy pens\\nWhither his brethren, bleating with content,\\nOver the hills at every nightfall went.\\nAmong the shepherds, \\'twas believed ever,\\nThat not one fleecy lamb which thus did sever\\nFrom the white flock, but pass\\'d unworried\\nBy angry wolf, or pard with prying head,\\nUntil it came to some unfooted plains\\nWhere fed the herds of Pan: ay great his gains\\nWho thus one lamb did lose. Paths there were many,\\nWinding through palmy fern, and rushes fenny,\\nAnd ivy banks; all leading pleasantly\\nTo a wide lawn, whence one could only see\\nStems thronging all around between the swell\\nOf turf and slanting branches: who could tell\\nThe freshness of the space of heaven above,\\nEdg\\'d round with dark tree tops? through which a dove\\nWould often beat its wings, and often too\\nA little cloud would move across the blue.\\n\\n\\xa0 Full in the middle of this pleasantness\\nThere stood a marble altar, with a tress\\nOf flowers budded newly; and the dew\\nHad taken fairy phantasies to strew\\nDaisies upon the sacred sward last eve,\\nAnd so the dawned light in pomp receive.\\nFor \\'twas the morn: Apollo\\'s upward fire\\nMade every eastern cloud a silvery pyre\\nOf brightness so unsullied, that therein\\nA melancholy spirit well might win\\nOblivion, and melt out his essence fine\\nInto the winds: rain-scented eglantine\\nGave temperate sweets to that well-wooing sun;\\nThe lark was lost in him; cold springs had run\\nTo warm their chilliest bubbles in the grass;\\nMan\\'s voice was on the mountains; and the mass\\nOf nature\\'s lives and wonders puls\\'d tenfold,\\nTo feel this sun-rise and its glories old.\\n\\n\\xa0 Now while the silent workings of the dawn\\nWere busiest, into that self-same lawn\\nAll suddenly, with joyful cries, there sped\\nA troop of little children garlanded;\\nWho gathering round the altar, seemed to pry\\nEarnestly round as wishing to espy\\nSome folk of holiday: nor had they waited\\nFor many moments, ere their ears were sated\\nWith a faint breath of music, which ev\\'n then\\nFill\\'d out its voice, and died away again.\\nWithin a little space again it gave\\nIts airy swellings, with a gentle wave,\\nTo light-hung leaves, in smoothest echoes breaking\\nThrough copse-clad vallies,—ere their death, oer-taking\\nThe surgy murmurs of the lonely sea.\\n\\n\\xa0 And now, as deep into the wood as we\\nMight mark a lynx\\'s eye, there glimmered light\\nFair faces and a rush of garments white,\\nPlainer and plainer shewing, till at last\\nInto the widest alley they all past,\\nMaking directly for the woodland altar.\\nO kindly muse! let not my weak tongue faulter\\nIn telling of this goodly company,\\nOf their old piety, and of their glee:\\nBut let a portion of ethereal dew\\nFall on my head, and presently unmew\\nMy soul; that I may dare, in wayfaring,\\nTo stammer where old Chaucer used to sing.\\n\\n\\xa0 Leading the way, young damsels danced along,\\nBearing the burden of a shepherd song;\\nEach having a white wicker over brimm\\'d\\nWith April\\'s tender younglings: next, well trimm\\'d,\\nA crowd of shepherds with as sunburnt looks\\nAs may be read of in Arcadian books;\\nSuch as sat listening round Apollo\\'s pipe,\\nWhen the great deity, for earth too ripe,\\nLet his divinity o\\'er-flowing die\\nIn music, through the vales of Thessaly:\\nSome idly trailed their sheep-hooks on the ground,\\nAnd some kept up a shrilly mellow sound\\nWith ebon-tipped flutes: close after these,\\nNow coming from beneath the forest trees,\\nA venerable priest full soberly,\\nBegirt with ministring looks: alway his eye\\nStedfast upon the matted turf he kept,\\nAnd after him his sacred vestments swept.\\nFrom his right hand there swung a vase, milk-white,\\nOf mingled wine, out-sparkling generous light;\\nAnd in his left he held a basket full\\nOf all sweet herbs that searching eye could cull:\\nWild thyme, and valley-lilies whiter still\\nThan Leda\\'s love, and cresses from the rill.\\nHis aged head, crowned with beechen wreath,\\nSeem\\'d like a poll of ivy in the teeth\\nOf winter hoar. Then came another crowd\\nOf shepherds, lifting in due time aloud\\nTheir share of the ditty. After them appear\\'d,\\nUp-followed by a multitude that rear\\'d\\nTheir voices to the clouds, a fair wrought car,\\nEasily rolling so as scarce to mar\\nThe freedom of three steeds of dapple brown:\\nWho stood therein did seem of great renown\\nAmong the throng. His youth was fully blown,\\nShewing like Ganymede to manhood grown;\\nAnd, for those simple times, his garments were\\nA chieftain king\\'s: beneath his breast, half bare,\\nWas hung a silver bugle, and between\\nHis nervy knees there lay a boar-spear keen.\\nA smile was on his countenance; he seem\\'d,\\nTo common lookers on, like one who dream\\'d\\nOf idleness in groves Elysian:\\nBut there were some who feelingly could scan\\nA lurking trouble in his nether lip,\\nAnd see that oftentimes the reins would slip\\nThrough his forgotten hands: then would they sigh,\\nAnd think of yellow leaves, of owlets cry,\\nOf logs piled solemnly.—Ah, well-a-day,\\nWhy should our young Endymion pine away!\\n\\n\\xa0 Soon the assembly, in a circle rang\\'d,\\nStood silent round the shrine: each look was chang\\'d\\nTo sudden veneration: women meek\\nBeckon\\'d their sons to silence; while each cheek\\nOf virgin bloom paled gently for slight fear.\\nEndymion too, without a forest peer,\\nStood, wan, and pale, and with an awed face,\\nAmong his brothers of the mountain chase.\\nIn midst of all, the venerable priest\\nEyed them with joy from greatest to the least,\\nAnd, after lifting up his aged hands,\\nThus spake he: \"Men of Latmos! shepherd bands!\\nWhose care it is to guard a thousand flocks:\\nWhether descended from beneath the rocks\\nThat overtop your mountains; whether come\\nFrom vallies where the pipe is never dumb;\\nOr from your swelling downs, where sweet air stirs\\nBlue hare-bells lightly, and where prickly furze\\nBuds lavish gold; or ye, whose precious charge\\nNibble their fill at ocean\\'s very marge,\\nWhose mellow reeds are touch\\'d with sounds forlorn\\nBy the dim echoes of old Triton\\'s horn:\\nMothers and wives! who day by day prepare\\nThe scrip, with needments, for the mountain air;\\nAnd all ye gentle girls who foster up\\nUdderless lambs, and in a little cup\\nWill put choice honey for a favoured youth:\\nYea, every one attend! for in good truth\\nOur vows are wanting to our great god Pan.\\nAre not our lowing heifers sleeker than\\nNight-swollen mushrooms? Are not our wide plains\\nSpeckled with countless fleeces? Have not rains\\nGreen\\'d over April\\'s lap? No howling sad\\nSickens our fearful ewes; and we have had\\nGreat bounty from Endymion our lord.\\nThe earth is glad: the merry lark has pour\\'d\\nHis early song against yon breezy sky,\\nThat spreads so clear o\\'er our solemnity.\"\\n\\n\\xa0 Thus ending, on the shrine he heap\\'d a spire\\nOf teeming sweets, enkindling sacred fire;\\nAnon he stain\\'d the thick and spongy sod\\nWith wine, in honour of the shepherd-god.\\nNow while the earth was drinking it, and while\\nBay leaves were crackling in the fragrant pile,\\nAnd gummy frankincense was sparkling bright\\n\\'Neath smothering parsley, and a hazy light\\nSpread greyly eastward, thus a chorus sang:\\n\\n\\xa0 \"O THOU, whose mighty palace roof doth hang\\nFrom jagged trunks, and overshadoweth\\nEternal whispers, glooms, the birth, life, death\\nOf unseen flowers in heavy peacefulness;\\nWho lov\\'st to see the hamadryads dress\\nTheir ruffled locks where meeting hazels darken;\\nAnd through whole solemn hours dost sit, and hearken\\nThe dreary melody of bedded reeds—\\nIn desolate places, where dank moisture breeds\\nThe pipy hemlock to strange overgrowth;\\nBethinking thee, how melancholy loth\\nThou wast to lose fair Syrinx—do thou now,\\nBy thy love\\'s milky brow!\\nBy all the trembling mazes that she ran,\\nHear us, great Pan!\\n\\n\\xa0 \"O thou, for whose soul-soothing quiet, turtles\\nPassion their voices cooingly \\'mong myrtles,\\nWhat time thou wanderest at eventide\\nThrough sunny meadows, that outskirt the side\\nOf thine enmossed realms: O thou, to whom\\nBroad leaved fig trees even now foredoom\\nTheir ripen\\'d fruitage; yellow girted bees\\nTheir golden honeycombs; our village leas\\nTheir fairest-blossom\\'d beans and poppied corn;\\nThe chuckling linnet its five young unborn,\\nTo sing for thee; low creeping strawberries\\nTheir summer coolness; pent up butterflies\\nTheir freckled wings; yea, the fresh budding year\\nAll its completions—be quickly near,\\nBy every wind that nods the mountain pine,\\nO forester divine!\\n\\n\\xa0 \"Thou, to whom every fawn and satyr flies\\nFor willing service; whether to surprise\\nThe squatted hare while in half sleeping fit;\\nOr upward ragged precipices flit\\nTo save poor lambkins from the eagle\\'s maw;\\nOr by mysterious enticement draw\\nBewildered shepherds to their path again;\\nOr to tread breathless round the frothy main,\\nAnd gather up all fancifullest shells\\nFor thee to tumble into Naiads\\' cells,\\nAnd, being hidden, laugh at their out-peeping;\\nOr to delight thee with fantastic leaping,\\nThe while they pelt each other on the crown\\nWith silvery oak apples, and fir cones brown—\\nBy all the echoes that about thee ring,\\nHear us, O satyr king!\\n\\n\\xa0 \"O Hearkener to the loud clapping shears,\\nWhile ever and anon to his shorn peers\\nA ram goes bleating: Winder of the horn,\\nWhen snouted wild-boars routing tender corn\\nAnger our huntsman: Breather round our farms,\\nTo keep off mildews, and all weather harms:\\nStrange ministrant of undescribed sounds,\\nThat come a swooning over hollow grounds,\\nAnd wither drearily on barren moors:\\nDread opener of the mysterious doors\\nLeading to universal knowledge—see,\\nGreat son of Dryope,\\nThe many that are come to pay their vows\\nWith leaves about their brows!\\n\\n\\xa0 Be still the unimaginable lodge\\nFor solitary thinkings; such as dodge\\nConception to the very bourne of heaven,\\nThen leave the naked brain: be still the leaven,\\nThat spreading in this dull and clodded earth\\nGives it a touch ethereal—a new birth:\\nBe still a symbol of immensity;\\nA firmament reflected in a sea;\\nAn element filling the space between;\\nAn unknown—but no more: we humbly screen\\nWith uplift hands our foreheads, lowly bending,\\nAnd giving out a shout most heaven rending,\\nConjure thee to receive our humble Paean,\\nUpon thy Mount Lycean!\\n\\n\\xa0 Even while they brought the burden to a close,\\nA shout from the whole multitude arose,\\nThat lingered in the air like dying rolls\\nOf abrupt thunder, when Ionian shoals\\nOf dolphins bob their noses through the brine.\\nMeantime, on shady levels, mossy fine,\\nYoung companies nimbly began dancing\\nTo the swift treble pipe, and humming string.\\nAye, those fair living forms swam heavenly\\nTo tunes forgotten—out of memory:\\nFair creatures! whose young children\\'s children bred\\nThermopylæ its heroes—not yet dead,\\nBut in old marbles ever beautiful.\\nHigh genitors, unconscious did they cull\\nTime\\'s sweet first-fruits—they danc\\'d to weariness,\\nAnd then in quiet circles did they press\\nThe hillock turf, and caught the latter end\\nOf some strange history, potent to send\\nA young mind from its bodily tenement.\\nOr they might watch the quoit-pitchers, intent\\nOn either side; pitying the sad death\\nOf Hyacinthus, when the cruel breath\\nOf Zephyr slew him,—Zephyr penitent,\\nWho now, ere Phoebus mounts the firmament,\\nFondles the flower amid the sobbing rain.\\nThe archers too, upon a wider plain,\\nBeside the feathery whizzing of the shaft,\\nAnd the dull twanging bowstring, and the raft\\nBranch down sweeping from a tall ash top,\\nCall\\'d up a thousand thoughts to envelope\\nThose who would watch. Perhaps, the trembling knee\\nAnd frantic gape of lonely Niobe,\\nPoor, lonely Niobe! when her lovely young\\nWere dead and gone, and her caressing tongue\\nLay a lost thing upon her paly lip,\\nAnd very, very deadliness did nip\\nHer motherly cheeks. Arous\\'d from this sad mood\\nBy one, who at a distance loud halloo\\'d,\\nUplifting his strong bow into the air,\\nMany might after brighter visions stare:\\nAfter the Argonauts, in blind amaze\\nTossing about on Neptune\\'s restless ways,\\nUntil, from the horizon\\'s vaulted side,\\nThere shot a golden splendour far and wide,\\nSpangling those million poutings of the brine\\nWith quivering ore: \\'twas even an awful shine\\nFrom the exaltation of Apollo\\'s bow;\\nA heavenly beacon in their dreary woe.\\nWho thus were ripe for high contemplating,\\nMight turn their steps towards the sober ring\\nWhere sat Endymion and the aged priest\\n\\'Mong shepherds gone in eld, whose looks increas\\'d\\nThe silvery setting of their mortal star.\\nThere they discours\\'d upon the fragile bar\\nThat keeps us from our homes ethereal;\\nAnd what our duties there: to nightly call\\nVesper, the beauty-crest of summer weather;\\nTo summon all the downiest clouds together\\nFor the sun\\'s purple couch; to emulate\\nIn ministring the potent rule of fate\\nWith speed of fire-tailed exhalations;\\nTo tint her pallid cheek with bloom, who cons\\nSweet poesy by moonlight: besides these,\\nA world of other unguess\\'d offices.\\nAnon they wander\\'d, by divine converse,\\nInto Elysium; vieing to rehearse\\nEach one his own anticipated bliss.\\nOne felt heart-certain that he could not miss\\nHis quick gone love, among fair blossom\\'d boughs,\\nWhere every zephyr-sigh pouts and endows\\nHer lips with music for the welcoming.\\nAnother wish\\'d, mid that eternal spring,\\nTo meet his rosy child, with feathery sails,\\nSweeping, eye-earnestly, through almond vales:\\nWho, suddenly, should stoop through the smooth wind,\\nAnd with the balmiest leaves his temples bind;\\nAnd, ever after, through those regions be\\nHis messenger, his little Mercury.\\nSome were athirst in soul to see again\\nTheir fellow huntsmen o\\'er the wide champaign\\nIn times long past; to sit with them, and talk\\nOf all the chances in their earthly walk;\\nComparing, joyfully, their plenteous stores\\nOf happiness, to when upon the moors,\\nBenighted, close they huddled from the cold,\\nAnd shar\\'d their famish\\'d scrips. Thus all out-told\\nTheir fond imaginations,—saving him\\nWhose eyelids curtain\\'d up their jewels dim,\\nEndymion: yet hourly had he striven\\nTo hide the cankering venom, that had riven\\nHis fainting recollections. Now indeed\\nHis senses had swoon\\'d off: he did not heed\\nThe sudden silence, or the whispers low,\\nOr the old eyes dissolving at his woe,\\nOr anxious calls, or close of trembling palms,\\nOr maiden\\'s sigh, that grief itself embalms:\\nBut in the self-same fixed trance he kept,\\nLike one who on the earth had never stept.\\nAye, even as dead-still as a marble man,\\nFrozen in that old tale Arabian.\\n\\n\\xa0 Who whispers him so pantingly and close?\\nPeona, his sweet sister: of all those,\\nHis friends, the dearest. Hushing signs she made,\\nAnd breath\\'d a sister\\'s sorrow to persuade\\nA yielding up, a cradling on her care.\\nHer eloquence did breathe away the curse:\\nShe led him, like some midnight spirit nurse\\nOf happy changes in emphatic dreams,\\nAlong a path between two little streams,—\\nGuarding his forehead, with her round elbow,\\nFrom low-grown branches, and his footsteps slow\\nFrom stumbling over stumps and hillocks small;\\nUntil they came to where these streamlets fall,\\nWith mingled bubblings and a gentle rush,\\nInto a river, clear, brimful, and flush\\nWith crystal mocking of the trees and sky.\\nA little shallop, floating there hard by,\\nPointed its beak over the fringed bank;\\nAnd soon it lightly dipt, and rose, and sank,\\nAnd dipt again, with the young couple\\'s weight,—\\nPeona guiding, through the water straight,\\nTowards a bowery island opposite;\\nWhich gaining presently, she steered light\\nInto a shady, fresh, and ripply cove,\\nWhere nested was an arbour, overwove\\nBy many a summer\\'s silent fingering;\\nTo whose cool bosom she was used to bring\\nHer playmates, with their needle broidery,\\nAnd minstrel memories of times gone by.\\n\\n\\xa0 So she was gently glad to see him laid\\nUnder her favourite bower\\'s quiet shade,\\nOn her own couch, new made of flower leaves,\\nDried carefully on the cooler side of sheaves\\nWhen last the sun his autumn tresses shook,\\nAnd the tann\\'d harvesters rich armfuls took.\\nSoon was he quieted to slumbrous rest:\\nBut, ere it crept upon him, he had prest\\nPeona\\'s busy hand against his lips,\\nAnd still, a sleeping, held her finger-tips\\nIn tender pressure. And as a willow keeps\\nA patient watch over the stream that creeps\\nWindingly by it, so the quiet maid\\nHeld her in peace: so that a whispering blade\\nOf grass, a wailful gnat, a bee bustling\\nDown in the blue-bells, or a wren light rustling\\nAmong seer leaves and twigs, might all be heard.\\n\\n\\xa0 O magic sleep! O comfortable bird,\\nThat broodest o\\'er the troubled sea of the mind\\nTill it is hush\\'d and smooth! O unconfin\\'d\\nRestraint! imprisoned liberty! great key\\nTo golden palaces, strange minstrelsy,\\nFountains grotesque, new trees, bespangled caves,\\nEchoing grottos, full of tumbling waves\\nAnd moonlight; aye, to all the mazy world\\nOf silvery enchantment!—who, upfurl\\'d\\nBeneath thy drowsy wing a triple hour,\\nBut renovates and lives?—Thus, in the bower,\\nEndymion was calm\\'d to life again.\\nOpening his eyelids with a healthier brain,\\nHe said: \"I feel this thine endearing love\\nAll through my bosom: thou art as a dove\\nTrembling its closed eyes and sleeked wings\\nAbout me; and the pearliest dew not brings\\nSuch morning incense from the fields of May,\\nAs do those brighter drops that twinkling stray\\nFrom those kind eyes,—the very home and haunt\\nOf sisterly affection. Can I want\\nAught else, aught nearer heaven, than such tears?\\nYet dry them up, in bidding hence all fears\\nThat, any longer, I will pass my days\\nAlone and sad. No, I will once more raise\\nMy voice upon the mountain-heights; once more\\nMake my horn parley from their foreheads hoar:\\nAgain my trooping hounds their tongues shall loll\\nAround the breathed boar: again I\\'ll poll\\nThe fair-grown yew tree, for a chosen bow:\\nAnd, when the pleasant sun is getting low,\\nAgain I\\'ll linger in a sloping mead\\nTo hear the speckled thrushes, and see feed\\nOur idle sheep. So be thou cheered sweet,\\nAnd, if thy lute is here, softly intreat\\nMy soul to keep in its resolved course.\"\\n\\n\\xa0 Hereat Peona, in their silver source,\\nShut her pure sorrow drops with glad exclaim,\\nAnd took a lute, from which there pulsing came\\nA lively prelude, fashioning the way\\nIn which her voice should wander. \\'Twas a lay\\nMore subtle cadenced, more forest wild\\nThan Dryope\\'s lone lulling of her child;\\nAnd nothing since has floated in the air\\nSo mournful strange. Surely some influence rare\\nWent, spiritual, through the damsel\\'s hand;\\nFor still, with Delphic emphasis, she spann\\'d\\nThe quick invisible strings, even though she saw\\nEndymion\\'s spirit melt away and thaw\\nBefore the deep intoxication.\\nBut soon she came, with sudden burst, upon\\nHer self-possession—swung the lute aside,\\nAnd earnestly said: \"Brother, \\'tis vain to hide\\nThat thou dost know of things mysterious,\\nImmortal, starry; such alone could thus\\nWeigh down thy nature. Hast thou sinn\\'d in aught\\nOffensive to the heavenly powers? Caught\\nA Paphian dove upon a message sent?\\nThy deathful bow against some deer-herd bent,\\nSacred to Dian? Haply, thou hast seen\\nHer naked limbs among the alders green;\\nAnd that, alas! is death. No, I can trace\\nSomething more high perplexing in thy face!\"\\n\\n\\xa0 Endymion look\\'d at her, and press\\'d her hand,\\nAnd said, \"Art thou so pale, who wast so bland\\nAnd merry in our meadows? How is this?\\nTell me thine ailment: tell me all amiss!—\\nAh! thou hast been unhappy at the change\\nWrought suddenly in me. What indeed more strange?\\nOr more complete to overwhelm surmise?\\nAmbition is no sluggard: \\'tis no prize,\\nThat toiling years would put within my grasp,\\nThat I have sigh\\'d for: with so deadly gasp\\nNo man e\\'er panted for a mortal love.\\nSo all have set my heavier grief above\\nThese things which happen. Rightly have they done:\\nI, who still saw the horizontal sun\\nHeave his broad shoulder o\\'er the edge of the world,\\nOut-facing Lucifer, and then had hurl\\'d\\nMy spear aloft, as signal for the chace—\\nI, who, for very sport of heart, would race\\nWith my own steed from Araby; pluck down\\nA vulture from his towery perching; frown\\nA lion into growling, loth retire—\\nTo lose, at once, all my toil breeding fire,\\nAnd sink thus low! but I will ease my breast\\nOf secret grief, here in this bowery nest.\\n\\n\\xa0 \"This river does not see the naked sky,\\nTill it begins to progress silverly\\nAround the western border of the wood,\\nWhence, from a certain spot, its winding flood\\nSeems at the distance like a crescent moon:\\nAnd in that nook, the very pride of June,\\nHad I been used to pass my weary eves;\\nThe rather for the sun unwilling leaves\\nSo dear a picture of his sovereign power,\\nAnd I could witness his most kingly hour,\\nWhen he doth lighten up the golden reins,\\nAnd paces leisurely down amber plains\\nHis snorting four. Now when his chariot last\\nIts beams against the zodiac-lion cast,\\nThere blossom\\'d suddenly a magic bed\\nOf sacred ditamy, and poppies red:\\nAt which I wondered greatly, knowing well\\nThat but one night had wrought this flowery spell;\\nAnd, sitting down close by, began to muse\\nWhat it might mean. Perhaps, thought I, Morpheus,\\nIn passing here, his owlet pinions shook;\\nOr, it may be, ere matron Night uptook\\nHer ebon urn, young Mercury, by stealth,\\nHad dipt his rod in it: such garland wealth\\nCame not by common growth. Thus on I thought,\\nUntil my head was dizzy and distraught.\\nMoreover, through the dancing poppies stole\\nA breeze, most softly lulling to my soul;\\nAnd shaping visions all about my sight\\nOf colours, wings, and bursts of spangly light;\\nThe which became more strange, and strange, and dim,\\nAnd then were gulph\\'d in a tumultuous swim:\\nAnd then I fell asleep. Ah, can I tell\\nThe enchantment that afterwards befel?\\nYet it was but a dream: yet such a dream\\nThat never tongue, although it overteem\\nWith mellow utterance, like a cavern spring,\\nCould figure out and to conception bring\\nAll I beheld and felt. Methought I lay\\nWatching the zenith, where the milky way\\nAmong the stars in virgin splendour pours;\\nAnd travelling my eye, until the doors\\nOf heaven appear\\'d to open for my flight,\\nI became loth and fearful to alight\\nFrom such high soaring by a downward glance:\\nSo kept me stedfast in that airy trance,\\nSpreading imaginary pinions wide.\\nWhen, presently, the stars began to glide,\\nAnd faint away, before my eager view:\\nAt which I sigh\\'d that I could not pursue,\\nAnd dropt my vision to the horizon\\'s verge;\\nAnd lo! from opening clouds, I saw emerge\\nThe loveliest moon, that ever silver\\'d o\\'er\\nA shell for Neptune\\'s goblet: she did soar\\nSo passionately bright, my dazzled soul\\nCommingling with her argent spheres did roll\\nThrough clear and cloudy, even when she went\\nAt last into a dark and vapoury tent—\\nWhereat, methought, the lidless-eyed train\\nOf planets all were in the blue again.\\nTo commune with those orbs, once more I rais\\'d\\nMy sight right upward: but it was quite dazed\\nBy a bright something, sailing down apace,\\nMaking me quickly veil my eyes and face:\\nAgain I look\\'d, and, O ye deities,\\nWho from Olympus watch our destinies!\\nWhence that completed form of all completeness?\\nWhence came that high perfection of all sweetness?\\nSpeak, stubborn earth, and tell me where, O Where\\nHast thou a symbol of her golden hair?\\nNot oat-sheaves drooping in the western sun;\\nNot—thy soft hand, fair sister! let me shun\\nSuch follying before thee—yet she had,\\nIndeed, locks bright enough to make me mad;\\nAnd they were simply gordian\\'d up and braided,\\nLeaving, in naked comeliness, unshaded,\\nHer pearl round ears, white neck, and orbed brow;\\nThe which were blended in, I know not how,\\nWith such a paradise of lips and eyes,\\nBlush-tinted cheeks, half smiles, and faintest sighs,\\nThat, when I think thereon, my spirit clings\\nAnd plays about its fancy, till the stings\\nOf human neighbourhood envenom all.\\nUnto what awful power shall I call?\\nTo what high fane?—Ah! see her hovering feet,\\nMore bluely vein\\'d, more soft, more whitely sweet\\nThan those of sea-born Venus, when she rose\\nFrom out her cradle shell. The wind out-blows\\nHer scarf into a fluttering pavilion;\\n\\'Tis blue, and over-spangled with a million\\nOf little eyes, as though thou wert to shed,\\nOver the darkest, lushest blue-bell bed,\\nHandfuls of daisies.\"—\"Endymion, how strange!\\nDream within dream!\"—\"She took an airy range,\\nAnd then, towards me, like a very maid,\\nCame blushing, waning, willing, and afraid,\\nAnd press\\'d me by the hand: Ah! \\'twas too much;\\nMethought I fainted at the charmed touch,\\nYet held my recollection, even as one\\nWho dives three fathoms where the waters run\\nGurgling in beds of coral: for anon,\\nI felt upmounted in that region\\nWhere falling stars dart their artillery forth,\\nAnd eagles struggle with the buffeting north\\nThat balances the heavy meteor-stone;—\\nFelt too, I was not fearful, nor alone,\\nBut lapp\\'d and lull\\'d along the dangerous sky.\\nSoon, as it seem\\'d, we left our journeying high,\\nAnd straightway into frightful eddies swoop\\'d;\\nSuch as ay muster where grey time has scoop\\'d\\nHuge dens and caverns in a mountain\\'s side:\\nThere hollow sounds arous\\'d me, and I sigh\\'d\\nTo faint once more by looking on my bliss—\\nI was distracted; madly did I kiss\\nThe wooing arms which held me, and did give\\nMy eyes at once to death: but \\'twas to live,\\nTo take in draughts of life from the gold fount\\nOf kind and passionate looks; to count, and count\\nThe moments, by some greedy help that seem\\'d\\nA second self, that each might be redeem\\'d\\nAnd plunder\\'d of its load of blessedness.\\nAh, desperate mortal! I ev\\'n dar\\'d to press\\nHer very cheek against my crowned lip,\\nAnd, at that moment, felt my body dip\\nInto a warmer air: a moment more,\\nOur feet were soft in flowers. There was store\\nOf newest joys upon that alp. Sometimes\\nA scent of violets, and blossoming limes,\\nLoiter\\'d around us; then of honey cells,\\nMade delicate from all white-flower bells;\\nAnd once, above the edges of our nest,\\nAn arch face peep\\'d,—an Oread as I guess\\'d.\\n\\n\\xa0 \"Why did I dream that sleep o\\'er-power\\'d me\\nIn midst of all this heaven? Why not see,\\nFar off, the shadows of his pinions dark,\\nAnd stare them from me? But no, like a spark\\nThat needs must die, although its little beam\\nReflects upon a diamond, my sweet dream\\nFell into nothing—into stupid sleep.\\nAnd so it was, until a gentle creep,\\nA careful moving caught my waking ears,\\nAnd up I started: Ah! my sighs, my tears,\\nMy clenched hands;—for lo! the poppies hung\\nDew-dabbled on their stalks, the ouzel sung\\nA heavy ditty, and the sullen day\\nHad chidden herald Hesperus away,\\nWith leaden looks: the solitary breeze\\nBluster\\'d, and slept, and its wild self did teaze\\nWith wayward melancholy; and r thought,\\nMark me, Peona! that sometimes it brought\\nFaint fare-thee-wells, and sigh-shrilled adieus!—\\nAway I wander\\'d—all the pleasant hues\\nOf heaven and earth had faded: deepest shades\\nWere deepest dungeons; heaths and sunny glades\\nWere full of pestilent light; our taintless rills\\nSeem\\'d sooty, and o\\'er-spread with upturn\\'d gills\\nOf dying fish; the vermeil rose had blown\\nIn frightful scarlet, and its thorns out-grown\\nLike spiked aloe. If an innocent bird\\nBefore my heedless footsteps stirr\\'d, and stirr\\'d\\nIn little journeys, I beheld in it\\nA disguis\\'d demon, missioned to knit\\nMy soul with under darkness; to entice\\nMy stumblings down some monstrous precipice:\\nTherefore I eager followed, and did curse\\nThe disappointment. Time, that aged nurse,\\nRock\\'d me to patience. Now, thank gentle heaven!\\nThese things, with all their comfortings, are given\\nTo my down-sunken hours, and with thee,\\nSweet sister, help to stem the ebbing sea\\nOf weary life.\"\\n\\n\\xa0 \\xa0 \\xa0 \\xa0 \\xa0 \\xa0 \\xa0 \\xa0 \\xa0 Thus ended he, and both\\nSat silent: for the maid was very loth\\nTo answer; feeling well that breathed words\\nWould all be lost, unheard, and vain as swords\\nAgainst the enchased crocodile, or leaps\\nOf grasshoppers against the sun. She weeps,\\nAnd wonders; struggles to devise some blame;\\nTo put on such a look as would say, Shame\\nOn this poor weakness! but, for all her strife,\\nShe could as soon have crush\\'d away the life\\nFrom a sick dove. At length, to break the pause,\\nShe said with trembling chance: \"Is this the cause?\\nThis all? Yet it is strange, and sad, alas!\\nThat one who through this middle earth should pass\\nMost like a sojourning demi-god, and leave\\nHis name upon the harp-string, should achieve\\nNo higher bard than simple maidenhood,\\nSinging alone, and fearfully,—how the blood\\nLeft his young cheek; and how he used to stray\\nHe knew not where; and how he would say, nay,\\nIf any said \\'twas love: and yet \\'twas love;\\nWhat could it be but love? How a ring-dove\\nLet fall a sprig of yew tree in his path;\\nAnd how he died: and then, that love doth scathe,\\nThe gentle heart, as northern blasts do roses;\\nAnd then the ballad of his sad life closes\\nWith sighs, and an alas!—Endymion!\\nBe rather in the trumpet\\'s mouth,—anon\\nAmong the winds at large—that all may hearken!\\nAlthough, before the crystal heavens darken,\\nI watch and dote upon the silver lakes\\nPictur\\'d in western cloudiness, that takes\\nThe semblance of gold rocks and bright gold sands,\\nIslands, and creeks, and amber-fretted strands\\nWith horses prancing o\\'er them, palaces\\nAnd towers of amethyst,—would I so tease\\nMy pleasant days, because I could not mount\\nInto those regions? The Morphean fount\\nOf that fine element that visions, dreams,\\nAnd fitful whims of sleep are made of, streams\\nInto its airy channels with so subtle,\\nSo thin a breathing, not the spider\\'s shuttle,\\nCircled a million times within the space\\nOf a swallow\\'s nest-door, could delay a trace,\\nA tinting of its quality: how light\\nMust dreams themselves be; seeing they\\'re more slight\\nThan the mere nothing that engenders them!\\nThen wherefore sully the entrusted gem\\nOf high and noble life with thoughts so sick?\\nWhy pierce high-fronted honour to the quick\\nFor nothing but a dream?\" Hereat the youth\\nLook\\'d up: a conflicting of shame and ruth\\nWas in his plaited brow: yet his eyelids\\nWidened a little, as when Zephyr bids\\nA little breeze to creep between the fans\\nOf careless butterflies: amid his pains\\nHe seem\\'d to taste a drop of manna-dew,\\nFull palatable; and a colour grew\\nUpon his cheek, while thus he lifeful spake.\\n\\n\\xa0 \"Peona! ever have I long\\'d to slake\\nMy thirst for the world\\'s praises: nothing base,\\nNo merely slumberous phantasm, could unlace\\nThe stubborn canvas for my voyage prepar\\'d—\\nThough now \\'tis tatter\\'d; leaving my bark bar\\'d\\nAnd sullenly drifting: yet my higher hope\\nIs of too wide, too rainbow-large a scope,\\nTo fret at myriads of earthly wrecks.\\nWherein lies happiness? In that which becks\\nOur ready minds to fellowship divine,\\nA fellowship with essence; till we shine,\\nFull alchemiz\\'d, and free of space. Behold\\nThe clear religion of heaven! Fold\\nA rose leaf round thy finger\\'s taperness,\\nAnd soothe thy lips: hist, when the airy stress\\nOf music\\'s kiss impregnates the free winds,\\nAnd with a sympathetic touch unbinds\\nEolian magic from their lucid wombs:\\nThen old songs waken from enclouded tombs;\\nOld ditties sigh above their father\\'s grave;\\nGhosts of melodious prophecyings rave\\nRound every spot where trod Apollo\\'s foot;\\nBronze clarions awake, and faintly bruit,\\nWhere long ago a giant battle was;\\nAnd, from the turf, a lullaby doth pass\\nIn every place where infant Orpheus slept.\\nFeel we these things?—that moment have we stept\\nInto a sort of oneness, and our state\\nIs like a floating spirit\\'s. But there are\\nRicher entanglements, enthralments far\\nMore self-destroying, leading, by degrees,\\nTo the chief intensity: the crown of these\\nIs made of love and friendship, and sits high\\nUpon the forehead of humanity.\\nAll its more ponderous and bulky worth\\nIs friendship, whence there ever issues forth\\nA steady splendour; but at the tip-top,\\nThere hangs by unseen film, an orbed drop\\nOf light, and that is love: its influence,\\nThrown in our eyes, genders a novel sense,\\nAt which we start and fret; till in the end,\\nMelting into its radiance, we blend,\\nMingle, and so become a part of it,—\\nNor with aught else can our souls interknit\\nSo wingedly: when we combine therewith,\\nLife\\'s self is nourish\\'d by its proper pith,\\nAnd we are nurtured like a pelican brood.\\nAye, so delicious is the unsating food,\\nThat men, who might have tower\\'d in the van\\nOf all the congregated world, to fan\\nAnd winnow from the coming step of time\\nAll chaff of custom, wipe away all slime\\nLeft by men-slugs and human serpentry,\\nHave been content to let occasion die,\\nWhilst they did sleep in love\\'s elysium.\\nAnd, truly, I would rather be struck dumb,\\nThan speak against this ardent listlessness:\\nFor I have ever thought that it might bless\\nThe world with benefits unknowingly;\\nAs does the nightingale, upperched high,\\nAnd cloister\\'d among cool and bunched leaves—\\nShe sings but to her love, nor e\\'er conceives\\nHow tiptoe Night holds back her dark-grey hood.\\nJust so may love, although \\'tis understood\\nThe mere commingling of passionate breath,\\nProduce more than our searching witnesseth:\\nWhat I know not: but who, of men, can tell\\nThat flowers would bloom, or that green fruit would swell\\nTo melting pulp, that fish would have bright mail,\\nThe earth its dower of river, wood, and vale,\\nThe meadows runnels, runnels pebble-stones,\\nThe seed its harvest, or the lute its tones,\\nTones ravishment, or ravishment its sweet,\\nIf human souls did never kiss and greet?\\n\\n\\xa0 \"Now, if this earthly love has power to make\\nMen\\'s being mortal, immortal; to shake\\nAmbition from their memories, and brim\\nTheir measure of content; what merest whim,\\nSeems all this poor endeavour after fame,\\nTo one, who keeps within his stedfast aim\\nA love immortal, an immortal too.\\nLook not so wilder\\'d; for these things are true,\\nAnd never can be born of atomies\\nThat buzz about our slumbers, like brain-flies,\\nLeaving us fancy-sick. No, no, I\\'m sure,\\nMy restless spirit never could endure\\nTo brood so long upon one luxury,\\nUnless it did, though fearfully, espy\\nA hope beyond the shadow of a dream.\\nMy sayings will the less obscured seem,\\nWhen I have told thee how my waking sight\\nHas made me scruple whether that same night\\nWas pass\\'d in dreaming. Hearken, sweet Peona!\\nBeyond the matron-temple of Latona,\\nWhich we should see but for these darkening boughs,\\nLies a deep hollow, from whose ragged brows\\nBushes and trees do lean all round athwart,\\nAnd meet so nearly, that with wings outraught,\\nAnd spreaded tail, a vulture could not glide\\nPast them, but he must brush on every side.\\nSome moulder\\'d steps lead into this cool cell,\\nFar as the slabbed margin of a well,\\nWhose patient level peeps its crystal eye\\nRight upward, through the bushes, to the sky.\\nOft have I brought thee flowers, on their stalks set\\nLike vestal primroses, but dark velvet\\nEdges them round, and they have golden pits:\\n\\'Twas there I got them, from the gaps and slits\\nIn a mossy stone, that sometimes was my seat,\\nWhen all above was faint with mid-day heat.\\nAnd there in strife no burning thoughts to heed,\\nI\\'d bubble up the water through a reed;\\nSo reaching back to boy-hood: make me ships\\nOf moulted feathers, touchwood, alder chips,\\nWith leaves stuck in them; and the Neptune be\\nOf their petty ocean. Oftener, heavily,\\nWhen love-lorn hours had left me less a child,\\nI sat contemplating the figures wild\\nOf o\\'er-head clouds melting the mirror through.\\nUpon a day, while thus I watch\\'d, by flew\\nA cloudy Cupid, with his bow and quiver;\\nSo plainly character\\'d, no breeze would shiver\\nThe happy chance: so happy, I was fain\\nTo follow it upon the open plain,\\nAnd, therefore, was just going; when, behold!\\nA wonder, fair as any I have told—\\nThe same bright face I tasted in my sleep,\\nSmiling in the clear well. My heart did leap\\nThrough the cool depth.—It moved as if to flee—\\nI started up, when lo! refreshfully,\\nThere came upon my face, in plenteous showers,\\nDew-drops, and dewy buds, and leaves, and flowers,\\nWrapping all objects from my smothered sight,\\nBathing my spirit in a new delight.\\nAye, such a breathless honey-feel of bliss\\nAlone preserved me from the drear abyss\\nOf death, for the fair form had gone again.\\nPleasure is oft a visitant; but pain\\nClings cruelly to us, like the gnawing sloth\\nOn the deer\\'s tender haunches: late, and loth,\\n\\'Tis scar\\'d away by slow returning pleasure.\\nHow sickening, how dark the dreadful leisure\\nOf weary days, made deeper exquisite,\\nBy a fore-knowledge of unslumbrous night!\\nLike sorrow came upon me, heavier still,\\nThan when I wander\\'d from the poppy hill:\\nAnd a whole age of lingering moments crept\\nSluggishly by, ere more contentment swept\\nAway at once the deadly yellow spleen.\\nYes, thrice have I this fair enchantment seen;\\nOnce more been tortured with renewed life.\\nWhen last the wintry gusts gave over strife\\nWith the conquering sun of spring, and left the skies\\nWarm and serene, but yet with moistened eyes\\nIn pity of the shatter\\'d infant buds,—\\nThat time thou didst adorn, with amber studs,\\nMy hunting cap, because I laugh\\'d and smil\\'d,\\nChatted with thee, and many days exil\\'d\\nAll torment from my breast;—\\'twas even then,\\nStraying about, yet, coop\\'d up in the den\\nOf helpless discontent,—hurling my lance\\nFrom place to place, and following at chance,\\nAt last, by hap, through some young trees it struck,\\nAnd, plashing among bedded pebbles, stuck\\nIn the middle of a brook,—whose silver ramble\\nDown twenty little falls, through reeds and bramble,\\nTracing along, it brought me to a cave,\\nWhence it ran brightly forth, and white did lave\\nThe nether sides of mossy stones and rock,—\\n\\'Mong which it gurgled blythe adieus, to mock\\nIts own sweet grief at parting. Overhead,\\nHung a lush screen of drooping weeds, and spread\\nThick, as to curtain up some wood-nymph\\'s home.\\n\"Ah! impious mortal, whither do I roam?\"\\nSaid I, low voic\\'d: \"Ah whither! \\'Tis the grot\\nOf Proserpine, when Hell, obscure and hot,\\nDoth her resign; and where her tender hands\\nShe dabbles, on the cool and sluicy sands:\\nOr \\'tis the cell of Echo, where she sits,\\nAnd babbles thorough silence, till her wits\\nAre gone in tender madness, and anon,\\nFaints into sleep, with many a dying tone\\nOf sadness. O that she would take my vows,\\nAnd breathe them sighingly among the boughs,\\nTo sue her gentle ears for whose fair head,\\nDaily, I pluck sweet flowerets from their bed,\\nAnd weave them dyingly—send honey-whispers\\nRound every leaf, that all those gentle lispers\\nMay sigh my love unto her pitying!\\nO charitable echo! hear, and sing\\nThis ditty to her!—tell her\"—so I stay\\'d\\nMy foolish tongue, and listening, half afraid,\\nStood stupefied with my own empty folly,\\nAnd blushing for the freaks of melancholy.\\nSalt tears were coming, when I heard my name\\nMost fondly lipp\\'d, and then these accents came:\\n‘Endymion! the cave is secreter\\nThan the isle of Delos. Echo hence shall stir\\nNo sighs but sigh-warm kisses, or light noise\\nOf thy combing hand, the while it travelling cloys\\nAnd trembles through my labyrinthine hair.\"\\nAt that oppress\\'d I hurried in.—Ah! where\\nAre those swift moments? Whither are they fled?\\nI\\'ll smile no more, Peona; nor will wed\\nSorrow the way to death, but patiently\\nBear up against it: so farewel, sad sigh;\\nAnd come instead demurest meditation,\\nTo occupy me wholly, and to fashion\\nMy pilgrimage for the world\\'s dusky brink.\\nNo more will I count over, link by link,\\nMy chain of grief: no longer strive to find\\nA half-forgetfulness in mountain wind\\nBlustering about my ears: aye, thou shalt see,\\nDearest of sisters, what my life shall be;\\nWhat a calm round of hours shall make my days.\\nThere is a paly flame of hope that plays\\nWhere\\'er I look: but yet, I\\'ll say \\'tis naught—\\nAnd here I bid it die. Have not I caught,\\nAlready, a more healthy countenance?\\nBy this the sun is setting; we may chance\\nMeet some of our near-dwellers with my car.\"\\n\\n\\xa0 This said, he rose, faint-smiling like a star\\nThrough autumn mists, and took Peona\\'s hand:\\nThey stept into the boat, and launch\\'d from land.ENDYMION. \\nA Romance. \\n\\n\"The stretched metre of an antique song.\" ~ \\nShakspeare\\'s Sonnets.  \\nINSCRIBED, \\nWith Every Feeling Of Pride and Regret \\nand With \"A Bowed Mind,\" \\nTo the Memory of \\nThe Most English of Poets Except Shakspeare, \\nTHOMAS CHATTERON.\\n------------------------\\n\\n(line 144): A lovely allusion to the story of Apollo\\'s nine years\\' sojourn on earth as the herdsman of Admetus, when banished from Olympus for killing the Cyclops who had forged the thunder-bolts wherewith AEsculapius had been slain.\\n(line 232): It was the Hymn to Pan beginning here that the young poet when engaged in the composition of Endymion was induced to recite in the presence of Wordsworth, on the 28th of December 1817, at Haydon\\'s house. Leigh Hunt records that the elder poet pronounced it \"a very pretty piece of paganism.\"\\n(line 319): Doubtless meant to refer specially to the Elgin marbles.\\n(line 347): The reference here is to the passage from the second Book of the Argonautica of Apollonius Rhodius, beginning at verse 674 ... which Shelley had in mind when (Prose Works, Vol. 3, p. 56) he alluded to the Apollo \"so finely described by Apollonius Rhodius when the dazzling radiance of his beautiful limbs suddenly shone over the dark Euxine.\"\\n __ note found before the Preface of Endymion, in the Poetical Works of John Keats, ed. H. Buxton Forman, Crowell publ. 1895. ...,\\n\\'In Woodhouse\\'s copy of Endymion there is a note against the passage \"so I will begin\" &c., line 39, Book I, to the effect that the poem was begun in the spring of 1817 and finished in the winter of 1817-18; and in the title-page he has inserted April before 1818. The statement corresponds with Keats\\'s own record of May 1817, that he was busying himself at Margate with the commencement of Endymion.\\'\\nPREFACE. \\nKnowing within myself the manner in which this Poem has been produced, it is not without a feeling of regret that I make it public. \\nWhat manner I mean, will be quite clear to the reader, who must soon perceive great inexperience, immaturity, and every error denoting a feverish attempt, rather than a deed accomplished. The two first books, and indeed the two last, I feel sensible are not of such completion as to warrant their passing the press; nor should they if I thought a year\\'s castigation would do them any good; -- it will not: the foundations are too sandy. It is just that this youngster should die away: a sad thought for me, if I had not some hope that while it is dwindling I may be plotting, and fitting myself for verses fit to live.\\nThis may be speaking too presumptuously, and may deserve a punishment: but no feeling man will be forward to inflict it: he will leave me alone, with the conviction that there is not a fiercer hell than the failure in a great object. This is not written with the least atom of purpose to forestall criticisms of course, but from the desire I have to conciliate men who are competent to look, and who do look with a zealous eye, to the honor of English literature.\\nThe imagination of a boy is healthy, and the mature imagination of a man is healthy; but there is a space of life between, in which the soul is in a ferment, the character undecided, the way of life uncertain, the ambition thick-sighted: thence proceeds mawkishness, and all the thousand bitters which those men I speak of must necessarily taste in going over the following pages.\\nI hope I have not in too late a day touched the beautiful mythology of Greece, and dulled its brightness: for I wish to try once more, before I bid it farewell.\\nTeignmouth, April 10, 1818.\\n[footnote] Woodhouse notes -- \"[for I wish to try once more,] This alluded to his then intention of writing a poem on the fall of Hyperion. He commenced this poem: but, thanks to the critics who fell foul of this work, he discontinued it. The fragment was published in 1820.\"     '}, {'Unnamed: 0': 11, 'Title': \"Sonnet XI. On First Looking Into Chapman's Homer\", 'Poem': 'much have travell in the realms of gold and many goodly states and kingdoms seen round many western islands have been which bards in fealty to apollo hold oft of one wide expanse had been told that deep brow homer ruled as his demesne yet did never breathe its pure serene till heard chapman speak out loud and bold then felt like some watcher of the skies when new planet swims into his ken or like stout cortez when with eagle eyes he star at the pacific and all his men look at each other with wild surmise silent upon peak in darien charles cowden clarke says in the article in the gentleman magazine february 1874 that this sonnet was sent to him by keats so as to reach him at 10 of the clock one morning when they two had parted at day spring after night encounter with copy of chapman homer belonging to mr alsager of the times mr locker possess an undated manuscript of the sonnet in keast writing headed on the first looking into chapman homer while in tom keats copy book the heading is sonnet on looking into chapman homer and the date 1816 poetical works of john keats ed buxton forman crowell publ 1895', 'Poem_for_Human': 'Much have I travell\\'d in the realms of gold, \\xa0 \\xa0 \\xa0 \\xa0  And many goodly states and kingdoms seen;\\xa0 \\xa0 \\xa0 \\xa0  Round many western islands have I been\\xa0 \\xa0  Which bards in fealty to Apollo hold.\\xa0 \\xa0  Oft of one wide expanse had I been told\\xa0 \\xa0 \\xa0 \\xa0  That deep-brow\\'d Homer ruled as his demesne;\\xa0 \\xa0 \\xa0 \\xa0  Yet did I never breathe its pure serene\\xa0 \\xa0  Till I heard Chapman speak out loud and bold:\\xa0 \\xa0  Then felt I like some watcher of the skies\\xa0 \\xa0 \\xa0 \\xa0  When a new planet swims into his ken;\\xa0 \\xa0  Or like stout Cortez when with eagle eyes\\xa0 \\xa0 \\xa0 \\xa0  He star\\'d at the Pacific -- and all his men\\xa0 \\xa0  Look\\'d at each other with a wild surmise --\\xa0 \\xa0 \\xa0 \\xa0  Silent, upon a peak in Darien.\\'Charles Cowden Clarke says, in the article in The Gentleman\\'s Magazine [Feb. 1874], that this sonnet was sent to him by Keats so as to reach him at 10 o\\'clock one morning when they two had parted \"at day-spring\" after a night encounter with a copy of Chapman\\'s Homer belonging to Mr. Alsager of The Times. Mr. F. Locker possess an undated manuscript of the sonnet in Keast\\'s writing, headed \"On the first looking into Chapman\\'s Homer;\" while in Tom Keats\\'s copy-book the heading is \"Sonnet on looking into Chapman\\'s Homer,\" and the date \"1816.\"~ Poetical Works of John Keats, ed. H. Buxton Forman, Crowell publ. 1895.     '}, {'Unnamed: 0': 12, 'Title': 'Sonnet To Sleep', 'Poem': 'soft embalmer of the still midnight shutting with careful fingers and benign our gloom pleas eyes embower from the light enshaded in forgetfulness divine soothest sleep if so it please thee close in midst of this thine hymn my willing eyes or wait the amen ere thy poppy throws around my bed its lulling charities then save me or the passed day will shine upon my pillow breeding many woes save me from curious conscience that still hoards its strength for darkness burrowing like mole turn the key deftly in the oiled wards and seal the hushed casket of my soul', 'Poem_for_Human': \"O soft embalmer of the still midnight!\\nShutting, with careful fingers and benign,\\nOur gloom-pleas'd eyes, embower'd from the light,\\n\\xa0 \\xa0  Enshaded in forgetfulness divine;\\nO soothest Sleep! if so it please thee, close,\\n\\xa0 \\xa0  In midst of this thine hymn, my willing eyes.\\nOr wait the Amen, ere thy poppy throws\\n\\xa0 \\xa0  Around my bed its lulling charities;\\n\\xa0 \\xa0  Then save me, or the passed day will shine\\nUpon my pillow, breeding many woes;\\n\\xa0 \\xa0  Save me from curious conscience, that still hoards\\nIts strength for darkness, burrowing like a mole;\\n\\xa0 \\xa0  Turn the key deftly in the oiled wards,\\nAnd seal the hushed casket of my soul.     \"}, {'Unnamed: 0': 13, 'Title': \"Sonnet. If By Dull Rhymes Our English Must Be Chain'd\", 'Poem': 'if by dull rhymes our english must be chain and like andromeda the sonnet sweet fetter in spite of pained loveliness let us find out if we must be constrain sandals more interwoven and complete to fit the naked foot of poesy let us inspect the lyre and weigh the stress of every chord and see what may be gain by ear industrious and attention meet misers of sound and syllable no less than midas of his coinage let us be jealous of dead leaves in the bay wreath crown so if we may not let the muse be free she will be bound with garlands of her own form sonnet abcabdcabcdede line andromeda ethiopian princess who was rescued from monster by perseus her husband to be line 11 midas phrygian king who wished for gold more than anything and was granted the ambiguous gift of turning everything he touched into gold this experiment in sonnet metre appears to have been written on or very shortly before the 3rd of may 1819 and was first given in the life letters 1848 it was the last poem transcribed in the journal letter to george keats and his wife begun on the 14th of february and ended on the 3rd of may and stood immediately over the words this is the third of may and under the following paragraph have been endeavouring to discover better sonnet stanza than we have the legitimate does not suit the language well from the pouncing rhymes the other appears too elegiac and the couplet at the end of it has seldom pleasing effect do not pretend to have succeeded it will explain itself poetical works of john keats ed buxton forman crowell publ 1895', 'Poem_for_Human': 'If by dull rhymes our English must be chain\\'d,\\xa0 \\xa0  And, like Andromeda, the Sonnet sweet\\xa0  Fetter\\'d, in spite of pained loveliness;\\xa0  Let us find out, if we must be constrain\\'d,\\xa0 \\xa0  Sandals more interwoven and complete\\xa0  To fit the naked foot of poesy;\\xa0  Let us inspect the lyre, and weigh the stress\\xa0  Of every chord, and see what may be gain\\'d\\xa0 \\xa0  By ear industrious, and attention meet:\\xa0 Misers of sound and syllable, no less\\xa0 \\xa0 Than Midas of his coinage, let us be\\xa0 \\xa0 Jealous of dead leaves in the bay wreath crown;\\xa0 So, if we may not let the Muse be free,\\xa0 \\xa0 She will be bound with garlands of her own.Form: Sonnet (abcabdcabcdede).(line 2): Andromeda: Ethiopian princess who was rescued from a monster by Perseus, her husband-to-be.(line 11): Midas: Phrygian king who wished for gold, more than anything, and was granted the ambiguous gift of turning everything he touched into gold.\\'This experiment in sonnet metre appears to have been written on or very shortly before the 3rd of May 1819, and was first given in the Life, Letters &c. (1848). It was the last poem transcribed in the journal letter to George Keats and his wife begun on the 14th of February and ended on the 3rd of May, and stood immediately over the words \"This is the third of May,\" and under the following paragraph -- \"I have been endeavouring to discover a better Sonnet stanza than we have. The legitimate does not suit the language well, from the pouncing rhymes; the other appears too elegiac, and the couplet at the end of it has seldom a pleasing effect. I do not pretend to have succeeded. It will explain itself.\"~ Poetical Works of John Keats, ed. H. Buxton Forman, Crowell publ. 1895.     '}, {'Unnamed: 0': 14, 'Title': 'Sonnet VII. To Solitude', 'Poem': 'solitude if must with thee dwell let it not be among the jumbled heapof murky buildings climb with me the steep nature observatory—whence the dell in flowery slopes its river crystal swell may seem span let me thy vigils keep mongst boughs pavilioned where the deer swift leapstartles the wild bee from the foxglove bell but though will gladly trace these scenes with thee yet the sweet converse of an innocent mind whose words are images of thoughts refined is my soul pleasure and it sure must bealmost the highest bliss of human kind when to thy haunts two kindred spirits flee this sonnet published in the examiner for the 5th of may 1816 signed is stated by charles cowden clarke gentleman magazine for february 1874 to be keats first published poem in tom keats copy book it is headed sonnet to solitude and undated the only variation is in line would for will the examiner reads rivers for river in line and lines and 10 stand thus ah fain would frequent such scenes with thee but the sweet converse of an innocent mind poetical works of john keats ed buxton forman crowell publ 1895', 'Poem_for_Human': 'O Solitude! if I must with thee dwell,Let it not be among the jumbled heapOf murky buildings: climb with me the steep,— Nature\\'s observatory—whence the dell,In flowery slopes, its river\\'s crystal swell,May seem a span; let me thy vigils keep\\'Mongst boughs pavilioned, where the deer\\'s swift leapStartles the wild bee from the foxglove bell.But though I\\'ll gladly trace these scenes with thee,Yet the sweet converse of an innocent mind,Whose words are images of thoughts refined,Is my soul\\'s pleasure; and it sure must beAlmost the highest bliss of human-kind,When to thy haunts two kindred spirits flee.\\'This Sonnet, published in The Examiner for the 5th of May 1816, signed \"J. K.,\" is stated by Charles Cowden Clarke (Gentleman\\'s Magazine for February 1874) to be \"Keats\\'s first published poem.\" In Tom Keats\\'s copy-book it is headed \"Sonnet to Solitude,\" and undated. The only variation is in line 9,-- \"I\\'d\" for \"I\\'ll.\"  The Examiner reads \"rivers\" for \"river\\'s\" in line 5, and lines 9 and 10 stand thus -- Ah! fain would I frequent such scenes with thee;But the sweet converse of an innocent mind.\\'~ Poetical Works of John Keats, ed. H. Buxton Forman, Crowell publ. 1895.     '}, {'Unnamed: 0': 15, 'Title': 'Two Sonnets. To Haydon, With A Sonnet Written On Seeing The Elgin Marbles', 'Poem': 'haydon forgive me that cannot speak definitively of these mighty things forgive me that have not eagle wings that what want know not where to seek and think that would not be over meek in rolling out upfollowed thunderings even to the steep of heliconian springs were of ample strength for such freak think too that all these numbers should be thine whose else in this who touch thy vesture hem for when men stared at what was most divine with brainless idiotism and erwise phlegm thou hadst beheld the full hesperian shine of their star in the east and gone to worship them ii on seeing the elgin marbles my spirit is too weak mortality weighs heavily upon me like unwilling sleep and each imagined pinnacle and steep of godlike hardship tells me must die like sick eagle looking at the sky yet it is gentle luxury to weep that have not the cloudy winds to keep fresh for the opening of the morning eye such dim conceived glories of the brain bring round the heart an undescribable feud so do these wonders most dizzy pain that mingles grecian grandeur with the rude wasting of old time with billowy main sun shadow of magnitude in regard to this subject it will be remembered that haydon had been most energetic in preaching the gospel of the elgin marbles and that his friends claimed for him the distinction of being the first to apply to modern art the principles of those immortal works these two sonnets appeared in the examiner for the 9th of march 1817 signed but this did not prevent mr james elmes from letting them do duty for original poetry in his annals of the fine arts where they re appeared in no that seemingly for april 1818 with the full signature john keats poetical works of john keats ed buxton forman crowell publ 1895', 'Poem_for_Human': 'I. \\nHaydon! forgive me that I cannot speak \\nDefinitively of these mighty things; \\nForgive me, that I have not eagle\\'s wings, \\nThat what I want I know not where to seek, \\nAnd think that I would not be over-meek, \\nIn rolling out upfollowed thunderings, \\nEven to the steep of Heliconian springs, \\nWere I of ample strength for such a freak. \\nThink, too, that all these numbers should be thine; \\nWhose else? In this who touch thy vesture\\'s hem? \\nFor, when men stared at what was most divine \\nWith brainless idiotism and o\\'erwise phlegm, \\nThou hadst beheld the full Hesperian shine \\nOf their star in the east, and gone to worship them.\\n\\nII. On Seeing The Elgin Marbles.\\n\\nMy spirit is too weak - mortality\\nWeighs heavily upon me like unwilling sleep,\\nAnd each imagined pinnacle and steep\\nOf godlike hardship tells me I must die\\nLike a sick eagle looking at the sky.\\nYet \\'tis a gentle luxury to weep\\nThat I have not the cloudy winds to keep,\\nFresh for the opening of the morning\\'s eye.\\nSuch dim-conceived glories of the brain\\nBring round the heart an undescribable feud;\\nSo do these wonders a most dizzy pain,\\nThat mingles Grecian grandeur with the rude\\nWasting of old Time -- with a billowy main -- \\nA sun -- a shadow of a magnitude.\\n\\'In regard to this subject it will be remembered that Haydon had been most energetic in preaching the gospel of the Elgin Marbles, and that his friends claimed for him the distinction of being the first to apply to modern art the \"principles\" of those immortal works. These two sonnets appeared in The Examiner for the 9th of March 1817, signed \"J. K.;\" but this did not prevent Mr. James Elmes from letting them do duty for \"Original Poetry\" in his Annals of the Fine Arts, where they re-appeared in No. 8 (that, seemingly, for April 1818), with the full signature \"John Keats.\" \\' ~ Poetical Works of John Keats, ed. H. Buxton Forman, Crowell publ. 1895.\\n     '}, {'Unnamed: 0': 16, 'Title': 'You Say You Love', 'Poem': 'you say you love but with voice chaster than nun who singeth the soft vespers to herself while the chime bell ringeth love me truly ii you say you love but with smile cold as sunrise in september as you were saint cupid nun and kept his weeks of ember love me truly iii you say you love but then your lips coral tinted teach no blisses more than coral in the sea they never pout for kisses love me truly iv you say you love but then your hand no soft squeeze for squeeze returneth it is like statue dead while mine to passion burneth love me truly breathe word or two of fire smile as if those words should burn me squeeze as lovers should kiss and in thy heart inurn me love me truly', 'Poem_for_Human': \"I\\nYou say you love ; but with a voice\\nChaster than a nun's, who singeth\\nThe soft Vespers to herself\\nWhile the chime-bell ringeth-\\nO love me truly!\\n\\nII\\nYou say you love; but with a smile\\nCold as sunrise in September,\\nAs you were Saint Cupid 's nun,\\nAnd kept his weeks of Ember.\\nO love me truly!\\n\\nIII\\nYou say you love but then your lips\\nCoral tinted teach no blisses,\\nMore than coral in the sea\\nThey never pout for kisses\\nO love me truly!\\n\\nIV\\nYou say you love ; but then your hand\\nNo soft squeeze for squeeze returneth,\\nIt is like a statue's dead\\nWhile mine to passion burneth\\nO love me truly!\\n\\nV\\nO breathe a word or two of fire!\\nSmile, as if those words should burn me,\\nSqueeze as lovers should O kiss\\nAnd in thy heart inurn me!\\nO love me truly!     \"}, {'Unnamed: 0': 17, 'Title': 'Give Me Women, Wine, And Snuff', 'Poem': 'give me women wine and snuff until cry out hold enough you may do so sans objection till the day of resurrection for bless my beard they aye shall be my beloved trinity', 'Poem_for_Human': 'Give me women, wine, and snuff Until I cry out \"hold, enough!\" You may do so sans objection Till the day of resurrection;For bless my beard they aye shall be My beloved Trinity.     '}, {'Unnamed: 0': 18, 'Title': 'Ode To Psyche', 'Poem': 'goddess hear these tuneless numbers wrung by sweet enforcement and remembrance dear and pardon that thy secrets should be sung even into thine own soft conched ear surely dreamt to day or did see the winged psyche with awaken eyes wander in forest thoughtlessly and on the sudden fainting with surprise saw two fair creatures couched side by side in deepest grass beneath the whisp ring roof of leaves and trembled blossoms where there ran brooklet scarce espied mid hush cool rooted flowers fragrant eyed blue silver white and budded tyrian they lay calm breathing on the bedded grass their arms embraced and their pinions too their lips touch not but had not bade adieu as if disjoined by soft handed slumber and ready still past kisses to outnumber at tender eye dawn of aurorean love the winged boy knew but who wast thou happy happy dove his psyche true latest born and loveliest vision far of all olympus faded hierarchy fairer than ph oe be sapphire region star or vesper amorous glow worm of the sky fairer than these though temple thou hast none nor altar heap with flowers nor virgin choir to make delicious moan upon the midnight hours no voice no lute no pipe no incense sweet from chain swung censer teeming no shrine no grove no oracle no heat of pale mouth prophet dreaming brightest though too late for antique vows too too late for the fond believing lyre when holy were the haunted forest boughs holy the air the water and the fire yet even in these days so far retir from happy pieties thy lucent fans fluttering among the faint olympians see and sing by my own eyes inspir so let me be thy choir and make moan upon the midnight hours thy voice thy lute thy pipe thy incense sweet from swinged censer teeming thy shrine thy grove thy oracle thy heat of pale mouth prophet dreaming yes will be thy priest and build fane in some untrodden region of my mind where branched thoughts new grown with pleasant pain instead of pines shall murmur in the wind far far around shall those dark cluster trees fledge the wild ridged mountains steep by steep and there by zephyrs streams and birds and bees the moss lain dryads shall be lull to sleep and in the midst of this wide quietness rosy sanctuary will dress with the wreath trellis of working brain with buds and bells and stars without name with all the gardener fancy ever could feign who breeding flowers will never breed the same and there shall be for thee all soft delight that shadowy thought can win bright torch and casement ope at night to let the warm love in under the date 15th of april 1819 keats writes to his brother george and his wife of this ode the following poem the last have written is the first and only one with which have taken even moderate pains have for the most part dashed off my lines in hurry this one have done leisurely think it reads the more richly for it and it will hope encourage me to write other things in even more peaceable and healthy spirit you must recollect that psyche was not embodied as goddess before the time of apuleius the platonist who lived after the augustan age and consequently the goddess was never worshipped or sacrificed to with any of the ancient fervour and perhaps never thought of in the old religion am more orthodox than to let heathen goddess be so neglected this is an instance in which keats seems to have gone beyond lempriere classical dictionary for his information but presume we may not unsafely take the portraiture of cupid and psyche in the first stanza as an adapted reminiscence of his other favourite text book spence polymetis in plate vi of which the well known kissing cupid and psyche are admirably engraved from the statue at florence poetical works of john keats ed buxton forman crowell publ 1895', 'Poem_for_Human': 'O Goddess! hear these tuneless numbers, wrung \\xa0 \\xa0  By sweet enforcement and remembrance dear,\\xa0  And pardon that thy secrets should be sung\\xa0 \\xa0  Even into thine own soft-conched ear:\\xa0  Surely I dreamt to-day, or did I see\\xa0 \\xa0  The winged Psyche with awaken\\'d eyes?\\xa0  I wander\\'d in a forest thoughtlessly,\\xa0 \\xa0  And, on the sudden, fainting with surprise,\\xa0  Saw two fair creatures, couched side by side\\xa0 \\xa0  In deepest grass, beneath the whisp\\'ring roof\\xa0 \\xa0  Of leaves and trembled blossoms, where there ran\\xa0 \\xa0 \\xa0 \\xa0 A brooklet, scarce espied:\\xa0  Mid hush\\'d, cool-rooted flowers, fragrant-eyed,\\xa0 \\xa0 \\xa0  Blue, silver-white, and budded Tyrian,\\xa0  They lay calm-breathing, on the bedded grass;\\xa0 \\xa0 \\xa0  Their arms embraced, and their pinions too;\\xa0 \\xa0 \\xa0  Their lips touch\\'d not, but had not bade adieu,\\xa0  As if disjoined by soft-handed slumber,\\xa0  And ready still past kisses to outnumber\\xa0 \\xa0 \\xa0  At tender eye-dawn of aurorean love:\\xa0 \\xa0 \\xa0 \\xa0 \\xa0  The winged boy I knew;\\xa0  But who wast thou, O happy, happy dove?\\xa0 \\xa0 \\xa0 \\xa0 \\xa0  His Psyche true!\\xa0  O latest born and loveliest vision far\\xa0 \\xa0 \\xa0  Of all Olympus\\' faded hierarchy!\\xa0  Fairer than Ph{oe}be\\'s sapphire-region\\'d star,\\xa0 \\xa0 \\xa0  Or Vesper, amorous glow-worm of the sky;\\xa0  Fairer than these, though temple thou hast none,\\xa0 \\xa0 \\xa0 \\xa0 \\xa0  Nor altar heap\\'d with flowers;\\xa0  Nor virgin-choir to make delicious moan\\xa0 \\xa0 \\xa0 \\xa0 \\xa0  Upon the midnight hours;\\xa0  No voice, no lute, no pipe, no incense sweet\\xa0 \\xa0 \\xa0  From chain-swung censer teeming;\\xa0  No shrine, no grove, no oracle, no heat\\xa0 \\xa0 \\xa0  Of pale-mouth\\'d prophet dreaming.\\xa0  O brightest! though too late for antique vows,\\xa0 \\xa0 \\xa0  Too, too late for the fond believing lyre,\\xa0  When holy were the haunted forest boughs,\\xa0 \\xa0 \\xa0  Holy the air, the water, and the fire;\\xa0  Yet even in these days so far retir\\'d\\xa0 \\xa0 \\xa0  From happy pieties, thy lucent fans,\\xa0 \\xa0 \\xa0  Fluttering among the faint Olympians,\\xa0  I see, and sing, by my own eyes inspir\\'d.\\xa0  So let me be thy choir, and make a moan\\xa0 \\xa0 \\xa0 \\xa0 \\xa0  Upon the midnight hours;\\xa0  Thy voice, thy lute, thy pipe, thy incense sweet\\xa0 \\xa0 \\xa0  From swinged censer teeming;\\xa0  Thy shrine, thy grove, thy oracle, thy heat\\xa0 \\xa0 \\xa0  Of pale-mouth\\'d prophet dreaming.\\xa0  Yes, I will be thy priest, and build a fane\\xa0 \\xa0 \\xa0  In some untrodden region of my mind,\\xa0  Where branched thoughts, new grown with pleasant pain,\\xa0 \\xa0 \\xa0  Instead of pines shall murmur in the wind:\\xa0  Far, far around shall those dark-cluster\\'d trees\\xa0 \\xa0 \\xa0  Fledge the wild-ridged mountains steep by steep;\\xa0  And there by zephyrs, streams, and birds, and bees,\\xa0 \\xa0 \\xa0  The moss-lain Dryads shall be lull\\'d to sleep;\\xa0  And in the midst of this wide quietness\\xa0  A rosy sanctuary will I dress\\xa0 \\xa0  With the wreath\\'d trellis of a working brain,\\xa0 \\xa0 \\xa0  With buds, and bells, and stars without a name,\\xa0  With all the gardener Fancy e\\'er could feign,\\xa0 \\xa0 \\xa0  Who breeding flowers, will never breed the same:\\xa0  And there shall be for thee all soft delight\\xa0 \\xa0 \\xa0  That shadowy thought can win,\\xa0  A bright torch, and a casement ope at night,\\xa0 \\xa0 \\xa0  To let the warm Love in!\\'Under the date 15th of April [1819] Keats writes to his brother George and his wife, of this Ode, \"The following poem, the last I have written, is the first and only one with which I have taken even moderate pains; I have, for the most part, dashed off my lines in a hurry; this one I have done leisurely; I think it reads the more richly for it, and it will I hope encourage me to write other things in even a more peaceable and healthy spirit.  You must recollect that Psyche was not embodied as a goddess before the time of Apuleius the Platonist, who lived after the Augustan age, and consequently the goddess was never worshipped or sacrificed to with any of the ancient fervour, and perhaps never thought of in the old religion: I am more orthodox than to let a heathen goddess be so neglected.\"This is an instance in which Keats seems to have gone beyond Lempriere\\'s Classical Dictionary for his information; but I presume we may not unsafely take the portraiture of Cupid and Psyche in the first stanza as an adapted reminiscence of his other favourite text book, Spence\\'s Polymetis, in Plate VI of which the well known kissing Cupid and Psyche are admirably engraved from the statue at Florence.\\'~ Poetical Works of John Keats, ed. H. Buxton Forman, Crowell publ. 1895.     '}, {'Unnamed: 0': 19, 'Title': 'Ode  On Melancholy', 'Poem': 'no no go not to lethe neither twist wolf bane tight rooted for its poisonous wine nor suffer thy pale forehead to be kissed by nightshade ruby grape of proserpine make not your rosary of yew berries nor let the beetle nor the death moth be your mournful psyche nor the downy owl partner in your sorrow mysteries for shade to shade will come too drowsily and drown the wakeful anguish of the soul but when the melancholy fit shall fall sudden from heaven like weeping cloud that fosters the droop headed flowers all and hides the green hill in an april shroud then glut thy sorrow on morning rose or on the rainbow of the salt sand wave or on the wealth of globed peonies or if thy mistress some rich anger shows emprison her soft hand and let her rave and feed deep deep upon her peerless eyes she dwells with beauty beauty that must die and joy whose hand is ever at his lips bidding adieu and aching pleasure nigh turning to poison while the bee mouth sips ay in the very temple of delight veiled melancholy has her sovran shrine though seen of none save him whose strenuous tongue can burst joy grape against his palate fine his soul shall taste the sadness of her might and be among her cloudy trophies hung', 'Poem_for_Human': \"1.\\nNo, no! go not to Lethe, neither twist \\n\\xa0 \\xa0  Wolf's-bane, tight-rooted, for its poisonous wine; \\nNor suffer thy pale forehead to be kissed \\n\\xa0 \\xa0  By nightshade, ruby grape of Proserpine; \\nMake not your rosary of yew-berries, \\n\\xa0 \\xa0  Nor let the beetle nor the death-moth be \\n\\xa0 \\xa0 \\xa0 \\xa0 \\xa0 Your mournful Psyche, nor the downy owl\\nA partner in your sorrow's mysteries; \\n\\xa0 \\xa0  For shade to shade will come too drowsily, \\n\\xa0 \\xa0 \\xa0 \\xa0 \\xa0 And drown the wakeful anguish of the soul.\\n\\n2.\\nBut when the melancholy fit shall fall \\n\\xa0 \\xa0  Sudden from heaven like a weeping cloud, \\nThat fosters the droop-headed flowers all, \\n\\xa0 \\xa0  And hides the green hill in an April shroud; \\nThen glut thy sorrow on a morning rose, \\n\\xa0 \\xa0  Or on the rainbow of the salt sand-wave, \\n\\xa0 \\xa0 \\xa0 \\xa0 \\xa0 Or on the wealth of globed peonies;\\nOr if thy mistress some rich anger shows, \\n\\xa0 \\xa0  Emprison her soft hand, and let her rave, \\n\\xa0 \\xa0 \\xa0 \\xa0 \\xa0 And feed deep, deep upon her peerless eyes.\\n\\n3.\\nShe dwells with Beauty — Beauty that must die; \\n\\xa0 \\xa0  And Joy, whose hand is ever at his lips \\nBidding adieu; and aching Pleasure nigh, \\n\\xa0 \\xa0  Turning to poison while the bee-mouth sips; \\nAy, in the very temple of delight \\n\\xa0 \\xa0  Veiled Melancholy has her sovran shrine, \\n\\xa0 \\xa0 \\xa0 \\xa0 \\xa0 Though seen of none save him whose strenuous\\n\\xa0 \\xa0 \\xa0 \\xa0 \\xa0 tongue\\n\\xa0 \\xa0  Can burst Joy's grape against his palate fine; \\nHis soul shall taste the sadness of her might, \\n\\xa0 \\xa0 \\xa0 \\xa0 \\xa0 And be among her cloudy trophies hung.     \"}, {'Unnamed: 0': 20, 'Title': 'Sonnet To Homer', 'Poem': 'standing aloof in giant ignorance of thee hear and of the cyclades as one who sits ashore and longs perchanceto visit dolphin coral in deep seas so thou wast blind but then the veil was rent for jove uncurtain heaven to let thee live and neptune made for thee spumy tent and pan made sing for thee his forest hive aye on the shores of darkness there is light and precipices show untrodden greenthere is budding morrow in the midnight there is triple sight in blindness keen such seeing hadst thou as it once befelto dian queen of earth and heaven and hell this admirable sonnet also occurs in manuscript in sir charles dilke copy of endymion and was included like the sonnet when have fears in the literary remains 1848 the date given in both places is 1818 the evidence of the manuscript on this point is of consequence as bearing on the relative positions of this sonnet and that on first looking into chapman homer understand the giant ignorance of line to have reference to keats inability to enjoy homer in the original greek and not to an entire ignorance of the iliad and odyssey such as might have characterized the period before the sonnet on chapman version was written in 1816 indeed the second quatrain seems to me to be too well felt for so vague an attitude as keats must have been towards homer before he knew any version at all but the late dante gabriel rossetti whose intuitions in such matters were of the keenest and entitled to the most careful consideration held that the present sonnet must have preceded that of 1816 and received with considerable reserve the evidence as to the date which communicated to him in the course of our correspondence it will be of interest to many lovers both of keats and of rossetti to learn that the latter poet whom we have but lately lost considered this sonnet to contain keats finest single line of poetry there is budding morrow in midnight line which rossetti told me he thought one of the finest in all poetry no one will dispute that it is most astonishing line more particularly for young man of keats years in 1818 poetical works of john keats ed buxton forman crowell publ 1895', 'Poem_for_Human': 'Standing aloof in giant ignorance,Of thee I hear and of the Cyclades,As one who sits ashore and longs perchanceTo visit dolphin-coral in deep seas.So thou wast blind; -- but then the veil was rent,For Jove uncurtain\\'d Heaven to let thee live,And Neptune made for thee a spumy tent,And Pan made sing for thee his forest-hive;Aye on the shores of darkness there is light,And precipices show untrodden greenThere is a budding morrow in the midnight,There is a triple sight in blindness keen;Such seeing hadst thou, as it once befelTo Dian, Queen of Earth, and Heaven, and Hell.\\'This admirable sonnet also occurs in manuscript in Sir Charles Dilke\\'s copy of Endymion, and was included, like the Sonnet \"When I have fears\", in the Literary Remains (1848). The date given in both places is 1818.  The evidence of the manuscript on this point is of consequence as bearing on the relative positions of this sonnet and that \\'On first looking into Chapman\\'s Homer\\'.I understand the \"giant ignorance\" of line I to have reference to Keats\\'s inability to enjoy Homer in the original Greek, and not to an entire ignorance of the Iliad and Odyssey such as might have characterized the period before the sonnet on Chapman\\'s version was written in 1816. Indeed the second quatrain seems to me to be too well felt for so vague an attitude as Keats\\'s must have been towards Homer before he knew any version at all; but the late Dante Gabriel Rossetti, whose intuitions in such matters were of the keenest, and entitled to the most careful consideration, held that the present sonnet must have preceded that of 1816, and received with considerable reserve the evidence as to the date which I communicated to him in the course of our correspondence.  It will be of interest to many lovers both of Keats and of Rossetti to learn that the latter poet whom we have but lately lost considered this sonnet to contain Keats\\'s finest single line of poetry -- \\'There is a budding morrow in midnight,\\'a line which Rossetti told me he thought one of the finest \"in all poetry.\" No one will dispute that it is a most astonishing line, more particularly for a young man of Keats\\'s years in 1818.\\' ~ Poetical Works of John Keats, ed. H. Buxton Forman, Crowell publ. 1895.     '}, {'Unnamed: 0': 21, 'Title': 'La Belle Dame Sans Merci (Original version )', 'Poem': 'oh what can ail thee knight at arms alone and palely loitering the sedge has withered from the lake and no birds sing oh what can ail thee knight at arms so haggard and so woe begone the squirrel granary is full and the harvest done see lily on thy brow with anguish moist and fever dew and on thy cheeks fading rose fast withereth too met lady in the meads full beautiful faery child her hair was long her foot was light and her eyes were wild made garland for her head and bracelets too and fragrant zone she looked at me as she did love and made sweet moan set her on my pacing steed and nothing else saw all day long for sidelong would she bend and sing faery song she found me roots of relish sweet and honey wild and manna dew and sure in language strange she said love thee true she took me to her elfin grot and there she wept and sighed full sore and there shut her wild wild eyes with kisses four and there she lulled me asleep and there dreamed ah woe betide the latest dream ever dreamt on the cold hill side saw pale kings and princes too pale warriors death pale were they all they cried la belle dame sans merci hath thee in thrall saw their starved lips in the gloam with horrid warning gaped wide and awoke and found me here on the cold hill side and this is why sojourn here alone and palely loitering though the sedge is withered from the lake and no birds sing', 'Poem_for_Human': \"\\n\\tOh what can ail thee, knight-at-arms,\\n\\t\\xa0 \\xa0 Alone and palely loitering?\\n\\tThe sedge has withered from the lake,\\n\\t\\xa0 \\xa0 And no birds sing.\\n\\tOh what can ail thee, knight-at-arms,\\n\\t\\xa0 \\xa0 So haggard and so woe-begone?\\n\\tThe squirrel's granary is full,\\n\\t\\xa0 \\xa0 And the harvest's done.\\n\\tI see a lily on thy brow,\\n\\t\\xa0 \\xa0 With anguish moist and fever-dew,\\n\\tAnd on thy cheeks a fading rose\\n\\t\\xa0 \\xa0 Fast withereth too.\\n\\tI met a lady in the meads,\\n\\t\\xa0 \\xa0 Full beautiful - a faery's child,\\n\\tHer hair was long, her foot was light,\\n\\t\\xa0 \\xa0 And her eyes were wild.\\n\\tI made a garland for her head,\\n\\t\\xa0 \\xa0 And bracelets too, and fragrant zone;\\n\\tShe looked at me as she did love,\\n\\t\\xa0 \\xa0 And made sweet moan.\\n\\tI set her on my pacing steed,\\n\\t\\xa0 \\xa0 And nothing else saw all day long,\\n\\tFor sidelong would she bend, and sing\\n\\t\\xa0 \\xa0 A faery's song.\\n\\tShe found me roots of relish sweet,\\n\\t\\xa0 \\xa0 And honey wild, and manna-dew,\\n\\tAnd sure in language strange she said -\\n\\t\\xa0 \\xa0 'I love thee true'.\\n\\tShe took me to her elfin grot,\\n\\t\\xa0 \\xa0 And there she wept and sighed full sore,\\n\\tAnd there I shut her wild wild eyes\\n\\t\\xa0 \\xa0 With kisses four.\\n\\tAnd there she lulled me asleep\\n\\t\\xa0 \\xa0 And there I dreamed - Ah! woe betide! -\\n\\tThe latest dream I ever dreamt\\n\\t\\xa0 \\xa0 On the cold hill side.\\n\\tI saw pale kings and princes too,\\n\\t\\xa0 \\xa0 Pale warriors, death-pale were they all;\\n\\tThey cried - 'La Belle Dame sans Merci\\n\\t\\xa0 \\xa0 Hath thee in thrall!'\\n\\tI saw their starved lips in the gloam,\\n\\t\\xa0 \\xa0 With horrid warning gaped wide,\\n\\tAnd I awoke and found me here,\\n\\t\\xa0 \\xa0 On the cold hill's side.\\n\\tAnd this is why I sojourn here\\n\\t\\xa0 \\xa0 Alone and palely loitering,\\n\\tThough the sedge is withered from the lake,\\n\\t\\xa0 \\xa0 And no birds sing.\\n\\t\\xa0\\n\\t\\xa0     \"}, {'Unnamed: 0': 22, 'Title': 'Stanzas. In A Drear-Nighted December', 'Poem': 'in drear nighted december too happy happy tree thy branches never remembertheir green felicity the north cannot undo themwith sleety whistle through them nor frozen thawings glue themfrom budding at the prime in drear nighted december too happy happy brook thy bubblings never rememberapollo summer look but with sweet forgetting they stay their crystal fretting never never pettingabout the frozen time ah would twere so with manya gentle girl and boy but were there ever anywrithed not at passed joy the feel of not to feel it when there is none to heal itnor numbed sense to steel it was never said in rhyme have not succeeded in tracing this poem further back than to galignani edition of shelley keats and coleridge 1829 in 1830 it appeared in the gem literary annual some years ago correspondent sent me for inspection manuscript varying slightly from the received text thus each stanza began with in drear nighted december poetical works of john keats ed buxton forman crowell publ 1895', 'Poem_for_Human': \"1.In drear-nighted December,Too happy, happy tree,Thy branches ne'er rememberTheir green felicity:The north cannot undo themWith a sleety whistle through them;Nor frozen thawings glue themFrom budding at the prime.2.In drear-nighted December,Too happy, happy brook,Thy bubblings ne'er rememberApollo's summer look;But with a sweet forgetting,They stay their crystal fretting,Never, never pettingAbout the frozen time.3.Ah! would 'twere so with manyA gentle girl and boy!But were there ever anyWrithed not at passed joy?The feel of not to feel it,When there is none to heal itNor numbed sense to steel it,Was never said in rhyme.'I have not succeeded in tracing this poem further back than to Galignani's edition of Shelley, Keats, and Coleridge (1829). In 1830 it appeared in The Gem, a Literary Annual.  Some years ago a correspondent sent me for inspection a manuscript varying slightly from the received text: thus, each stanza began with 'In drear nighted December;' ~ Poetical Works of John Keats, ed. H. Buxton Forman, Crowell publ. 1895.     \"}, {'Unnamed: 0': 23, 'Title': 'This Living Hand', 'Poem': 'this living hand now warm and capable of earnest grasping would if it were cold and in the icy silence of the tomb so haunt thy days and chill thy dreaming nights that thou wouldst wish thine own heart dry of blood so in my veins red life might stream again and thou be conscience calmed see here it is hold it towards you', 'Poem_for_Human': 'This living hand, now warm and capable\\nOf earnest grasping, would, if it were cold\\nAnd in the icy silence of the tomb,\\nSo haunt thy days and chill thy dreaming nights\\nThat thou wouldst wish thine own heart dry of blood\\nSo in my veins red life might stream again,\\nAnd thou be conscience-calmed - see here it is -\\nI hold it towards you.     '}, {'Unnamed: 0': 24, 'Title': 'Staffa', 'Poem': 'not aladdin magian ever such work began not the wizard of the dee ever such dream could see not st john in patmos isle in the passion of his toil when he saw the churches seven golden aisl built up in heaven gaz at such rugged wonder as stood its roofing under lo saw one sleeping there on the marble cold and bare while the surges wash his feet and his garments white did beat drench about the sombre rocks on his neck his well grown locks lifted dry above the main were upon the curl again what is this and what art thou whisper and touch his brow what art thou and what is this whisper and strove to kiss the spirit hand to wake his eyes up he started in trice am lycidas said he fam in funeral minstrely this was architectur thus by the great oceanus here his mighty waters play hollow organs all the day here by turns his dolphins all finny palmers great and small come to pay devotion due each mouth of pearls must strew many mortal of these days dares to pass our sacred ways dares to touch audaciously this cathedral of the sea have been the pontiff priest where the waters never rest where fledgy sea bird choir soars for ever holy fire have hid from mortal man proteus is my sacristan but the dulled eye of mortal hath pass beyond the rocky portal so for ever will leave such taint and soon unweave all the magic of the place so saying with spirit glance he dived after detention of few hours at inverary owing to brown suffering from sore feet the travellers started again on the 19th of july walked along 20 miles by the side of loch awe southward suppose for they next paused between loch craignish and the sea just opposite long island where keats gives very minute account to tom of the locale they then pushed on to oban 15 miles in soaking rain due north again at oban keats finished the unpublished letter to tom containing the gadfly and the stranger sonnet and posted it announcing that the travellers had given up the idea of mull and staffa on account of the expense this was probably on the 22nd of july on the 23rd he begins fresh letter life letters stating that just after he had posted the other the guide to mull came in and made bargain with them this latter letter is dated the 23rd of july dunancullen in the life dimancullen is the name given in the same connexion in the new york world where some keats documents appeared but probably the place indicated is derrynaculen which is at situation on the walk through the southern part of the isle of mull corresponding with keats narrative this narrative seems to show that on the 23rd of july they crossed from oban to kerrera by one ferry and from kerrera to mull by another and walked across the south of the island to the western extremity to cross to iona by boat by the 26th keats resumed his letter to tom at oban and narrated that the thirty seven miles of walking had been very miserable and that he and brown had taken boat at bargain to carry them from iona to staffa and land them finally at the head of loch nakeal whence they could return to oban by better route he vividly describes staffa including fingal cave breaks into verse with the lines given above and resumes prose with am sorry am so indolent as to write such stuff as this probably the poem should be dated the 26th of july 1818 poetical works of john keats ed buxton forman crowell publ 1895', 'Poem_for_Human': 'Not Aladdin magian Ever such a work began; Not the wizard of the Dee Ever such a dream could see; Not St. John, in Patmos\\' Isle, In the passion of his toil, When he saw the churches seven, Golden aisl\\'d, built up in heaven, Gaz\\'d at such a rugged wonder. As I stood its roofing under Lo! I saw one sleeping there, On the marble cold and bare. While the surges wash\\'d his feet, And his garments white did beat. Drench\\'d about the sombre rocks, On his neck his well-grown locks, Lifted dry above the main, Were upon the curl again. \"What is this? and what art thou?\" Whisper\\'d I, and touch\\'d his brow; \"What art thou? and what is this?\" Whisper\\'d I, and strove to kiss The spirit\\'s hand, to wake his eyes; Up he started in a trice: \"I am Lycidas,\" said he, \"Fam\\'d in funeral minstrely! This was architectur\\'d thus By the great Oceanus!--Here his mighty waters play Hollow organs all the day; Here by turns his dolphins all, Finny palmers great and small, Come to pay devotion due--Each a mouth of pearls must strew. Many a mortal of these days, Dares to pass our sacred ways, Dares to touch audaciously This Cathedral of the Sea! I have been the pontiff-priest Where the waters never rest, Where a fledgy sea-bird choir Soars for ever; holy fire I have hid from mortal man; Proteus is my Sacristan. But the dulled eye of mortal Hath pass\\'d beyond the rocky portal; So for ever will I leave Such a taint, and soon unweave All the magic of the place.\" *\\xa0  *\\xa0  *\\xa0  *\\xa0  *\\xa0  * So saying, with a Spirit\\'s glance He dived! \\'After a detention of a few hours at Inverary owing to Brown\\'s suffering from sore feet, the travellers started again on the 19th of July, walked along \"20 miles by the side of Loch Awe\" -- southward, I suppose, for they next paused \"between Loch Craignish and the sea just opposite Long Island,\" where Keats gives a very minute account to Tom of the locale. They then pushed on to Oban, \"15 miles in a soaking rain\" -- due north again. At Oban Keats finished the unpublished letter to Tom containing The Gadfly and the Stranger sonnet, and posted it, announcing that the travellers had given up the idea of Mull and Staffa on account of the expense. This was probably on the 22nd of July.  On the 23rd he begins a fresh letter (Life, Letters &c.) stating that just after he had posted the other the guide to Mull came in and made a bargain with them. This latter letter is dated the 23rd of July, \"Dunancullen\" in the Life: \"Dimancullen\" is the name given in the same connexion in the New York World, where some Keats documents appeared; but probably the place indicated is Derrynaculen, which is at a situation on the walk through the southern part of the Isle of Mull corresponding with Keats\\'s narrative.  This narrative seems to show that on the 23rd of July they crossed from Oban to Kerrera by one ferry and from Kerrera to Mull by another, and walked across the south of the Island to the western extremity to cross to Iona by boat. By the 26th, Keats resumed his letter to Tom at Oban, and narrated that the thirty-seven miles of walking had been very miserable, and that he and Brown had taken a boat at a bargain to carry them from Iona to Staffa, and land them finally at the head of Loch Nakeal, whence they could return to Oban by a better route. He vividly describes Staffa, including Fingal\\'s Cave, breaks into verse with the lines given above, and resumes prose with,\"I am sorry I am so indolent as to write such stuff as this.\" Probably the poem should be dated the 26th of July, 1818.\\'~ Poetical Works of John Keats, ed. H. Buxton Forman, Crowell publ. 1895.     '}, {'Unnamed: 0': 25, 'Title': 'Sonnet. The Human Seasons', 'Poem': 'four seasons fill the measure of the year there are four seasons in the mind of man he has his lusty spring when fancy clear takes in all beauty with an easy span he has his summer when luxuriously spring honied cud of youthful thought he lovesto ruminate and by such dreaming high is nearest unto heaven quiet coveshis soul has in its autumn when his wings he furleth close contented so to lookon mists in idleness—to let fair things pass by unheeded as threshold brook he has his winter too of pale misfeature or else he would forego his mortal nature this sonnet and that to ailsa rock were first published with the signature in leigh hunt literary pocket book or companion for the lover of nature and art the first number that for 1819 poetical works of john keats ed buxton forman crowell publ 1895', 'Poem_for_Human': 'Four Seasons fill the measure of the year; \\xa0 \\xa0 \\xa0  There are four seasons in the mind of man:\\xa0 \\xa0  He has his lusty Spring, when fancy clear\\xa0  Takes in all beauty with an easy span:He has his Summer, when luxuriously\\xa0  Spring\\'s honied cud of youthful thought he lovesTo ruminate, and by such dreaming high\\xa0  Is nearest unto heaven: quiet covesHis soul has in its Autumn, when his wings\\xa0  He furleth close; contented so to lookOn mists in idleness—to let fair things\\xa0  Pass by unheeded as a threshold brook.He has his Winter too of pale misfeature,Or else he would forego his mortal nature.\\'This sonnet and that to Ailsa Rock were first published, with the signature \"I,\" in Leigh Hunt\\'s Literary Pocket-Book; or, Companion for the Lover of Nature and Art, -- the first number, that for 1819.\\'~ Poetical Works of John Keats, ed. H. Buxton Forman, Crowell publ. 1895.     '}, {'Unnamed: 0': 26, 'Title': 'Hither, Hither, Love', 'Poem': 'hither hither love it is shady mead hither hither love let us feed and feed hither hither sweet it is cowslip bed hither hither sweet it is with dew bespread hither hither dear by the breath of life hither hither dear be the summer wife though one moment pleasure in one moment flies though the passion treasure in one moment dies yet it has not passed think how near how near and while it doth last think how dear how dear hither hither hither love its boon has sent if die and wither shall die content', 'Poem_for_Human': \"Hither hither, love--\\xa0 \\xa0 \\xa0 'Tis a shady mead--Hither, hither, love!\\xa0 \\xa0 \\xa0 Let us feed and feed!Hither, hither, sweet--\\xa0 \\xa0 \\xa0 'Tis a cowslip bed--Hither, hither, sweet!\\xa0 \\xa0 \\xa0 'Tis with dew bespread!Hither, hither, dear\\xa0 \\xa0 \\xa0 By the breath of life,Hither, hither, dear!--\\xa0 \\xa0 \\xa0 Be the summer's wife!Though one moment's pleasure\\xa0 \\xa0 \\xa0 In one moment flies--Though the passion's treasure\\xa0 \\xa0 \\xa0 In one moment dies;--Yet it has not passed--\\xa0 \\xa0 \\xa0 Think how near, how near!--And while it doth last,\\xa0 \\xa0 \\xa0 Think how dear, how dear!Hither, hither, hither\\xa0 \\xa0 \\xa0 Love its boon has sent--If I die and wither\\xa0 \\xa0 \\xa0 I shall die content!     \"}, {'Unnamed: 0': 27, 'Title': 'Hyperion. Book I ', 'Poem': 'deep in the shady sadness of vale far sunken from the healthy breath of morn far from the fiery noon and eve one star sat gray hair saturn quiet as stone still as the silence round about his lair forest on forest hung about his head like cloud on cloud no stir of air was there not so much life as on summer day robs not one light seed from the feather grass but where the dead leaf fell there did it rest stream went voiceless by still deadened more by reason of his fallen divinity spreading shade the naiad mid her reeds press her cold finger closer to her lips along the margin sand large foot marks went no further than to where his feet had stray and slept there since upon the sodden ground his old right hand lay nerveless listless dead unsceptred and his realmless eyes were closed while his bow head seem list ning to the earth his ancient mother for some comfort yet it seem no force could wake him from his place but there came one who with kindred hand touch his wide shoulders after bending low with reverence though to one who knew it not she was goddess of the infant world by her in stature the tall amazon had stood pigmy height she would have ta en achilles by the hair and bent his neck or with finger stay ixion wheel her face was large as that of memphian sphinx pedestal haply in palace court when sages look to egypt for their lore but oh how unlike marble was that face how beautiful if sorrow had not made sorrow more beautiful than beauty self there was listening fear in her regard as if calamity had but begun as if the vanward clouds of evil days had spent their malice and the sullen rear was with its stored thunder labouring up one hand she press upon that aching spot where beats the human heart as if just there though an immortal she felt cruel pain the other upon saturn bended neck she laid and to the level of his ear leaning with parted lips some words she spake in solemn tenor and deep organ tone some mourning words which in our feeble tongue would come in these like accents how frail to that large utterance of the early gods saturn look up though wherefore poor old king have no comfort for thee no not one cannot say wherefore sleepest thou for heaven is parted from thee and the earth knows thee not thus afflicted for god and ocean too with all its solemn noise has from thy sceptre pass and all the air is emptied of thine hoary majesty thy thunder conscious of the new command rumbles reluctant over our fallen house and thy sharp lightning in unpractised hands scorches and burns our once serene domain aching time moments big as years all as ye pass swell out the monstrous truth and press it so upon our weary griefs that unbelief has not space to breathe saturn sleep on thoughtless why did thus violate thy slumbrous solitude why should ope thy melancholy eyes saturn sleep on while at thy feet weep as when upon tranced summer night those green rob senators of mighty woods tall oaks branch charmed by the earnest stars dream and so dream all night without stir save from one gradual solitary gust which comes upon the silence and dies off as if the ebbing air had but one wave so came these words and went the while in tears she touch her fair large forehead to the ground just where her fallen hair might be outspread soft and silken mat for saturn feet one moon with alteration slow had she would her silver seasons four upon the night and still these two were postured motionless like natural sculpture in cathedral cavern the frozen god still couchant on the earth and the sad goddess weeping at his feet until at length old saturn lifted up his faded eyes and saw his kingdom gone and all the gloom and sorrow ofthe place and that fair kneeling goddess and then spake as with palsied tongue and while his beard shook horrid with such aspen malady tender spouse of gold hyperion thea feel thee ere see thy face look up and let me see our doom in it look up and tell me if this feeble shape is saturn tell me if thou hear st the voice of saturn tell me if this wrinkling brow naked and bare of its great diadem peers like the front of saturn who had power to make me desolate whence came the strength how was it nurtur to such bursting forth while fate seem strangled in my nervous grasp but it is so and am smother up and buried from all godlike exercise of influence benign on planets pale of admonitions to the winds and seas of peaceful sway above man harvesting and all those acts which deity supreme doth ease its heart of love in am gone away from my own bosom have left my strong identity my real self somewhere between the throne and where sit here on this spot of earth search thea search open thine eyes eterne and sphere them round upon all space space starr and lorn of light space region with life air and barren void spaces of fire and all the yawn of hell search thea search and tell me if thou seest certain shape or shadow making way with wings or chariot fierce to repossess heaven he lost erewhile it must— it must be of ripe progress— saturn must be king yes there must be golden victory there must be gods thrown down and trumpets blown of triumph calm and hymns of festival upon the gold clouds metropolitan voices of soft proclaim and silver stir of strings in hollow shells and there shall be beautiful things made new for the surprise of the sky children will give command thea thea thea where is saturn this passion lifted him upon his feet and made his hands to struggle in the air his druid locks to shake and ooze with sweat his eyes to fever out his voice to cease he stood and heard not thea sobbing deep little time and then again he snatch utterance thus but cannot create cannot form cannot fashion forth another world another universe to overbear and crumble this to nought where is another chaos where that word found way unto olympus and made quake the rebel three thea was startled up and in her bearing was sort of hope as thus she quick voic spake yet full of awe this cheers our fallen house come to our friends saturn come away and give them heart know the covert for thence came hither thus brief then with beseeching eyes she went with backward footing through the shade space he follow and she turn to lead the way through aged boughs that yielded like the mist which eagles cleave upmounting from their nest meanwhile in other realms big tears were she would more sorrow like to this and such like woe too huge for mortal tongue or pen of scribe the titans fierce self hid or prison bound groan for the old allegiance once more and listen in sharp pain for saturn voice but one of the whole mammoth brood still kept his sov reigny and rule and majesy blazing hyperion on his orbed fire still sat still snuff the incense teeming up from man to the sun god yet unsecure for as among us mortals omens drear fright and perplex so also shuddered he— not at dog howl or gloom bird hated screech or the familiar visiting of one upon the first toll of his passing bell or prophesyings of the midnight lamp but horrors portion to giant nerve oft made hyperion ache his palace bright bastion with pyramids of glowing gold and touch with shade of bronzed obelisks glar blood red through all its thousand courts arches and domes and fiery galleries and all its curtains of aurorian clouds flush angerly while sometimes eagles wings unseen before by gods or wondering men darken the place and neighing steeds were heard not heard before by gods or wondering men also when he would taste the spicy wreaths of incense breath aloft from sacred hills instead of sweets his ample palate took savor of poisonous brass and metal sick and so when harbor in the sleepy west after the full completion of fair day for rest divine upon exalted couch and slumber in the arms of melody he pac away the pleasant hours of ease with stride colossal on from hall to hall while far within each aisle and deep recess his winged minions in close clusters stood amaz and full offear like anxious men who on wide plains gather in panting troops when earthquakes jar their battlements and towers even now while saturn rous from icy trance went step for step with thea through the woods hyperion leaving twilight in the rear came slope upon the threshold of the west then as was will not his palace door flew ope in smoothest silence save what solemn tubes blown by the serious zephyrs gave of sweet and wandering sounds slow breathed melodies and like rose in vermeil tint and shape in fragrance soft and coolness to the eye that inlet to severe magnificence stood full blown for the god to enter in he enter but he enter full of wrath his flaming robes stream out beyond his heels and gave roar as if of earthly fire that scar away the meek ethereal hours and made their dove wings tremble on he flared from stately nave to nave from vault to vault through bowers of fragrant and enwreathed light and diamond paved lustrous long arcades until he reach the great main cupola there standing fierce beneath he stampt his foot and from the basements deep to the high towers jarr his own golden region and before the quavering thunder thereupon had ceas his voice leapt out despite of godlike curb to this result dreams of day and night monstrous forms effigies of pain spectres busy in cold cold gloom lank eared phantoms of black weeded pools why do know ye why have seen ye why is my eternal essence thus distraught to see and to behold these horrors new saturn is fallen am too to fall am to leave this haven of my rest this cradle of my glory this soft clime this calm luxuriance of blissful light these crystalline pavilions and pure fanes of all my lucent empire it is left deserted void nor any haunt of mine the blaze the splendor and the symmetry cannot see but darkness death and darkness even here into my centre of repose the shady visions come to domineer insult and blind and stifle up my pomp fall no by tellus and her briny robes over the fiery frontier of my realms will advance terrible right arm shall scare that infant thunderer rebel jove and bid old saturn take his throne again he spake and ceas the while heavier threat held struggle with his throat but came not forth for as in theatres of crowded men hubbub increases more they call out hush so at hyperion words the phantoms pale bestirr themselves thrice horrible and cold and from the mirror level where he stood mist arose as from scummy marsh at this through all his bulk an agony crept gradual from the feet unto the crown like lithe serpent vast and muscular making slow way with head and neck convuls from over strained might releas he fled to the eastern gates and full six dewy hours before the dawn in season due should blush he breath fierce breath against the sleepy portals clear them of heavy vapours burst them wide suddenly on the ocean chilly streams the planet orb of fire whereon he rode each day from east to west the heavens through spun round in sable curtaining of clouds not therefore veiled quite blindfold and hid but ever and anon the glancing spheres circles and arcs and broad belting colure glow through and wrought upon the muffling dark sweet shaped lightnings from the nadir deep up to the zenith hieroglyphics old which sages and keen eyed astrologers then living on the earth with laboring thought won from the gaze of many centuries now lost save what we find on remnants huge of stone or rnarble swart their import gone their wisdom long since fled two wings this orb possess for glory two fair argent wings ever exalted at the god approach and now from forth the gloom their plumes immense rose one by one till all outspreaded were while still the dazzling globe maintain eclipse awaiting for hyperion command fain would he have commanded fain took throne and bid the day begin if but for change he might not no though primeval god the sacred seasons might not be disturb therefore the operations of the dawn stay in their birth even as here it is told those silver wings expanded sisterly eager to sail their orb the porches wide open upon the dusk demesnes of night and the bright titan phrenzied with new woes unus to bend by hard compulsion bent his spirit to the sorrow of the time and all along dismal rack of clouds upon the boundaries of day and night he stretch himself in grief and radiance faint there as he lay the heaven with its stars look down on him with pity and the voice of coelus from the universal space thus whisper low and solemn in his ear brightest of my children dear earth born and sky engendered son of mysteries all unrevealed even to the powers which met at thy creating at whose joys and palpitations sweet and pleasures soft coelus wonder how they came and whence and at the fruits thereof what shapes they be distinct and visible symbols divine manifestations of that beauteous life diffus unseen throughout eternal space of these new form art thou brightest child of these thy brethren and the goddesses there is sad feud among ye and rebellion of son against his sire saw him fall saw my first born tumbled from his throne to me his arms were spread to me his voice found way from forth the thunders round his head pale wox and in vapours hid my face art thou too near such doom vague fear there is for have seen my sons most unlike gods divine ye were created and divine in sad demeanour solemn undisturb unruffled like high gods ye liv and ruled now behold in you fear hope and wrath actions of rage and passion even as see them on the mortal world beneath in men who die this is the grief son sad sign of ruin sudden dismay and fall yet do thou strive as thou art capable as thou canst move about an evident god and canst oppose to each malignant hour ethereal presence am but voice my life is but the life of winds and tides no more than winds and tides can avail but thou canst be thou therefore in the van of circumstance yea seize the arrow barb before the tense string murmur to the earth for there thou wilt find saturn and his woes meantime will keep watch on thy bright sun and of thy seasons be careful nurse ere half this region whisper had come down hyperion arose and on the stars lifted his curved lids and kept them wide until it ceas and still he kept them wide and still they were the same bright patient stars then with slow incline of his broad breast like to diver in the pearly seas forward he stoop over the airy shore and plung all noiseless into the deep night lord houghton records on the authority of brown that hyperion was begun after the death of tom keats when the poet took up his residence at wentworth place line 14 it seems to me that the power of realization shown in the first decade and indeed throughout the fragment answers all objections to the subject and is the most absolute security for the nobility of the result which keats would have achieved had he finished the poem it is impossible to over estimate the value of such landscape so touched in with few strokes of titanic meaning and completeness and the whole sentiment of gigantic despair reflected around the fallen god of the titan dynasty and permeating the landscape is resumed in the most perfect manner in the incident of the motionless fallen leaf line almost as intense and full of the essence of poetry as any line in our language it were ungracious to take exception to the poor naiad but she has not the convincing appropriateness of the rest of this sublime opening line 51 leigh hunt remarks upon keats failure to finish the poem are specially appropriate to this passage if any living poet could finish this fragment we believe it is the author himself but perhaps he feels that he ought not story which involves passion almost of necessity involves speech and though we may well enough describe beings greater than ourselves by comparison unfortunately we cannot make them speak by comparison poetical works of john keats ed buxton forman crowell publ 1895', 'Poem_for_Human': 'Deep in the shady sadness of a vale\\nFar sunken from the healthy breath of morn,\\nFar from the fiery noon, and eve\\'s one star,\\nSat gray-hair\\'d Saturn, quiet as a stone,\\nStill as the silence round about his lair;\\nForest on forest hung about his head\\nLike cloud on cloud. No stir of air was there,\\nNot so much life as on a summer\\'s day\\nRobs not one light seed from the feather\\'d grass,\\nBut where the dead leaf fell, there did it rest.\\nA stream went voiceless by, still deadened more\\nBy reason of his fallen divinity\\nSpreading a shade: the Naiad \\'mid her reeds\\nPress\\'d her cold finger closer to her lips.\\n\\n\\xa0 \\xa0  Along the margin-sand large foot-marks went,\\nNo further than to where his feet had stray\\'d,\\nAnd slept there since.\\xa0 Upon the sodden ground\\nHis old right hand lay nerveless, listless, dead,\\nUnsceptred; and his realmless eyes were closed;\\nWhile his bow\\'d head seem\\'d list\\'ning to the Earth,\\nHis ancient mother, for some comfort yet.\\n\\n\\xa0 \\xa0  It seem\\'d no force could wake him from his place;\\nBut there came one, who with a kindred hand\\nTouch\\'d his wide shoulders, after bending low\\nWith reverence, though to one who knew it not.\\nShe was a Goddess of the infant world;\\nBy her in stature the tall Amazon\\nHad stood a pigmy\\'s height: she would have ta\\'en\\nAchilles by the hair and bent his neck;\\nOr with a finger stay\\'d Ixion\\'s wheel.\\nHer face was large as that of Memphian sphinx,\\nPedestal\\'d haply in a palace court,\\nWhen sages look\\'d to Egypt for their lore.\\nBut oh! how unlike marble was that face:\\nHow beautiful, if sorrow had not made\\nSorrow more beautiful than Beauty\\'s self.\\nThere was a listening fear in her regard,\\nAs if calamity had but begun;\\nAs if the vanward clouds of evil days\\nHad spent their malice, and the sullen rear\\nWas with its stored thunder labouring up.\\nOne hand she press\\'d upon that aching spot\\nWhere beats the human heart, as if just there,\\nThough an immortal, she felt cruel pain:\\nThe other upon Saturn\\'s bended neck\\nShe laid, and to the level of his ear\\nLeaning with parted lips, some words she spake\\nIn solemn tenor and deep organ tone:\\nSome mourning words, which in our feeble tongue\\nWould come in these like accents; O how frail\\nTo that large utterance of the early Gods!\\n\"Saturn, look up!—-though wherefore, poor old King?\\nI have no comfort for thee, no not one:\\nI cannot say, \\'O wherefore sleepest thou?\\'\\nFor heaven is parted from thee, and the earth\\nKnows thee not, thus afflicted, for a God;\\nAnd ocean too, with all its solemn noise,\\nHas from thy sceptre pass\\'d; and all the air\\nIs emptied of thine hoary majesty.\\nThy thunder, conscious of the new command,\\nRumbles reluctant o\\'er our fallen house;\\nAnd thy sharp lightning in unpractised hands\\nScorches and burns our once serene domain.\\nO aching time! O moments big as years!\\nAll as ye pass swell out the monstrous truth,\\nAnd press it so upon our weary griefs\\nThat unbelief has not a space to breathe.\\nSaturn, sleep on:—-O thoughtless, why did I\\nThus violate thy slumbrous solitude?\\nWhy should I ope thy melancholy eyes?\\nSaturn, sleep on! while at thy feet I weep.\"\\n\\n\\xa0 \\xa0  As when, upon a tranced summer-night,\\nThose green-rob\\'d senators of mighty woods,\\nTall oaks, branch-charmed by the earnest stars,\\nDream, and so dream all night without a stir,\\nSave from one gradual solitary gust\\nWhich comes upon the silence, and dies off,\\nAs if the ebbing air had but one wave;\\nSo came these words and went; the while in tears\\nShe touch\\'d her fair large forehead to the ground,\\nJust where her fallen hair might be outspread\\nA soft and silken mat for Saturn\\'s feet.\\nOne moon, with alteration slow, had shed\\nHer silver seasons four upon the night,\\nAnd still these two were postured motionless,\\nLike natural sculpture in cathedral cavern;\\nThe frozen God still couchant on the earth,\\nAnd the sad Goddess weeping at his feet:\\nUntil at length old Saturn lifted up\\nHis faded eyes, and saw his kingdom gone,\\nAnd all the gloom and sorrow ofthe place,\\nAnd that fair kneeling Goddess; and then spake,\\nAs with a palsied tongue, and while his beard\\nShook horrid with such aspen-malady:\\n\"O tender spouse of gold Hyperion,\\nThea, I feel thee ere I see thy face;\\nLook up, and let me see our doom in it;\\nLook up, and tell me if this feeble shape\\nIs Saturn\\'s; tell me, if thou hear\\'st the voice\\nOf Saturn; tell me, if this wrinkling brow,\\nNaked and bare of its great diadem,\\nPeers like the front of Saturn? Who had power\\nTo make me desolate? Whence came the strength?\\nHow was it nurtur\\'d to such bursting forth,\\nWhile Fate seem\\'d strangled in my nervous grasp?\\nBut it is so; and I am smother\\'d up,\\nAnd buried from all godlike exercise\\nOf influence benign on planets pale,\\nOf admonitions to the winds and seas,\\nOf peaceful sway above man\\'s harvesting,\\nAnd all those acts which Deity supreme\\nDoth ease its heart of love in.—-I am gone\\nAway from my own bosom: I have left\\nMy strong identity, my real self,\\nSomewhere between the throne, and where I sit\\nHere on this spot of earth. Search, Thea, search!\\nOpen thine eyes eterne, and sphere them round\\nUpon all space: space starr\\'d, and lorn of light;\\nSpace region\\'d with life-air; and barren void;\\nSpaces of fire, and all the yawn of hell.—-\\nSearch, Thea, search! and tell me, if thou seest\\nA certain shape or shadow, making way\\nWith wings or chariot fierce to repossess\\nA heaven he lost erewhile: it must—-it must\\nBe of ripe progress—-Saturn must be King.\\nYes, there must be a golden victory;\\nThere must be Gods thrown down, and trumpets blown\\nOf triumph calm, and hymns of festival\\nUpon the gold clouds metropolitan,\\nVoices of soft proclaim, and silver stir\\nOf strings in hollow shells; and there shall be\\nBeautiful things made new, for the surprise\\nOf the sky-children; I will give command:\\nThea! Thea! Thea! where is Saturn?\"\\nThis passion lifted him upon his feet,\\nAnd made his hands to struggle in the air,\\nHis Druid locks to shake and ooze with sweat,\\nHis eyes to fever out, his voice to cease.\\nHe stood, and heard not Thea\\'s sobbing deep;\\nA little time, and then again he snatch\\'d\\nUtterance thus.—-\"But cannot I create?\\nCannot I form? Cannot I fashion forth\\nAnother world, another universe,\\nTo overbear and crumble this to nought?\\nWhere is another Chaos? Where?\"—-That word\\nFound way unto Olympus, and made quake\\nThe rebel three.—-Thea was startled up,\\nAnd in her bearing was a sort of hope,\\nAs thus she quick-voic\\'d spake, yet full of awe.\\n\\n\\xa0 \\xa0  \"This cheers our fallen house: come to our friends,\\nO Saturn! come away, and give them heart;\\nI know the covert, for thence came I hither.\"\\nThus brief; then with beseeching eyes she went\\nWith backward footing through the shade a space:\\nHe follow\\'d, and she turn\\'d to lead the way\\nThrough aged boughs, that yielded like the mist\\nWhich eagles cleave upmounting from their nest.\\n\\n\\xa0 \\xa0  Meanwhile in other realms big tears were shed,\\nMore sorrow like to this, and such like woe,\\nToo huge for mortal tongue or pen of scribe:\\nThe Titans fierce, self-hid, or prison-bound,\\nGroan\\'d for the old allegiance once more,\\nAnd listen\\'d in sharp pain for Saturn\\'s voice.\\nBut one of the whole mammoth-brood still kept\\nHis sov\\'reigny, and rule, and majesy;—-\\nBlazing Hyperion on his orbed fire\\nStill sat, still snuff\\'d the incense, teeming up\\nFrom man to the sun\\'s God: yet unsecure:\\nFor as among us mortals omens drear\\nFright and perplex, so also shuddered he—-\\nNot at dog\\'s howl, or gloom-bird\\'s hated screech,\\nOr the familiar visiting of one\\nUpon the first toll of his passing-bell,\\nOr prophesyings of the midnight lamp;\\nBut horrors, portion\\'d to a giant nerve,\\nOft made Hyperion ache.\\xa0 His palace bright,\\nBastion\\'d with pyramids of glowing gold,\\nAnd touch\\'d with shade of bronzed obelisks,\\nGlar\\'d a blood-red through all its thousand courts,\\nArches, and domes, and fiery galleries;\\nAnd all its curtains of Aurorian clouds\\nFlush\\'d angerly: while sometimes eagles\\' wings,\\nUnseen before by Gods or wondering men,\\nDarken\\'d the place; and neighing steeds were heard\\nNot heard before by Gods or wondering men.\\nAlso, when he would taste the spicy wreaths\\nOf incense, breath\\'d aloft from sacred hills,\\nInstead of sweets, his ample palate took\\nSavor of poisonous brass and metal sick:\\nAnd so, when harbor\\'d in the sleepy west,\\nAfter the full completion of fair day,—-\\nFor rest divine upon exalted couch,\\nAnd slumber in the arms of melody,\\nHe pac\\'d away the pleasant hours of ease\\nWith stride colossal, on from hall to hall;\\nWhile far within each aisle and deep recess,\\nHis winged minions in close clusters stood,\\nAmaz\\'d and full offear; like anxious men\\nWho on wide plains gather in panting troops,\\nWhen earthquakes jar their battlements and towers.\\nEven now, while Saturn, rous\\'d from icy trance,\\nWent step for step with Thea through the woods,\\nHyperion, leaving twilight in the rear,\\nCame slope upon the threshold of the west;\\nThen, as was wont, his palace-door flew ope\\nIn smoothest silence, save what solemn tubes,\\nBlown by the serious Zephyrs, gave of sweet\\nAnd wandering sounds, slow-breathed melodies;\\nAnd like a rose in vermeil tint and shape,\\nIn fragrance soft, and coolness to the eye,\\nThat inlet to severe magnificence\\nStood full blown, for the God to enter in.\\n\\n\\xa0 \\xa0  He enter\\'d, but he enter\\'d full of wrath;\\nHis flaming robes stream\\'d out beyond his heels,\\nAnd gave a roar, as if of earthly fire,\\nThat scar\\'d away the meek ethereal Hours\\nAnd made their dove-wings tremble. On he flared\\nFrom stately nave to nave, from vault to vault,\\nThrough bowers of fragrant and enwreathed light,\\nAnd diamond-paved lustrous long arcades,\\nUntil he reach\\'d the great main cupola;\\nThere standing fierce beneath, he stampt his foot,\\nAnd from the basements deep to the high towers\\nJarr\\'d his own golden region; and before\\nThe quavering thunder thereupon had ceas\\'d,\\nHis voice leapt out, despite of godlike curb,\\nTo this result: \"O dreams of day and night!\\nO monstrous forms! O effigies of pain!\\nO spectres busy in a cold, cold gloom!\\nO lank-eared phantoms of black-weeded pools!\\nWhy do I know ye? why have I seen ye? why\\nIs my eternal essence thus distraught\\nTo see and to behold these horrors new?\\nSaturn is fallen, am I too to fall?\\nAm I to leave this haven of my rest,\\nThis cradle of my glory, this soft clime,\\nThis calm luxuriance of blissful light,\\nThese crystalline pavilions, and pure fanes,\\nOf all my lucent empire?\\xa0 It is left\\nDeserted, void, nor any haunt of mine.\\nThe blaze, the splendor, and the symmetry,\\nI cannot see but darkness, death, and darkness.\\nEven here, into my centre of repose,\\nThe shady visions come to domineer,\\nInsult, and blind, and stifle up my pomp.—-\\nFall!—-No, by Tellus and her briny robes!\\nOver the fiery frontier of my realms\\nI will advance a terrible right arm\\nShall scare that infant thunderer, rebel Jove,\\nAnd bid old Saturn take his throne again.\"—-\\nHe spake, and ceas\\'d, the while a heavier threat\\nHeld struggle with his throat but came not forth;\\nFor as in theatres of crowded men\\nHubbub increases more they call out \"Hush!\"\\nSo at Hyperion\\'s words the phantoms pale\\nBestirr\\'d themselves, thrice horrible and cold;\\nAnd from the mirror\\'d level where he stood\\nA mist arose, as from a scummy marsh.\\nAt this, through all his bulk an agony\\nCrept gradual, from the feet unto the crown,\\nLike a lithe serpent vast and muscular\\nMaking slow way, with head and neck convuls\\'d\\nFrom over-strained might.\\xa0 Releas\\'d, he fled\\nTo the eastern gates, and full six dewy hours\\nBefore the dawn in season due should blush,\\nHe breath\\'d fierce breath against the sleepy portals,\\nClear\\'d them of heavy vapours, burst them wide\\nSuddenly on the ocean\\'s chilly streams.\\nThe planet orb of fire, whereon he rode\\nEach day from east to west the heavens through,\\nSpun round in sable curtaining of clouds;\\nNot therefore veiled quite, blindfold, and hid,\\nBut ever and anon the glancing spheres,\\nCircles, and arcs, and broad-belting colure,\\nGlow\\'d through, and wrought upon the muffling dark\\nSweet-shaped lightnings from the nadir deep\\nUp to the zenith,—-hieroglyphics old,\\nWhich sages and keen-eyed astrologers\\nThen living on the earth, with laboring thought\\nWon from the gaze of many centuries:\\nNow lost, save what we find on remnants huge\\nOf stone, or rnarble swart; their import gone,\\nTheir wisdom long since fled.—-Two wings this orb\\nPossess\\'d for glory, two fair argent wings,\\nEver exalted at the God\\'s approach:\\nAnd now, from forth the gloom their plumes immense\\nRose, one by one, till all outspreaded were;\\nWhile still the dazzling globe maintain\\'d eclipse,\\nAwaiting for Hyperion\\'s command.\\nFain would he have commanded, fain took throne\\nAnd bid the day begin, if but for change.\\nHe might not:—-No, though a primeval God:\\nThe sacred seasons might not be disturb\\'d.\\nTherefore the operations of the dawn\\nStay\\'d in their birth, even as here \\'tis told.\\nThose silver wings expanded sisterly,\\nEager to sail their orb; the porches wide\\nOpen\\'d upon the dusk demesnes of night\\nAnd the bright Titan, phrenzied with new woes,\\nUnus\\'d to bend, by hard compulsion bent\\nHis spirit to the sorrow of the time;\\nAnd all along a dismal rack of clouds,\\nUpon the boundaries of day and night,\\nHe stretch\\'d himself in grief and radiance faint.\\nThere as he lay, the Heaven with its stars\\nLook\\'d down on him with pity, and the voice\\nOf Coelus, from the universal space,\\nThus whisper\\'d low and solemn in his ear:\\n\"O brightest of my children dear, earth-born\\nAnd sky-engendered, son of mysteries\\nAll unrevealed even to the powers\\nWhich met at thy creating; at whose joys\\nAnd palpitations sweet, and pleasures soft,\\nI, Coelus, wonder, how they came and whence;\\nAnd at the fruits thereof what shapes they be,\\nDistinct, and visible; symbols divine,\\nManifestations of that beauteous life\\nDiffus\\'d unseen throughout eternal space:\\nOf these new-form\\'d art thou, O brightest child!\\nOf these, thy brethren and the Goddesses!\\nThere is sad feud among ye, and rebellion\\nOf son against his sire.\\xa0 I saw him fall,\\nI saw my first-born tumbled from his throne!\\nTo me his arms were spread, to me his voice\\nFound way from forth the thunders round his head!\\nPale wox I, and in vapours hid my face.\\nArt thou, too, near such doom? vague fear there is:\\nFor I have seen my sons most unlike Gods.\\nDivine ye were created, and divine\\nIn sad demeanour, solemn, undisturb\\'d,\\nUnruffled, like high Gods, ye liv\\'d and ruled:\\nNow I behold in you fear, hope, and wrath;\\nActions of rage and passion; even as\\nI see them, on the mortal world beneath,\\nIn men who die.—-This is the grief, O son!\\nSad sign of ruin, sudden dismay, and fall!\\nYet do thou strive; as thou art capable,\\nAs thou canst move about, an evident God;\\nAnd canst oppose to each malignant hour\\nEthereal presence:—-I am but a voice;\\nMy life is but the life of winds and tides,\\nNo more than winds and tides can I avail:—-\\nBut thou canst.—-Be thou therefore in the van\\nOf circumstance; yea, seize the arrow\\'s barb\\nBefore the tense string murmur.—-To the earth!\\nFor there thou wilt find Saturn, and his woes.\\nMeantime I will keep watch on thy bright sun,\\nAnd of thy seasons be a careful nurse.\"—-\\nEre half this region-whisper had come down,\\nHyperion arose, and on the stars\\nLifted his curved lids, and kept them wide\\nUntil it ceas\\'d; and still he kept them wide:\\nAnd still they were the same bright, patient stars.\\nThen with a slow incline of his broad breast,\\nLike to a diver in the pearly seas,\\nForward he stoop\\'d over the airy shore,\\nAnd plung\\'d all noiseless into the deep night.\\'Lord Houghton records, on the authority of Brown, that \"Hyperion\" was begun after the death of Tom Keats, when the poet took up his residence at Wentworth Place.\\n\\n(line 14): It seems to me that the power of realization shown in the first decade, and indeed throughout the fragment, answers all objections to the subject, and is the most absolute security for the nobility of the result which Keats would have achieved had he finished the poem. It is impossible to over-estimate the value of such a landscape, so touched in with a few strokes of titanic meaning and completeness; and the whole sentiment of gigantic despair reflected around the fallen god of the Titan dynasty, and permeating the landscape, is resumed in the most perfect manner in the incident of the motionless fallen leaf, a line almost as intense and full of the essence of poetry as any line in our language. It were ungracious to take exception to the poor Naiad; but she has not the convincing appropriateness of the rest of this sublime opening.\\'\\n\\n(line 51): Leigh Hunt\\'s remarks upon Keats\\'s failure to finish the poem are specially appropriate to this passage, \"If any living poet could finish this fragment, we believe it is the author himself. But perhaps he feels that he ought not. A story which involves passion, almost of necessity involves speech; and though we may well enough describe beings greater than ourselves by comparison, unfortunately we cannot make them speak by comparison.\"\\n\\n\\n~ Poetical Works of John Keats, ed. H. Buxton Forman, Crowell publ. 1895.\\n\\n     '}, {'Unnamed: 0': 28, 'Title': 'Fill For Me A Brimming Bowl', 'Poem': 'fill for me brimming bowl and in it let me drown my soul but put therein some drug designed to banish women from my mind for want not the stream inspiring that fills the mind with—fond desiring but want as deep draught as ever from lethe wave was quaff from my despairing heart to charm the image of the fairest form that ever my reveling eyes beheld that ever my wandering fancy spell in vain away cannot chace the melting softness of that face the beaminess of those bright eyes that breast—earth only paradise my sight will never more be blest for all see has lost its zest nor with delight can explore the classic page or muse lore had she but known how beat my heart and with one smile reliev its smart should have felt sweet relief should have felt the joy of grief yet as the tuscan mid the snow of lapland dreams on sweet arno even so for ever shall she be the halo of my memory', 'Poem_for_Human': \"Fill for me a brimming bowl\\nAnd in it let me drown my soul:\\nBut put therein some drug, designed\\nTo Banish Women from my mind:\\nFor I want not the stream inspiring\\nThat fills the mind with—fond desiring,\\nBut I want as deep a draught\\nAs e'er from Lethe's wave was quaff'd;\\nFrom my despairing heart to charm\\nThe Image of the fairest form\\nThat e'er my reveling eyes beheld,\\nThat e'er my wandering fancy spell'd.\\nIn vain! away I cannot chace\\nThe melting softness of that face,\\nThe beaminess of those bright eyes,\\nThat breast—earth's only Paradise.\\nMy sight will never more be blest;\\nFor all I see has lost its zest:\\nNor with delight can I explore,\\nThe Classic page, or Muse's lore.\\nHad she but known how beat my heart,\\nAnd with one smile reliev'd its smart\\nI should have felt a sweet relief,\\nI should have felt ``the joy of grief.''\\nYet as the Tuscan mid the snow\\nOf Lapland dreams on sweet Arno,\\nEven so for ever shall she be\\nThe Halo of my Memory.     \"}, {'Unnamed: 0': 29, 'Title': 'Isabella; Or, The Pot Of Basil: A Story From Boccaccio', 'Poem': 'fair isabel poor simple isabel lorenzo young palmer in love eye they could not in the self same mansion dwell without some stir of heart some malady they could not sit at meals but feel how well it soothed each to be the other by they could not sure beneath the same roof sleep but to each other dream and nightly weep ii with every morn their love grew tenderer with every eve deeper and tenderer still he might not in house field or garden stir but her full shape would all his seeing fill and his continual voice was pleasanter to her than noise of trees or hidden rill her lute string gave an echo of his name she spoilt her half done broidery with the same iii he knew whose gentle hand was at the latch before the door had given her to his eyes and from her chamber window he would catch her beauty farther than the falcon spies and constant as her vespers would he watch because her face was turn to the same skies and with sick longing all the night outwear to hear her morning step upon the stair iv whole long month of may in this sad plight made their cheeks paler by the break of june to morrow will bow to my delight to morrow will ask my lady boon may never see another night lorenzo if thy lips breathe not love tune so spake they to their pillows but alas honeyless days and days did he let pass until sweet isabella untouch cheek fell sick within the rose just domain fell thin as young mother who doth seek by every lull to cool her infant pain how ill she is said he may not speak and yet will and tell my love all plain if looks speak love laws will drink her tears and at the least twill startle off her cares vi so said he one fair morning and all day his heart beat awfully against his side and to his heart he inwardly did pray for power to speak but still the ruddy tide stifled his voice and puls resolve away— fever his high conceit of such bride yet brought him to the meekness of child alas when passion is both meek and wild vii so once more he had wak and anguished dreary night of love and misery if isabel quick eye had not been wed to every symbol on his forehead high she saw it waxing very pale and dead and straight all flush so lisped tenderly lorenzo —here she ceas her timid quest but in her tone and look he read the rest viii isabella can half perceive that may speak my grief into thine ear if thou didst ever any thing believe believe how love thee believe how near my soul is to its doom would not grieve thy hand by unwelcome pressing would not fear thine eyes by gazing but cannot live another night and not my passion shrive ix love thou art leading me from wintry cold lady thou leadest me to summer clime and must taste the blossoms that unfold in its ripe warmth this gracious morning time so said his erewhile timid lips grew bold and poesied with hers in dewy rhyme great bliss was with them and great happiness grew like lusty flower in june caress parting they seem to tread upon the air twin roses by the zephyr blown apart only to meet again more close and share the inward fragrance of each other heart she to her chamber gone ditty fair sang of delicious love and honey dart he with light steps went up western hill and bade the sun farewell and joy his fill xi all close they met again before the dusk had taken from the stars its pleasant veil all close they met all eves before the dusk had taken from the stars its pleasant veil close in bower of hyacinth and musk unknown of any free from whispering tale ah better had it been for ever so than idle ears should pleasure in their woe xii were they unhappy then —it cannot be— too many tears for lovers have been she would too many sighs give we to them in fee too much of pity after they are dead too many doleful stories do we see whose matter in bright gold were best be read except in such page where theseus spouse over the pathless waves towards him bows xiii but for the general award of love the little sweet doth kill much bitterness though dido silent is in under grove and isabella was great distress though young lorenzo in warm indian clove was not embalm this truth is not the less— even bees the little almsmen of spring bowers know there is richest juice in poison flowers xiv with her two brothers this fair lady dwelt enriched from ancestral merchandize and for them many weary hand did swelt in torched mines and noisy factories and many once proud quiver loins did melt in blood from stinging whip —with hollow eyes many all day in dazzling river stood to take the rich ored driftings of the flood xv for them the ceylon diver held his breath and went all naked to the hungry shark for them his ears gush blood for them in death the seal on the cold ice with piteous bark lay full of darts for them alone did seethe thousand men in troubles wide and dark half ignorant they turn an easy wheel that set sharp racks at work to pinch and peel xvi why were they proud because their marble founts gush with more pride than do wretch tears why were they proud because fair orange mounts were of more soft ascent than lazar stairs why were they proud because red lin accounts were richer than the songs of grecian years why were they proud again we ask aloud why in the name of glory were they proud xvii yet were these florentines as self retired in hungry pride and gainful cowardice as two close hebrews in that land inspired paled in and vineyarded from beggar spies the hawks of ship mast forests—the untired and pannier mules for ducats and old lies— quick cat paws on the generous stray away great wits in spanish tuscan and malay xviii how was it these same ledger men could spy fair isabella in her downy nest how could they find out in lorenzo eye straying from his toil hot egypt pest into their vision covetous and sly how could these money bags see east and west yet so they did—and every dealer fair must see behind as doth the hunted hare xix eloquent and famed boccaccio of thee we now should ask forgiving boon and of thy spicy myrtles as they blow and of thy roses amorous of the moon and of thy lilies that do paler grow now they can no more hear thy ghittern tune for venturing syllables that ill beseem the quiet glooms of such piteous theme xx grant thou pardon here and then the tale shall move on soberly as it is meet there is no other crime no mad assail to make old prose in modern rhyme more sweet but it is done—succeed the verse or fail— to honour thee and thy gone spirit greet to stead thee as verse in english tongue an echo of thee in the north wind sung xxi these brethren having found by many signs what love lorenzo for their sister had and how she lov him too each unconfines his bitter thoughts to other well nigh mad that he the servant of their trade designs should in their sister love be blithe and glad when it was their plan to coax her by degrees to some high noble and his olive trees xxii and many jealous conference had they and many times they bit their lips alone before they fix upon surest way to make the youngster for his crime atone and at the last these men of cruel clay cut mercy with sharp knife to the bone for they resolved in some forest dim to kill lorenzo and there bury him xxiii so on pleasant morning as he leant into the sun rise over the balustrade of the garden terrace towards him they bent their footing through the dews and to him said you seem there in the quiet of content lorenzo and we are most loth to invade calm speculation but if you are wise bestride your steed while cold is in the skies xxiv to day we purpose ay this hour we mount to spur three leagues towards the apennine come down we pray thee ere the hot sun count his dewy rosary on the eglantine lorenzo courteously as he was will not bow fair greeting to these serpents whine and went in haste to get in readiness with belt and spur and bracing huntsman dress xxv and as he to the court yard pass along each third step did he pause and listen oft if he could hear his lady matin song or the light whisper of her footstep soft and as he thus over his passion hung he heard laugh full musical aloft when looking up he saw her features bright smile through an in door lattice all delight xxvi love isabel said he was in pain lest should miss to bid thee good morrow ah what if should lose thee when so fain am to stifle all the heavy sorrow of poor three hours absence but we will gain out of the amorous dark what day doth borrow good bye will soon be back good bye said she and as he went she chanted merrily xxvii so the two brothers and their murder man rode past fair florence to where arno stream gurgles through straiten banks and still doth fan itself with dancing bulrush and the bream keeps head against the freshets sick and wan the brothers faces in the ford did seem lorenzo flush with love —they pass the water into forest quiet for the slaughter xxviii there was lorenzo slain and buried in there in that forest did his great love cease ah when soul doth thus its freedom win it aches in loneliness—is ill at peace as the break covert blood hounds of such sin they dipp their swords in the water and did tease their horses homeward with convulsed spur each richer by his being murderer xxix they told their sister how with sudden speed lorenzo had ta en ship for foreign lands because of some great urgency and need in their affairs requiring trusty hands poor girl put on thy stifling widow weed and scape at once from hope accursed bands to day thou wilt not see him nor to morrow and the next day will be day of sorrow xxx she weeps alone for pleasures not to be sorely she wept until the night came on and then instead of love misery she brooded over the luxury alone his image in the dusk she seem to see and to the silence made gentle moan spreading her perfect arms upon the air and on her couch low murmuring where where xxxi but selfishness love cousin held not long its fiery vigil in her single breast she fretted for the golden hour and hung upon the time with feverish unrest— not long—for soon into her heart throng of higher occupants richer zest came tragic passion not to be subdued and sorrow for her love in travels rude xxxii in the mid days of autumn on their eves the breath of winter comes from far away and the sick west continually bereaves of some gold tinge and plays roundelay of death among the bushes and the leaves to make all bare before he dares to stray from his north cavern so sweet isabel by gradual decay from beauty fell xxxiii because lorenzo came not oftentimes she ask her brothers with an eye all pale striving to be itself what dungeon climes could keep him off so long they spake tale time after time to quiet her their crimes came on them like smoke from hinnom vale and every night in dreams they groan aloud to see their sister in her snowy shroud xxxiv and she had died in drowsy ignorance but for thing more deadly dark than all it came like fierce potion drunk by chance which saves sick man from the feather pall for some few gasping moments like lance waking an indian from his cloudy hall with cruel pierce and bringing him again sense of the gnawing fire at heart and brain xxxv it was vision —in the drowsy gloom the dull of midnight at her couch foot lorenzo stood and wept the forest tomb had marr his glossy hair which once could shoot lustre into the sun and put cold doom upon his lips and taken the soft lute from his lorn voice and past his loamed ears had made miry channel for his tears xxxvi strange sound it was when the pale shadow spake for there was striving in its piteous tongue to speak as when on earth it was awake and isabella on its music hung languor there was in it and tremulous shake as in palsied druid harp unstrung and through it moan ghostly under song like hoarse night gusts sepulchral briars among xxxvii its eyes though wild were still all dewy bright with love and kept all phantom fear aloof from the poor girl by magic of their light the while it did unthread the horrid woof of the late darken time —the murderous spite of pride and avarice —the dark pine roof in the forest —and the sodden turfed dell where without any word from stabs he fell xxxviii saying moreover isabel my sweet red whortle berries droop above my head and large flint stone weighs upon my feet around me beeches and high chestnuts she would their leaves and prickly nuts sheep fold bleat comes from beyond the river to my bed go she would one tear upon my heather bloom and it shall comfort me within the tomb xxxix am shadow now alas alas upon the skirts of human nature dwelling alone chant alone the holy mass while little sounds of life are round me knelling and glossy bees at noon do fieldward pass and many chapel bell the hour is telling paining me through those sounds grow strange to me and thou art distant in humanity xl know what was feel full well what is and should rage if spirits could go mad though forget the taste of earthly bliss that paleness warms my grave as though had seraph chosen from the bright abyss to be my spouse thy paleness makes me glad thy beauty grows upon me and feel greater love through all my essence steal xli the spirit mourn adieu —dissolv and left the atom darkness in slow turmoil as when of healthful midnight sleep bereft thinking on rugged hours and fruitless toil we put our eyes into pillowy cleft and see the spangly gloom froth up and boil it made sad isabella eyelids ache and in the dawn she started up awake xlii ha ha said she knew not this hard life thought the worst was simple misery thought some fate with pleasure or with strife portion us—happy days or else to die but there is crime—a brother bloody knife sweet spirit thou hast school my infancy will visit thee for this and kiss thine eyes and greet thee morn and even in the skies xliii when the full morning came she had devised how she might secret to the forest hie how she might find the clay so dearly prized and sing to it one latest lullaby how her short absence might be unsurmised while she the inmost of the dream would try resolv she took with her an aged nurse and went into that dismal forest hearse xliv see as they creep along the river side how she doth whisper to that aged dame and after looking round the champaign wide shows her knife what feverous hectic flame burns in thee child —what good can thee betide that thou should st smile again —the evening came and they had found lorenzo earthy bed the flint was there the berries at his head xlv who hath not loiter in green church yard and let his spirit like demon mole work through the clayey soil and gravel hard to see skull coffin bones and funeral stole pitying each form that hungry death hath marr and filling it once more with human soul ah this is holiday to what was felt when isabella by lorenzo knelt xlvi she gaz into the fresh thrown mould as though one glance did fully all its secrets tell clearly she saw as other eyes would know pale limbs at bottom of crystal well upon the murderous spot she seem to grow like to native lily of the dell then with her knife all sudden she began to dig more fervently than misers can xlvii soon she turn up soiled glove whereon her silk had play in purple phantasies she kiss it with lip more chill than stone and put it in her bosom where it dries and freezes utterly unto the bone those dainties made to still an infant cries then gan she work again nor stay her care but to throw back at times her veiling hair xlviii that old nurse stood beside her wondering until her heart felt pity to the core at sight of such dismal labouring and so she kneeled with her locks all hoar and put her lean hands to the horrid thing three hours they labour at this travail sore at last they felt the kernel of the grave and isabella did not stamp and rave xlix ah wherefore all this wormy circumstance why linger at the yawning tomb so long for the gentleness of old romance the simple plaining of minstrel song fair reader at the old tale take glance for here in truth it doth not well belong to speak —o turn thee to the very tale and taste the music of that vision pale with duller steel than the persèan sword they cut away no formless monster head but one whose gentleness did well accord with death as life the ancient harps have said love never dies but lives immortal lord if love impersonate was ever dead pale isabella kiss it and low moan it was love cold —dead indeed but not dethroned li in anxious secrecy they took it home and then the prize was all for isabel she calm its wild hair with golden comb and all around each eye sepulchral cell pointed each fringed lash the smeared loam with tears as chilly as dripping well she drench away —and still she comb and kept sighing all day—and still she kiss and wept lii then in silken scarf —sweet with the dews of precious flowers pluck in araby and divine liquids come with odorous ooze through the cold serpent pipe refreshfully she wrapp it up and for its tomb did choose garden pot wherein she laid it by and cover it with mould and over it set sweet basil which her tears kept ever wet liii and she forgot the stars the moon and sun and she forgot the blue above the trees and she forgot the dells where waters run and she forgot the chilly autumn breeze she had no knowledge when the day was done and the new morn she saw not but in peace hung over her sweet basil evermore and moisten it with tears unto the core liv and so she ever fed it with thin tears whence thick and green and beautiful it grew so that it smelt more balmy than its peers of basil tufts in florence for it drew nurture besides and life from human fears from the fast mouldering head there shut from view so that the jewel safely casketed came forth and in perfumed leafits spread lv melancholy linger here awhile music music breathe despondingly echo echo from some sombre isle unknown lethean sigh to us—o sigh spirits in grief lift up your heads and smile lift up your heads sweet spirits heavily and make pale light in your cypress glooms tinting with silver wan your marble tombs lvi moan hither all ye syllables of woe from the deep throat of sad melpomene through bronzed lyre in tragic order go and touch the strings into mystery sound mournfully upon the winds and low for simple isabel is soon to be among the dead she withers like palm cut by an indian for its juicy balm lvii leave the palm to wither by itself let not quick winter chill its dying hour it may not be—those baalites of pelf her brethren noted the continual shower from her dead eyes and many curious elf among her kindred wonder that such dower of youth and beauty should be thrown aside by one mark out to be noble bride lviii and furthermore her brethren wonder much why she sat drooping by the basil green and why it flourish as by magic touch greatly they wonder what the thing might mean they could not surely give belief that such very nothing would have power to wean her from her own fair youth and pleasures gay and even remembrance of her love delay lix therefore they watch time when they might sift this hidden whim and long they watch in vain for seldom did she go to chapel shrift and seldom felt she any hunger pain and when she left she hurried back as swift as bird on wing to breast its eggs again and patient as hen bird sat her there beside her basil weeping through her hair lx yet they contriv to steal the basil pot and to examine it in secret place the thing was vile with green and livid spot and yet they knew it was lorenzo face the guerdon of their murder they had got and so left florence in moment space never to turn again —away they went with blood upon their heads to banishment lxi melancholy turn thine eyes away music music breathe despondingly echo echo on some other day from isles lethean sigh to us—o sigh spirits of grief sing not your well way for isabel sweet isabel will die will die death too lone and incomplete now they have ta en away her basil sweet lxii piteous she look on dead and senseless things asking for her lost basil amorously and with melodious chuckle in the strings of her lorn voice she oftentimes would cry after the pilgrim in his wanderings to ask him where her basil was and why it was hid from her for cruel it is said she to steal my basil pot away from me lxiii and so she pined and so she died forlorn imploring for her basil to the last no heart was there in florence but did mourn in pity of her love so overcast and sad ditty of this story born from mouth to mouth through all the country pass still is the burthen sung— cruelty to steal my basil pot away from me stanza xxiv leigh hunt cites the exquisite metaphor of lines and as an instance in which keats over informs the occasion or the speaker but doubt whether it is fair to class this kind of over informing as an error if poeple of this kind are to be denied one element of poetry they must be denied another and it is scarcely more strange to find the vile brethren of isabella talking in metaphor than to find them talking in rhyme and metre for the rest common place italian even villainous italian feels so intensely the sunlight of his land that we need not object to the metaphor even on dramatic grounds stanza xxxiii for hinnom vale see second book of chronicles of the kings of israel chapter xxviii verse moreover he burnt incense in the valley of the son of hinnom and burnt his children in the fire after the abominations of the heathen whom the lord had cast out before the children of israel stanza xlvii the sixth line has been topic of censure but think wrongly taken in itself apart from the poem it might be held to be an inopportune description but in the context of this most tragic and pathetic story it has to me surpassing fitness fitness astonishing in the work of youth of keats age in 1818 the idea of maternity thus connected as it were by chance with the image of this widowed girl on the borders of insanity emphasizes in the most beautiful way the helpless misery of life wrecked by the wickedness of others and throws into ghastly contrast the joy of what should have been and the agony of what was stanza xlviii hunt observes here it is curious to see how the simple pathos of boccaccio or which is the same thing the simple intensity of the heroine feelings suffices our author more and more as he gets to the end of his story and he has related it as happily as if he had never written any poetry but that of the heart stanza liv whether the savage and tartarly assailants of keats day availed themselves of the word leafits in the 8th line for an accusation of word coining do not know but as far as have been able to ascertain this diminutive of leaf is peculiar to the present passage stanza lxii hunt says the passage about the tone of her voice the poor lost witted coaxing the chuckle in which she asks after her pilgrim and her basil is as true and touching an instance of the effect of happy familiar word as any in all poetry it is difficult to imagine that these sentences of hunt were not somehow misprinted but as the review occurs only in the original issue of the indicator one has no means of testing this passage by comparison with later editions it can hardly be supposed that hunt really thought the pilgrim meant lorenzo and it ought not to be necessary to explain that the poor lost girl called after any pilgrim whom chance sent her way enquiring of him where her basil was poetical works of john keats ed buxton forman crowell publ 1895', 'Poem_for_Human': 'I.\\nFair Isabel, poor simple Isabel!\\nLorenzo, a young palmer in Love\\'s eye!\\nThey could not in the self-same mansion dwell\\nWithout some stir of heart, some malady;\\nThey could not sit at meals but feel how well\\nIt soothed each to be the other by;\\nThey could not, sure, beneath the same roof sleep\\nBut to each other dream, and nightly weep.\\n\\nII.\\nWith every morn their love grew tenderer,\\nWith every eve deeper and tenderer still;\\nHe might not in house, field, or garden stir,\\nBut her full shape would all his seeing fill;\\nAnd his continual voice was pleasanter\\nTo her, than noise of trees or hidden rill;\\nHer lute-string gave an echo of his name,\\nShe spoilt her half-done broidery with the same.\\n\\nIII.\\nHe knew whose gentle hand was at the latch,\\nBefore the door had given her to his eyes;\\nAnd from her chamber-window he would catch\\nHer beauty farther than the falcon spies;\\nAnd constant as her vespers would he watch,\\nBecause her face was turn\\'d to the same skies;\\nAnd with sick longing all the night outwear,\\nTo hear her morning-step upon the stair.\\n\\nIV.\\nA whole long month of May in this sad plight\\nMade their cheeks paler by the break of June:\\n\"To morrow will I bow to my delight,\\n\"To-morrow will I ask my lady\\'s boon.\"—\\n\"O may I never see another night,\\n\"Lorenzo, if thy lips breathe not love\\'s tune.\"—\\nSo spake they to their pillows; but, alas,\\nHoneyless days and days did he let pass;\\n\\nV.\\nUntil sweet Isabella\\'s untouch\\'d cheek\\nFell sick within the rose\\'s just domain,\\nFell thin as a young mother\\'s, who doth seek\\nBy every lull to cool her infant\\'s pain:\\n\"How ill she is,\" said he, \"I may not speak,\\n\"And yet I will, and tell my love all plain:\\n\"If looks speak love-laws, I will drink her tears,\\n\"And at the least \\'twill startle off her cares.\"\\n\\nVI.\\nSo said he one fair morning, and all day\\nHis heart beat awfully against his side;\\nAnd to his heart he inwardly did pray\\nFor power to speak; but still the ruddy tide\\nStifled his voice, and puls\\'d resolve away—\\nFever\\'d his high conceit of such a bride,\\nYet brought him to the meekness of a child:\\nAlas! when passion is both meek and wild!\\n\\nVII.\\nSo once more he had wak\\'d and anguished\\nA dreary night of love and misery,\\nIf Isabel\\'s quick eye had not been wed\\nTo every symbol on his forehead high;\\nShe saw it waxing very pale and dead,\\nAnd straight all flush\\'d; so, lisped tenderly,\\n\"Lorenzo!\"—here she ceas\\'d her timid quest,\\nBut in her tone and look he read the rest.\\n\\nVIII.\\n\"O Isabella, I can half perceive\\n\"That I may speak my grief into thine ear;\\n\"If thou didst ever any thing believe,\\n\"Believe how I love thee, believe how near\\n\"My soul is to its doom: I would not grieve\\n\"Thy hand by unwelcome pressing, would not fear\\n\"Thine eyes by gazing; but I cannot live\\n\"Another night, and not my passion shrive.\\n\\nIX.\\n\"Love! thou art leading me from wintry cold,\\n\"Lady! thou leadest me to summer clime,\\n\"And I must taste the blossoms that unfold\\n\"In its ripe warmth this gracious morning time.\"\\nSo said, his erewhile timid lips grew bold,\\nAnd poesied with hers in dewy rhyme:\\nGreat bliss was with them, and great happiness\\nGrew, like a lusty flower in June\\'s caress.\\n\\nX.\\nParting they seem\\'d to tread upon the air,\\nTwin roses by the zephyr blown apart\\nOnly to meet again more close, and share\\nThe inward fragrance of each other\\'s heart.\\nShe, to her chamber gone, a ditty fair\\nSang, of delicious love and honey\\'d dart;\\nHe with light steps went up a western hill,\\nAnd bade the sun farewell, and joy\\'d his fill.\\n\\nXI.\\nAll close they met again, before the dusk\\nHad taken from the stars its pleasant veil,\\nAll close they met, all eves, before the dusk\\nHad taken from the stars its pleasant veil,\\nClose in a bower of hyacinth and musk,\\nUnknown of any, free from whispering tale.\\nAh! better had it been for ever so,\\nThan idle ears should pleasure in their woe.\\n\\nXII.\\nWere they unhappy then?—It cannot be—\\nToo many tears for lovers have been shed,\\nToo many sighs give we to them in fee,\\nToo much of pity after they are dead,\\nToo many doleful stories do we see,\\nWhose matter in bright gold were best be read;\\nExcept in such a page where Theseus\\' spouse\\nOver the pathless waves towards him bows.\\n\\nXIII.\\nBut, for the general award of love,\\nThe little sweet doth kill much bitterness;\\nThough Dido silent is in under-grove,\\nAnd Isabella\\'s was a great distress,\\nThough young Lorenzo in warm Indian clove\\nWas not embalm\\'d, this truth is not the less—\\nEven bees, the little almsmen of spring-bowers,\\nKnow there is richest juice in poison-flowers.\\n\\nXIV.\\nWith her two brothers this fair lady dwelt,\\nEnriched from ancestral merchandize,\\nAnd for them many a weary hand did swelt\\nIn torched mines and noisy factories,\\nAnd many once proud-quiver\\'d loins did melt\\nIn blood from stinging whip;—with hollow eyes\\nMany all day in dazzling river stood,\\nTo take the rich-ored driftings of the flood.\\n\\nXV.\\nFor them the Ceylon diver held his breath,\\nAnd went all naked to the hungry shark;\\nFor them his ears gush\\'d blood; for them in death\\nThe seal on the cold ice with piteous bark\\nLay full of darts; for them alone did seethe\\nA thousand men in troubles wide and dark:\\nHalf-ignorant, they turn\\'d an easy wheel,\\nThat set sharp racks at work, to pinch and peel.\\n\\nXVI.\\nWhy were they proud? Because their marble founts\\nGush\\'d with more pride than do a wretch\\'s tears?—\\nWhy were they proud? Because fair orange-mounts\\nWere of more soft ascent than lazar stairs?—\\nWhy were they proud? Because red-lin\\'d accounts\\nWere richer than the songs of Grecian years?—\\nWhy were they proud? again we ask aloud,\\nWhy in the name of Glory were they proud?\\n\\nXVII.\\nYet were these Florentines as self-retired\\nIn hungry pride and gainful cowardice,\\nAs two close Hebrews in that land inspired,\\nPaled in and vineyarded from beggar-spies,\\nThe hawks of ship-mast forests—the untired\\nAnd pannier\\'d mules for ducats and old lies—\\nQuick cat\\'s-paws on the generous stray-away,—\\nGreat wits in Spanish, Tuscan, and Malay.\\n\\nXVIII.\\nHow was it these same ledger-men could spy\\nFair Isabella in her downy nest?\\nHow could they find out in Lorenzo\\'s eye\\nA straying from his toil? Hot Egypt\\'s pest\\nInto their vision covetous and sly!\\nHow could these money-bags see east and west?—\\nYet so they did—and every dealer fair\\nMust see behind, as doth the hunted hare.\\n\\nXIX.\\nO eloquent and famed Boccaccio!\\nOf thee we now should ask forgiving boon,\\nAnd of thy spicy myrtles as they blow,\\nAnd of thy roses amorous of the moon,\\nAnd of thy lilies, that do paler grow\\nNow they can no more hear thy ghittern\\'s tune,\\nFor venturing syllables that ill beseem\\nThe quiet glooms of such a piteous theme.\\n\\nXX.\\nGrant thou a pardon here, and then the tale\\nShall move on soberly, as it is meet;\\nThere is no other crime, no mad assail\\nTo make old prose in modern rhyme more sweet:\\nBut it is done—succeed the verse or fail—\\nTo honour thee, and thy gone spirit greet;\\nTo stead thee as a verse in English tongue,\\nAn echo of thee in the north-wind sung.\\n\\nXXI.\\nThese brethren having found by many signs\\nWhat love Lorenzo for their sister had,\\nAnd how she lov\\'d him too, each unconfines\\nHis bitter thoughts to other, well nigh mad\\nThat he, the servant of their trade designs,\\nShould in their sister\\'s love be blithe and glad,\\nWhen \\'twas their plan to coax her by degrees\\nTo some high noble and his olive-trees.\\n\\nXXII.\\nAnd many a jealous conference had they,\\nAnd many times they bit their lips alone,\\nBefore they fix\\'d upon a surest way\\nTo make the youngster for his crime atone;\\nAnd at the last, these men of cruel clay\\nCut Mercy with a sharp knife to the bone;\\nFor they resolved in some forest dim\\nTo kill Lorenzo, and there bury him.\\n\\nXXIII.\\nSo on a pleasant morning, as he leant\\nInto the sun-rise, o\\'er the balustrade\\nOf the garden-terrace, towards him they bent\\nTheir footing through the dews; and to him said,\\n\"You seem there in the quiet of content,\\n\"Lorenzo, and we are most loth to invade\\n\"Calm speculation; but if you are wise,\\n\"Bestride your steed while cold is in the skies.\\n\\nXXIV.\\n\"To-day we purpose, ay, this hour we mount\\n\"To spur three leagues towards the Apennine;\\n\"Come down, we pray thee, ere the hot sun count\\n\"His dewy rosary on the eglantine.\"\\nLorenzo, courteously as he was wont,\\nBow\\'d a fair greeting to these serpents\\' whine;\\nAnd went in haste, to get in readiness,\\nWith belt, and spur, and bracing huntsman\\'s dress.\\n\\nXXV.\\nAnd as he to the court-yard pass\\'d along,\\nEach third step did he pause, and listen\\'d oft\\nIf he could hear his lady\\'s matin-song,\\nOr the light whisper of her footstep soft;\\nAnd as he thus over his passion hung,\\nHe heard a laugh full musical aloft;\\nWhen, looking up, he saw her features bright\\nSmile through an in-door lattice, all delight.\\n\\nXXVI.\\n\"Love, Isabel!\" said he, \"I was in pain\\n\"Lest I should miss to bid thee a good morrow:\\n\"Ah! what if I should lose thee, when so fain\\n\"I am to stifle all the heavy sorrow\\n\"Of a poor three hours\\' absence? but we\\'ll gain\\n\"Out of the amorous dark what day doth borrow.\\n\"Good bye! I\\'ll soon be back.\"—\"Good bye!\" said she:—\\nAnd as he went she chanted merrily.\\n\\nXXVII.\\nSo the two brothers and their murder\\'d man\\nRode past fair Florence, to where Arno\\'s stream\\nGurgles through straiten\\'d banks, and still doth fan\\nItself with dancing bulrush, and the bream\\nKeeps head against the freshets. Sick and wan\\nThe brothers\\' faces in the ford did seem,\\nLorenzo\\'s flush with love.—They pass\\'d the water\\nInto a forest quiet for the slaughter.\\n\\nXXVIII.\\nThere was Lorenzo slain and buried in,\\nThere in that forest did his great love cease;\\nAh! when a soul doth thus its freedom win,\\nIt aches in loneliness—is ill at peace\\nAs the break-covert blood-hounds of such sin:\\nThey dipp\\'d their swords in the water, and did tease\\nTheir horses homeward, with convulsed spur,\\nEach richer by his being a murderer.\\n\\nXXIX.\\nThey told their sister how, with sudden speed,\\nLorenzo had ta\\'en ship for foreign lands,\\nBecause of some great urgency and need\\nIn their affairs, requiring trusty hands.\\nPoor Girl! put on thy stifling widow\\'s weed,\\nAnd \\'scape at once from Hope\\'s accursed bands;\\nTo-day thou wilt not see him, nor to-morrow,\\nAnd the next day will be a day of sorrow.\\n\\nXXX.\\nShe weeps alone for pleasures not to be;\\nSorely she wept until the night came on,\\nAnd then, instead of love, O misery!\\nShe brooded o\\'er the luxury alone:\\nHis image in the dusk she seem\\'d to see,\\nAnd to the silence made a gentle moan,\\nSpreading her perfect arms upon the air,\\nAnd on her couch low murmuring, \"Where? O where?\"\\n\\nXXXI.\\nBut Selfishness, Love\\'s cousin, held not long\\nIts fiery vigil in her single breast;\\nShe fretted for the golden hour, and hung\\nUpon the time with feverish unrest—\\nNot long—for soon into her heart a throng\\nOf higher occupants, a richer zest,\\nCame tragic; passion not to be subdued,\\nAnd sorrow for her love in travels rude.\\n\\nXXXII.\\nIn the mid days of autumn, on their eves\\nThe breath of Winter comes from far away,\\nAnd the sick west continually bereaves\\nOf some gold tinge, and plays a roundelay\\nOf death among the bushes and the leaves,\\nTo make all bare before he dares to stray\\nFrom his north cavern. So sweet Isabel\\nBy gradual decay from beauty fell,\\n\\nXXXIII.\\nBecause Lorenzo came not. Oftentimes\\nShe ask\\'d her brothers, with an eye all pale,\\nStriving to be itself, what dungeon climes\\nCould keep him off so long? They spake a tale\\nTime after time, to quiet her. Their crimes\\nCame on them, like a smoke from Hinnom\\'s vale;\\nAnd every night in dreams they groan\\'d aloud,\\nTo see their sister in her snowy shroud.\\n\\nXXXIV.\\nAnd she had died in drowsy ignorance,\\nBut for a thing more deadly dark than all;\\nIt came like a fierce potion, drunk by chance,\\nWhich saves a sick man from the feather\\'d pall\\nFor some few gasping moments; like a lance,\\nWaking an Indian from his cloudy hall\\nWith cruel pierce, and bringing him again\\nSense of the gnawing fire at heart and brain.\\n\\nXXXV.\\nIt was a vision.—In the drowsy gloom,\\nThe dull of midnight, at her couch\\'s foot\\nLorenzo stood, and wept: the forest tomb\\nHad marr\\'d his glossy hair which once could shoot\\nLustre into the sun, and put cold doom\\nUpon his lips, and taken the soft lute\\nFrom his lorn voice, and past his loamed ears\\nHad made a miry channel for his tears.\\n\\nXXXVI.\\nStrange sound it was, when the pale shadow spake;\\nFor there was striving, in its piteous tongue,\\nTo speak as when on earth it was awake,\\nAnd Isabella on its music hung:\\nLanguor there was in it, and tremulous shake,\\nAs in a palsied Druid\\'s harp unstrung;\\nAnd through it moan\\'d a ghostly under-song,\\nLike hoarse night-gusts sepulchral briars among.\\n\\nXXXVII.\\nIts eyes, though wild, were still all dewy bright\\nWith love, and kept all phantom fear aloof\\nFrom the poor girl by magic of their light,\\nThe while it did unthread the horrid woof\\nOf the late darken\\'d time,—the murderous spite\\nOf pride and avarice,—the dark pine roof\\nIn the forest,—and the sodden turfed dell,\\nWhere, without any word, from stabs he fell.\\n\\nXXXVIII.\\nSaying moreover, \"Isabel, my sweet!\\n\"Red whortle-berries droop above my head,\\n\"And a large flint-stone weighs upon my feet;\\n\"Around me beeches and high chestnuts shed\\n\"Their leaves and prickly nuts; a sheep-fold bleat\\n\"Comes from beyond the river to my bed:\\n\"Go, shed one tear upon my heather-bloom,\\n\"And it shall comfort me within the tomb.\\n\\nXXXIX.\\n\"I am a shadow now, alas! alas!\\n\"Upon the skirts of human-nature dwelling\\n\"Alone: I chant alone the holy mass,\\n\"While little sounds of life are round me knelling,\\n\"And glossy bees at noon do fieldward pass,\\n\"And many a chapel bell the hour is telling,\\n\"Paining me through: those sounds grow strange to me,\\n\"And thou art distant in Humanity.\\n\\nXL.\\n\"I know what was, I feel full well what is,\\n\"And I should rage, if spirits could go mad;\\n\"Though I forget the taste of earthly bliss,\\n\"That paleness warms my grave, as though I had\\n\"A Seraph chosen from the bright abyss\\n\"To be my spouse: thy paleness makes me glad;\\n\"Thy beauty grows upon me, and I feel\\n\"A greater love through all my essence steal.\"\\n\\nXLI.\\nThe Spirit mourn\\'d \"Adieu!\"—dissolv\\'d, and left\\nThe atom darkness in a slow turmoil;\\nAs when of healthful midnight sleep bereft,\\nThinking on rugged hours and fruitless toil,\\nWe put our eyes into a pillowy cleft,\\nAnd see the spangly gloom froth up and boil:\\nIt made sad Isabella\\'s eyelids ache,\\nAnd in the dawn she started up awake;\\n\\nXLII.\\n\"Ha! ha!\" said she, \"I knew not this hard life,\\n\"I thought the worst was simple misery;\\n\"I thought some Fate with pleasure or with strife\\n\"Portion\\'d us—happy days, or else to die;\\n\"But there is crime—a brother\\'s bloody knife!\\n\"Sweet Spirit, thou hast school\\'d my infancy:\\n\"I\\'ll visit thee for this, and kiss thine eyes,\\n\"And greet thee morn and even in the skies.\"\\n\\nXLIII.\\nWhen the full morning came, she had devised\\nHow she might secret to the forest hie;\\nHow she might find the clay, so dearly prized,\\nAnd sing to it one latest lullaby;\\nHow her short absence might be unsurmised,\\nWhile she the inmost of the dream would try.\\nResolv\\'d, she took with her an aged nurse,\\nAnd went into that dismal forest-hearse.\\n\\nXLIV.\\nSee, as they creep along the river side,\\nHow she doth whisper to that aged Dame,\\nAnd, after looking round the champaign wide,\\nShows her a knife.—\"What feverous hectic flame\\n\"Burns in thee, child?—What good can thee betide,\\n\"That thou should\\'st smile again?\"—The evening came,\\nAnd they had found Lorenzo\\'s earthy bed;\\nThe flint was there, the berries at his head.\\n\\nXLV.\\nWho hath not loiter\\'d in a green church-yard,\\nAnd let his spirit, like a demon-mole,\\nWork through the clayey soil and gravel hard,\\nTo see skull, coffin\\'d bones, and funeral stole;\\nPitying each form that hungry Death hath marr\\'d,\\nAnd filling it once more with human soul?\\nAh! this is holiday to what was felt\\nWhen Isabella by Lorenzo knelt.\\n\\nXLVI.\\nShe gaz\\'d into the fresh-thrown mould, as though\\nOne glance did fully all its secrets tell;\\nClearly she saw, as other eyes would know\\nPale limbs at bottom of a crystal well;\\nUpon the murderous spot she seem\\'d to grow,\\nLike to a native lily of the dell:\\nThen with her knife, all sudden, she began\\nTo dig more fervently than misers can.\\n\\nXLVII.\\nSoon she turn\\'d up a soiled glove, whereon\\nHer silk had play\\'d in purple phantasies,\\nShe kiss\\'d it with a lip more chill than stone,\\nAnd put it in her bosom, where it dries\\nAnd freezes utterly unto the bone\\nThose dainties made to still an infant\\'s cries:\\nThen \\'gan she work again; nor stay\\'d her care,\\nBut to throw back at times her veiling hair.\\n\\nXLVIII.\\nThat old nurse stood beside her wondering,\\nUntil her heart felt pity to the core\\nAt sight of such a dismal labouring,\\nAnd so she kneeled, with her locks all hoar,\\nAnd put her lean hands to the horrid thing:\\nThree hours they labour\\'d at this travail sore;\\nAt last they felt the kernel of the grave,\\nAnd Isabella did not stamp and rave.\\n\\nXLIX.\\nAh! wherefore all this wormy circumstance?\\nWhy linger at the yawning tomb so long?\\nO for the gentleness of old Romance,\\nThe simple plaining of a minstrel\\'s song!\\nFair reader, at the old tale take a glance,\\nFor here, in truth, it doth not well belong\\nTo speak:—O turn thee to the very tale,\\nAnd taste the music of that vision pale.\\n\\nL.\\nWith duller steel than the Persèan sword\\nThey cut away no formless monster\\'s head,\\nBut one, whose gentleness did well accord\\nWith death, as life. The ancient harps have said,\\nLove never dies, but lives, immortal Lord:\\nIf Love impersonate was ever dead,\\nPale Isabella kiss\\'d it, and low moan\\'d.\\n\\'Twas love; cold,—dead indeed, but not dethroned.\\n\\nLI.\\nIn anxious secrecy they took it home,\\nAnd then the prize was all for Isabel:\\nShe calm\\'d its wild hair with a golden comb,\\nAnd all around each eye\\'s sepulchral cell\\nPointed each fringed lash; the smeared loam\\nWith tears, as chilly as a dripping well,\\nShe drench\\'d away:—and still she comb\\'d, and kept\\nSighing all day—and still she kiss\\'d, and wept.\\n\\nLII.\\nThen in a silken scarf,—sweet with the dews\\nOf precious flowers pluck\\'d in Araby,\\nAnd divine liquids come with odorous ooze\\nThrough the cold serpent pipe refreshfully,—\\nShe wrapp\\'d it up; and for its tomb did choose\\nA garden-pot, wherein she laid it by,\\nAnd cover\\'d it with mould, and o\\'er it set\\nSweet Basil, which her tears kept ever wet.\\n\\nLIII.\\nAnd she forgot the stars, the moon, and sun,\\nAnd she forgot the blue above the trees,\\nAnd she forgot the dells where waters run,\\nAnd she forgot the chilly autumn breeze;\\nShe had no knowledge when the day was done,\\nAnd the new morn she saw not: but in peace\\nHung over her sweet Basil evermore,\\nAnd moisten\\'d it with tears unto the core.\\n\\nLIV.\\nAnd so she ever fed it with thin tears,\\nWhence thick, and green, and beautiful it grew,\\nSo that it smelt more balmy than its peers\\nOf Basil-tufts in Florence; for it drew\\nNurture besides, and life, from human fears,\\nFrom the fast mouldering head there shut from view:\\nSo that the jewel, safely casketed,\\nCame forth, and in perfumed leafits spread.\\n\\nLV.\\nO Melancholy, linger here awhile!\\nO Music, Music, breathe despondingly!\\nO Echo, Echo, from some sombre isle,\\nUnknown, Lethean, sigh to us—O sigh!\\nSpirits in grief, lift up your heads, and smile;\\nLift up your heads, sweet Spirits, heavily,\\nAnd make a pale light in your cypress glooms,\\nTinting with silver wan your marble tombs.\\n\\nLVI.\\nMoan hither, all ye syllables of woe,\\nFrom the deep throat of sad Melpomene!\\nThrough bronzed lyre in tragic order go,\\nAnd touch the strings into a mystery;\\nSound mournfully upon the winds and low;\\nFor simple Isabel is soon to be\\nAmong the dead: She withers, like a palm\\nCut by an Indian for its juicy balm.\\n\\nLVII.\\nO leave the palm to wither by itself;\\nLet not quick Winter chill its dying hour!—\\nIt may not be—those Baalites of pelf,\\nHer brethren, noted the continual shower\\nFrom her dead eyes; and many a curious elf,\\nAmong her kindred, wonder\\'d that such dower\\nOf youth and beauty should be thrown aside\\nBy one mark\\'d out to be a Noble\\'s bride.\\n\\nLVIII.\\nAnd, furthermore, her brethren wonder\\'d much\\nWhy she sat drooping by the Basil green,\\nAnd why it flourish\\'d, as by magic touch;\\nGreatly they wonder\\'d what the thing might mean:\\nThey could not surely give belief, that such\\nA very nothing would have power to wean\\nHer from her own fair youth, and pleasures gay,\\nAnd even remembrance of her love\\'s delay.\\n\\nLIX.\\nTherefore they watch\\'d a time when they might sift\\nThis hidden whim; and long they watch\\'d in vain;\\nFor seldom did she go to chapel-shrift,\\nAnd seldom felt she any hunger-pain;\\nAnd when she left, she hurried back, as swift\\nAs bird on wing to breast its eggs again;\\nAnd, patient as a hen-bird, sat her there\\nBeside her Basil, weeping through her hair.\\n\\nLX.\\nYet they contriv\\'d to steal the Basil-pot,\\nAnd to examine it in secret place:\\nThe thing was vile with green and livid spot,\\nAnd yet they knew it was Lorenzo\\'s face:\\nThe guerdon of their murder they had got,\\nAnd so left Florence in a moment\\'s space,\\nNever to turn again.—Away they went,\\nWith blood upon their heads, to banishment.\\n\\nLXI.\\nO Melancholy, turn thine eyes away!\\nO Music, Music, breathe despondingly!\\nO Echo, Echo, on some other day,\\nFrom isles Lethean, sigh to us—O sigh!\\nSpirits of grief, sing not your \"Well-a-way!\"\\nFor Isabel, sweet Isabel, will die;\\nWill die a death too lone and incomplete,\\nNow they have ta\\'en away her Basil sweet.\\n\\nLXII.\\nPiteous she look\\'d on dead and senseless things,\\nAsking for her lost Basil amorously:\\nAnd with melodious chuckle in the strings\\nOf her lorn voice, she oftentimes would cry\\nAfter the Pilgrim in his wanderings,\\nTo ask him where her Basil was; and why\\n\\'Twas hid from her: \"For cruel \\'tis,\" said she,\\n\"To steal my Basil-pot away from me.\"\\n\\nLXIII.\\nAnd so she pined, and so she died forlorn,\\nImploring for her Basil to the last.\\nNo heart was there in Florence but did mourn\\nIn pity of her love, so overcast.\\nAnd a sad ditty of this story born\\nFrom mouth to mouth through all the country pass\\'d:\\nStill is the burthen sung—\"O cruelty,\\n\"To steal my Basil-pot away from me!\"(stanza XXIV): Leigh Hunt cites the \"exquisite metaphor\" of lines 3 and 4 as an instance in which Keats \"over-informs the occasion or the speaker.\" But I doubt whether it is fair to class this kind of \"over-informing\" as an error. If poeple of this kind are to be denied one element of poetry, they must be denied another; and it is scarcely more strange to find the vile brethren of Isabella talking in metaphor than to find them talking in rhyme and metre. For the rest, a common-place Italian, even a villainous Italian, feels so intensely the sunlight of his land, that we need not object to the metaphor even on dramatic grounds.\\n\\n(stanza XXXIII): For Hinnom\\'s Vale see Second Book of Chronicles of the Kings of Israel, Chapter XXVIII, verse 3: \"Moreover he burnt incense in the valley of the son of Hinnom, and burnt his children in the fire, after the abominations of the heathen whom the Lord had cast out before the children of Israel.\"\\n\\n(stanza XLVII): The sixth line has been a topic of censure; but I think wrongly. Taken in itself apart from the poem, it might be held to be an inopportune description; but in the context of this most tragic and pathetic story, it has to me a surpassing fitness -- a fitness astonishing in the work of a youth of Keats\\'s age in 1818. The idea of maternity thus connected as it were by chance with the image of this widowed girl on the borders of insanity emphasizes in the most beautiful way the helpless misery of a life wrecked by the wickedness of others, and throws into ghastly contrast the joy of what should have been and the agony of what was.\\n\\n(stanza XLVIII): Hunt observes here - \"It is curious to see how the simple pathos of Boccaccio, or (which is the same thing) the simple intensity of the heroine\\'s feelings, suffices our author more and more, as he gets to the end of his story. And he has related it as happily, as if he had never written any poetry but that of the heart.\"\\n\\n(stanza LIV): Whether the \"savage and tartarly\" assailants of Keats\\'s day availed themselves of the word \"leafits\" in the 8th line for an accusation of word-coining, I do not know; but as far as I have been able to ascertain this diminutive of \"leaf\" is peculiar to the present passage. \\n\\n(stanza LXII): Hunt says - \"The passage about the tone of her voice, -- the poor lost-witted coaxing, -- the \\'chuckle,\\' in which she asks after her Pilgrim and her Basil,-- is as true and touching an instance of the effect of a happy familiar word, as any in all poetry.\" It is difficult to imagine that these sentences of Hunt\\'s were not somehow misprinted; but, as the review occurs only in the original issue of The Indicator, one has no means of testing this passage by comparison with later editions. It can hardly be supposed that Hunt really thought the Pilgrim meant Lorenzo; and it ought not to be necessary to explain that the poor lost girl called after any pilgrim whom chance sent her way, enquiring of him where her Basil was.\\n\\n~ Poetical Works of John Keats, ed. H. Buxton Forman, Crowell publ. 1895.     '}]\n"
          ]
        },
        {
          "output_type": "stream",
          "name": "stderr",
          "text": [
            "/usr/local/lib/python3.10/dist-packages/ipykernel/ipkernel.py:283: DeprecationWarning: `should_run_async` will not call `transform_cell` automatically in the future. Please pass the result to `transformed_cell` argument and any exception that happen during thetransform in `preprocessing_exc_tuple` in IPython 7.17 and above.\n",
            "  and should_run_async(code)\n"
          ]
        }
      ]
    },
    {
      "cell_type": "code",
      "source": [
        "import json\n",
        "import random\n",
        "\n",
        "def read_json(output_filename):\n",
        "    \"\"\"Read data from a .json file.\"\"\"\n",
        "    with open(output_filename, 'r') as file:\n",
        "        data = json.load(file)\n",
        "    return data\n",
        "\n",
        "def segment_and_format_text(json_data):\n",
        "    \"\"\"Modify based on the structure of your 'output.json'.\"\"\"\n",
        "    # Assuming your existing JSON structure has a specific format\n",
        "    # Modify this function based on the structure of your 'output.json'\n",
        "    # The example assumes that 'output.json' is a list of dictionaries\n",
        "    return json_data\n",
        "\n",
        "def save_as_jsonl(data, output_filename):\n",
        "    \"\"\"Save the provided data as a .jsonl file.\"\"\"\n",
        "    with open(output_filename, 'w') as file:\n",
        "        for entry in data:\n",
        "            file.write(json.dumps(entry) + '\\n')\n",
        "\n",
        "if __name__ == \"__main__\":\n",
        "    # Read data from the existing JSON file\n",
        "    output_json_path = \"output.json\"  # Replace with the path to your existing JSON file\n",
        "    json_data = read_json(output_json_path)\n",
        "\n",
        "    # Segment and format the data (modify based on your JSON structure)\n",
        "    jsonl_data = segment_and_format_text(json_data)\n",
        "\n",
        "    # Shuffle and split the data into training and validation sets (80/20 split)\n",
        "    random.shuffle(jsonl_data)\n",
        "    split_index = int(0.8 * len(jsonl_data))\n",
        "    train_data, val_data = jsonl_data[:split_index], jsonl_data[split_index:]\n",
        "\n",
        "    # Save as .jsonl\n",
        "    save_as_jsonl(train_data, \"train.jsonl\")\n",
        "    save_as_jsonl(val_data, \"val.jsonl\")\n",
        "    print(\"Data saved to train.jsonl and val.jsonl\")\n"
      ],
      "metadata": {
        "colab": {
          "base_uri": "https://localhost:8080/"
        },
        "id": "YWpI6OlzWnCv",
        "outputId": "1937077c-5659-4857-90aa-7df12dfa0f66"
      },
      "execution_count": 15,
      "outputs": [
        {
          "output_type": "stream",
          "name": "stdout",
          "text": [
            "Data saved to train.jsonl and val.jsonl\n"
          ]
        },
        {
          "output_type": "stream",
          "name": "stderr",
          "text": [
            "/usr/local/lib/python3.10/dist-packages/ipykernel/ipkernel.py:283: DeprecationWarning: `should_run_async` will not call `transform_cell` automatically in the future. Please pass the result to `transformed_cell` argument and any exception that happen during thetransform in `preprocessing_exc_tuple` in IPython 7.17 and above.\n",
            "  and should_run_async(code)\n"
          ]
        }
      ]
    },
    {
      "cell_type": "code",
      "source": [
        "# You only need to run this once per machine\n",
        "!pip install -q -U bitsandbytes\n",
        "!pip install -q -U git+https://github.com/huggingface/transformers.git\n",
        "!pip install -q -U git+https://github.com/huggingface/peft.git\n",
        "!pip install -q -U git+https://github.com/huggingface/accelerate.git\n",
        "!pip install -q -U datasets scipy ipywidgets matplotlib"
      ],
      "metadata": {
        "colab": {
          "base_uri": "https://localhost:8080/"
        },
        "id": "0dGv4EcMXPBx",
        "outputId": "347645cd-f61f-402a-bd2e-51ec41b26acb"
      },
      "execution_count": 16,
      "outputs": [
        {
          "output_type": "stream",
          "name": "stderr",
          "text": [
            "/usr/local/lib/python3.10/dist-packages/ipykernel/ipkernel.py:283: DeprecationWarning: `should_run_async` will not call `transform_cell` automatically in the future. Please pass the result to `transformed_cell` argument and any exception that happen during thetransform in `preprocessing_exc_tuple` in IPython 7.17 and above.\n",
            "  and should_run_async(code)\n"
          ]
        },
        {
          "output_type": "stream",
          "name": "stdout",
          "text": [
            "\u001b[2K     \u001b[90m━━━━━━━━━━━━━━━━━━━━━━━━━━━━━━━━━━━━━━━━\u001b[0m \u001b[32m92.6/92.6 MB\u001b[0m \u001b[31m18.8 MB/s\u001b[0m eta \u001b[36m0:00:00\u001b[0m\n",
            "\u001b[?25h  Installing build dependencies ... \u001b[?25l\u001b[?25hdone\n",
            "  Getting requirements to build wheel ... \u001b[?25l\u001b[?25hdone\n",
            "  Preparing metadata (pyproject.toml) ... \u001b[?25l\u001b[?25hdone\n",
            "  Building wheel for transformers (pyproject.toml) ... \u001b[?25l\u001b[?25hdone\n",
            "  Installing build dependencies ... \u001b[?25l\u001b[?25hdone\n",
            "  Getting requirements to build wheel ... \u001b[?25l\u001b[?25hdone\n",
            "  Preparing metadata (pyproject.toml) ... \u001b[?25l\u001b[?25hdone\n",
            "\u001b[2K     \u001b[90m━━━━━━━━━━━━━━━━━━━━━━━━━━━━━━━━━━━━━━━━\u001b[0m \u001b[32m261.4/261.4 kB\u001b[0m \u001b[31m5.3 MB/s\u001b[0m eta \u001b[36m0:00:00\u001b[0m\n",
            "\u001b[?25h  Building wheel for peft (pyproject.toml) ... \u001b[?25l\u001b[?25hdone\n",
            "  Installing build dependencies ... \u001b[?25l\u001b[?25hdone\n",
            "  Getting requirements to build wheel ... \u001b[?25l\u001b[?25hdone\n",
            "  Preparing metadata (pyproject.toml) ... \u001b[?25l\u001b[?25hdone\n",
            "  Building wheel for accelerate (pyproject.toml) ... \u001b[?25l\u001b[?25hdone\n",
            "\u001b[2K     \u001b[90m━━━━━━━━━━━━━━━━━━━━━━━━━━━━━━━━━━━━━━━━\u001b[0m \u001b[32m493.7/493.7 kB\u001b[0m \u001b[31m9.9 MB/s\u001b[0m eta \u001b[36m0:00:00\u001b[0m\n",
            "\u001b[2K     \u001b[90m━━━━━━━━━━━━━━━━━━━━━━━━━━━━━━━━━━━━━━━━\u001b[0m \u001b[32m139.4/139.4 kB\u001b[0m \u001b[31m10.8 MB/s\u001b[0m eta \u001b[36m0:00:00\u001b[0m\n",
            "\u001b[2K     \u001b[90m━━━━━━━━━━━━━━━━━━━━━━━━━━━━━━━━━━━━━━━━\u001b[0m \u001b[32m11.6/11.6 MB\u001b[0m \u001b[31m98.2 MB/s\u001b[0m eta \u001b[36m0:00:00\u001b[0m\n",
            "\u001b[2K     \u001b[90m━━━━━━━━━━━━━━━━━━━━━━━━━━━━━━━━━━━━━━━━\u001b[0m \u001b[32m115.3/115.3 kB\u001b[0m \u001b[31m18.2 MB/s\u001b[0m eta \u001b[36m0:00:00\u001b[0m\n",
            "\u001b[2K     \u001b[90m━━━━━━━━━━━━━━━━━━━━━━━━━━━━━━━━━━━━━━━━\u001b[0m \u001b[32m134.8/134.8 kB\u001b[0m \u001b[31m19.5 MB/s\u001b[0m eta \u001b[36m0:00:00\u001b[0m\n",
            "\u001b[2K     \u001b[90m━━━━━━━━━━━━━━━━━━━━━━━━━━━━━━━━━━━━━━━━\u001b[0m \u001b[32m2.3/2.3 MB\u001b[0m \u001b[31m106.7 MB/s\u001b[0m eta \u001b[36m0:00:00\u001b[0m\n",
            "\u001b[2K     \u001b[90m━━━━━━━━━━━━━━━━━━━━━━━━━━━━━━━━━━━━━━━━\u001b[0m \u001b[32m1.6/1.6 MB\u001b[0m \u001b[31m96.8 MB/s\u001b[0m eta \u001b[36m0:00:00\u001b[0m\n",
            "\u001b[?25h\u001b[31mERROR: pip's dependency resolver does not currently take into account all the packages that are installed. This behaviour is the source of the following dependency conflicts.\n",
            "lida 0.0.10 requires fastapi, which is not installed.\n",
            "lida 0.0.10 requires kaleido, which is not installed.\n",
            "lida 0.0.10 requires python-multipart, which is not installed.\n",
            "lida 0.0.10 requires uvicorn, which is not installed.\u001b[0m\u001b[31m\n",
            "\u001b[0m"
          ]
        }
      ]
    },
    {
      "cell_type": "code",
      "source": [
        "# from datasets import load_dataset\n",
        "# dataset = load_dataset(\"json\", data_files=\"my_file.json\")"
      ],
      "metadata": {
        "id": "mSkCmgHgjAMQ"
      },
      "execution_count": null,
      "outputs": []
    },
    {
      "cell_type": "code",
      "source": [
        "from datasets import load_dataset\n",
        "\n",
        "train_dataset = load_dataset('json', data_files='/content/train.jsonl')\n",
        "eval_dataset = load_dataset('json', data_files='/content/val.jsonl')"
      ],
      "metadata": {
        "id": "AIMRWrt5YF_W"
      },
      "execution_count": 24,
      "outputs": []
    },
    {
      "cell_type": "code",
      "source": [
        "train_dataset"
      ],
      "metadata": {
        "id": "XvXjQmKVY1TW",
        "colab": {
          "base_uri": "https://localhost:8080/"
        },
        "outputId": "d61a19e3-389d-46cb-fb48-10d3dc643d64"
      },
      "execution_count": 25,
      "outputs": [
        {
          "output_type": "execute_result",
          "data": {
            "text/plain": [
              "DatasetDict({\n",
              "    train: Dataset({\n",
              "        features: ['Unnamed: 0', 'Title', 'Poem', 'Poem_for_Human'],\n",
              "        num_rows: 24\n",
              "    })\n",
              "})"
            ]
          },
          "metadata": {},
          "execution_count": 25
        }
      ]
    },
    {
      "cell_type": "code",
      "source": [
        "eval_dataset"
      ],
      "metadata": {
        "colab": {
          "base_uri": "https://localhost:8080/"
        },
        "id": "cDqYlYzKbB26",
        "outputId": "58b983a6-e250-4fd8-de80-bba5c42bc20c"
      },
      "execution_count": 26,
      "outputs": [
        {
          "output_type": "execute_result",
          "data": {
            "text/plain": [
              "DatasetDict({\n",
              "    train: Dataset({\n",
              "        features: ['Unnamed: 0', 'Title', 'Poem', 'Poem_for_Human'],\n",
              "        num_rows: 6\n",
              "    })\n",
              "})"
            ]
          },
          "metadata": {},
          "execution_count": 26
        }
      ]
    },
    {
      "cell_type": "code",
      "source": [
        "eval_poems = eval_dataset['train']['Poem']"
      ],
      "metadata": {
        "id": "1HSE8QwTbKXu"
      },
      "execution_count": 34,
      "outputs": []
    },
    {
      "cell_type": "markdown",
      "source": [
        "Change this next line"
      ],
      "metadata": {
        "id": "GIn5Ecz9AY9F"
      }
    },
    {
      "cell_type": "code",
      "source": [
        "def formatting_func(json_poem):\n",
        "    poet_name = \"John Keats\"\n",
        "    poem_lines = json_poem['Poem'].split('\\u00a0 \\u00a0 \\u00a0  ')\n",
        "    formatted_lines = [f\"### The following is a line from the poem by the poet '{poet_name}': {line}\" for line in poem_lines]\n",
        "    formatted_text = '\\n'.join(formatted_lines)\n",
        "    return formatted_text\n"
      ],
      "metadata": {
        "id": "eyvlwt477CJe"
      },
      "execution_count": 12,
      "outputs": []
    },
    {
      "cell_type": "markdown",
      "source": [
        "# Load the base model"
      ],
      "metadata": {
        "id": "L06aMzsgZFH0"
      }
    },
    {
      "cell_type": "code",
      "source": [
        "import torch\n",
        "from transformers import AutoTokenizer, AutoModelForCausalLM, BitsAndBytesConfig\n",
        "\n",
        "base_model_id = \"mistralai/Mistral-7B-v0.1\"\n",
        "bnb_config = BitsAndBytesConfig(\n",
        "    load_in_4bit=True,\n",
        "    bnb_4bit_use_double_quant=True,\n",
        "    bnb_4bit_quant_type=\"nf4\",\n",
        "    bnb_4bit_compute_dtype=torch.bfloat16\n",
        ")\n",
        "\n",
        "model = AutoModelForCausalLM.from_pretrained(base_model_id, quantization_config=bnb_config)"
      ],
      "metadata": {
        "id": "ss2VP_ggZC5U",
        "colab": {
          "base_uri": "https://localhost:8080/",
          "height": 17,
          "referenced_widgets": [
            "7841e48249b648d1b88362935e1a7125",
            "4790454d905c497cba47aec1ea6b806b",
            "74baef948ecc426d8b776137736c50f7",
            "e54de1854d83464c898d94f833590587",
            "40e8a01f02a3491895eccca7faccda04",
            "398ae06fecdd4f7685c3daa1002f33f5",
            "fe72e738b9b74f00af66e2ec06bc719b",
            "5b3b7373bc2b4ae29ec8f64c2fcfb3cc",
            "1bf54e7dc50f48be9ec74ce763356b25",
            "c50bb35cb211403c9d3adf5e7af1b9fa",
            "ad2b5c10bcdd4544ae5c6d9df9aa2df0",
            "2a4769fd8b244dd09ae2271d530d8826",
            "d7088ee043884ab3b0b50d0e883fec8c",
            "fa2116ee97c84d5d99b23975b097cb9a",
            "0fd5182ea34948a9ac2187c75b84c8ea",
            "71c3cf109f0e48efa4bdf10a4a25d790",
            "5f7b631f2a7a4f3981871bcc5f0d3f43",
            "9da9977ce0204849bf73168d2a6b4707",
            "10dddc9783c14ef8843002e091313f9a",
            "bf08230dfb7546c48977835528679cdc",
            "85405c25bf5a4ccbac8e2e4330a25b7e",
            "ee48b9fd6f4540e4b725faa7b4d5efa8",
            "1828fc030de34e13adda9e07c7074951",
            "e296b71a82c14faaba0acb933b452a1e",
            "6011766a15c94624af3e632022b5a60d",
            "9941083ceb9f45da973ffd034052f7ec",
            "475444db7f884c71b7d53546a0a928dd",
            "3c4a28cdbed64f5ea1b4e5b10298ad2f",
            "749e692e0e344cfd8c5348a6449ddf3e",
            "6c1558344b9c49ca8511bc8e296fba9c",
            "aa28f9e026a54d5eb1dec6376796e201",
            "4f8db162f5be40bdb87df30ebf12a408",
            "b0302d415c4546608d14241495320b1f",
            "13c638ecf2354d669df511c1eed6196a",
            "e3e0440b67ca4b12a4e12a1f2f79a8fc",
            "f9d9e42b2ef747f493ff3721bc122c65",
            "4269596374374a759140898296874335",
            "54a914177b694125b2652548ae9c0ea5",
            "436dbb640d0647298542b3372c543c05",
            "615206470fef4580996029e5f3abf4ce",
            "fcc213d77ff14b3e8830252ab3ece270",
            "cfe217dfa868436d9501b57f5a34580f",
            "ade7f036ed9e4de59df03faaee9066a5",
            "57e452ec32894942bb00d9b71a839be3",
            "dbcb5fc6610a4161a976c248186e85f5",
            "49812f60581f4384aa050a7102312c7f",
            "03dfb0ec9a164766b27dd99952a6f187",
            "f78c9e3ae3a744689f1c2308ee02c103",
            "c6261202a0684e6eb01b1f12feb52c91",
            "01191894c3194cf49e45ca4cd7a56fda",
            "a542495a7361456daaaa50562e80cf4b",
            "e958ea4fc5f74849b3fa718d73201eea",
            "9b5626de066c4af3b10e4f88ea0f06dc",
            "9a3395d14edf4c76b24ffc8ba641b280",
            "6d18c9f89d27470ca0ffdfe79f906b67",
            "78711c1ecf1046aa9c52f1bfabe7647f",
            "5eb81bdc32774a95981186f0fdbd9031",
            "831f873c50ed49cb9e4e66068b6a33d8",
            "7a0570bb2d394a6bbbcdb1d88d33ec0e",
            "c632fbc19ed447b2bb58591257d2a27c",
            "bf06688e536548eba5e619175af48021",
            "e115ab0a8a0d4d398e7dc8603273ca53",
            "cf2ac12c886a4f8fb790ee44073e6c60",
            "f36fb23e98fa42a6adffdd67ad61fd96",
            "6606f7b926584199ac6b0df5c8291748",
            "4352e47cc1164ce585796dd79b44e7d9",
            "dbff6dbc32804cac82c32eb71f339506",
            "ff31a82a95354e0db4e38bcbeb17954b",
            "e481401545fb4af7a3a37ed487deb3a4",
            "533056cf64b54f7f814f5ec6216ba75c",
            "0776ff70143a44829ec955040833cc2d",
            "e5b39efde3264dc4b11cb735160ad7b0",
            "bf3c8f46ca0c4555b0239af72c481f89",
            "e25e7135fdff45ba96253694329f2b80",
            "364924df9db7494fa212e72e1ef52b74",
            "aad48a38ad9b49f088e72f0481935a4f",
            "3f30f18ebf0c49ebbbd80a4aa3f518d9"
          ]
        },
        "outputId": "6a54e53c-0644-49c7-9b6f-074c21aef051"
      },
      "execution_count": 4,
      "outputs": [
        {
          "output_type": "display_data",
          "data": {
            "text/plain": [
              "Downloading (…)lve/main/config.json:   0%|          | 0.00/571 [00:00<?, ?B/s]"
            ],
            "application/vnd.jupyter.widget-view+json": {
              "version_major": 2,
              "version_minor": 0,
              "model_id": "7841e48249b648d1b88362935e1a7125"
            }
          },
          "metadata": {}
        },
        {
          "output_type": "display_data",
          "data": {
            "text/plain": [
              "Downloading (…)model.bin.index.json:   0%|          | 0.00/23.9k [00:00<?, ?B/s]"
            ],
            "application/vnd.jupyter.widget-view+json": {
              "version_major": 2,
              "version_minor": 0,
              "model_id": "2a4769fd8b244dd09ae2271d530d8826"
            }
          },
          "metadata": {}
        },
        {
          "output_type": "display_data",
          "data": {
            "text/plain": [
              "Downloading shards:   0%|          | 0/2 [00:00<?, ?it/s]"
            ],
            "application/vnd.jupyter.widget-view+json": {
              "version_major": 2,
              "version_minor": 0,
              "model_id": "1828fc030de34e13adda9e07c7074951"
            }
          },
          "metadata": {}
        },
        {
          "output_type": "display_data",
          "data": {
            "text/plain": [
              "Downloading (…)l-00001-of-00002.bin:   0%|          | 0.00/9.94G [00:00<?, ?B/s]"
            ],
            "application/vnd.jupyter.widget-view+json": {
              "version_major": 2,
              "version_minor": 0,
              "model_id": "13c638ecf2354d669df511c1eed6196a"
            }
          },
          "metadata": {}
        },
        {
          "output_type": "display_data",
          "data": {
            "text/plain": [
              "Downloading (…)l-00002-of-00002.bin:   0%|          | 0.00/5.06G [00:00<?, ?B/s]"
            ],
            "application/vnd.jupyter.widget-view+json": {
              "version_major": 2,
              "version_minor": 0,
              "model_id": "dbcb5fc6610a4161a976c248186e85f5"
            }
          },
          "metadata": {}
        },
        {
          "output_type": "display_data",
          "data": {
            "text/plain": [
              "Loading checkpoint shards:   0%|          | 0/2 [00:00<?, ?it/s]"
            ],
            "application/vnd.jupyter.widget-view+json": {
              "version_major": 2,
              "version_minor": 0,
              "model_id": "78711c1ecf1046aa9c52f1bfabe7647f"
            }
          },
          "metadata": {}
        },
        {
          "output_type": "display_data",
          "data": {
            "text/plain": [
              "Downloading (…)neration_config.json:   0%|          | 0.00/116 [00:00<?, ?B/s]"
            ],
            "application/vnd.jupyter.widget-view+json": {
              "version_major": 2,
              "version_minor": 0,
              "model_id": "dbff6dbc32804cac82c32eb71f339506"
            }
          },
          "metadata": {}
        }
      ]
    },
    {
      "cell_type": "code",
      "source": [
        "from google.colab import output\n",
        "output.enable_custom_widget_manager()"
      ],
      "metadata": {
        "id": "3aDF-FisqlSC"
      },
      "execution_count": 5,
      "outputs": []
    },
    {
      "cell_type": "markdown",
      "source": [
        "Support for third party widgets will remain active for the duration of the session. To disable support:"
      ],
      "metadata": {
        "id": "67Y1LZQwqlSD"
      }
    },
    {
      "cell_type": "code",
      "source": [
        "from google.colab import output\n",
        "output.disable_custom_widget_manager()"
      ],
      "metadata": {
        "id": "8BXmytmqqlSD"
      },
      "execution_count": null,
      "outputs": []
    },
    {
      "cell_type": "markdown",
      "source": [
        "# Tokenization"
      ],
      "metadata": {
        "id": "rXCOk53doO-W"
      }
    },
    {
      "cell_type": "code",
      "source": [
        "tokenizer = AutoTokenizer.from_pretrained(\n",
        "    base_model_id,\n",
        "    padding_side=\"left\",\n",
        "    add_eos_token=True,\n",
        "    add_bos_token=True,\n",
        ")\n",
        "tokenizer.pad_token = tokenizer.eos_token\n",
        "print(tokenizer)\n",
        "def generate_and_tokenize_prompt(prompt):\n",
        "    return tokenizer(formatting_func(prompt))"
      ],
      "metadata": {
        "id": "hq-XQyZkZI8n",
        "colab": {
          "base_uri": "https://localhost:8080/"
        },
        "outputId": "2cf332e0-c4bf-42f4-b747-a494a1992b53"
      },
      "execution_count": 13,
      "outputs": [
        {
          "output_type": "stream",
          "name": "stdout",
          "text": [
            "LlamaTokenizerFast(name_or_path='mistralai/Mistral-7B-v0.1', vocab_size=32000, model_max_length=1000000000000000019884624838656, is_fast=True, padding_side='left', truncation_side='right', special_tokens={'bos_token': '<s>', 'eos_token': '</s>', 'unk_token': '<unk>', 'pad_token': '</s>'}, clean_up_tokenization_spaces=False),  added_tokens_decoder={\n",
            "\t0: AddedToken(\"<unk>\", rstrip=False, lstrip=False, single_word=False, normalized=False, special=True),\n",
            "\t1: AddedToken(\"<s>\", rstrip=False, lstrip=False, single_word=False, normalized=False, special=True),\n",
            "\t2: AddedToken(\"</s>\", rstrip=False, lstrip=False, single_word=False, normalized=False, special=True),\n",
            "}\n"
          ]
        }
      ]
    },
    {
      "cell_type": "code",
      "source": [
        "tokenized_train_dataset = train_dataset.map(generate_and_tokenize_prompt)\n",
        "tokenized_val_dataset = eval_dataset.map(generate_and_tokenize_prompt)"
      ],
      "metadata": {
        "id": "XZ9FdxanoNuD",
        "colab": {
          "base_uri": "https://localhost:8080/",
          "height": 17,
          "referenced_widgets": [
            "70714d6656d7427ea779554c444f3be8",
            "2c46b37e9f664317a61739fa13976db5",
            "cc0f3e07d3ed4a7eaa70a46cdfbe2593",
            "8d940a1c87c447bfb30090c0a280dd26",
            "8b607235c53b4f408ab2ecb681a0b5d8",
            "1f6df72f00604abdbd6a8937c4598124",
            "ae0294cdfa81432aa5e91ddd2da56385",
            "18eaf528581b447592a708ebca20624a",
            "9e81d451069e40a190bbf263f7b05f93",
            "fe255ee43d7d4976afbf7c1370d55d8a",
            "4084dbd608604480a64eba8ed84f97e5",
            "0f2b0b06d671497a8ac00082dfcc221b",
            "eaa79f737bf24b55a7a108ce5fcb2c49",
            "a07166f51bf54979a9807c1f3cdb2fa2",
            "fad0b60c8e1b4a51a1382a846b93e0d0",
            "e9b9176483a147a8bae949ee40b2ea73",
            "6a24fb250dd146139e3b678afde34ae6",
            "e205206e968748f7817a64affdcb0348",
            "1cdfaaeafe4f4ca693a5453200e25afb",
            "648fe551874140f9b73f83db64416111",
            "5b666c8681d24d7eb32b5150f20f9a9f",
            "5fb8c285ae5a4cf19a472ea9316b8166"
          ]
        },
        "outputId": "23c84638-12fd-4431-a69e-f19cb87745ef"
      },
      "execution_count": 14,
      "outputs": [
        {
          "output_type": "display_data",
          "data": {
            "text/plain": [
              "Map:   0%|          | 0/24 [00:00<?, ? examples/s]"
            ],
            "application/vnd.jupyter.widget-view+json": {
              "version_major": 2,
              "version_minor": 0,
              "model_id": "70714d6656d7427ea779554c444f3be8"
            }
          },
          "metadata": {
            "application/vnd.jupyter.widget-view+json": {
              "colab": {
                "custom_widget_manager": {
                  "url": "https://ssl.gstatic.com/colaboratory-static/widgets/colab-cdn-widget-manager/b3e629b1971e1542/manager.min.js"
                }
              }
            }
          }
        },
        {
          "output_type": "display_data",
          "data": {
            "text/plain": [
              "Map:   0%|          | 0/6 [00:00<?, ? examples/s]"
            ],
            "application/vnd.jupyter.widget-view+json": {
              "version_major": 2,
              "version_minor": 0,
              "model_id": "0f2b0b06d671497a8ac00082dfcc221b"
            }
          },
          "metadata": {
            "application/vnd.jupyter.widget-view+json": {
              "colab": {
                "custom_widget_manager": {
                  "url": "https://ssl.gstatic.com/colaboratory-static/widgets/colab-cdn-widget-manager/b3e629b1971e1542/manager.min.js"
                }
              }
            }
          }
        }
      ]
    },
    {
      "cell_type": "code",
      "source": [
        "tokenized_train_dataset"
      ],
      "metadata": {
        "colab": {
          "base_uri": "https://localhost:8080/"
        },
        "id": "mDhkvz1U7Pb0",
        "outputId": "89dfdfe4-974d-42ee-b2b2-09c07ed80fd9"
      },
      "execution_count": 16,
      "outputs": [
        {
          "output_type": "execute_result",
          "data": {
            "text/plain": [
              "DatasetDict({\n",
              "    train: Dataset({\n",
              "        features: ['Unnamed: 0', 'Title', 'Poem', 'Poem_for_Human', 'input_ids', 'attention_mask'],\n",
              "        num_rows: 24\n",
              "    })\n",
              "})"
            ]
          },
          "metadata": {},
          "execution_count": 16
        }
      ]
    },
    {
      "cell_type": "code",
      "source": [
        "tokenized_val_dataset"
      ],
      "metadata": {
        "colab": {
          "base_uri": "https://localhost:8080/"
        },
        "id": "PidRtmSE7TTH",
        "outputId": "5d6008b5-9a88-4576-9755-3b76f4bcef2a"
      },
      "execution_count": 17,
      "outputs": [
        {
          "output_type": "execute_result",
          "data": {
            "text/plain": [
              "DatasetDict({\n",
              "    train: Dataset({\n",
              "        features: ['Unnamed: 0', 'Title', 'Poem', 'Poem_for_Human', 'input_ids', 'attention_mask'],\n",
              "        num_rows: 6\n",
              "    })\n",
              "})"
            ]
          },
          "metadata": {},
          "execution_count": 17
        }
      ]
    },
    {
      "cell_type": "code",
      "source": [
        "import matplotlib.pyplot as plt\n",
        "\n",
        "def plot_data_lengths(tokenized_train_dataset, tokenized_val_dataset):\n",
        "    lengths_train = [len(x['input_ids']) for x in tokenized_train_dataset['train']]\n",
        "    lengths_val = [len(x['input_ids']) for x in tokenized_val_dataset['train']]\n",
        "\n",
        "    # Combine the lengths of training and validation datasets\n",
        "    lengths = lengths_train + lengths_val\n",
        "\n",
        "    # Plotting the histogram\n",
        "    plt.figure(figsize=(10, 6))\n",
        "    plt.hist(lengths, bins=20, alpha=0.7, color='blue')\n",
        "    plt.xlabel('Length of input_ids')\n",
        "    plt.ylabel('Frequency')\n",
        "    plt.title('Distribution of Lengths of input_ids')\n",
        "    plt.show()\n",
        "\n",
        "# Assuming you have tokenized_train_dataset and tokenized_val_dataset available\n",
        "plot_data_lengths(tokenized_train_dataset, tokenized_val_dataset)\n"
      ],
      "metadata": {
        "colab": {
          "base_uri": "https://localhost:8080/",
          "height": 564
        },
        "id": "xlRY-XcB8AIm",
        "outputId": "9530b6b0-b268-4612-c8c3-bc024ac62471"
      },
      "execution_count": 20,
      "outputs": [
        {
          "output_type": "display_data",
          "data": {
            "text/plain": [
              "<Figure size 1000x600 with 1 Axes>"
            ],
            "image/png": "[encoded data removed]"
          },
          "metadata": {}
        }
      ]
    },
    {
      "cell_type": "code",
      "source": [
        "max_length = 636 # This was an appropriate max length for my dataset\n",
        "\n",
        "def generate_and_tokenize_prompt2(prompt):\n",
        "    result = tokenizer(\n",
        "        formatting_func(prompt),\n",
        "        truncation=True,\n",
        "        max_length=max_length,\n",
        "        padding=\"max_length\",\n",
        "    )\n",
        "    result[\"labels\"] = result[\"input_ids\"].copy()\n",
        "    return result"
      ],
      "metadata": {
        "id": "Xgh5yjCMolzb"
      },
      "execution_count": 21,
      "outputs": []
    },
    {
      "cell_type": "code",
      "source": [
        "tokenized_train_dataset = train_dataset.map(generate_and_tokenize_prompt2)\n",
        "tokenized_val_dataset = eval_dataset.map(generate_and_tokenize_prompt2)"
      ],
      "metadata": {
        "id": "eL6Z0Q_Xp_s2",
        "colab": {
          "base_uri": "https://localhost:8080/",
          "height": 17,
          "referenced_widgets": [
            "6af7268684064c588dabea50864d7d0d",
            "834bd694b1554b279257db1aa5597b8c",
            "ff06b5de8a3a4f99b8dd8c98cd1e85e7",
            "2f9cb0d737114a85bcfd4f1505482f21",
            "c71ed80f369748678f76cf7b0daa0422",
            "2b752e8398af4f4f87be546af786d9d2",
            "0b9095dd53504dfc90ec6b06a72f2b2d",
            "9b6350c560264770b83bd295de1e1925",
            "642be0d7a0ee42ab8d2821012154348b",
            "221eab91ac614d78b520b4043540b2fe",
            "bf9971eec6a24c248c12139e5714cfdb",
            "f5ec4d914ca6481a84b6e4ff4563d95f",
            "bd95f16cd44e46c8bb6462197e440fca",
            "5828f8658d6948cc814aa0a83479a022",
            "f3b35894e770415e8d73e45cdcb5c4da",
            "43c3051769474ef7a59b2900a68af534",
            "5cb8dbb812fa49d882d4cc99e70cd041",
            "99978735917147f6a7c79ef1bf7fb4c2",
            "685a0b7313b644f6a8767e0c0fe63637",
            "c882ee6e948b43a18357aed35229e3bd",
            "b5b982a4085d4eb982fcf700ca3b627c",
            "45f7aed717c644f7adebd0cc3f4359ba"
          ]
        },
        "outputId": "b17cb174-4af2-4176-9bbe-c061eeefc4c3"
      },
      "execution_count": 22,
      "outputs": [
        {
          "output_type": "display_data",
          "data": {
            "text/plain": [
              "Map:   0%|          | 0/24 [00:00<?, ? examples/s]"
            ],
            "application/vnd.jupyter.widget-view+json": {
              "version_major": 2,
              "version_minor": 0,
              "model_id": "6af7268684064c588dabea50864d7d0d"
            }
          },
          "metadata": {
            "application/vnd.jupyter.widget-view+json": {
              "colab": {
                "custom_widget_manager": {
                  "url": "https://ssl.gstatic.com/colaboratory-static/widgets/colab-cdn-widget-manager/b3e629b1971e1542/manager.min.js"
                }
              }
            }
          }
        },
        {
          "output_type": "display_data",
          "data": {
            "text/plain": [
              "Map:   0%|          | 0/6 [00:00<?, ? examples/s]"
            ],
            "application/vnd.jupyter.widget-view+json": {
              "version_major": 2,
              "version_minor": 0,
              "model_id": "f5ec4d914ca6481a84b6e4ff4563d95f"
            }
          },
          "metadata": {
            "application/vnd.jupyter.widget-view+json": {
              "colab": {
                "custom_widget_manager": {
                  "url": "https://ssl.gstatic.com/colaboratory-static/widgets/colab-cdn-widget-manager/b3e629b1971e1542/manager.min.js"
                }
              }
            }
          }
        }
      ]
    },
    {
      "cell_type": "code",
      "source": [
        "# Replace 'your_dataset_key' with the actual key used in your dataset\n",
        "example_index = 1\n",
        "# tokenized_train_dataset['train'][example_index]['input_ids']\n",
        "print(tokenized_train_dataset['train'][example_index]['input_ids'])\n"
      ],
      "metadata": {
        "colab": {
          "base_uri": "https://localhost:8080/"
        },
        "id": "p780DbWK8UQB",
        "outputId": "c5963834-8a52-4ab2-a5e9-dc02955323e8"
      },
      "execution_count": 25,
      "outputs": [
        {
          "output_type": "stream",
          "name": "stdout",
          "text": [
            "[2, 2, 2, 2, 2, 2, 2, 2, 2, 2, 2, 2, 2, 2, 2, 2, 2, 2, 2, 2, 2, 2, 2, 2, 2, 2, 2, 2, 2, 2, 2, 2, 2, 2, 2, 2, 2, 2, 2, 2, 2, 2, 2, 2, 1, 774, 415, 2296, 349, 264, 1407, 477, 272, 16067, 486, 272, 8796, 464, 14964, 4702, 1449, 1869, 6833, 4580, 682, 654, 341, 286, 6985, 390, 28112, 1524, 459, 297, 305, 538, 8154, 416, 423, 7342, 389, 24485, 272, 2125, 391, 6265, 395, 25391, 305, 2298, 7413, 737, 4735, 7749, 7767, 28706, 19898, 1234, 366, 570, 272, 5272, 15507, 438, 652, 16032, 737, 3638, 1009, 7972, 534, 28714, 17841, 3713, 6340, 2930, 480, 3626, 442, 14961, 288, 356, 272, 633, 2664, 12962, 5934, 1009, 7899, 3714, 272, 13691, 304, 272, 3418, 734, 708, 2783, 1309, 341, 286, 6985, 1309, 521, 4078, 522, 25896, 3714, 586, 4968, 2016, 3191, 2748, 288, 13886, 298, 1601, 354, 2270, 871, 2664, 2949, 304, 1719, 479, 20875, 354, 2270, 297, 7221, 521, 3290, 1309, 1309, 298, 3934, 559, 20602, 3214, 5276, 304, 579, 2943, 2270, 442, 1112, 20153, 266, 298, 3168, 18263, 295, 1322, 266, 7806, 369, 1024, 945, 1449, 553, 7101, 719, 286, 354, 378, 8910, 400, 16787, 2327, 680, 297, 2536, 1207, 356, 272, 281, 271, 673, 10359, 9437, 1024, 478, 628, 5922, 6988, 5223, 297, 18801, 684, 272, 5866, 272, 6833, 9689, 302, 272, 1370, 304, 272, 6337, 4497, 1975, 272, 8796, 3483, 22970, 3031, 304, 272, 16463, 7568, 356, 713, 354, 741, 727, 1019, 1024, 516, 604, 298, 272, 4309, 378, 403, 868, 369, 400, 15021, 369, 1966, 1687, 302, 579, 2933, 28711, 6273, 19384, 6833, 4580, 682, 654, 341, 286, 6985, 390, 28112, 1524, 304, 4677, 378, 575, 297, 3082, 302, 480, 17864, 22394, 400, 553, 2078, 298, 2425, 28711, 1664, 2202, 1159, 873, 2511, 4241, 19272, 272, 3082, 302, 480, 17864, 8796, 745, 3791, 553, 750, 2078, 298, 945, 1449, 486, 461, 1953, 295, 8551, 1158, 312, 1035, 4858, 304, 349, 1055, 297, 272, 18149, 302, 10116, 1280, 867, 15872, 405, 3210, 403, 297, 28705, 28740, 28750, 28782, 1267, 3584, 378, 349, 13753, 28705, 28783, 3144, 7531, 15180, 354, 306, 23856, 275, 309, 1265, 708, 28705, 28740, 28734, 305, 3801, 2134, 13409, 341, 284, 2857, 297, 28705, 28740, 28783, 28734, 28784, 304, 456, 1966, 1687, 302, 690, 3252, 1290, 546, 349, 1236, 2078, 349, 4241, 3714, 272, 1429, 667, 302, 272, 8547, 3941, 298, 19568, 22105, 378, 3969, 4968, 298, 7146, 369, 272, 2611, 302, 871, 1250, 579, 1486, 582, 356, 272, 2884, 349, 369, 378, 5884, 10190, 2764, 302, 6530, 1669, 8707, 708, 3085, 3741, 15860, 346, 15180, 13573, 302, 480, 17864, 16067, 19568, 22105, 390, 513, 297, 369, 22004, 28711, 1007, 2470, 945, 1449, 11785, 298, 7658, 298, 516, 1432, 8796, 294, 14870, 617, 3238, 304, 3941, 2141, 4493, 419, 282, 18263, 295, 1322, 266, 5212, 15944, 302, 272, 1432, 1407, 2795, 8773, 1503, 304, 579, 20153, 266, 356, 298, 3168, 390, 736, 349, 708, 10718, 302, 456, 297, 272, 480, 17864, 736, 1580, 506, 750, 1698, 20869, 5230, 284, 831, 2636, 10449, 304, 378, 349, 298, 347, 17834, 286, 369, 272, 3085, 2949, 304, 1719, 479, 297, 1407, 28705, 28740, 28740, 302, 18263, 295, 1322, 266, 2245, 9894, 297, 369, 1719, 479, 304, 2949, 272, 4865, 302, 272, 480, 17864, 1250, 297, 369, 1222, 396, 2118, 302, 1203, 2342, 356, 945, 1449, 744, 272, 3608, 302, 272, 16067, 349, 684, 272, 948, 302, 25494, 442, 5398, 302, 9541, 2510, 28705, 28740, 28783, 28750, 28734, 378, 403, 4775, 297, 22632, 628, 28705, 28740, 28783, 28781, 28784, 395, 5498, 477, 2425, 28711, 297, 272, 10784, 11059, 8796, 745, 3791, 302, 461, 1953, 945, 1449, 1382, 957, 510, 266, 1221, 276, 6070, 479, 2034, 28714, 28705, 28740, 28783, 28774, 28782, 2]\n"
          ]
        }
      ]
    },
    {
      "cell_type": "code",
      "source": [
        "plot_data_lengths(tokenized_train_dataset, tokenized_val_dataset)"
      ],
      "metadata": {
        "id": "Vn1wow2SqH6j",
        "colab": {
          "base_uri": "https://localhost:8080/",
          "height": 564
        },
        "outputId": "d2b085dc-ad97-451a-fffa-74e6dd4bb198"
      },
      "execution_count": 26,
      "outputs": [
        {
          "output_type": "display_data",
          "data": {
            "text/plain": [
              "<Figure size 1000x600 with 1 Axes>"
            ],
            "image/png": "[encoded data removed]"
          },
          "metadata": {}
        }
      ]
    },
    {
      "cell_type": "markdown",
      "source": [
        "# How does the base model do?"
      ],
      "metadata": {
        "id": "vhH4LZPIrD24"
      }
    },
    {
      "cell_type": "code",
      "source": [
        "eval_prompt = \" The following is a Poem by John Keats the Poet: # \""
      ],
      "metadata": {
        "id": "8iO-0ZKjqNMb"
      },
      "execution_count": 29,
      "outputs": []
    },
    {
      "cell_type": "code",
      "source": [
        "# Re-init the tokenizer so it doesn't add padding or eos token\n",
        "tokenizer = AutoTokenizer.from_pretrained(\n",
        "    base_model_id,\n",
        "    add_bos_token=True,\n",
        ")\n",
        "\n",
        "model_input = tokenizer(eval_prompt, return_tensors=\"pt\").to(\"cuda\")\n",
        "\n",
        "model.eval()\n",
        "with torch.no_grad():\n",
        "    print(tokenizer.decode(model.generate(**model_input, max_new_tokens=256, repetition_penalty=1.15)[0], skip_special_tokens=True))"
      ],
      "metadata": {
        "id": "4VwbZ1LErLzI",
        "colab": {
          "base_uri": "https://localhost:8080/"
        },
        "outputId": "dcd9d6ab-8b7c-4853-ebc6-3e802322f9ca"
      },
      "execution_count": 30,
      "outputs": [
        {
          "output_type": "stream",
          "name": "stderr",
          "text": [
            "Setting `pad_token_id` to `eos_token_id`:2 for open-end generation.\n"
          ]
        },
        {
          "output_type": "stream",
          "name": "stdout",
          "text": [
            " The following is a Poem by John Keats the Poet: # 1\n",
            "\n",
            "# To Autumn\n",
            "\n",
            "Season of mists and mellow fruitfulness,\n",
            "Close bosom-friend of the maturing sun;\n",
            "Conspiring with him how to load and bless\n",
            "With fruit the vines that round the thatch-eves run;\n",
            "To bend with apples the moss’d cottage-trees,\n",
            "And fill all fruit with ripeness to the core;\n",
            "To swell the gourd, and plump the hazel shells\n",
            "With a sweet kernel; to set budding more,\n",
            "And still more, later flowers for the bees,\n",
            "Until they think warm days will never cease,\n",
            "For Summer has o’erbrimm’d their clammy cells.\n",
            "\n",
            "Who hath not seen thee, now thou art fully ripe?\n",
            "Thy yellow leaves, gleaned fodder for the owlet,\n",
            "Thy bunches of acorns rattling their shells\n",
            "Beneath the lopped hornbeams; and thy heavy sheaves\n",
            "Of grain, whose broad blades make rustling as they fall?\n",
            "Oh, Bard! thou wilt forget me, if I seek\n",
            "To tell thy\n"
          ]
        }
      ]
    },
    {
      "cell_type": "markdown",
      "source": [
        "Observe how the model does out of the box."
      ],
      "metadata": {
        "id": "dLWDEgmVrfKg"
      }
    },
    {
      "cell_type": "markdown",
      "source": [
        "# Set up LORA"
      ],
      "metadata": {
        "id": "zsORFYPsrhp9"
      }
    },
    {
      "cell_type": "code",
      "source": [
        "from peft import prepare_model_for_kbit_training\n",
        "\n",
        "model.gradient_checkpointing_enable()\n",
        "model = prepare_model_for_kbit_training(model)"
      ],
      "metadata": {
        "id": "8bU3weabrOVz"
      },
      "execution_count": 31,
      "outputs": []
    },
    {
      "cell_type": "code",
      "source": [
        "def print_trainable_parameters(model):\n",
        "    \"\"\"\n",
        "    Prints the number of trainable parameters in the model.\n",
        "    \"\"\"\n",
        "    trainable_params = 0\n",
        "    all_param = 0\n",
        "    for _, param in model.named_parameters():\n",
        "        all_param += param.numel()\n",
        "        if param.requires_grad:\n",
        "            trainable_params += param.numel()\n",
        "    print(\n",
        "        f\"trainable params: {trainable_params} || all params: {all_param} || trainable%: {100 * trainable_params / all_param}\"\n",
        "    )"
      ],
      "metadata": {
        "id": "Di03kYU1rnLf"
      },
      "execution_count": 32,
      "outputs": []
    },
    {
      "cell_type": "code",
      "source": [
        "print(model)"
      ],
      "metadata": {
        "id": "F76O898TrrLR",
        "colab": {
          "base_uri": "https://localhost:8080/"
        },
        "outputId": "91b91633-4bc4-4f6d-d51d-0f2da5004095"
      },
      "execution_count": 33,
      "outputs": [
        {
          "output_type": "stream",
          "name": "stdout",
          "text": [
            "MistralForCausalLM(\n",
            "  (model): MistralModel(\n",
            "    (embed_tokens): Embedding(32000, 4096)\n",
            "    (layers): ModuleList(\n",
            "      (0-31): 32 x MistralDecoderLayer(\n",
            "        (self_attn): MistralAttention(\n",
            "          (q_proj): Linear4bit(in_features=4096, out_features=4096, bias=False)\n",
            "          (k_proj): Linear4bit(in_features=4096, out_features=1024, bias=False)\n",
            "          (v_proj): Linear4bit(in_features=4096, out_features=1024, bias=False)\n",
            "          (o_proj): Linear4bit(in_features=4096, out_features=4096, bias=False)\n",
            "          (rotary_emb): MistralRotaryEmbedding()\n",
            "        )\n",
            "        (mlp): MistralMLP(\n",
            "          (gate_proj): Linear4bit(in_features=4096, out_features=14336, bias=False)\n",
            "          (up_proj): Linear4bit(in_features=4096, out_features=14336, bias=False)\n",
            "          (down_proj): Linear4bit(in_features=14336, out_features=4096, bias=False)\n",
            "          (act_fn): SiLU()\n",
            "        )\n",
            "        (input_layernorm): MistralRMSNorm()\n",
            "        (post_attention_layernorm): MistralRMSNorm()\n",
            "      )\n",
            "    )\n",
            "    (norm): MistralRMSNorm()\n",
            "  )\n",
            "  (lm_head): Linear(in_features=4096, out_features=32000, bias=False)\n",
            ")\n"
          ]
        }
      ]
    },
    {
      "cell_type": "code",
      "source": [
        "from peft import LoraConfig, get_peft_model\n",
        "\n",
        "config = LoraConfig(\n",
        "    r=32,\n",
        "    lora_alpha=64,\n",
        "    target_modules=[\n",
        "        \"q_proj\",\n",
        "        \"k_proj\",\n",
        "        \"v_proj\",\n",
        "        \"o_proj\",\n",
        "        \"gate_proj\",\n",
        "        \"up_proj\",\n",
        "        \"down_proj\",\n",
        "        \"lm_head\",\n",
        "    ],\n",
        "    bias=\"none\",\n",
        "    lora_dropout=0.05,  # Conventional\n",
        "    task_type=\"CAUSAL_LM\",\n",
        ")\n",
        "\n",
        "model = get_peft_model(model, config)\n",
        "print_trainable_parameters(model)"
      ],
      "metadata": {
        "id": "2zPaAKrvrrnH",
        "colab": {
          "base_uri": "https://localhost:8080/"
        },
        "outputId": "bd692c0c-e89c-4c64-9c5b-e255b7b4c4b9"
      },
      "execution_count": 34,
      "outputs": [
        {
          "output_type": "stream",
          "name": "stdout",
          "text": [
            "trainable params: 85041152 || all params: 3837112320 || trainable%: 2.2162799758751914\n"
          ]
        }
      ]
    },
    {
      "cell_type": "markdown",
      "source": [
        "See how the model looks different now, with the LoRA adapters added:"
      ],
      "metadata": {
        "id": "qdYmuqW-r4l-"
      }
    },
    {
      "cell_type": "code",
      "source": [
        "print(model)"
      ],
      "metadata": {
        "id": "azQ07jSVruNr",
        "colab": {
          "base_uri": "https://localhost:8080/"
        },
        "outputId": "5f25b90f-2841-4086-9bb5-dbcde8cd96d3"
      },
      "execution_count": 35,
      "outputs": [
        {
          "output_type": "stream",
          "name": "stdout",
          "text": [
            "PeftModelForCausalLM(\n",
            "  (base_model): LoraModel(\n",
            "    (model): MistralForCausalLM(\n",
            "      (model): MistralModel(\n",
            "        (embed_tokens): Embedding(32000, 4096)\n",
            "        (layers): ModuleList(\n",
            "          (0-31): 32 x MistralDecoderLayer(\n",
            "            (self_attn): MistralAttention(\n",
            "              (q_proj): Linear4bit(\n",
            "                (lora_dropout): ModuleDict(\n",
            "                  (default): Dropout(p=0.05, inplace=False)\n",
            "                )\n",
            "                (lora_A): ModuleDict(\n",
            "                  (default): Linear(in_features=4096, out_features=32, bias=False)\n",
            "                )\n",
            "                (lora_B): ModuleDict(\n",
            "                  (default): Linear(in_features=32, out_features=4096, bias=False)\n",
            "                )\n",
            "                (lora_embedding_A): ParameterDict()\n",
            "                (lora_embedding_B): ParameterDict()\n",
            "                (base_layer): Linear4bit(in_features=4096, out_features=4096, bias=False)\n",
            "              )\n",
            "              (k_proj): Linear4bit(\n",
            "                (lora_dropout): ModuleDict(\n",
            "                  (default): Dropout(p=0.05, inplace=False)\n",
            "                )\n",
            "                (lora_A): ModuleDict(\n",
            "                  (default): Linear(in_features=4096, out_features=32, bias=False)\n",
            "                )\n",
            "                (lora_B): ModuleDict(\n",
            "                  (default): Linear(in_features=32, out_features=1024, bias=False)\n",
            "                )\n",
            "                (lora_embedding_A): ParameterDict()\n",
            "                (lora_embedding_B): ParameterDict()\n",
            "                (base_layer): Linear4bit(in_features=4096, out_features=1024, bias=False)\n",
            "              )\n",
            "              (v_proj): Linear4bit(\n",
            "                (lora_dropout): ModuleDict(\n",
            "                  (default): Dropout(p=0.05, inplace=False)\n",
            "                )\n",
            "                (lora_A): ModuleDict(\n",
            "                  (default): Linear(in_features=4096, out_features=32, bias=False)\n",
            "                )\n",
            "                (lora_B): ModuleDict(\n",
            "                  (default): Linear(in_features=32, out_features=1024, bias=False)\n",
            "                )\n",
            "                (lora_embedding_A): ParameterDict()\n",
            "                (lora_embedding_B): ParameterDict()\n",
            "                (base_layer): Linear4bit(in_features=4096, out_features=1024, bias=False)\n",
            "              )\n",
            "              (o_proj): Linear4bit(\n",
            "                (lora_dropout): ModuleDict(\n",
            "                  (default): Dropout(p=0.05, inplace=False)\n",
            "                )\n",
            "                (lora_A): ModuleDict(\n",
            "                  (default): Linear(in_features=4096, out_features=32, bias=False)\n",
            "                )\n",
            "                (lora_B): ModuleDict(\n",
            "                  (default): Linear(in_features=32, out_features=4096, bias=False)\n",
            "                )\n",
            "                (lora_embedding_A): ParameterDict()\n",
            "                (lora_embedding_B): ParameterDict()\n",
            "                (base_layer): Linear4bit(in_features=4096, out_features=4096, bias=False)\n",
            "              )\n",
            "              (rotary_emb): MistralRotaryEmbedding()\n",
            "            )\n",
            "            (mlp): MistralMLP(\n",
            "              (gate_proj): Linear4bit(\n",
            "                (lora_dropout): ModuleDict(\n",
            "                  (default): Dropout(p=0.05, inplace=False)\n",
            "                )\n",
            "                (lora_A): ModuleDict(\n",
            "                  (default): Linear(in_features=4096, out_features=32, bias=False)\n",
            "                )\n",
            "                (lora_B): ModuleDict(\n",
            "                  (default): Linear(in_features=32, out_features=14336, bias=False)\n",
            "                )\n",
            "                (lora_embedding_A): ParameterDict()\n",
            "                (lora_embedding_B): ParameterDict()\n",
            "                (base_layer): Linear4bit(in_features=4096, out_features=14336, bias=False)\n",
            "              )\n",
            "              (up_proj): Linear4bit(\n",
            "                (lora_dropout): ModuleDict(\n",
            "                  (default): Dropout(p=0.05, inplace=False)\n",
            "                )\n",
            "                (lora_A): ModuleDict(\n",
            "                  (default): Linear(in_features=4096, out_features=32, bias=False)\n",
            "                )\n",
            "                (lora_B): ModuleDict(\n",
            "                  (default): Linear(in_features=32, out_features=14336, bias=False)\n",
            "                )\n",
            "                (lora_embedding_A): ParameterDict()\n",
            "                (lora_embedding_B): ParameterDict()\n",
            "                (base_layer): Linear4bit(in_features=4096, out_features=14336, bias=False)\n",
            "              )\n",
            "              (down_proj): Linear4bit(\n",
            "                (lora_dropout): ModuleDict(\n",
            "                  (default): Dropout(p=0.05, inplace=False)\n",
            "                )\n",
            "                (lora_A): ModuleDict(\n",
            "                  (default): Linear(in_features=14336, out_features=32, bias=False)\n",
            "                )\n",
            "                (lora_B): ModuleDict(\n",
            "                  (default): Linear(in_features=32, out_features=4096, bias=False)\n",
            "                )\n",
            "                (lora_embedding_A): ParameterDict()\n",
            "                (lora_embedding_B): ParameterDict()\n",
            "                (base_layer): Linear4bit(in_features=14336, out_features=4096, bias=False)\n",
            "              )\n",
            "              (act_fn): SiLU()\n",
            "            )\n",
            "            (input_layernorm): MistralRMSNorm()\n",
            "            (post_attention_layernorm): MistralRMSNorm()\n",
            "          )\n",
            "        )\n",
            "        (norm): MistralRMSNorm()\n",
            "      )\n",
            "      (lm_head): Linear(\n",
            "        in_features=4096, out_features=32000, bias=False\n",
            "        (lora_dropout): ModuleDict(\n",
            "          (default): Dropout(p=0.05, inplace=False)\n",
            "        )\n",
            "        (lora_A): ModuleDict(\n",
            "          (default): Linear(in_features=4096, out_features=32, bias=False)\n",
            "        )\n",
            "        (lora_B): ModuleDict(\n",
            "          (default): Linear(in_features=32, out_features=32000, bias=False)\n",
            "        )\n",
            "        (lora_embedding_A): ParameterDict()\n",
            "        (lora_embedding_B): ParameterDict()\n",
            "      )\n",
            "    )\n",
            "  )\n",
            ")\n"
          ]
        }
      ]
    },
    {
      "cell_type": "markdown",
      "source": [
        "# Model Training"
      ],
      "metadata": {
        "id": "UL23FclnsQWr"
      }
    },
    {
      "cell_type": "code",
      "source": [
        "if torch.cuda.device_count() > 1: # If more than 1 GPU\n",
        "    model.is_parallelizable = True\n",
        "    model.model_parallel = True"
      ],
      "metadata": {
        "id": "2PsNNA68sgSI"
      },
      "execution_count": 36,
      "outputs": []
    },
    {
      "cell_type": "code",
      "source": [
        "torch.cuda.device_count()"
      ],
      "metadata": {
        "id": "Ax9S9D14xCdc",
        "colab": {
          "base_uri": "https://localhost:8080/"
        },
        "outputId": "85469fdf-74c6-46c6-b068-a1c211cec7fc"
      },
      "execution_count": 37,
      "outputs": [
        {
          "output_type": "execute_result",
          "data": {
            "text/plain": [
              "1"
            ]
          },
          "metadata": {},
          "execution_count": 37
        }
      ]
    },
    {
      "cell_type": "code",
      "source": [
        "import transformers\n",
        "from datetime import datetime\n",
        "\n",
        "# Assuming tokenized_train_dataset and tokenized_val_dataset are DatasetDict objects\n",
        "train_dataset = tokenized_train_dataset['train']\n",
        "val_dataset = tokenized_val_dataset['train']\n",
        "\n",
        "project = \"journal-finetune\"\n",
        "base_model_name = \"mistral\"\n",
        "run_name = base_model_name + \"-\" + project\n",
        "output_dir = \"./\" + run_name\n",
        "\n",
        "trainer = transformers.Trainer(\n",
        "    model=model,\n",
        "    train_dataset=train_dataset,\n",
        "    eval_dataset=val_dataset,\n",
        "    args=transformers.TrainingArguments(\n",
        "        output_dir=output_dir,\n",
        "        warmup_steps=1,\n",
        "        per_device_train_batch_size=2,\n",
        "        gradient_accumulation_steps=1,\n",
        "        max_steps=175,\n",
        "        learning_rate=2.5e-5,\n",
        "        optim=\"paged_adamw_8bit\",\n",
        "        logging_steps=25,\n",
        "        logging_dir=\"./logs\",\n",
        "        save_strategy=\"steps\",\n",
        "        save_steps=25,\n",
        "        evaluation_strategy=\"steps\",\n",
        "        eval_steps=25,\n",
        "        do_eval=True,\n",
        "    ),\n",
        "    data_collator=transformers.DataCollatorForLanguageModeling(tokenizer, mlm=False),\n",
        ")\n",
        "\n",
        "model.config.use_cache = False\n",
        "tokenizer.add_special_tokens({'pad_token': '[PAD]'})\n",
        "trainer.train()\n"
      ],
      "metadata": {
        "colab": {
          "base_uri": "https://localhost:8080/",
          "height": 618
        },
        "id": "OlRh75gU9Uob",
        "outputId": "3cc5bd14-8bec-4b26-be00-9116f3f22b79"
      },
      "execution_count": 39,
      "outputs": [
        {
          "output_type": "stream",
          "name": "stderr",
          "text": [
            "You're using a LlamaTokenizerFast tokenizer. Please note that with a fast tokenizer, using the `__call__` method is faster than using a method to encode the text followed by a call to the `pad` method to get a padded encoding.\n",
            "/usr/local/lib/python3.10/dist-packages/torch/utils/checkpoint.py:429: UserWarning: torch.utils.checkpoint: please pass in use_reentrant=True or use_reentrant=False explicitly. The default value of use_reentrant will be updated to be False in the future. To maintain current behavior, pass use_reentrant=True. It is recommended that you use use_reentrant=False. Refer to docs for more details on the differences between the two variants.\n",
            "  warnings.warn(\n"
          ]
        },
        {
          "output_type": "display_data",
          "data": {
            "text/plain": [
              "<IPython.core.display.HTML object>"
            ],
            "text/html": [
              "\n",
              "    <div>\n",
              "      \n",
              "      <progress value='175' max='175' style='width:300px; height:20px; vertical-align: middle;'></progress>\n",
              "      [175/175 1:27:15, Epoch 14/15]\n",
              "    </div>\n",
              "    <table border=\"1\" class=\"dataframe\">\n",
              "  <thead>\n",
              " <tr style=\"text-align: left;\">\n",
              "      <th>Step</th>\n",
              "      <th>Training Loss</th>\n",
              "      <th>Validation Loss</th>\n",
              "    </tr>\n",
              "  </thead>\n",
              "  <tbody>\n",
              "    <tr>\n",
              "      <td>25</td>\n",
              "      <td>2.356800</td>\n",
              "      <td>2.114883</td>\n",
              "    </tr>\n",
              "    <tr>\n",
              "      <td>50</td>\n",
              "      <td>1.022900</td>\n",
              "      <td>2.219334</td>\n",
              "    </tr>\n",
              "    <tr>\n",
              "      <td>75</td>\n",
              "      <td>0.589600</td>\n",
              "      <td>2.364754</td>\n",
              "    </tr>\n",
              "    <tr>\n",
              "      <td>100</td>\n",
              "      <td>0.328400</td>\n",
              "      <td>2.495631</td>\n",
              "    </tr>\n",
              "    <tr>\n",
              "      <td>125</td>\n",
              "      <td>0.125100</td>\n",
              "      <td>2.772891</td>\n",
              "    </tr>\n",
              "    <tr>\n",
              "      <td>150</td>\n",
              "      <td>0.048500</td>\n",
              "      <td>2.904973</td>\n",
              "    </tr>\n",
              "    <tr>\n",
              "      <td>175</td>\n",
              "      <td>0.026800</td>\n",
              "      <td>2.952649</td>\n",
              "    </tr>\n",
              "  </tbody>\n",
              "</table><p>"
            ]
          },
          "metadata": {}
        },
        {
          "output_type": "stream",
          "name": "stderr",
          "text": [
            "/usr/local/lib/python3.10/dist-packages/torch/utils/checkpoint.py:429: UserWarning: torch.utils.checkpoint: please pass in use_reentrant=True or use_reentrant=False explicitly. The default value of use_reentrant will be updated to be False in the future. To maintain current behavior, pass use_reentrant=True. It is recommended that you use use_reentrant=False. Refer to docs for more details on the differences between the two variants.\n",
            "  warnings.warn(\n",
            "/usr/local/lib/python3.10/dist-packages/torch/utils/checkpoint.py:429: UserWarning: torch.utils.checkpoint: please pass in use_reentrant=True or use_reentrant=False explicitly. The default value of use_reentrant will be updated to be False in the future. To maintain current behavior, pass use_reentrant=True. It is recommended that you use use_reentrant=False. Refer to docs for more details on the differences between the two variants.\n",
            "  warnings.warn(\n",
            "/usr/local/lib/python3.10/dist-packages/torch/utils/checkpoint.py:429: UserWarning: torch.utils.checkpoint: please pass in use_reentrant=True or use_reentrant=False explicitly. The default value of use_reentrant will be updated to be False in the future. To maintain current behavior, pass use_reentrant=True. It is recommended that you use use_reentrant=False. Refer to docs for more details on the differences between the two variants.\n",
            "  warnings.warn(\n",
            "/usr/local/lib/python3.10/dist-packages/torch/utils/checkpoint.py:429: UserWarning: torch.utils.checkpoint: please pass in use_reentrant=True or use_reentrant=False explicitly. The default value of use_reentrant will be updated to be False in the future. To maintain current behavior, pass use_reentrant=True. It is recommended that you use use_reentrant=False. Refer to docs for more details on the differences between the two variants.\n",
            "  warnings.warn(\n",
            "/usr/local/lib/python3.10/dist-packages/torch/utils/checkpoint.py:429: UserWarning: torch.utils.checkpoint: please pass in use_reentrant=True or use_reentrant=False explicitly. The default value of use_reentrant will be updated to be False in the future. To maintain current behavior, pass use_reentrant=True. It is recommended that you use use_reentrant=False. Refer to docs for more details on the differences between the two variants.\n",
            "  warnings.warn(\n",
            "/usr/local/lib/python3.10/dist-packages/torch/utils/checkpoint.py:429: UserWarning: torch.utils.checkpoint: please pass in use_reentrant=True or use_reentrant=False explicitly. The default value of use_reentrant will be updated to be False in the future. To maintain current behavior, pass use_reentrant=True. It is recommended that you use use_reentrant=False. Refer to docs for more details on the differences between the two variants.\n",
            "  warnings.warn(\n"
          ]
        },
        {
          "output_type": "execute_result",
          "data": {
            "text/plain": [
              "TrainOutput(global_step=175, training_loss=0.6426031940323966, metrics={'train_runtime': 5264.1068, 'train_samples_per_second': 0.066, 'train_steps_per_second': 0.033, 'total_flos': 9610578586828800.0, 'train_loss': 0.6426031940323966, 'epoch': 14.58})"
            ]
          },
          "metadata": {},
          "execution_count": 39
        }
      ]
    },
    {
      "cell_type": "markdown",
      "source": [
        "# Try the Trained Model!"
      ],
      "metadata": {
        "id": "4-lfnbWd2SGs"
      }
    },
    {
      "cell_type": "code",
      "source": [
        "import locale\n",
        "locale.getpreferredencoding = lambda: \"UTF-8\""
      ],
      "metadata": {
        "id": "PtLGV2r7SG7n"
      },
      "execution_count": 42,
      "outputs": []
    },
    {
      "cell_type": "code",
      "source": [
        "!pip install git+https://github.com/huggingface/transformers"
      ],
      "metadata": {
        "id": "N2LSfpX42weA",
        "colab": {
          "base_uri": "https://localhost:8080/"
        },
        "outputId": "b40dae03-20eb-4e58-90d2-75997f760008"
      },
      "execution_count": 43,
      "outputs": [
        {
          "output_type": "stream",
          "name": "stdout",
          "text": [
            "Collecting git+https://github.com/huggingface/transformers\n",
            "  Cloning https://github.com/huggingface/transformers to /tmp/pip-req-build-qdochd_m\n",
            "  Running command git clone --filter=blob:none --quiet https://github.com/huggingface/transformers /tmp/pip-req-build-qdochd_m\n",
            "  Resolved https://github.com/huggingface/transformers to commit 2ac5b9325ed3b54950c6c61fd5838ac6e55a9fe1\n",
            "  Installing build dependencies ... \u001b[?25l\u001b[?25hdone\n",
            "  Getting requirements to build wheel ... \u001b[?25l\u001b[?25hdone\n",
            "  Preparing metadata (pyproject.toml) ... \u001b[?25l\u001b[?25hdone\n",
            "Requirement already satisfied: filelock in /usr/local/lib/python3.10/dist-packages (from transformers==4.36.0.dev0) (3.13.1)\n",
            "Requirement already satisfied: huggingface-hub<1.0,>=0.16.4 in /usr/local/lib/python3.10/dist-packages (from transformers==4.36.0.dev0) (0.17.3)\n",
            "Requirement already satisfied: numpy>=1.17 in /usr/local/lib/python3.10/dist-packages (from transformers==4.36.0.dev0) (1.26.2)\n",
            "Requirement already satisfied: packaging>=20.0 in /usr/local/lib/python3.10/dist-packages (from transformers==4.36.0.dev0) (23.2)\n",
            "Requirement already satisfied: pyyaml>=5.1 in /usr/local/lib/python3.10/dist-packages (from transformers==4.36.0.dev0) (6.0.1)\n",
            "Requirement already satisfied: regex!=2019.12.17 in /usr/local/lib/python3.10/dist-packages (from transformers==4.36.0.dev0) (2023.6.3)\n",
            "Requirement already satisfied: requests in /usr/local/lib/python3.10/dist-packages (from transformers==4.36.0.dev0) (2.31.0)\n",
            "Requirement already satisfied: tokenizers<0.15,>=0.14 in /usr/local/lib/python3.10/dist-packages (from transformers==4.36.0.dev0) (0.14.1)\n",
            "Requirement already satisfied: safetensors>=0.3.1 in /usr/local/lib/python3.10/dist-packages (from transformers==4.36.0.dev0) (0.4.0)\n",
            "Requirement already satisfied: tqdm>=4.27 in /usr/local/lib/python3.10/dist-packages (from transformers==4.36.0.dev0) (4.66.1)\n",
            "Requirement already satisfied: fsspec in /usr/local/lib/python3.10/dist-packages (from huggingface-hub<1.0,>=0.16.4->transformers==4.36.0.dev0) (2023.6.0)\n",
            "Requirement already satisfied: typing-extensions>=3.7.4.3 in /usr/local/lib/python3.10/dist-packages (from huggingface-hub<1.0,>=0.16.4->transformers==4.36.0.dev0) (4.5.0)\n",
            "Requirement already satisfied: charset-normalizer<4,>=2 in /usr/local/lib/python3.10/dist-packages (from requests->transformers==4.36.0.dev0) (3.3.2)\n",
            "Requirement already satisfied: idna<4,>=2.5 in /usr/local/lib/python3.10/dist-packages (from requests->transformers==4.36.0.dev0) (3.4)\n",
            "Requirement already satisfied: urllib3<3,>=1.21.1 in /usr/local/lib/python3.10/dist-packages (from requests->transformers==4.36.0.dev0) (2.0.7)\n",
            "Requirement already satisfied: certifi>=2017.4.17 in /usr/local/lib/python3.10/dist-packages (from requests->transformers==4.36.0.dev0) (2023.7.22)\n"
          ]
        }
      ]
    },
    {
      "cell_type": "code",
      "source": [
        "!huggingface-cli login"
      ],
      "metadata": {
        "id": "abb4b7mF4L5S",
        "colab": {
          "base_uri": "https://localhost:8080/"
        },
        "outputId": "5d0f3451-f703-4dbc-f6c3-d68448a8f0ae"
      },
      "execution_count": 44,
      "outputs": [
        {
          "output_type": "stream",
          "name": "stdout",
          "text": [
            "\n",
            "    _|    _|  _|    _|    _|_|_|    _|_|_|  _|_|_|  _|      _|    _|_|_|      _|_|_|_|    _|_|      _|_|_|  _|_|_|_|\n",
            "    _|    _|  _|    _|  _|        _|          _|    _|_|    _|  _|            _|        _|    _|  _|        _|\n",
            "    _|_|_|_|  _|    _|  _|  _|_|  _|  _|_|    _|    _|  _|  _|  _|  _|_|      _|_|_|    _|_|_|_|  _|        _|_|_|\n",
            "    _|    _|  _|    _|  _|    _|  _|    _|    _|    _|    _|_|  _|    _|      _|        _|    _|  _|        _|\n",
            "    _|    _|    _|_|      _|_|_|    _|_|_|  _|_|_|  _|      _|    _|_|_|      _|        _|    _|    _|_|_|  _|_|_|_|\n",
            "    \n",
            "    To login, `huggingface_hub` requires a token generated from https://huggingface.co/settings/tokens .\n",
            "Token: \n",
            "Add token as git credential? (Y/n) n\n",
            "Token is valid (permission: read).\n",
            "Your token has been saved to /root/.cache/huggingface/token\n",
            "Login successful\n"
          ]
        }
      ]
    },
    {
      "cell_type": "markdown",
      "source": [
        "get a huggingface key\n",
        "\n",
        "respond no to github validation"
      ],
      "metadata": {
        "id": "FpBZekDtBUJK"
      }
    },
    {
      "cell_type": "code",
      "source": [
        "!zip -r mistral_checkpoints.zip mistral-journal-finetune"
      ],
      "metadata": {
        "colab": {
          "base_uri": "https://localhost:8080/"
        },
        "id": "fWr2TaajUL-L",
        "outputId": "79e084a3-eea5-43ee-8564-d3e46ce757fe"
      },
      "execution_count": 2,
      "outputs": [
        {
          "output_type": "stream",
          "name": "stdout",
          "text": [
            "  adding: mistral-journal-finetune/ (stored 0%)\n",
            "  adding: mistral-journal-finetune/checkpoint-175/ (stored 0%)\n",
            "  adding: mistral-journal-finetune/checkpoint-175/rng_state.pth (deflated 25%)\n",
            "  adding: mistral-journal-finetune/checkpoint-175/README.md (deflated 64%)\n",
            "  adding: mistral-journal-finetune/checkpoint-175/training_args.bin (deflated 51%)\n",
            "  adding: mistral-journal-finetune/checkpoint-175/trainer_state.json (deflated 76%)\n",
            "  adding: mistral-journal-finetune/checkpoint-175/adapter_model.safetensors (deflated 8%)\n",
            "  adding: mistral-journal-finetune/checkpoint-175/optimizer.pt (deflated 17%)\n",
            "  adding: mistral-journal-finetune/checkpoint-175/adapter_config.json (deflated 50%)\n",
            "  adding: mistral-journal-finetune/checkpoint-175/scheduler.pt (deflated 56%)\n",
            "  adding: mistral-journal-finetune/checkpoint-125/ (stored 0%)\n",
            "  adding: mistral-journal-finetune/checkpoint-125/rng_state.pth (deflated 25%)\n",
            "  adding: mistral-journal-finetune/checkpoint-125/README.md (deflated 64%)\n",
            "  adding: mistral-journal-finetune/checkpoint-125/training_args.bin (deflated 51%)\n",
            "  adding: mistral-journal-finetune/checkpoint-125/trainer_state.json (deflated 73%)\n",
            "  adding: mistral-journal-finetune/checkpoint-125/adapter_model.safetensors (deflated 8%)\n",
            "  adding: mistral-journal-finetune/checkpoint-125/optimizer.pt (deflated 17%)\n",
            "  adding: mistral-journal-finetune/checkpoint-125/adapter_config.json (deflated 50%)\n",
            "  adding: mistral-journal-finetune/checkpoint-125/scheduler.pt (deflated 56%)\n",
            "  adding: mistral-journal-finetune/checkpoint-50/ (stored 0%)\n",
            "  adding: mistral-journal-finetune/checkpoint-50/rng_state.pth (deflated 25%)\n",
            "  adding: mistral-journal-finetune/checkpoint-50/README.md (deflated 64%)\n",
            "  adding: mistral-journal-finetune/checkpoint-50/training_args.bin (deflated 51%)\n",
            "  adding: mistral-journal-finetune/checkpoint-50/trainer_state.json (deflated 63%)\n",
            "  adding: mistral-journal-finetune/checkpoint-50/adapter_model.safetensors (deflated 8%)\n",
            "  adding: mistral-journal-finetune/checkpoint-50/optimizer.pt (deflated 17%)\n",
            "  adding: mistral-journal-finetune/checkpoint-50/adapter_config.json (deflated 50%)\n",
            "  adding: mistral-journal-finetune/checkpoint-50/scheduler.pt (deflated 56%)\n",
            "  adding: mistral-journal-finetune/checkpoint-100/ (stored 0%)\n",
            "  adding: mistral-journal-finetune/checkpoint-100/rng_state.pth (deflated 25%)\n",
            "  adding: mistral-journal-finetune/checkpoint-100/README.md (deflated 64%)\n",
            "  adding: mistral-journal-finetune/checkpoint-100/training_args.bin (deflated 51%)\n",
            "  adding: mistral-journal-finetune/checkpoint-100/trainer_state.json (deflated 71%)\n",
            "  adding: mistral-journal-finetune/checkpoint-100/adapter_model.safetensors (deflated 8%)\n",
            "  adding: mistral-journal-finetune/checkpoint-100/optimizer.pt (deflated 17%)\n",
            "  adding: mistral-journal-finetune/checkpoint-100/adapter_config.json (deflated 50%)\n",
            "  adding: mistral-journal-finetune/checkpoint-100/scheduler.pt (deflated 56%)\n",
            "  adding: mistral-journal-finetune/checkpoint-150/ (stored 0%)\n",
            "  adding: mistral-journal-finetune/checkpoint-150/rng_state.pth (deflated 25%)\n",
            "  adding: mistral-journal-finetune/checkpoint-150/README.md (deflated 64%)\n",
            "  adding: mistral-journal-finetune/checkpoint-150/training_args.bin (deflated 51%)\n",
            "  adding: mistral-journal-finetune/checkpoint-150/trainer_state.json (deflated 75%)\n",
            "  adding: mistral-journal-finetune/checkpoint-150/adapter_model.safetensors (deflated 8%)\n",
            "  adding: mistral-journal-finetune/checkpoint-150/optimizer.pt (deflated 17%)\n",
            "  adding: mistral-journal-finetune/checkpoint-150/adapter_config.json (deflated 50%)\n",
            "  adding: mistral-journal-finetune/checkpoint-150/scheduler.pt (deflated 56%)\n",
            "  adding: mistral-journal-finetune/checkpoint-25/ (stored 0%)\n",
            "  adding: mistral-journal-finetune/checkpoint-25/rng_state.pth (deflated 25%)\n",
            "  adding: mistral-journal-finetune/checkpoint-25/README.md (deflated 64%)\n",
            "  adding: mistral-journal-finetune/checkpoint-25/training_args.bin (deflated 51%)\n",
            "  adding: mistral-journal-finetune/checkpoint-25/trainer_state.json (deflated 56%)\n",
            "  adding: mistral-journal-finetune/checkpoint-25/adapter_model.safetensors (deflated 8%)\n",
            "  adding: mistral-journal-finetune/checkpoint-25/optimizer.pt (deflated 17%)\n",
            "  adding: mistral-journal-finetune/checkpoint-25/adapter_config.json (deflated 50%)\n",
            "  adding: mistral-journal-finetune/checkpoint-25/scheduler.pt (deflated 56%)\n",
            "  adding: mistral-journal-finetune/checkpoint-75/ (stored 0%)\n",
            "  adding: mistral-journal-finetune/checkpoint-75/rng_state.pth (deflated 25%)\n",
            "  adding: mistral-journal-finetune/checkpoint-75/README.md (deflated 64%)\n",
            "  adding: mistral-journal-finetune/checkpoint-75/training_args.bin (deflated 51%)\n",
            "  adding: mistral-journal-finetune/checkpoint-75/trainer_state.json (deflated 67%)\n",
            "  adding: mistral-journal-finetune/checkpoint-75/adapter_model.safetensors (deflated 8%)\n",
            "  adding: mistral-journal-finetune/checkpoint-75/optimizer.pt (deflated 17%)\n",
            "  adding: mistral-journal-finetune/checkpoint-75/adapter_config.json (deflated 50%)\n",
            "  adding: mistral-journal-finetune/checkpoint-75/scheduler.pt (deflated 56%)\n"
          ]
        }
      ]
    },
    {
      "cell_type": "code",
      "source": [
        "!ls -sh"
      ],
      "metadata": {
        "colab": {
          "base_uri": "https://localhost:8080/"
        },
        "id": "no8dVXR1VMzk",
        "outputId": "21465e91-44a2-493d-a295-a033f5177474"
      },
      "execution_count": 3,
      "outputs": [
        {
          "output_type": "stream",
          "name": "stdout",
          "text": [
            "total 3.0G\n",
            "4.0K drive  3.0G mistral_checkpoints.zip   308K output.json  256K train.jsonl\n",
            "4.0K logs   4.0K mistral-journal-finetune  4.0K sample_data   56K val.jsonl\n"
          ]
        }
      ]
    },
    {
      "cell_type": "code",
      "source": [
        "import locale\n",
        "locale.getpreferredencoding = lambda: \"UTF-8\""
      ],
      "metadata": {
        "id": "atNcmVz84Q2p"
      },
      "execution_count": 46,
      "outputs": []
    },
    {
      "cell_type": "code",
      "source": [
        "import torch\n",
        "from transformers import AutoTokenizer, AutoModelForCausalLM, BitsAndBytesConfig\n",
        "\n",
        "base_model_id = \"mistralai/Mistral-7B-v0.1\"\n",
        "bnb_config = BitsAndBytesConfig(\n",
        "    load_in_4bit=True,\n",
        "    bnb_4bit_use_double_quant=True,\n",
        "    bnb_4bit_quant_type=\"nf4\",\n",
        "    bnb_4bit_compute_dtype=torch.bfloat16\n",
        ")\n",
        "\n",
        "base_model = AutoModelForCausalLM.from_pretrained(\n",
        "    base_model_id,  # Mistral, same as before\n",
        "    quantization_config=bnb_config,  # Same quantization config as before\n",
        "    device_map=\"auto\",\n",
        "    trust_remote_code=True,\n",
        "    use_auth_token=True\n",
        ")\n",
        "\n",
        "tokenizer = AutoTokenizer.from_pretrained(base_model_id, add_bos_token=True, trust_remote_code=True)"
      ],
      "metadata": {
        "id": "NvWUgue12NzO",
        "colab": {
          "base_uri": "https://localhost:8080/",
          "height": 73,
          "referenced_widgets": [
            "f2e9e74a8cf34aae85b522568129c716",
            "7b4a82abef804bf1bd15a3cc0709f8e3",
            "752db48cf52b472f8eb1a3bba507ac36",
            "5f8c48e530ee479486a94104e490c561",
            "2b9775b3d40f430b92bde91bb9873b4d",
            "e0dce95be4d54e62a127c30e30998113",
            "72b0da55e3064db8aac130d91dedd390",
            "45f18e2ede2a4ef6b85e1f2b675638cd",
            "830a7469d2204eb68ade554ebb01e509",
            "413fd10a89ee453fa7fb8858d7a471b7",
            "fc06ff4d27e2449e8ff3e37e444f9ab5"
          ]
        },
        "outputId": "df66fd5f-7503-4c3b-fff8-727b2b813730"
      },
      "execution_count": 5,
      "outputs": [
        {
          "output_type": "stream",
          "name": "stderr",
          "text": [
            "/usr/local/lib/python3.10/dist-packages/transformers/models/auto/auto_factory.py:472: FutureWarning: The `use_auth_token` argument is deprecated and will be removed in v5 of Transformers. Please use `token` instead.\n",
            "  warnings.warn(\n"
          ]
        },
        {
          "output_type": "display_data",
          "data": {
            "text/plain": [
              "Loading checkpoint shards:   0%|          | 0/2 [00:00<?, ?it/s]"
            ],
            "application/vnd.jupyter.widget-view+json": {
              "version_major": 2,
              "version_minor": 0,
              "model_id": "f2e9e74a8cf34aae85b522568129c716"
            }
          },
          "metadata": {}
        }
      ]
    },
    {
      "cell_type": "code",
      "source": [
        "from peft import PeftModel\n",
        "\n",
        "ft_model = PeftModel.from_pretrained(base_model, \"mistral-journal-finetune/checkpoint-175\")"
      ],
      "metadata": {
        "id": "-v7-H8924cO7"
      },
      "execution_count": 6,
      "outputs": []
    },
    {
      "cell_type": "markdown",
      "source": [
        "### Model Inferences"
      ],
      "metadata": {
        "id": "FzgHRPZY7zcn"
      }
    },
    {
      "cell_type": "code",
      "source": [
        "eval_prompt = \" The following is a Poem by John Keats the Poet, who is one of the best selling poets in America: # \"\n",
        "model_input = tokenizer(eval_prompt, return_tensors=\"pt\").to(\"cuda\")\n",
        "\n",
        "ft_model.eval()\n",
        "with torch.no_grad():\n",
        "    poem1 = tokenizer.decode(ft_model.generate(**model_input, max_new_tokens=200, repetition_penalty=1.15)[0], skip_special_tokens=True)"
      ],
      "metadata": {
        "id": "nD_Lz9C15vM9",
        "colab": {
          "base_uri": "https://localhost:8080/"
        },
        "outputId": "06578d08-231e-4503-f84f-d2158e5e14ed"
      },
      "execution_count": 12,
      "outputs": [
        {
          "output_type": "stream",
          "name": "stderr",
          "text": [
            "Setting `pad_token_id` to `eos_token_id`:2 for open-end generation.\n"
          ]
        }
      ]
    },
    {
      "cell_type": "code",
      "source": [
        "eval_prompt = \" The following is a Poem by John Keats the Poet, who writes the story of the kings falling in love with a handmaiden : # \"\n",
        "model_input = tokenizer(eval_prompt, return_tensors=\"pt\").to(\"cuda\")\n",
        "\n",
        "ft_model.eval()\n",
        "with torch.no_grad():\n",
        "    poem2 = tokenizer.decode(ft_model.generate(**model_input, max_new_tokens=200, repetition_penalty=1.15)[0], skip_special_tokens=True)\n"
      ],
      "metadata": {
        "id": "YJS8hlrx57pK",
        "colab": {
          "base_uri": "https://localhost:8080/"
        },
        "outputId": "e4bad101-4881-4ca6-ece2-18e14bf04af0"
      },
      "execution_count": 13,
      "outputs": [
        {
          "output_type": "stream",
          "name": "stderr",
          "text": [
            "Setting `pad_token_id` to `eos_token_id`:2 for open-end generation.\n"
          ]
        }
      ]
    },
    {
      "cell_type": "code",
      "source": [
        "eval_prompt = \" The following is a Poem by John Keats the Poet, who deteremines which cricket team will world cup  : # \"\n",
        "model_input = tokenizer(eval_prompt, return_tensors=\"pt\").to(\"cuda\")\n",
        "\n",
        "ft_model.eval()\n",
        "with torch.no_grad():\n",
        "    poem3 = tokenizer.decode(ft_model.generate(**model_input, max_new_tokens=200, repetition_penalty=1.15)[0], skip_special_tokens=True)"
      ],
      "metadata": {
        "colab": {
          "base_uri": "https://localhost:8080/"
        },
        "id": "Emis_HfwWGm9",
        "outputId": "8770e3a0-aacf-4290-ab83-d8e019015dad"
      },
      "execution_count": 14,
      "outputs": [
        {
          "output_type": "stream",
          "name": "stderr",
          "text": [
            "Setting `pad_token_id` to `eos_token_id`:2 for open-end generation.\n"
          ]
        }
      ]
    },
    {
      "cell_type": "code",
      "source": [
        "eval_prompt = \" The following is a Poem by John Keats the Poet, who tells how world war 2 had affected the world  : # \"\n",
        "model_input = tokenizer(eval_prompt, return_tensors=\"pt\").to(\"cuda\")\n",
        "\n",
        "ft_model.eval()\n",
        "with torch.no_grad():\n",
        "    poem4 = tokenizer.decode(ft_model.generate(**model_input, max_new_tokens=200, repetition_penalty=1.15)[0], skip_special_tokens=True)"
      ],
      "metadata": {
        "colab": {
          "base_uri": "https://localhost:8080/"
        },
        "id": "BUUFQiVPW-Cj",
        "outputId": "45656685-ee15-483b-83df-d5f4cd6fc163"
      },
      "execution_count": 15,
      "outputs": [
        {
          "output_type": "stream",
          "name": "stderr",
          "text": [
            "Setting `pad_token_id` to `eos_token_id`:2 for open-end generation.\n"
          ]
        }
      ]
    },
    {
      "cell_type": "code",
      "source": [
        "eval_prompt = \" The following is a Poem by John Keats the Poet, who writes the poems on shakespeare  : # \"\n",
        "model_input = tokenizer(eval_prompt, return_tensors=\"pt\").to(\"cuda\")\n",
        "\n",
        "ft_model.eval()\n",
        "with torch.no_grad():\n",
        "    poem5 = tokenizer.decode(ft_model.generate(**model_input, max_new_tokens=200, repetition_penalty=1.15)[0], skip_special_tokens=True)"
      ],
      "metadata": {
        "colab": {
          "base_uri": "https://localhost:8080/"
        },
        "id": "5IKgvuhrXBYF",
        "outputId": "ef424be1-77b8-4d68-8f4d-3f9040cfe32a"
      },
      "execution_count": 16,
      "outputs": [
        {
          "output_type": "stream",
          "name": "stderr",
          "text": [
            "Setting `pad_token_id` to `eos_token_id`:2 for open-end generation.\n"
          ]
        }
      ]
    },
    {
      "cell_type": "code",
      "source": [
        "print(poem1)"
      ],
      "metadata": {
        "colab": {
          "base_uri": "https://localhost:8080/"
        },
        "id": "iPUWdaX5Xn43",
        "outputId": "fd6e4cbc-8924-4e2a-8ce9-a201d7c214c2"
      },
      "execution_count": 17,
      "outputs": [
        {
          "output_type": "stream",
          "name": "stdout",
          "text": [
            " The following is a Poem by John Keats the Poet, who is one of the best selling poets in America: # 100 poems that shaped the world.\n",
            "\n",
            "When have fears that may cease to be before my pen has glean my teeming brain before high piled books in charactry hold like rich garners the full ripen grain when behold upon the night starr face huge cloudy symbols of high romance and think that may never live to trace their shadows with the magic hand of chance and when feel fair creature of an hour that shall never look upon thee more never have relish in the faery power of unreflecting love then on the shore of the wide world stand alone and think till love and fame to nothingness do sink\n"
          ]
        }
      ]
    },
    {
      "cell_type": "code",
      "source": [
        "print(poem2)"
      ],
      "metadata": {
        "colab": {
          "base_uri": "https://localhost:8080/"
        },
        "id": "FthR9nfXXp4Q",
        "outputId": "8aa0da9e-45b3-4c53-bd70-9437b0609fb8"
      },
      "execution_count": 18,
      "outputs": [
        {
          "output_type": "stream",
          "name": "stdout",
          "text": [
            " The following is a Poem by John Keats the Poet, who writes the story of the kings falling in love with a handmaiden : # 10 sonnet when have fears that may not think there any ill the soul hath her own forests where she feeds and is content to hear no news at all and in the midst of drought to find the hidden spring of pleasure fair and perennial voice she hath whose name was tranquillity she hath such sweet particular miseries she hath such tender pains and cares that were not for the world but for some single soul that mourns thus heavily its passion at her feet she will sit and sing and smile and dream and be silent when the passion is hushed into patience and patient thinking of the summer clouds and soft constant showers upon the summer flowers let me thy vigil keep and bring thee lily white stalks from the elves leisurely foot this will be happiness if it be granted thee and me never to seek the thing we seek but to sit together at the fire side as two kinsmen who have gloomily walked through many\n"
          ]
        }
      ]
    },
    {
      "cell_type": "code",
      "source": [
        "print(poem3)"
      ],
      "metadata": {
        "colab": {
          "base_uri": "https://localhost:8080/"
        },
        "id": "E3elVM_aXrhr",
        "outputId": "cf97bd63-be6e-41d2-bb35-3ceabce456e0"
      },
      "execution_count": 19,
      "outputs": [
        {
          "output_type": "stream",
          "name": "stdout",
          "text": [
            " The following is a Poem by John Keats the Poet, who deteremines which cricket team will world cup  : # 03609251045\n",
            "\n",
            "Ah what can ail thee wretched wight alone and palely loitering the sedge has withered from the lake and no birds sing oh what can ail thee wretched wight so haggard and so woe begone the squirrel granary is full and the harvest done see lily on thy brow with anguish moist and fever dew and on thy cheek fading rose fast withereth too met lady in the meads full beautiful faery child her hair was long her foot was light and her eyes were wild made garland for her head and bracelets too and fragrant zone she looked at me as she did love and made sweet moan set her on my pacing steed and nothing else saw all day long for sidelong would she bend and sing faery song she found me roots of relish sweet and honey wild and manna dew\n"
          ]
        }
      ]
    },
    {
      "cell_type": "code",
      "source": [
        "print(poem4)"
      ],
      "metadata": {
        "colab": {
          "base_uri": "https://localhost:8080/"
        },
        "id": "UyylJVyRXtK4",
        "outputId": "11d43b6e-c9b3-4d6c-d3ef-273e821df1d2"
      },
      "execution_count": 20,
      "outputs": [
        {
          "output_type": "stream",
          "name": "stdout",
          "text": [
            " The following is a Poem by John Keats the Poet, who tells how world war 2 had affected the world  : #  when have fears that may cease to be before my pen has glean my teeming brain before high piled books in charactry hold like rich garners the full ripen grain when behold upon the night starr face huge cloudy symbols of high romance and think that may never live to trace their shadows with the magic hand of chance and when feel fair creature of an hour that shall never look upon thee more never have relish in the faery power of unreflecting love then on the shore of the wide world stand alone and think till love and fame to nothingness do sink\n"
          ]
        }
      ]
    },
    {
      "cell_type": "code",
      "source": [
        "print(poem5)"
      ],
      "metadata": {
        "colab": {
          "base_uri": "https://localhost:8080/"
        },
        "id": "1cfZKFYUXu2q",
        "outputId": "aa06f80c-fcfb-400d-fb4c-87251eae1341"
      },
      "execution_count": 21,
      "outputs": [
        {
          "output_type": "stream",
          "name": "stdout",
          "text": [
            " The following is a Poem by John Keats the Poet, who writes the poems on shakespeare  : # 10 sonnet when have fears that may not think do not see what thou art but thy white face shines through the mask thou mayst know by this dim looking-glasspale should be hidden love in thy chest from miseries thyself should not be thy foe should stay with thee in dark time the casques gories and trappings of vain glory none of these things could make unworthy love more dear to thee than that which knows no idol but itself no temple but thy breast no altar but thy heart on such love surpasses all my powr that can perceive how very wonderful it is and live to tell—when have fears that may not think do not see what thou art but thy white face shakes thy self from out the mask tremble lest the paleness that men mouths stamp upon thy lips should be the kiss that fades and dies on them—when have fears that may not think do not see what thou art but\n"
          ]
        }
      ]
    },
    {
      "cell_type": "markdown",
      "source": [
        "Note: save the putput from each prompt so we can evaluate the corenece of the generated language\n",
        "\n",
        "assess the cosine similarity between the generated poems of this poem -- whatveer this lang model produces and the previous poems you scraped from this poet."
      ],
      "metadata": {
        "id": "wbEqHyAEBj6s"
      }
    },
    {
      "cell_type": "code",
      "source": [
        "eval_poems = eval_dataset['train']['Poem']\n",
        "len(eval_poems)"
      ],
      "metadata": {
        "colab": {
          "base_uri": "https://localhost:8080/"
        },
        "id": "F-1iVIY9a3Vt",
        "outputId": "26ce6915-6ffb-414e-e416-08a9a5c948be"
      },
      "execution_count": 35,
      "outputs": [
        {
          "output_type": "execute_result",
          "data": {
            "text/plain": [
              "6"
            ]
          },
          "metadata": {},
          "execution_count": 35
        }
      ]
    },
    {
      "cell_type": "code",
      "source": [
        "poems = eval_poems + [poem1, poem2, poem3, poem4, poem5]\n",
        "len(poems)"
      ],
      "metadata": {
        "colab": {
          "base_uri": "https://localhost:8080/"
        },
        "id": "fFlnVGljZmmE",
        "outputId": "226569af-a138-4d63-8bcb-e337fd6630f7"
      },
      "execution_count": 36,
      "outputs": [
        {
          "output_type": "execute_result",
          "data": {
            "text/plain": [
              "11"
            ]
          },
          "metadata": {},
          "execution_count": 36
        }
      ]
    },
    {
      "cell_type": "code",
      "source": [
        "import pandas as pd\n",
        "from sklearn.feature_extraction.text import CountVectorizer\n",
        "from sklearn.metrics.pairwise import cosine_similarity"
      ],
      "metadata": {
        "id": "ntZuV77mcKuw"
      },
      "execution_count": 41,
      "outputs": []
    },
    {
      "cell_type": "code",
      "source": [
        "vectorizer = CountVectorizer(stop_words='english')\n",
        "vectors = vectorizer.fit_transform(poems)\n",
        "dense_vectors = vectors.todense()\n",
        "df = pd.DataFrame(dense_vectors,\n",
        "                  columns=vectorizer.get_feature_names_out(),\n",
        "                  index = [f\"eval_poem{i+1}\" for i in range(len(eval_poems))] + [f\"gen_poem{i+1}\" for i in range(5)])\n",
        "df.head()"
      ],
      "metadata": {
        "colab": {
          "base_uri": "https://localhost:8080/",
          "height": 236
        },
        "id": "xD6FxqJ3cYll",
        "outputId": "eb81c86c-cd53-45e6-b79d-0911d6abf50f"
      },
      "execution_count": 40,
      "outputs": [
        {
          "output_type": "execute_result",
          "data": {
            "text/plain": [
              "            03609251045  10  100  11  14  14th  1818  1819  1848  1895  ...  \\\n",
              "eval_poem1            0   0    0   0   0     0     1     0     0     1  ...   \n",
              "eval_poem2            0   0    0   1   0     1     0     1     1     1  ...   \n",
              "eval_poem3            0   0    0   0   1     0     0     0     0     1  ...   \n",
              "eval_poem4            0   0    0   0   0     0     0     1     0     1  ...   \n",
              "eval_poem5            0   0    0   0   0     0     0     0     0     0  ...   \n",
              "\n",
              "            years  yes  yielded  young  youth  youthful  zenith  zephyrs  \\\n",
              "eval_poem1      0    0        0      1      0         0       0        0   \n",
              "eval_poem2      0    0        0      0      0         0       0        0   \n",
              "eval_poem3      1    1        1      0      0         0       1        1   \n",
              "eval_poem4      0    0        0      1      1         0       0        0   \n",
              "eval_poem5      0    0        0      0      0         0       0        0   \n",
              "\n",
              "            zest  zone  \n",
              "eval_poem1     0     0  \n",
              "eval_poem2     0     0  \n",
              "eval_poem3     0     0  \n",
              "eval_poem4     0     0  \n",
              "eval_poem5     1     0  \n",
              "\n",
              "[5 rows x 1611 columns]"
            ],
            "text/html": [
              "\n",
              "  <div id=\"df-dca9829d-a272-45b4-a9d9-4ae3b6c6daad\" class=\"colab-df-container\">\n",
              "    <div>\n",
              "<style scoped>\n",
              "    .dataframe tbody tr th:only-of-type {\n",
              "        vertical-align: middle;\n",
              "    }\n",
              "\n",
              "    .dataframe tbody tr th {\n",
              "        vertical-align: top;\n",
              "    }\n",
              "\n",
              "    .dataframe thead th {\n",
              "        text-align: right;\n",
              "    }\n",
              "</style>\n",
              "<table border=\"1\" class=\"dataframe\">\n",
              "  <thead>\n",
              "    <tr style=\"text-align: right;\">\n",
              "      <th></th>\n",
              "      <th>03609251045</th>\n",
              "      <th>10</th>\n",
              "      <th>100</th>\n",
              "      <th>11</th>\n",
              "      <th>14</th>\n",
              "      <th>14th</th>\n",
              "      <th>1818</th>\n",
              "      <th>1819</th>\n",
              "      <th>1848</th>\n",
              "      <th>1895</th>\n",
              "      <th>...</th>\n",
              "      <th>years</th>\n",
              "      <th>yes</th>\n",
              "      <th>yielded</th>\n",
              "      <th>young</th>\n",
              "      <th>youth</th>\n",
              "      <th>youthful</th>\n",
              "      <th>zenith</th>\n",
              "      <th>zephyrs</th>\n",
              "      <th>zest</th>\n",
              "      <th>zone</th>\n",
              "    </tr>\n",
              "  </thead>\n",
              "  <tbody>\n",
              "    <tr>\n",
              "      <th>eval_poem1</th>\n",
              "      <td>0</td>\n",
              "      <td>0</td>\n",
              "      <td>0</td>\n",
              "      <td>0</td>\n",
              "      <td>0</td>\n",
              "      <td>0</td>\n",
              "      <td>1</td>\n",
              "      <td>0</td>\n",
              "      <td>0</td>\n",
              "      <td>1</td>\n",
              "      <td>...</td>\n",
              "      <td>0</td>\n",
              "      <td>0</td>\n",
              "      <td>0</td>\n",
              "      <td>1</td>\n",
              "      <td>0</td>\n",
              "      <td>0</td>\n",
              "      <td>0</td>\n",
              "      <td>0</td>\n",
              "      <td>0</td>\n",
              "      <td>0</td>\n",
              "    </tr>\n",
              "    <tr>\n",
              "      <th>eval_poem2</th>\n",
              "      <td>0</td>\n",
              "      <td>0</td>\n",
              "      <td>0</td>\n",
              "      <td>1</td>\n",
              "      <td>0</td>\n",
              "      <td>1</td>\n",
              "      <td>0</td>\n",
              "      <td>1</td>\n",
              "      <td>1</td>\n",
              "      <td>1</td>\n",
              "      <td>...</td>\n",
              "      <td>0</td>\n",
              "      <td>0</td>\n",
              "      <td>0</td>\n",
              "      <td>0</td>\n",
              "      <td>0</td>\n",
              "      <td>0</td>\n",
              "      <td>0</td>\n",
              "      <td>0</td>\n",
              "      <td>0</td>\n",
              "      <td>0</td>\n",
              "    </tr>\n",
              "    <tr>\n",
              "      <th>eval_poem3</th>\n",
              "      <td>0</td>\n",
              "      <td>0</td>\n",
              "      <td>0</td>\n",
              "      <td>0</td>\n",
              "      <td>1</td>\n",
              "      <td>0</td>\n",
              "      <td>0</td>\n",
              "      <td>0</td>\n",
              "      <td>0</td>\n",
              "      <td>1</td>\n",
              "      <td>...</td>\n",
              "      <td>1</td>\n",
              "      <td>1</td>\n",
              "      <td>1</td>\n",
              "      <td>0</td>\n",
              "      <td>0</td>\n",
              "      <td>0</td>\n",
              "      <td>1</td>\n",
              "      <td>1</td>\n",
              "      <td>0</td>\n",
              "      <td>0</td>\n",
              "    </tr>\n",
              "    <tr>\n",
              "      <th>eval_poem4</th>\n",
              "      <td>0</td>\n",
              "      <td>0</td>\n",
              "      <td>0</td>\n",
              "      <td>0</td>\n",
              "      <td>0</td>\n",
              "      <td>0</td>\n",
              "      <td>0</td>\n",
              "      <td>1</td>\n",
              "      <td>0</td>\n",
              "      <td>1</td>\n",
              "      <td>...</td>\n",
              "      <td>0</td>\n",
              "      <td>0</td>\n",
              "      <td>0</td>\n",
              "      <td>1</td>\n",
              "      <td>1</td>\n",
              "      <td>0</td>\n",
              "      <td>0</td>\n",
              "      <td>0</td>\n",
              "      <td>0</td>\n",
              "      <td>0</td>\n",
              "    </tr>\n",
              "    <tr>\n",
              "      <th>eval_poem5</th>\n",
              "      <td>0</td>\n",
              "      <td>0</td>\n",
              "      <td>0</td>\n",
              "      <td>0</td>\n",
              "      <td>0</td>\n",
              "      <td>0</td>\n",
              "      <td>0</td>\n",
              "      <td>0</td>\n",
              "      <td>0</td>\n",
              "      <td>0</td>\n",
              "      <td>...</td>\n",
              "      <td>0</td>\n",
              "      <td>0</td>\n",
              "      <td>0</td>\n",
              "      <td>0</td>\n",
              "      <td>0</td>\n",
              "      <td>0</td>\n",
              "      <td>0</td>\n",
              "      <td>0</td>\n",
              "      <td>1</td>\n",
              "      <td>0</td>\n",
              "    </tr>\n",
              "  </tbody>\n",
              "</table>\n",
              "<p>5 rows × 1611 columns</p>\n",
              "</div>\n",
              "    <div class=\"colab-df-buttons\">\n",
              "\n",
              "  <div class=\"colab-df-container\">\n",
              "    <button class=\"colab-df-convert\" onclick=\"convertToInteractive('df-dca9829d-a272-45b4-a9d9-4ae3b6c6daad')\"\n",
              "            title=\"Convert this dataframe to an interactive table.\"\n",
              "            style=\"display:none;\">\n",
              "\n",
              "  <svg xmlns=\"http://www.w3.org/2000/svg\" height=\"24px\" viewBox=\"0 -960 960 960\">\n",
              "    <path d=\"M120-120v-720h720v720H120Zm60-500h600v-160H180v160Zm220 220h160v-160H400v160Zm0 220h160v-160H400v160ZM180-400h160v-160H180v160Zm440 0h160v-160H620v160ZM180-180h160v-160H180v160Zm440 0h160v-160H620v160Z\"/>\n",
              "  </svg>\n",
              "    </button>\n",
              "\n",
              "  <style>\n",
              "    .colab-df-container {\n",
              "      display:flex;\n",
              "      gap: 12px;\n",
              "    }\n",
              "\n",
              "    .colab-df-convert {\n",
              "      background-color: #E8F0FE;\n",
              "      border: none;\n",
              "      border-radius: 50%;\n",
              "      cursor: pointer;\n",
              "      display: none;\n",
              "      fill: #1967D2;\n",
              "      height: 32px;\n",
              "      padding: 0 0 0 0;\n",
              "      width: 32px;\n",
              "    }\n",
              "\n",
              "    .colab-df-convert:hover {\n",
              "      background-color: #E2EBFA;\n",
              "      box-shadow: 0px 1px 2px rgba(60, 64, 67, 0.3), 0px 1px 3px 1px rgba(60, 64, 67, 0.15);\n",
              "      fill: #174EA6;\n",
              "    }\n",
              "\n",
              "    .colab-df-buttons div {\n",
              "      margin-bottom: 4px;\n",
              "    }\n",
              "\n",
              "    [theme=dark] .colab-df-convert {\n",
              "      background-color: #3B4455;\n",
              "      fill: #D2E3FC;\n",
              "    }\n",
              "\n",
              "    [theme=dark] .colab-df-convert:hover {\n",
              "      background-color: #434B5C;\n",
              "      box-shadow: 0px 1px 3px 1px rgba(0, 0, 0, 0.15);\n",
              "      filter: drop-shadow(0px 1px 2px rgba(0, 0, 0, 0.3));\n",
              "      fill: #FFFFFF;\n",
              "    }\n",
              "  </style>\n",
              "\n",
              "    <script>\n",
              "      const buttonEl =\n",
              "        document.querySelector('#df-dca9829d-a272-45b4-a9d9-4ae3b6c6daad button.colab-df-convert');\n",
              "      buttonEl.style.display =\n",
              "        google.colab.kernel.accessAllowed ? 'block' : 'none';\n",
              "\n",
              "      async function convertToInteractive(key) {\n",
              "        const element = document.querySelector('#df-dca9829d-a272-45b4-a9d9-4ae3b6c6daad');\n",
              "        const dataTable =\n",
              "          await google.colab.kernel.invokeFunction('convertToInteractive',\n",
              "                                                    [key], {});\n",
              "        if (!dataTable) return;\n",
              "\n",
              "        const docLinkHtml = 'Like what you see? Visit the ' +\n",
              "          '<a target=\"_blank\" href=https://colab.research.google.com/notebooks/data_table.ipynb>data table notebook</a>'\n",
              "          + ' to learn more about interactive tables.';\n",
              "        element.innerHTML = '';\n",
              "        dataTable['output_type'] = 'display_data';\n",
              "        await google.colab.output.renderOutput(dataTable, element);\n",
              "        const docLink = document.createElement('div');\n",
              "        docLink.innerHTML = docLinkHtml;\n",
              "        element.appendChild(docLink);\n",
              "      }\n",
              "    </script>\n",
              "  </div>\n",
              "\n",
              "\n",
              "<div id=\"df-09207897-47ae-4d0e-a28c-791366f790f0\">\n",
              "  <button class=\"colab-df-quickchart\" onclick=\"quickchart('df-09207897-47ae-4d0e-a28c-791366f790f0')\"\n",
              "            title=\"Suggest charts\"\n",
              "            style=\"display:none;\">\n",
              "\n",
              "<svg xmlns=\"http://www.w3.org/2000/svg\" height=\"24px\"viewBox=\"0 0 24 24\"\n",
              "     width=\"24px\">\n",
              "    <g>\n",
              "        <path d=\"M19 3H5c-1.1 0-2 .9-2 2v14c0 1.1.9 2 2 2h14c1.1 0 2-.9 2-2V5c0-1.1-.9-2-2-2zM9 17H7v-7h2v7zm4 0h-2V7h2v10zm4 0h-2v-4h2v4z\"/>\n",
              "    </g>\n",
              "</svg>\n",
              "  </button>\n",
              "\n",
              "<style>\n",
              "  .colab-df-quickchart {\n",
              "      --bg-color: #E8F0FE;\n",
              "      --fill-color: #1967D2;\n",
              "      --hover-bg-color: #E2EBFA;\n",
              "      --hover-fill-color: #174EA6;\n",
              "      --disabled-fill-color: #AAA;\n",
              "      --disabled-bg-color: #DDD;\n",
              "  }\n",
              "\n",
              "  [theme=dark] .colab-df-quickchart {\n",
              "      --bg-color: #3B4455;\n",
              "      --fill-color: #D2E3FC;\n",
              "      --hover-bg-color: #434B5C;\n",
              "      --hover-fill-color: #FFFFFF;\n",
              "      --disabled-bg-color: #3B4455;\n",
              "      --disabled-fill-color: #666;\n",
              "  }\n",
              "\n",
              "  .colab-df-quickchart {\n",
              "    background-color: var(--bg-color);\n",
              "    border: none;\n",
              "    border-radius: 50%;\n",
              "    cursor: pointer;\n",
              "    display: none;\n",
              "    fill: var(--fill-color);\n",
              "    height: 32px;\n",
              "    padding: 0;\n",
              "    width: 32px;\n",
              "  }\n",
              "\n",
              "  .colab-df-quickchart:hover {\n",
              "    background-color: var(--hover-bg-color);\n",
              "    box-shadow: 0 1px 2px rgba(60, 64, 67, 0.3), 0 1px 3px 1px rgba(60, 64, 67, 0.15);\n",
              "    fill: var(--button-hover-fill-color);\n",
              "  }\n",
              "\n",
              "  .colab-df-quickchart-complete:disabled,\n",
              "  .colab-df-quickchart-complete:disabled:hover {\n",
              "    background-color: var(--disabled-bg-color);\n",
              "    fill: var(--disabled-fill-color);\n",
              "    box-shadow: none;\n",
              "  }\n",
              "\n",
              "  .colab-df-spinner {\n",
              "    border: 2px solid var(--fill-color);\n",
              "    border-color: transparent;\n",
              "    border-bottom-color: var(--fill-color);\n",
              "    animation:\n",
              "      spin 1s steps(1) infinite;\n",
              "  }\n",
              "\n",
              "  @keyframes spin {\n",
              "    0% {\n",
              "      border-color: transparent;\n",
              "      border-bottom-color: var(--fill-color);\n",
              "      border-left-color: var(--fill-color);\n",
              "    }\n",
              "    20% {\n",
              "      border-color: transparent;\n",
              "      border-left-color: var(--fill-color);\n",
              "      border-top-color: var(--fill-color);\n",
              "    }\n",
              "    30% {\n",
              "      border-color: transparent;\n",
              "      border-left-color: var(--fill-color);\n",
              "      border-top-color: var(--fill-color);\n",
              "      border-right-color: var(--fill-color);\n",
              "    }\n",
              "    40% {\n",
              "      border-color: transparent;\n",
              "      border-right-color: var(--fill-color);\n",
              "      border-top-color: var(--fill-color);\n",
              "    }\n",
              "    60% {\n",
              "      border-color: transparent;\n",
              "      border-right-color: var(--fill-color);\n",
              "    }\n",
              "    80% {\n",
              "      border-color: transparent;\n",
              "      border-right-color: var(--fill-color);\n",
              "      border-bottom-color: var(--fill-color);\n",
              "    }\n",
              "    90% {\n",
              "      border-color: transparent;\n",
              "      border-bottom-color: var(--fill-color);\n",
              "    }\n",
              "  }\n",
              "</style>\n",
              "\n",
              "  <script>\n",
              "    async function quickchart(key) {\n",
              "      const quickchartButtonEl =\n",
              "        document.querySelector('#' + key + ' button');\n",
              "      quickchartButtonEl.disabled = true;  // To prevent multiple clicks.\n",
              "      quickchartButtonEl.classList.add('colab-df-spinner');\n",
              "      try {\n",
              "        const charts = await google.colab.kernel.invokeFunction(\n",
              "            'suggestCharts', [key], {});\n",
              "      } catch (error) {\n",
              "        console.error('Error during call to suggestCharts:', error);\n",
              "      }\n",
              "      quickchartButtonEl.classList.remove('colab-df-spinner');\n",
              "      quickchartButtonEl.classList.add('colab-df-quickchart-complete');\n",
              "    }\n",
              "    (() => {\n",
              "      let quickchartButtonEl =\n",
              "        document.querySelector('#df-09207897-47ae-4d0e-a28c-791366f790f0 button');\n",
              "      quickchartButtonEl.style.display =\n",
              "        google.colab.kernel.accessAllowed ? 'block' : 'none';\n",
              "    })();\n",
              "  </script>\n",
              "</div>\n",
              "    </div>\n",
              "  </div>\n"
            ]
          },
          "metadata": {},
          "execution_count": 40
        }
      ]
    },
    {
      "cell_type": "code",
      "source": [
        "print(cosine_similarity(df, df))"
      ],
      "metadata": {
        "colab": {
          "base_uri": "https://localhost:8080/"
        },
        "id": "XjXLFpBJdbM8",
        "outputId": "71f3f0b9-db5a-404e-832b-f78e8bbcb65f"
      },
      "execution_count": 42,
      "outputs": [
        {
          "output_type": "stream",
          "name": "stdout",
          "text": [
            "[[1.         0.09152858 0.08241019 0.07300496 0.01402221 0.08756869\n",
            "  0.05663411 0.03401024 0.05124884 0.05626028 0.03243285]\n",
            " [0.09152858 1.         0.09884119 0.06816977 0.0637597  0.16590799\n",
            "  0.05267415 0.11598467 0.05825775 0.05232647 0.0497724 ]\n",
            " [0.08241019 0.09884119 1.         0.27661019 0.11329515 0.10254028\n",
            "  0.15192581 0.12395517 0.144026   0.1545164  0.23242465]\n",
            " [0.07300496 0.06816977 0.27661019 1.         0.05312632 0.1361123\n",
            "  0.08102684 0.10779254 0.09334989 0.08049201 0.30058134]\n",
            " [0.01402221 0.0637597  0.11329515 0.05312632 1.         0.05718863\n",
            "  0.0242091  0.05997002 0.06024449 0.0240493  0.0457509 ]\n",
            " [0.08756869 0.16590799 0.10254028 0.1361123  0.05718863 1.\n",
            "  0.06299408 0.11443443 0.02090148 0.06257827 0.05555556]\n",
            " [0.05663411 0.05267415 0.15192581 0.08102684 0.0242091  0.06299408\n",
            "  1.         0.16514456 0.15484035 0.92717265 0.21837947]\n",
            " [0.03401024 0.11598467 0.12395517 0.10779254 0.05997002 0.11443443\n",
            "  0.16514456 1.         0.17351779 0.17499146 0.22886885]\n",
            " [0.05124884 0.05825775 0.144026   0.09334989 0.06024449 0.02090148\n",
            "  0.15484035 0.17351779 1.         0.16480532 0.19508051]\n",
            " [0.05626028 0.05232647 0.1545164  0.08049201 0.0240493  0.06257827\n",
            "  0.92717265 0.17499146 0.16480532 1.         0.20859424]\n",
            " [0.03243285 0.0497724  0.23242465 0.30058134 0.0457509  0.05555556\n",
            "  0.21837947 0.22886885 0.19508051 0.20859424 1.        ]]\n"
          ]
        }
      ]
    },
    {
      "cell_type": "code",
      "source": [
        "import seaborn as sns\n",
        "import matplotlib.pyplot as plt\n",
        "\n",
        "plt.figure(figsize=(10,10))\n",
        "sns.heatmap(cosine_similarity(df, df), annot=True, fmt='.2f');"
      ],
      "metadata": {
        "colab": {
          "base_uri": "https://localhost:8080/",
          "height": 836
        },
        "id": "MsW4q_rcd4f1",
        "outputId": "7423eab4-4643-4bdf-9045-cb46c9506430"
      },
      "execution_count": 48,
      "outputs": [
        {
          "output_type": "display_data",
          "data": {
            "text/plain": [
              "<Figure size 1000x1000 with 2 Axes>"
            ],
            "image/png": "[encoded data removed]"
          },
          "metadata": {}
        }
      ]
    }
  ],
  "metadata": {
    "accelerator": "GPU",
    "colab": {
      "provenance": [],
      "gpuType": "T4",
      "machine_shape": "hm"
    },
    "kernelspec": {
      "display_name": "Python 3",
      "name": "python3"
    },
    "language_info": {
      "name": "python"
    },
    "widgets": {
      "application/vnd.jupyter.widget-state+json": {
        "7841e48249b648d1b88362935e1a7125": {
          "model_module": "@jupyter-widgets/controls",
          "model_name": "HBoxModel",
          "model_module_version": "2.0.0",
          "state": {
            "_dom_classes": [],
            "_model_module": "@jupyter-widgets/controls",
            "_model_module_version": "2.0.0",
            "_model_name": "HBoxModel",
            "_view_count": null,
            "_view_module": "@jupyter-widgets/controls",
            "_view_module_version": "2.0.0",
            "_view_name": "HBoxView",
            "box_style": "",
            "children": [
              "IPY_MODEL_4790454d905c497cba47aec1ea6b806b",
              "IPY_MODEL_74baef948ecc426d8b776137736c50f7",
              "IPY_MODEL_e54de1854d83464c898d94f833590587"
            ],
            "layout": "IPY_MODEL_40e8a01f02a3491895eccca7faccda04",
            "tabbable": null,
            "tooltip": null
          }
        },
        "4790454d905c497cba47aec1ea6b806b": {
          "model_module": "@jupyter-widgets/controls",
          "model_name": "HTMLModel",
          "model_module_version": "2.0.0",
          "state": {
            "_dom_classes": [],
            "_model_module": "@jupyter-widgets/controls",
            "_model_module_version": "2.0.0",
            "_model_name": "HTMLModel",
            "_view_count": null,
            "_view_module": "@jupyter-widgets/controls",
            "_view_module_version": "2.0.0",
            "_view_name": "HTMLView",
            "description": "",
            "description_allow_html": false,
            "layout": "IPY_MODEL_398ae06fecdd4f7685c3daa1002f33f5",
            "placeholder": "​",
            "style": "IPY_MODEL_fe72e738b9b74f00af66e2ec06bc719b",
            "tabbable": null,
            "tooltip": null,
            "value": "Downloading (…)lve/main/config.json: 100%"
          }
        },
        "74baef948ecc426d8b776137736c50f7": {
          "model_module": "@jupyter-widgets/controls",
          "model_name": "FloatProgressModel",
          "model_module_version": "2.0.0",
          "state": {
            "_dom_classes": [],
            "_model_module": "@jupyter-widgets/controls",
            "_model_module_version": "2.0.0",
            "_model_name": "FloatProgressModel",
            "_view_count": null,
            "_view_module": "@jupyter-widgets/controls",
            "_view_module_version": "2.0.0",
            "_view_name": "ProgressView",
            "bar_style": "success",
            "description": "",
            "description_allow_html": false,
            "layout": "IPY_MODEL_5b3b7373bc2b4ae29ec8f64c2fcfb3cc",
            "max": 571,
            "min": 0,
            "orientation": "horizontal",
            "style": "IPY_MODEL_1bf54e7dc50f48be9ec74ce763356b25",
            "tabbable": null,
            "tooltip": null,
            "value": 571
          }
        },
        "e54de1854d83464c898d94f833590587": {
          "model_module": "@jupyter-widgets/controls",
          "model_name": "HTMLModel",
          "model_module_version": "2.0.0",
          "state": {
            "_dom_classes": [],
            "_model_module": "@jupyter-widgets/controls",
            "_model_module_version": "2.0.0",
            "_model_name": "HTMLModel",
            "_view_count": null,
            "_view_module": "@jupyter-widgets/controls",
            "_view_module_version": "2.0.0",
            "_view_name": "HTMLView",
            "description": "",
            "description_allow_html": false,
            "layout": "IPY_MODEL_c50bb35cb211403c9d3adf5e7af1b9fa",
            "placeholder": "​",
            "style": "IPY_MODEL_ad2b5c10bcdd4544ae5c6d9df9aa2df0",
            "tabbable": null,
            "tooltip": null,
            "value": " 571/571 [00:00&lt;00:00, 46.5kB/s]"
          }
        },
        "40e8a01f02a3491895eccca7faccda04": {
          "model_module": "@jupyter-widgets/base",
          "model_name": "LayoutModel",
          "model_module_version": "2.0.0",
          "state": {
            "_model_module": "@jupyter-widgets/base",
            "_model_module_version": "2.0.0",
            "_model_name": "LayoutModel",
            "_view_count": null,
            "_view_module": "@jupyter-widgets/base",
            "_view_module_version": "2.0.0",
            "_view_name": "LayoutView",
            "align_content": null,
            "align_items": null,
            "align_self": null,
            "border_bottom": null,
            "border_left": null,
            "border_right": null,
            "border_top": null,
            "bottom": null,
            "display": null,
            "flex": null,
            "flex_flow": null,
            "grid_area": null,
            "grid_auto_columns": null,
            "grid_auto_flow": null,
            "grid_auto_rows": null,
            "grid_column": null,
            "grid_gap": null,
            "grid_row": null,
            "grid_template_areas": null,
            "grid_template_columns": null,
            "grid_template_rows": null,
            "height": null,
            "justify_content": null,
            "justify_items": null,
            "left": null,
            "margin": null,
            "max_height": null,
            "max_width": null,
            "min_height": null,
            "min_width": null,
            "object_fit": null,
            "object_position": null,
            "order": null,
            "overflow": null,
            "padding": null,
            "right": null,
            "top": null,
            "visibility": null,
            "width": null
          }
        },
        "398ae06fecdd4f7685c3daa1002f33f5": {
          "model_module": "@jupyter-widgets/base",
          "model_name": "LayoutModel",
          "model_module_version": "2.0.0",
          "state": {
            "_model_module": "@jupyter-widgets/base",
            "_model_module_version": "2.0.0",
            "_model_name": "LayoutModel",
            "_view_count": null,
            "_view_module": "@jupyter-widgets/base",
            "_view_module_version": "2.0.0",
            "_view_name": "LayoutView",
            "align_content": null,
            "align_items": null,
            "align_self": null,
            "border_bottom": null,
            "border_left": null,
            "border_right": null,
            "border_top": null,
            "bottom": null,
            "display": null,
            "flex": null,
            "flex_flow": null,
            "grid_area": null,
            "grid_auto_columns": null,
            "grid_auto_flow": null,
            "grid_auto_rows": null,
            "grid_column": null,
            "grid_gap": null,
            "grid_row": null,
            "grid_template_areas": null,
            "grid_template_columns": null,
            "grid_template_rows": null,
            "height": null,
            "justify_content": null,
            "justify_items": null,
            "left": null,
            "margin": null,
            "max_height": null,
            "max_width": null,
            "min_height": null,
            "min_width": null,
            "object_fit": null,
            "object_position": null,
            "order": null,
            "overflow": null,
            "padding": null,
            "right": null,
            "top": null,
            "visibility": null,
            "width": null
          }
        },
        "fe72e738b9b74f00af66e2ec06bc719b": {
          "model_module": "@jupyter-widgets/controls",
          "model_name": "HTMLStyleModel",
          "model_module_version": "2.0.0",
          "state": {
            "_model_module": "@jupyter-widgets/controls",
            "_model_module_version": "2.0.0",
            "_model_name": "HTMLStyleModel",
            "_view_count": null,
            "_view_module": "@jupyter-widgets/base",
            "_view_module_version": "2.0.0",
            "_view_name": "StyleView",
            "background": null,
            "description_width": "",
            "font_size": null,
            "text_color": null
          }
        },
        "5b3b7373bc2b4ae29ec8f64c2fcfb3cc": {
          "model_module": "@jupyter-widgets/base",
          "model_name": "LayoutModel",
          "model_module_version": "2.0.0",
          "state": {
            "_model_module": "@jupyter-widgets/base",
            "_model_module_version": "2.0.0",
            "_model_name": "LayoutModel",
            "_view_count": null,
            "_view_module": "@jupyter-widgets/base",
            "_view_module_version": "2.0.0",
            "_view_name": "LayoutView",
            "align_content": null,
            "align_items": null,
            "align_self": null,
            "border_bottom": null,
            "border_left": null,
            "border_right": null,
            "border_top": null,
            "bottom": null,
            "display": null,
            "flex": null,
            "flex_flow": null,
            "grid_area": null,
            "grid_auto_columns": null,
            "grid_auto_flow": null,
            "grid_auto_rows": null,
            "grid_column": null,
            "grid_gap": null,
            "grid_row": null,
            "grid_template_areas": null,
            "grid_template_columns": null,
            "grid_template_rows": null,
            "height": null,
            "justify_content": null,
            "justify_items": null,
            "left": null,
            "margin": null,
            "max_height": null,
            "max_width": null,
            "min_height": null,
            "min_width": null,
            "object_fit": null,
            "object_position": null,
            "order": null,
            "overflow": null,
            "padding": null,
            "right": null,
            "top": null,
            "visibility": null,
            "width": null
          }
        },
        "1bf54e7dc50f48be9ec74ce763356b25": {
          "model_module": "@jupyter-widgets/controls",
          "model_name": "ProgressStyleModel",
          "model_module_version": "2.0.0",
          "state": {
            "_model_module": "@jupyter-widgets/controls",
            "_model_module_version": "2.0.0",
            "_model_name": "ProgressStyleModel",
            "_view_count": null,
            "_view_module": "@jupyter-widgets/base",
            "_view_module_version": "2.0.0",
            "_view_name": "StyleView",
            "bar_color": null,
            "description_width": ""
          }
        },
        "c50bb35cb211403c9d3adf5e7af1b9fa": {
          "model_module": "@jupyter-widgets/base",
          "model_name": "LayoutModel",
          "model_module_version": "2.0.0",
          "state": {
            "_model_module": "@jupyter-widgets/base",
            "_model_module_version": "2.0.0",
            "_model_name": "LayoutModel",
            "_view_count": null,
            "_view_module": "@jupyter-widgets/base",
            "_view_module_version": "2.0.0",
            "_view_name": "LayoutView",
            "align_content": null,
            "align_items": null,
            "align_self": null,
            "border_bottom": null,
            "border_left": null,
            "border_right": null,
            "border_top": null,
            "bottom": null,
            "display": null,
            "flex": null,
            "flex_flow": null,
            "grid_area": null,
            "grid_auto_columns": null,
            "grid_auto_flow": null,
            "grid_auto_rows": null,
            "grid_column": null,
            "grid_gap": null,
            "grid_row": null,
            "grid_template_areas": null,
            "grid_template_columns": null,
            "grid_template_rows": null,
            "height": null,
            "justify_content": null,
            "justify_items": null,
            "left": null,
            "margin": null,
            "max_height": null,
            "max_width": null,
            "min_height": null,
            "min_width": null,
            "object_fit": null,
            "object_position": null,
            "order": null,
            "overflow": null,
            "padding": null,
            "right": null,
            "top": null,
            "visibility": null,
            "width": null
          }
        },
        "ad2b5c10bcdd4544ae5c6d9df9aa2df0": {
          "model_module": "@jupyter-widgets/controls",
          "model_name": "HTMLStyleModel",
          "model_module_version": "2.0.0",
          "state": {
            "_model_module": "@jupyter-widgets/controls",
            "_model_module_version": "2.0.0",
            "_model_name": "HTMLStyleModel",
            "_view_count": null,
            "_view_module": "@jupyter-widgets/base",
            "_view_module_version": "2.0.0",
            "_view_name": "StyleView",
            "background": null,
            "description_width": "",
            "font_size": null,
            "text_color": null
          }
        },
        "2a4769fd8b244dd09ae2271d530d8826": {
          "model_module": "@jupyter-widgets/controls",
          "model_name": "HBoxModel",
          "model_module_version": "2.0.0",
          "state": {
            "_dom_classes": [],
            "_model_module": "@jupyter-widgets/controls",
            "_model_module_version": "2.0.0",
            "_model_name": "HBoxModel",
            "_view_count": null,
            "_view_module": "@jupyter-widgets/controls",
            "_view_module_version": "2.0.0",
            "_view_name": "HBoxView",
            "box_style": "",
            "children": [
              "IPY_MODEL_d7088ee043884ab3b0b50d0e883fec8c",
              "IPY_MODEL_fa2116ee97c84d5d99b23975b097cb9a",
              "IPY_MODEL_0fd5182ea34948a9ac2187c75b84c8ea"
            ],
            "layout": "IPY_MODEL_71c3cf109f0e48efa4bdf10a4a25d790",
            "tabbable": null,
            "tooltip": null
          }
        },
        "d7088ee043884ab3b0b50d0e883fec8c": {
          "model_module": "@jupyter-widgets/controls",
          "model_name": "HTMLModel",
          "model_module_version": "2.0.0",
          "state": {
            "_dom_classes": [],
            "_model_module": "@jupyter-widgets/controls",
            "_model_module_version": "2.0.0",
            "_model_name": "HTMLModel",
            "_view_count": null,
            "_view_module": "@jupyter-widgets/controls",
            "_view_module_version": "2.0.0",
            "_view_name": "HTMLView",
            "description": "",
            "description_allow_html": false,
            "layout": "IPY_MODEL_5f7b631f2a7a4f3981871bcc5f0d3f43",
            "placeholder": "​",
            "style": "IPY_MODEL_9da9977ce0204849bf73168d2a6b4707",
            "tabbable": null,
            "tooltip": null,
            "value": "Downloading (…)model.bin.index.json: 100%"
          }
        },
        "fa2116ee97c84d5d99b23975b097cb9a": {
          "model_module": "@jupyter-widgets/controls",
          "model_name": "FloatProgressModel",
          "model_module_version": "2.0.0",
          "state": {
            "_dom_classes": [],
            "_model_module": "@jupyter-widgets/controls",
            "_model_module_version": "2.0.0",
            "_model_name": "FloatProgressModel",
            "_view_count": null,
            "_view_module": "@jupyter-widgets/controls",
            "_view_module_version": "2.0.0",
            "_view_name": "ProgressView",
            "bar_style": "success",
            "description": "",
            "description_allow_html": false,
            "layout": "IPY_MODEL_10dddc9783c14ef8843002e091313f9a",
            "max": 23950,
            "min": 0,
            "orientation": "horizontal",
            "style": "IPY_MODEL_bf08230dfb7546c48977835528679cdc",
            "tabbable": null,
            "tooltip": null,
            "value": 23950
          }
        },
        "0fd5182ea34948a9ac2187c75b84c8ea": {
          "model_module": "@jupyter-widgets/controls",
          "model_name": "HTMLModel",
          "model_module_version": "2.0.0",
          "state": {
            "_dom_classes": [],
            "_model_module": "@jupyter-widgets/controls",
            "_model_module_version": "2.0.0",
            "_model_name": "HTMLModel",
            "_view_count": null,
            "_view_module": "@jupyter-widgets/controls",
            "_view_module_version": "2.0.0",
            "_view_name": "HTMLView",
            "description": "",
            "description_allow_html": false,
            "layout": "IPY_MODEL_85405c25bf5a4ccbac8e2e4330a25b7e",
            "placeholder": "​",
            "style": "IPY_MODEL_ee48b9fd6f4540e4b725faa7b4d5efa8",
            "tabbable": null,
            "tooltip": null,
            "value": " 23.9k/23.9k [00:00&lt;00:00, 1.32MB/s]"
          }
        },
        "71c3cf109f0e48efa4bdf10a4a25d790": {
          "model_module": "@jupyter-widgets/base",
          "model_name": "LayoutModel",
          "model_module_version": "2.0.0",
          "state": {
            "_model_module": "@jupyter-widgets/base",
            "_model_module_version": "2.0.0",
            "_model_name": "LayoutModel",
            "_view_count": null,
            "_view_module": "@jupyter-widgets/base",
            "_view_module_version": "2.0.0",
            "_view_name": "LayoutView",
            "align_content": null,
            "align_items": null,
            "align_self": null,
            "border_bottom": null,
            "border_left": null,
            "border_right": null,
            "border_top": null,
            "bottom": null,
            "display": null,
            "flex": null,
            "flex_flow": null,
            "grid_area": null,
            "grid_auto_columns": null,
            "grid_auto_flow": null,
            "grid_auto_rows": null,
            "grid_column": null,
            "grid_gap": null,
            "grid_row": null,
            "grid_template_areas": null,
            "grid_template_columns": null,
            "grid_template_rows": null,
            "height": null,
            "justify_content": null,
            "justify_items": null,
            "left": null,
            "margin": null,
            "max_height": null,
            "max_width": null,
            "min_height": null,
            "min_width": null,
            "object_fit": null,
            "object_position": null,
            "order": null,
            "overflow": null,
            "padding": null,
            "right": null,
            "top": null,
            "visibility": null,
            "width": null
          }
        },
        "5f7b631f2a7a4f3981871bcc5f0d3f43": {
          "model_module": "@jupyter-widgets/base",
          "model_name": "LayoutModel",
          "model_module_version": "2.0.0",
          "state": {
            "_model_module": "@jupyter-widgets/base",
            "_model_module_version": "2.0.0",
            "_model_name": "LayoutModel",
            "_view_count": null,
            "_view_module": "@jupyter-widgets/base",
            "_view_module_version": "2.0.0",
            "_view_name": "LayoutView",
            "align_content": null,
            "align_items": null,
            "align_self": null,
            "border_bottom": null,
            "border_left": null,
            "border_right": null,
            "border_top": null,
            "bottom": null,
            "display": null,
            "flex": null,
            "flex_flow": null,
            "grid_area": null,
            "grid_auto_columns": null,
            "grid_auto_flow": null,
            "grid_auto_rows": null,
            "grid_column": null,
            "grid_gap": null,
            "grid_row": null,
            "grid_template_areas": null,
            "grid_template_columns": null,
            "grid_template_rows": null,
            "height": null,
            "justify_content": null,
            "justify_items": null,
            "left": null,
            "margin": null,
            "max_height": null,
            "max_width": null,
            "min_height": null,
            "min_width": null,
            "object_fit": null,
            "object_position": null,
            "order": null,
            "overflow": null,
            "padding": null,
            "right": null,
            "top": null,
            "visibility": null,
            "width": null
          }
        },
        "9da9977ce0204849bf73168d2a6b4707": {
          "model_module": "@jupyter-widgets/controls",
          "model_name": "HTMLStyleModel",
          "model_module_version": "2.0.0",
          "state": {
            "_model_module": "@jupyter-widgets/controls",
            "_model_module_version": "2.0.0",
            "_model_name": "HTMLStyleModel",
            "_view_count": null,
            "_view_module": "@jupyter-widgets/base",
            "_view_module_version": "2.0.0",
            "_view_name": "StyleView",
            "background": null,
            "description_width": "",
            "font_size": null,
            "text_color": null
          }
        },
        "10dddc9783c14ef8843002e091313f9a": {
          "model_module": "@jupyter-widgets/base",
          "model_name": "LayoutModel",
          "model_module_version": "2.0.0",
          "state": {
            "_model_module": "@jupyter-widgets/base",
            "_model_module_version": "2.0.0",
            "_model_name": "LayoutModel",
            "_view_count": null,
            "_view_module": "@jupyter-widgets/base",
            "_view_module_version": "2.0.0",
            "_view_name": "LayoutView",
            "align_content": null,
            "align_items": null,
            "align_self": null,
            "border_bottom": null,
            "border_left": null,
            "border_right": null,
            "border_top": null,
            "bottom": null,
            "display": null,
            "flex": null,
            "flex_flow": null,
            "grid_area": null,
            "grid_auto_columns": null,
            "grid_auto_flow": null,
            "grid_auto_rows": null,
            "grid_column": null,
            "grid_gap": null,
            "grid_row": null,
            "grid_template_areas": null,
            "grid_template_columns": null,
            "grid_template_rows": null,
            "height": null,
            "justify_content": null,
            "justify_items": null,
            "left": null,
            "margin": null,
            "max_height": null,
            "max_width": null,
            "min_height": null,
            "min_width": null,
            "object_fit": null,
            "object_position": null,
            "order": null,
            "overflow": null,
            "padding": null,
            "right": null,
            "top": null,
            "visibility": null,
            "width": null
          }
        },
        "bf08230dfb7546c48977835528679cdc": {
          "model_module": "@jupyter-widgets/controls",
          "model_name": "ProgressStyleModel",
          "model_module_version": "2.0.0",
          "state": {
            "_model_module": "@jupyter-widgets/controls",
            "_model_module_version": "2.0.0",
            "_model_name": "ProgressStyleModel",
            "_view_count": null,
            "_view_module": "@jupyter-widgets/base",
            "_view_module_version": "2.0.0",
            "_view_name": "StyleView",
            "bar_color": null,
            "description_width": ""
          }
        },
        "85405c25bf5a4ccbac8e2e4330a25b7e": {
          "model_module": "@jupyter-widgets/base",
          "model_name": "LayoutModel",
          "model_module_version": "2.0.0",
          "state": {
            "_model_module": "@jupyter-widgets/base",
            "_model_module_version": "2.0.0",
            "_model_name": "LayoutModel",
            "_view_count": null,
            "_view_module": "@jupyter-widgets/base",
            "_view_module_version": "2.0.0",
            "_view_name": "LayoutView",
            "align_content": null,
            "align_items": null,
            "align_self": null,
            "border_bottom": null,
            "border_left": null,
            "border_right": null,
            "border_top": null,
            "bottom": null,
            "display": null,
            "flex": null,
            "flex_flow": null,
            "grid_area": null,
            "grid_auto_columns": null,
            "grid_auto_flow": null,
            "grid_auto_rows": null,
            "grid_column": null,
            "grid_gap": null,
            "grid_row": null,
            "grid_template_areas": null,
            "grid_template_columns": null,
            "grid_template_rows": null,
            "height": null,
            "justify_content": null,
            "justify_items": null,
            "left": null,
            "margin": null,
            "max_height": null,
            "max_width": null,
            "min_height": null,
            "min_width": null,
            "object_fit": null,
            "object_position": null,
            "order": null,
            "overflow": null,
            "padding": null,
            "right": null,
            "top": null,
            "visibility": null,
            "width": null
          }
        },
        "ee48b9fd6f4540e4b725faa7b4d5efa8": {
          "model_module": "@jupyter-widgets/controls",
          "model_name": "HTMLStyleModel",
          "model_module_version": "2.0.0",
          "state": {
            "_model_module": "@jupyter-widgets/controls",
            "_model_module_version": "2.0.0",
            "_model_name": "HTMLStyleModel",
            "_view_count": null,
            "_view_module": "@jupyter-widgets/base",
            "_view_module_version": "2.0.0",
            "_view_name": "StyleView",
            "background": null,
            "description_width": "",
            "font_size": null,
            "text_color": null
          }
        },
        "1828fc030de34e13adda9e07c7074951": {
          "model_module": "@jupyter-widgets/controls",
          "model_name": "HBoxModel",
          "model_module_version": "2.0.0",
          "state": {
            "_dom_classes": [],
            "_model_module": "@jupyter-widgets/controls",
            "_model_module_version": "2.0.0",
            "_model_name": "HBoxModel",
            "_view_count": null,
            "_view_module": "@jupyter-widgets/controls",
            "_view_module_version": "2.0.0",
            "_view_name": "HBoxView",
            "box_style": "",
            "children": [
              "IPY_MODEL_e296b71a82c14faaba0acb933b452a1e",
              "IPY_MODEL_6011766a15c94624af3e632022b5a60d",
              "IPY_MODEL_9941083ceb9f45da973ffd034052f7ec"
            ],
            "layout": "IPY_MODEL_475444db7f884c71b7d53546a0a928dd",
            "tabbable": null,
            "tooltip": null
          }
        },
        "e296b71a82c14faaba0acb933b452a1e": {
          "model_module": "@jupyter-widgets/controls",
          "model_name": "HTMLModel",
          "model_module_version": "2.0.0",
          "state": {
            "_dom_classes": [],
            "_model_module": "@jupyter-widgets/controls",
            "_model_module_version": "2.0.0",
            "_model_name": "HTMLModel",
            "_view_count": null,
            "_view_module": "@jupyter-widgets/controls",
            "_view_module_version": "2.0.0",
            "_view_name": "HTMLView",
            "description": "",
            "description_allow_html": false,
            "layout": "IPY_MODEL_3c4a28cdbed64f5ea1b4e5b10298ad2f",
            "placeholder": "​",
            "style": "IPY_MODEL_749e692e0e344cfd8c5348a6449ddf3e",
            "tabbable": null,
            "tooltip": null,
            "value": "Downloading shards: 100%"
          }
        },
        "6011766a15c94624af3e632022b5a60d": {
          "model_module": "@jupyter-widgets/controls",
          "model_name": "FloatProgressModel",
          "model_module_version": "2.0.0",
          "state": {
            "_dom_classes": [],
            "_model_module": "@jupyter-widgets/controls",
            "_model_module_version": "2.0.0",
            "_model_name": "FloatProgressModel",
            "_view_count": null,
            "_view_module": "@jupyter-widgets/controls",
            "_view_module_version": "2.0.0",
            "_view_name": "ProgressView",
            "bar_style": "success",
            "description": "",
            "description_allow_html": false,
            "layout": "IPY_MODEL_6c1558344b9c49ca8511bc8e296fba9c",
            "max": 2,
            "min": 0,
            "orientation": "horizontal",
            "style": "IPY_MODEL_aa28f9e026a54d5eb1dec6376796e201",
            "tabbable": null,
            "tooltip": null,
            "value": 2
          }
        },
        "9941083ceb9f45da973ffd034052f7ec": {
          "model_module": "@jupyter-widgets/controls",
          "model_name": "HTMLModel",
          "model_module_version": "2.0.0",
          "state": {
            "_dom_classes": [],
            "_model_module": "@jupyter-widgets/controls",
            "_model_module_version": "2.0.0",
            "_model_name": "HTMLModel",
            "_view_count": null,
            "_view_module": "@jupyter-widgets/controls",
            "_view_module_version": "2.0.0",
            "_view_name": "HTMLView",
            "description": "",
            "description_allow_html": false,
            "layout": "IPY_MODEL_4f8db162f5be40bdb87df30ebf12a408",
            "placeholder": "​",
            "style": "IPY_MODEL_b0302d415c4546608d14241495320b1f",
            "tabbable": null,
            "tooltip": null,
            "value": " 2/2 [00:43&lt;00:00, 20.48s/it]"
          }
        },
        "475444db7f884c71b7d53546a0a928dd": {
          "model_module": "@jupyter-widgets/base",
          "model_name": "LayoutModel",
          "model_module_version": "2.0.0",
          "state": {
            "_model_module": "@jupyter-widgets/base",
            "_model_module_version": "2.0.0",
            "_model_name": "LayoutModel",
            "_view_count": null,
            "_view_module": "@jupyter-widgets/base",
            "_view_module_version": "2.0.0",
            "_view_name": "LayoutView",
            "align_content": null,
            "align_items": null,
            "align_self": null,
            "border_bottom": null,
            "border_left": null,
            "border_right": null,
            "border_top": null,
            "bottom": null,
            "display": null,
            "flex": null,
            "flex_flow": null,
            "grid_area": null,
            "grid_auto_columns": null,
            "grid_auto_flow": null,
            "grid_auto_rows": null,
            "grid_column": null,
            "grid_gap": null,
            "grid_row": null,
            "grid_template_areas": null,
            "grid_template_columns": null,
            "grid_template_rows": null,
            "height": null,
            "justify_content": null,
            "justify_items": null,
            "left": null,
            "margin": null,
            "max_height": null,
            "max_width": null,
            "min_height": null,
            "min_width": null,
            "object_fit": null,
            "object_position": null,
            "order": null,
            "overflow": null,
            "padding": null,
            "right": null,
            "top": null,
            "visibility": null,
            "width": null
          }
        },
        "3c4a28cdbed64f5ea1b4e5b10298ad2f": {
          "model_module": "@jupyter-widgets/base",
          "model_name": "LayoutModel",
          "model_module_version": "2.0.0",
          "state": {
            "_model_module": "@jupyter-widgets/base",
            "_model_module_version": "2.0.0",
            "_model_name": "LayoutModel",
            "_view_count": null,
            "_view_module": "@jupyter-widgets/base",
            "_view_module_version": "2.0.0",
            "_view_name": "LayoutView",
            "align_content": null,
            "align_items": null,
            "align_self": null,
            "border_bottom": null,
            "border_left": null,
            "border_right": null,
            "border_top": null,
            "bottom": null,
            "display": null,
            "flex": null,
            "flex_flow": null,
            "grid_area": null,
            "grid_auto_columns": null,
            "grid_auto_flow": null,
            "grid_auto_rows": null,
            "grid_column": null,
            "grid_gap": null,
            "grid_row": null,
            "grid_template_areas": null,
            "grid_template_columns": null,
            "grid_template_rows": null,
            "height": null,
            "justify_content": null,
            "justify_items": null,
            "left": null,
            "margin": null,
            "max_height": null,
            "max_width": null,
            "min_height": null,
            "min_width": null,
            "object_fit": null,
            "object_position": null,
            "order": null,
            "overflow": null,
            "padding": null,
            "right": null,
            "top": null,
            "visibility": null,
            "width": null
          }
        },
        "749e692e0e344cfd8c5348a6449ddf3e": {
          "model_module": "@jupyter-widgets/controls",
          "model_name": "HTMLStyleModel",
          "model_module_version": "2.0.0",
          "state": {
            "_model_module": "@jupyter-widgets/controls",
            "_model_module_version": "2.0.0",
            "_model_name": "HTMLStyleModel",
            "_view_count": null,
            "_view_module": "@jupyter-widgets/base",
            "_view_module_version": "2.0.0",
            "_view_name": "StyleView",
            "background": null,
            "description_width": "",
            "font_size": null,
            "text_color": null
          }
        },
        "6c1558344b9c49ca8511bc8e296fba9c": {
          "model_module": "@jupyter-widgets/base",
          "model_name": "LayoutModel",
          "model_module_version": "2.0.0",
          "state": {
            "_model_module": "@jupyter-widgets/base",
            "_model_module_version": "2.0.0",
            "_model_name": "LayoutModel",
            "_view_count": null,
            "_view_module": "@jupyter-widgets/base",
            "_view_module_version": "2.0.0",
            "_view_name": "LayoutView",
            "align_content": null,
            "align_items": null,
            "align_self": null,
            "border_bottom": null,
            "border_left": null,
            "border_right": null,
            "border_top": null,
            "bottom": null,
            "display": null,
            "flex": null,
            "flex_flow": null,
            "grid_area": null,
            "grid_auto_columns": null,
            "grid_auto_flow": null,
            "grid_auto_rows": null,
            "grid_column": null,
            "grid_gap": null,
            "grid_row": null,
            "grid_template_areas": null,
            "grid_template_columns": null,
            "grid_template_rows": null,
            "height": null,
            "justify_content": null,
            "justify_items": null,
            "left": null,
            "margin": null,
            "max_height": null,
            "max_width": null,
            "min_height": null,
            "min_width": null,
            "object_fit": null,
            "object_position": null,
            "order": null,
            "overflow": null,
            "padding": null,
            "right": null,
            "top": null,
            "visibility": null,
            "width": null
          }
        },
        "aa28f9e026a54d5eb1dec6376796e201": {
          "model_module": "@jupyter-widgets/controls",
          "model_name": "ProgressStyleModel",
          "model_module_version": "2.0.0",
          "state": {
            "_model_module": "@jupyter-widgets/controls",
            "_model_module_version": "2.0.0",
            "_model_name": "ProgressStyleModel",
            "_view_count": null,
            "_view_module": "@jupyter-widgets/base",
            "_view_module_version": "2.0.0",
            "_view_name": "StyleView",
            "bar_color": null,
            "description_width": ""
          }
        },
        "4f8db162f5be40bdb87df30ebf12a408": {
          "model_module": "@jupyter-widgets/base",
          "model_name": "LayoutModel",
          "model_module_version": "2.0.0",
          "state": {
            "_model_module": "@jupyter-widgets/base",
            "_model_module_version": "2.0.0",
            "_model_name": "LayoutModel",
            "_view_count": null,
            "_view_module": "@jupyter-widgets/base",
            "_view_module_version": "2.0.0",
            "_view_name": "LayoutView",
            "align_content": null,
            "align_items": null,
            "align_self": null,
            "border_bottom": null,
            "border_left": null,
            "border_right": null,
            "border_top": null,
            "bottom": null,
            "display": null,
            "flex": null,
            "flex_flow": null,
            "grid_area": null,
            "grid_auto_columns": null,
            "grid_auto_flow": null,
            "grid_auto_rows": null,
            "grid_column": null,
            "grid_gap": null,
            "grid_row": null,
            "grid_template_areas": null,
            "grid_template_columns": null,
            "grid_template_rows": null,
            "height": null,
            "justify_content": null,
            "justify_items": null,
            "left": null,
            "margin": null,
            "max_height": null,
            "max_width": null,
            "min_height": null,
            "min_width": null,
            "object_fit": null,
            "object_position": null,
            "order": null,
            "overflow": null,
            "padding": null,
            "right": null,
            "top": null,
            "visibility": null,
            "width": null
          }
        },
        "b0302d415c4546608d14241495320b1f": {
          "model_module": "@jupyter-widgets/controls",
          "model_name": "HTMLStyleModel",
          "model_module_version": "2.0.0",
          "state": {
            "_model_module": "@jupyter-widgets/controls",
            "_model_module_version": "2.0.0",
            "_model_name": "HTMLStyleModel",
            "_view_count": null,
            "_view_module": "@jupyter-widgets/base",
            "_view_module_version": "2.0.0",
            "_view_name": "StyleView",
            "background": null,
            "description_width": "",
            "font_size": null,
            "text_color": null
          }
        },
        "13c638ecf2354d669df511c1eed6196a": {
          "model_module": "@jupyter-widgets/controls",
          "model_name": "HBoxModel",
          "model_module_version": "2.0.0",
          "state": {
            "_dom_classes": [],
            "_model_module": "@jupyter-widgets/controls",
            "_model_module_version": "2.0.0",
            "_model_name": "HBoxModel",
            "_view_count": null,
            "_view_module": "@jupyter-widgets/controls",
            "_view_module_version": "2.0.0",
            "_view_name": "HBoxView",
            "box_style": "",
            "children": [
              "IPY_MODEL_e3e0440b67ca4b12a4e12a1f2f79a8fc",
              "IPY_MODEL_f9d9e42b2ef747f493ff3721bc122c65",
              "IPY_MODEL_4269596374374a759140898296874335"
            ],
            "layout": "IPY_MODEL_54a914177b694125b2652548ae9c0ea5",
            "tabbable": null,
            "tooltip": null
          }
        },
        "e3e0440b67ca4b12a4e12a1f2f79a8fc": {
          "model_module": "@jupyter-widgets/controls",
          "model_name": "HTMLModel",
          "model_module_version": "2.0.0",
          "state": {
            "_dom_classes": [],
            "_model_module": "@jupyter-widgets/controls",
            "_model_module_version": "2.0.0",
            "_model_name": "HTMLModel",
            "_view_count": null,
            "_view_module": "@jupyter-widgets/controls",
            "_view_module_version": "2.0.0",
            "_view_name": "HTMLView",
            "description": "",
            "description_allow_html": false,
            "layout": "IPY_MODEL_436dbb640d0647298542b3372c543c05",
            "placeholder": "​",
            "style": "IPY_MODEL_615206470fef4580996029e5f3abf4ce",
            "tabbable": null,
            "tooltip": null,
            "value": "Downloading (…)l-00001-of-00002.bin: 100%"
          }
        },
        "f9d9e42b2ef747f493ff3721bc122c65": {
          "model_module": "@jupyter-widgets/controls",
          "model_name": "FloatProgressModel",
          "model_module_version": "2.0.0",
          "state": {
            "_dom_classes": [],
            "_model_module": "@jupyter-widgets/controls",
            "_model_module_version": "2.0.0",
            "_model_name": "FloatProgressModel",
            "_view_count": null,
            "_view_module": "@jupyter-widgets/controls",
            "_view_module_version": "2.0.0",
            "_view_name": "ProgressView",
            "bar_style": "success",
            "description": "",
            "description_allow_html": false,
            "layout": "IPY_MODEL_fcc213d77ff14b3e8830252ab3ece270",
            "max": 9943028044,
            "min": 0,
            "orientation": "horizontal",
            "style": "IPY_MODEL_cfe217dfa868436d9501b57f5a34580f",
            "tabbable": null,
            "tooltip": null,
            "value": 9943028044
          }
        },
        "4269596374374a759140898296874335": {
          "model_module": "@jupyter-widgets/controls",
          "model_name": "HTMLModel",
          "model_module_version": "2.0.0",
          "state": {
            "_dom_classes": [],
            "_model_module": "@jupyter-widgets/controls",
            "_model_module_version": "2.0.0",
            "_model_name": "HTMLModel",
            "_view_count": null,
            "_view_module": "@jupyter-widgets/controls",
            "_view_module_version": "2.0.0",
            "_view_name": "HTMLView",
            "description": "",
            "description_allow_html": false,
            "layout": "IPY_MODEL_ade7f036ed9e4de59df03faaee9066a5",
            "placeholder": "​",
            "style": "IPY_MODEL_57e452ec32894942bb00d9b71a839be3",
            "tabbable": null,
            "tooltip": null,
            "value": " 9.94G/9.94G [00:28&lt;00:00, 498MB/s]"
          }
        },
        "54a914177b694125b2652548ae9c0ea5": {
          "model_module": "@jupyter-widgets/base",
          "model_name": "LayoutModel",
          "model_module_version": "2.0.0",
          "state": {
            "_model_module": "@jupyter-widgets/base",
            "_model_module_version": "2.0.0",
            "_model_name": "LayoutModel",
            "_view_count": null,
            "_view_module": "@jupyter-widgets/base",
            "_view_module_version": "2.0.0",
            "_view_name": "LayoutView",
            "align_content": null,
            "align_items": null,
            "align_self": null,
            "border_bottom": null,
            "border_left": null,
            "border_right": null,
            "border_top": null,
            "bottom": null,
            "display": null,
            "flex": null,
            "flex_flow": null,
            "grid_area": null,
            "grid_auto_columns": null,
            "grid_auto_flow": null,
            "grid_auto_rows": null,
            "grid_column": null,
            "grid_gap": null,
            "grid_row": null,
            "grid_template_areas": null,
            "grid_template_columns": null,
            "grid_template_rows": null,
            "height": null,
            "justify_content": null,
            "justify_items": null,
            "left": null,
            "margin": null,
            "max_height": null,
            "max_width": null,
            "min_height": null,
            "min_width": null,
            "object_fit": null,
            "object_position": null,
            "order": null,
            "overflow": null,
            "padding": null,
            "right": null,
            "top": null,
            "visibility": null,
            "width": null
          }
        },
        "436dbb640d0647298542b3372c543c05": {
          "model_module": "@jupyter-widgets/base",
          "model_name": "LayoutModel",
          "model_module_version": "2.0.0",
          "state": {
            "_model_module": "@jupyter-widgets/base",
            "_model_module_version": "2.0.0",
            "_model_name": "LayoutModel",
            "_view_count": null,
            "_view_module": "@jupyter-widgets/base",
            "_view_module_version": "2.0.0",
            "_view_name": "LayoutView",
            "align_content": null,
            "align_items": null,
            "align_self": null,
            "border_bottom": null,
            "border_left": null,
            "border_right": null,
            "border_top": null,
            "bottom": null,
            "display": null,
            "flex": null,
            "flex_flow": null,
            "grid_area": null,
            "grid_auto_columns": null,
            "grid_auto_flow": null,
            "grid_auto_rows": null,
            "grid_column": null,
            "grid_gap": null,
            "grid_row": null,
            "grid_template_areas": null,
            "grid_template_columns": null,
            "grid_template_rows": null,
            "height": null,
            "justify_content": null,
            "justify_items": null,
            "left": null,
            "margin": null,
            "max_height": null,
            "max_width": null,
            "min_height": null,
            "min_width": null,
            "object_fit": null,
            "object_position": null,
            "order": null,
            "overflow": null,
            "padding": null,
            "right": null,
            "top": null,
            "visibility": null,
            "width": null
          }
        },
        "615206470fef4580996029e5f3abf4ce": {
          "model_module": "@jupyter-widgets/controls",
          "model_name": "HTMLStyleModel",
          "model_module_version": "2.0.0",
          "state": {
            "_model_module": "@jupyter-widgets/controls",
            "_model_module_version": "2.0.0",
            "_model_name": "HTMLStyleModel",
            "_view_count": null,
            "_view_module": "@jupyter-widgets/base",
            "_view_module_version": "2.0.0",
            "_view_name": "StyleView",
            "background": null,
            "description_width": "",
            "font_size": null,
            "text_color": null
          }
        },
        "fcc213d77ff14b3e8830252ab3ece270": {
          "model_module": "@jupyter-widgets/base",
          "model_name": "LayoutModel",
          "model_module_version": "2.0.0",
          "state": {
            "_model_module": "@jupyter-widgets/base",
            "_model_module_version": "2.0.0",
            "_model_name": "LayoutModel",
            "_view_count": null,
            "_view_module": "@jupyter-widgets/base",
            "_view_module_version": "2.0.0",
            "_view_name": "LayoutView",
            "align_content": null,
            "align_items": null,
            "align_self": null,
            "border_bottom": null,
            "border_left": null,
            "border_right": null,
            "border_top": null,
            "bottom": null,
            "display": null,
            "flex": null,
            "flex_flow": null,
            "grid_area": null,
            "grid_auto_columns": null,
            "grid_auto_flow": null,
            "grid_auto_rows": null,
            "grid_column": null,
            "grid_gap": null,
            "grid_row": null,
            "grid_template_areas": null,
            "grid_template_columns": null,
            "grid_template_rows": null,
            "height": null,
            "justify_content": null,
            "justify_items": null,
            "left": null,
            "margin": null,
            "max_height": null,
            "max_width": null,
            "min_height": null,
            "min_width": null,
            "object_fit": null,
            "object_position": null,
            "order": null,
            "overflow": null,
            "padding": null,
            "right": null,
            "top": null,
            "visibility": null,
            "width": null
          }
        },
        "cfe217dfa868436d9501b57f5a34580f": {
          "model_module": "@jupyter-widgets/controls",
          "model_name": "ProgressStyleModel",
          "model_module_version": "2.0.0",
          "state": {
            "_model_module": "@jupyter-widgets/controls",
            "_model_module_version": "2.0.0",
            "_model_name": "ProgressStyleModel",
            "_view_count": null,
            "_view_module": "@jupyter-widgets/base",
            "_view_module_version": "2.0.0",
            "_view_name": "StyleView",
            "bar_color": null,
            "description_width": ""
          }
        },
        "ade7f036ed9e4de59df03faaee9066a5": {
          "model_module": "@jupyter-widgets/base",
          "model_name": "LayoutModel",
          "model_module_version": "2.0.0",
          "state": {
            "_model_module": "@jupyter-widgets/base",
            "_model_module_version": "2.0.0",
            "_model_name": "LayoutModel",
            "_view_count": null,
            "_view_module": "@jupyter-widgets/base",
            "_view_module_version": "2.0.0",
            "_view_name": "LayoutView",
            "align_content": null,
            "align_items": null,
            "align_self": null,
            "border_bottom": null,
            "border_left": null,
            "border_right": null,
            "border_top": null,
            "bottom": null,
            "display": null,
            "flex": null,
            "flex_flow": null,
            "grid_area": null,
            "grid_auto_columns": null,
            "grid_auto_flow": null,
            "grid_auto_rows": null,
            "grid_column": null,
            "grid_gap": null,
            "grid_row": null,
            "grid_template_areas": null,
            "grid_template_columns": null,
            "grid_template_rows": null,
            "height": null,
            "justify_content": null,
            "justify_items": null,
            "left": null,
            "margin": null,
            "max_height": null,
            "max_width": null,
            "min_height": null,
            "min_width": null,
            "object_fit": null,
            "object_position": null,
            "order": null,
            "overflow": null,
            "padding": null,
            "right": null,
            "top": null,
            "visibility": null,
            "width": null
          }
        },
        "57e452ec32894942bb00d9b71a839be3": {
          "model_module": "@jupyter-widgets/controls",
          "model_name": "HTMLStyleModel",
          "model_module_version": "2.0.0",
          "state": {
            "_model_module": "@jupyter-widgets/controls",
            "_model_module_version": "2.0.0",
            "_model_name": "HTMLStyleModel",
            "_view_count": null,
            "_view_module": "@jupyter-widgets/base",
            "_view_module_version": "2.0.0",
            "_view_name": "StyleView",
            "background": null,
            "description_width": "",
            "font_size": null,
            "text_color": null
          }
        },
        "dbcb5fc6610a4161a976c248186e85f5": {
          "model_module": "@jupyter-widgets/controls",
          "model_name": "HBoxModel",
          "model_module_version": "2.0.0",
          "state": {
            "_dom_classes": [],
            "_model_module": "@jupyter-widgets/controls",
            "_model_module_version": "2.0.0",
            "_model_name": "HBoxModel",
            "_view_count": null,
            "_view_module": "@jupyter-widgets/controls",
            "_view_module_version": "2.0.0",
            "_view_name": "HBoxView",
            "box_style": "",
            "children": [
              "IPY_MODEL_49812f60581f4384aa050a7102312c7f",
              "IPY_MODEL_03dfb0ec9a164766b27dd99952a6f187",
              "IPY_MODEL_f78c9e3ae3a744689f1c2308ee02c103"
            ],
            "layout": "IPY_MODEL_c6261202a0684e6eb01b1f12feb52c91",
            "tabbable": null,
            "tooltip": null
          }
        },
        "49812f60581f4384aa050a7102312c7f": {
          "model_module": "@jupyter-widgets/controls",
          "model_name": "HTMLModel",
          "model_module_version": "2.0.0",
          "state": {
            "_dom_classes": [],
            "_model_module": "@jupyter-widgets/controls",
            "_model_module_version": "2.0.0",
            "_model_name": "HTMLModel",
            "_view_count": null,
            "_view_module": "@jupyter-widgets/controls",
            "_view_module_version": "2.0.0",
            "_view_name": "HTMLView",
            "description": "",
            "description_allow_html": false,
            "layout": "IPY_MODEL_01191894c3194cf49e45ca4cd7a56fda",
            "placeholder": "​",
            "style": "IPY_MODEL_a542495a7361456daaaa50562e80cf4b",
            "tabbable": null,
            "tooltip": null,
            "value": "Downloading (…)l-00002-of-00002.bin: 100%"
          }
        },
        "03dfb0ec9a164766b27dd99952a6f187": {
          "model_module": "@jupyter-widgets/controls",
          "model_name": "FloatProgressModel",
          "model_module_version": "2.0.0",
          "state": {
            "_dom_classes": [],
            "_model_module": "@jupyter-widgets/controls",
            "_model_module_version": "2.0.0",
            "_model_name": "FloatProgressModel",
            "_view_count": null,
            "_view_module": "@jupyter-widgets/controls",
            "_view_module_version": "2.0.0",
            "_view_name": "ProgressView",
            "bar_style": "success",
            "description": "",
            "description_allow_html": false,
            "layout": "IPY_MODEL_e958ea4fc5f74849b3fa718d73201eea",
            "max": 5064823659,
            "min": 0,
            "orientation": "horizontal",
            "style": "IPY_MODEL_9b5626de066c4af3b10e4f88ea0f06dc",
            "tabbable": null,
            "tooltip": null,
            "value": 5064823659
          }
        },
        "f78c9e3ae3a744689f1c2308ee02c103": {
          "model_module": "@jupyter-widgets/controls",
          "model_name": "HTMLModel",
          "model_module_version": "2.0.0",
          "state": {
            "_dom_classes": [],
            "_model_module": "@jupyter-widgets/controls",
            "_model_module_version": "2.0.0",
            "_model_name": "HTMLModel",
            "_view_count": null,
            "_view_module": "@jupyter-widgets/controls",
            "_view_module_version": "2.0.0",
            "_view_name": "HTMLView",
            "description": "",
            "description_allow_html": false,
            "layout": "IPY_MODEL_9a3395d14edf4c76b24ffc8ba641b280",
            "placeholder": "​",
            "style": "IPY_MODEL_6d18c9f89d27470ca0ffdfe79f906b67",
            "tabbable": null,
            "tooltip": null,
            "value": " 5.06G/5.06G [00:14&lt;00:00, 287MB/s]"
          }
        },
        "c6261202a0684e6eb01b1f12feb52c91": {
          "model_module": "@jupyter-widgets/base",
          "model_name": "LayoutModel",
          "model_module_version": "2.0.0",
          "state": {
            "_model_module": "@jupyter-widgets/base",
            "_model_module_version": "2.0.0",
            "_model_name": "LayoutModel",
            "_view_count": null,
            "_view_module": "@jupyter-widgets/base",
            "_view_module_version": "2.0.0",
            "_view_name": "LayoutView",
            "align_content": null,
            "align_items": null,
            "align_self": null,
            "border_bottom": null,
            "border_left": null,
            "border_right": null,
            "border_top": null,
            "bottom": null,
            "display": null,
            "flex": null,
            "flex_flow": null,
            "grid_area": null,
            "grid_auto_columns": null,
            "grid_auto_flow": null,
            "grid_auto_rows": null,
            "grid_column": null,
            "grid_gap": null,
            "grid_row": null,
            "grid_template_areas": null,
            "grid_template_columns": null,
            "grid_template_rows": null,
            "height": null,
            "justify_content": null,
            "justify_items": null,
            "left": null,
            "margin": null,
            "max_height": null,
            "max_width": null,
            "min_height": null,
            "min_width": null,
            "object_fit": null,
            "object_position": null,
            "order": null,
            "overflow": null,
            "padding": null,
            "right": null,
            "top": null,
            "visibility": null,
            "width": null
          }
        },
        "01191894c3194cf49e45ca4cd7a56fda": {
          "model_module": "@jupyter-widgets/base",
          "model_name": "LayoutModel",
          "model_module_version": "2.0.0",
          "state": {
            "_model_module": "@jupyter-widgets/base",
            "_model_module_version": "2.0.0",
            "_model_name": "LayoutModel",
            "_view_count": null,
            "_view_module": "@jupyter-widgets/base",
            "_view_module_version": "2.0.0",
            "_view_name": "LayoutView",
            "align_content": null,
            "align_items": null,
            "align_self": null,
            "border_bottom": null,
            "border_left": null,
            "border_right": null,
            "border_top": null,
            "bottom": null,
            "display": null,
            "flex": null,
            "flex_flow": null,
            "grid_area": null,
            "grid_auto_columns": null,
            "grid_auto_flow": null,
            "grid_auto_rows": null,
            "grid_column": null,
            "grid_gap": null,
            "grid_row": null,
            "grid_template_areas": null,
            "grid_template_columns": null,
            "grid_template_rows": null,
            "height": null,
            "justify_content": null,
            "justify_items": null,
            "left": null,
            "margin": null,
            "max_height": null,
            "max_width": null,
            "min_height": null,
            "min_width": null,
            "object_fit": null,
            "object_position": null,
            "order": null,
            "overflow": null,
            "padding": null,
            "right": null,
            "top": null,
            "visibility": null,
            "width": null
          }
        },
        "a542495a7361456daaaa50562e80cf4b": {
          "model_module": "@jupyter-widgets/controls",
          "model_name": "HTMLStyleModel",
          "model_module_version": "2.0.0",
          "state": {
            "_model_module": "@jupyter-widgets/controls",
            "_model_module_version": "2.0.0",
            "_model_name": "HTMLStyleModel",
            "_view_count": null,
            "_view_module": "@jupyter-widgets/base",
            "_view_module_version": "2.0.0",
            "_view_name": "StyleView",
            "background": null,
            "description_width": "",
            "font_size": null,
            "text_color": null
          }
        },
        "e958ea4fc5f74849b3fa718d73201eea": {
          "model_module": "@jupyter-widgets/base",
          "model_name": "LayoutModel",
          "model_module_version": "2.0.0",
          "state": {
            "_model_module": "@jupyter-widgets/base",
            "_model_module_version": "2.0.0",
            "_model_name": "LayoutModel",
            "_view_count": null,
            "_view_module": "@jupyter-widgets/base",
            "_view_module_version": "2.0.0",
            "_view_name": "LayoutView",
            "align_content": null,
            "align_items": null,
            "align_self": null,
            "border_bottom": null,
            "border_left": null,
            "border_right": null,
            "border_top": null,
            "bottom": null,
            "display": null,
            "flex": null,
            "flex_flow": null,
            "grid_area": null,
            "grid_auto_columns": null,
            "grid_auto_flow": null,
            "grid_auto_rows": null,
            "grid_column": null,
            "grid_gap": null,
            "grid_row": null,
            "grid_template_areas": null,
            "grid_template_columns": null,
            "grid_template_rows": null,
            "height": null,
            "justify_content": null,
            "justify_items": null,
            "left": null,
            "margin": null,
            "max_height": null,
            "max_width": null,
            "min_height": null,
            "min_width": null,
            "object_fit": null,
            "object_position": null,
            "order": null,
            "overflow": null,
            "padding": null,
            "right": null,
            "top": null,
            "visibility": null,
            "width": null
          }
        },
        "9b5626de066c4af3b10e4f88ea0f06dc": {
          "model_module": "@jupyter-widgets/controls",
          "model_name": "ProgressStyleModel",
          "model_module_version": "2.0.0",
          "state": {
            "_model_module": "@jupyter-widgets/controls",
            "_model_module_version": "2.0.0",
            "_model_name": "ProgressStyleModel",
            "_view_count": null,
            "_view_module": "@jupyter-widgets/base",
            "_view_module_version": "2.0.0",
            "_view_name": "StyleView",
            "bar_color": null,
            "description_width": ""
          }
        },
        "9a3395d14edf4c76b24ffc8ba641b280": {
          "model_module": "@jupyter-widgets/base",
          "model_name": "LayoutModel",
          "model_module_version": "2.0.0",
          "state": {
            "_model_module": "@jupyter-widgets/base",
            "_model_module_version": "2.0.0",
            "_model_name": "LayoutModel",
            "_view_count": null,
            "_view_module": "@jupyter-widgets/base",
            "_view_module_version": "2.0.0",
            "_view_name": "LayoutView",
            "align_content": null,
            "align_items": null,
            "align_self": null,
            "border_bottom": null,
            "border_left": null,
            "border_right": null,
            "border_top": null,
            "bottom": null,
            "display": null,
            "flex": null,
            "flex_flow": null,
            "grid_area": null,
            "grid_auto_columns": null,
            "grid_auto_flow": null,
            "grid_auto_rows": null,
            "grid_column": null,
            "grid_gap": null,
            "grid_row": null,
            "grid_template_areas": null,
            "grid_template_columns": null,
            "grid_template_rows": null,
            "height": null,
            "justify_content": null,
            "justify_items": null,
            "left": null,
            "margin": null,
            "max_height": null,
            "max_width": null,
            "min_height": null,
            "min_width": null,
            "object_fit": null,
            "object_position": null,
            "order": null,
            "overflow": null,
            "padding": null,
            "right": null,
            "top": null,
            "visibility": null,
            "width": null
          }
        },
        "6d18c9f89d27470ca0ffdfe79f906b67": {
          "model_module": "@jupyter-widgets/controls",
          "model_name": "HTMLStyleModel",
          "model_module_version": "2.0.0",
          "state": {
            "_model_module": "@jupyter-widgets/controls",
            "_model_module_version": "2.0.0",
            "_model_name": "HTMLStyleModel",
            "_view_count": null,
            "_view_module": "@jupyter-widgets/base",
            "_view_module_version": "2.0.0",
            "_view_name": "StyleView",
            "background": null,
            "description_width": "",
            "font_size": null,
            "text_color": null
          }
        },
        "78711c1ecf1046aa9c52f1bfabe7647f": {
          "model_module": "@jupyter-widgets/controls",
          "model_name": "HBoxModel",
          "model_module_version": "2.0.0",
          "state": {
            "_dom_classes": [],
            "_model_module": "@jupyter-widgets/controls",
            "_model_module_version": "2.0.0",
            "_model_name": "HBoxModel",
            "_view_count": null,
            "_view_module": "@jupyter-widgets/controls",
            "_view_module_version": "2.0.0",
            "_view_name": "HBoxView",
            "box_style": "",
            "children": [
              "IPY_MODEL_5eb81bdc32774a95981186f0fdbd9031",
              "IPY_MODEL_831f873c50ed49cb9e4e66068b6a33d8",
              "IPY_MODEL_7a0570bb2d394a6bbbcdb1d88d33ec0e"
            ],
            "layout": "IPY_MODEL_c632fbc19ed447b2bb58591257d2a27c",
            "tabbable": null,
            "tooltip": null
          }
        },
        "5eb81bdc32774a95981186f0fdbd9031": {
          "model_module": "@jupyter-widgets/controls",
          "model_name": "HTMLModel",
          "model_module_version": "2.0.0",
          "state": {
            "_dom_classes": [],
            "_model_module": "@jupyter-widgets/controls",
            "_model_module_version": "2.0.0",
            "_model_name": "HTMLModel",
            "_view_count": null,
            "_view_module": "@jupyter-widgets/controls",
            "_view_module_version": "2.0.0",
            "_view_name": "HTMLView",
            "description": "",
            "description_allow_html": false,
            "layout": "IPY_MODEL_bf06688e536548eba5e619175af48021",
            "placeholder": "​",
            "style": "IPY_MODEL_e115ab0a8a0d4d398e7dc8603273ca53",
            "tabbable": null,
            "tooltip": null,
            "value": "Loading checkpoint shards: 100%"
          }
        },
        "831f873c50ed49cb9e4e66068b6a33d8": {
          "model_module": "@jupyter-widgets/controls",
          "model_name": "FloatProgressModel",
          "model_module_version": "2.0.0",
          "state": {
            "_dom_classes": [],
            "_model_module": "@jupyter-widgets/controls",
            "_model_module_version": "2.0.0",
            "_model_name": "FloatProgressModel",
            "_view_count": null,
            "_view_module": "@jupyter-widgets/controls",
            "_view_module_version": "2.0.0",
            "_view_name": "ProgressView",
            "bar_style": "success",
            "description": "",
            "description_allow_html": false,
            "layout": "IPY_MODEL_cf2ac12c886a4f8fb790ee44073e6c60",
            "max": 2,
            "min": 0,
            "orientation": "horizontal",
            "style": "IPY_MODEL_f36fb23e98fa42a6adffdd67ad61fd96",
            "tabbable": null,
            "tooltip": null,
            "value": 2
          }
        },
        "7a0570bb2d394a6bbbcdb1d88d33ec0e": {
          "model_module": "@jupyter-widgets/controls",
          "model_name": "HTMLModel",
          "model_module_version": "2.0.0",
          "state": {
            "_dom_classes": [],
            "_model_module": "@jupyter-widgets/controls",
            "_model_module_version": "2.0.0",
            "_model_name": "HTMLModel",
            "_view_count": null,
            "_view_module": "@jupyter-widgets/controls",
            "_view_module_version": "2.0.0",
            "_view_name": "HTMLView",
            "description": "",
            "description_allow_html": false,
            "layout": "IPY_MODEL_6606f7b926584199ac6b0df5c8291748",
            "placeholder": "​",
            "style": "IPY_MODEL_4352e47cc1164ce585796dd79b44e7d9",
            "tabbable": null,
            "tooltip": null,
            "value": " 2/2 [00:21&lt;00:00,  9.57s/it]"
          }
        },
        "c632fbc19ed447b2bb58591257d2a27c": {
          "model_module": "@jupyter-widgets/base",
          "model_name": "LayoutModel",
          "model_module_version": "2.0.0",
          "state": {
            "_model_module": "@jupyter-widgets/base",
            "_model_module_version": "2.0.0",
            "_model_name": "LayoutModel",
            "_view_count": null,
            "_view_module": "@jupyter-widgets/base",
            "_view_module_version": "2.0.0",
            "_view_name": "LayoutView",
            "align_content": null,
            "align_items": null,
            "align_self": null,
            "border_bottom": null,
            "border_left": null,
            "border_right": null,
            "border_top": null,
            "bottom": null,
            "display": null,
            "flex": null,
            "flex_flow": null,
            "grid_area": null,
            "grid_auto_columns": null,
            "grid_auto_flow": null,
            "grid_auto_rows": null,
            "grid_column": null,
            "grid_gap": null,
            "grid_row": null,
            "grid_template_areas": null,
            "grid_template_columns": null,
            "grid_template_rows": null,
            "height": null,
            "justify_content": null,
            "justify_items": null,
            "left": null,
            "margin": null,
            "max_height": null,
            "max_width": null,
            "min_height": null,
            "min_width": null,
            "object_fit": null,
            "object_position": null,
            "order": null,
            "overflow": null,
            "padding": null,
            "right": null,
            "top": null,
            "visibility": null,
            "width": null
          }
        },
        "bf06688e536548eba5e619175af48021": {
          "model_module": "@jupyter-widgets/base",
          "model_name": "LayoutModel",
          "model_module_version": "2.0.0",
          "state": {
            "_model_module": "@jupyter-widgets/base",
            "_model_module_version": "2.0.0",
            "_model_name": "LayoutModel",
            "_view_count": null,
            "_view_module": "@jupyter-widgets/base",
            "_view_module_version": "2.0.0",
            "_view_name": "LayoutView",
            "align_content": null,
            "align_items": null,
            "align_self": null,
            "border_bottom": null,
            "border_left": null,
            "border_right": null,
            "border_top": null,
            "bottom": null,
            "display": null,
            "flex": null,
            "flex_flow": null,
            "grid_area": null,
            "grid_auto_columns": null,
            "grid_auto_flow": null,
            "grid_auto_rows": null,
            "grid_column": null,
            "grid_gap": null,
            "grid_row": null,
            "grid_template_areas": null,
            "grid_template_columns": null,
            "grid_template_rows": null,
            "height": null,
            "justify_content": null,
            "justify_items": null,
            "left": null,
            "margin": null,
            "max_height": null,
            "max_width": null,
            "min_height": null,
            "min_width": null,
            "object_fit": null,
            "object_position": null,
            "order": null,
            "overflow": null,
            "padding": null,
            "right": null,
            "top": null,
            "visibility": null,
            "width": null
          }
        },
        "e115ab0a8a0d4d398e7dc8603273ca53": {
          "model_module": "@jupyter-widgets/controls",
          "model_name": "HTMLStyleModel",
          "model_module_version": "2.0.0",
          "state": {
            "_model_module": "@jupyter-widgets/controls",
            "_model_module_version": "2.0.0",
            "_model_name": "HTMLStyleModel",
            "_view_count": null,
            "_view_module": "@jupyter-widgets/base",
            "_view_module_version": "2.0.0",
            "_view_name": "StyleView",
            "background": null,
            "description_width": "",
            "font_size": null,
            "text_color": null
          }
        },
        "cf2ac12c886a4f8fb790ee44073e6c60": {
          "model_module": "@jupyter-widgets/base",
          "model_name": "LayoutModel",
          "model_module_version": "2.0.0",
          "state": {
            "_model_module": "@jupyter-widgets/base",
            "_model_module_version": "2.0.0",
            "_model_name": "LayoutModel",
            "_view_count": null,
            "_view_module": "@jupyter-widgets/base",
            "_view_module_version": "2.0.0",
            "_view_name": "LayoutView",
            "align_content": null,
            "align_items": null,
            "align_self": null,
            "border_bottom": null,
            "border_left": null,
            "border_right": null,
            "border_top": null,
            "bottom": null,
            "display": null,
            "flex": null,
            "flex_flow": null,
            "grid_area": null,
            "grid_auto_columns": null,
            "grid_auto_flow": null,
            "grid_auto_rows": null,
            "grid_column": null,
            "grid_gap": null,
            "grid_row": null,
            "grid_template_areas": null,
            "grid_template_columns": null,
            "grid_template_rows": null,
            "height": null,
            "justify_content": null,
            "justify_items": null,
            "left": null,
            "margin": null,
            "max_height": null,
            "max_width": null,
            "min_height": null,
            "min_width": null,
            "object_fit": null,
            "object_position": null,
            "order": null,
            "overflow": null,
            "padding": null,
            "right": null,
            "top": null,
            "visibility": null,
            "width": null
          }
        },
        "f36fb23e98fa42a6adffdd67ad61fd96": {
          "model_module": "@jupyter-widgets/controls",
          "model_name": "ProgressStyleModel",
          "model_module_version": "2.0.0",
          "state": {
            "_model_module": "@jupyter-widgets/controls",
            "_model_module_version": "2.0.0",
            "_model_name": "ProgressStyleModel",
            "_view_count": null,
            "_view_module": "@jupyter-widgets/base",
            "_view_module_version": "2.0.0",
            "_view_name": "StyleView",
            "bar_color": null,
            "description_width": ""
          }
        },
        "6606f7b926584199ac6b0df5c8291748": {
          "model_module": "@jupyter-widgets/base",
          "model_name": "LayoutModel",
          "model_module_version": "2.0.0",
          "state": {
            "_model_module": "@jupyter-widgets/base",
            "_model_module_version": "2.0.0",
            "_model_name": "LayoutModel",
            "_view_count": null,
            "_view_module": "@jupyter-widgets/base",
            "_view_module_version": "2.0.0",
            "_view_name": "LayoutView",
            "align_content": null,
            "align_items": null,
            "align_self": null,
            "border_bottom": null,
            "border_left": null,
            "border_right": null,
            "border_top": null,
            "bottom": null,
            "display": null,
            "flex": null,
            "flex_flow": null,
            "grid_area": null,
            "grid_auto_columns": null,
            "grid_auto_flow": null,
            "grid_auto_rows": null,
            "grid_column": null,
            "grid_gap": null,
            "grid_row": null,
            "grid_template_areas": null,
            "grid_template_columns": null,
            "grid_template_rows": null,
            "height": null,
            "justify_content": null,
            "justify_items": null,
            "left": null,
            "margin": null,
            "max_height": null,
            "max_width": null,
            "min_height": null,
            "min_width": null,
            "object_fit": null,
            "object_position": null,
            "order": null,
            "overflow": null,
            "padding": null,
            "right": null,
            "top": null,
            "visibility": null,
            "width": null
          }
        },
        "4352e47cc1164ce585796dd79b44e7d9": {
          "model_module": "@jupyter-widgets/controls",
          "model_name": "HTMLStyleModel",
          "model_module_version": "2.0.0",
          "state": {
            "_model_module": "@jupyter-widgets/controls",
            "_model_module_version": "2.0.0",
            "_model_name": "HTMLStyleModel",
            "_view_count": null,
            "_view_module": "@jupyter-widgets/base",
            "_view_module_version": "2.0.0",
            "_view_name": "StyleView",
            "background": null,
            "description_width": "",
            "font_size": null,
            "text_color": null
          }
        },
        "dbff6dbc32804cac82c32eb71f339506": {
          "model_module": "@jupyter-widgets/controls",
          "model_name": "HBoxModel",
          "model_module_version": "2.0.0",
          "state": {
            "_dom_classes": [],
            "_model_module": "@jupyter-widgets/controls",
            "_model_module_version": "2.0.0",
            "_model_name": "HBoxModel",
            "_view_count": null,
            "_view_module": "@jupyter-widgets/controls",
            "_view_module_version": "2.0.0",
            "_view_name": "HBoxView",
            "box_style": "",
            "children": [
              "IPY_MODEL_ff31a82a95354e0db4e38bcbeb17954b",
              "IPY_MODEL_e481401545fb4af7a3a37ed487deb3a4",
              "IPY_MODEL_533056cf64b54f7f814f5ec6216ba75c"
            ],
            "layout": "IPY_MODEL_0776ff70143a44829ec955040833cc2d",
            "tabbable": null,
            "tooltip": null
          }
        },
        "ff31a82a95354e0db4e38bcbeb17954b": {
          "model_module": "@jupyter-widgets/controls",
          "model_name": "HTMLModel",
          "model_module_version": "2.0.0",
          "state": {
            "_dom_classes": [],
            "_model_module": "@jupyter-widgets/controls",
            "_model_module_version": "2.0.0",
            "_model_name": "HTMLModel",
            "_view_count": null,
            "_view_module": "@jupyter-widgets/controls",
            "_view_module_version": "2.0.0",
            "_view_name": "HTMLView",
            "description": "",
            "description_allow_html": false,
            "layout": "IPY_MODEL_e5b39efde3264dc4b11cb735160ad7b0",
            "placeholder": "​",
            "style": "IPY_MODEL_bf3c8f46ca0c4555b0239af72c481f89",
            "tabbable": null,
            "tooltip": null,
            "value": "Downloading (…)neration_config.json: 100%"
          }
        },
        "e481401545fb4af7a3a37ed487deb3a4": {
          "model_module": "@jupyter-widgets/controls",
          "model_name": "FloatProgressModel",
          "model_module_version": "2.0.0",
          "state": {
            "_dom_classes": [],
            "_model_module": "@jupyter-widgets/controls",
            "_model_module_version": "2.0.0",
            "_model_name": "FloatProgressModel",
            "_view_count": null,
            "_view_module": "@jupyter-widgets/controls",
            "_view_module_version": "2.0.0",
            "_view_name": "ProgressView",
            "bar_style": "success",
            "description": "",
            "description_allow_html": false,
            "layout": "IPY_MODEL_e25e7135fdff45ba96253694329f2b80",
            "max": 116,
            "min": 0,
            "orientation": "horizontal",
            "style": "IPY_MODEL_364924df9db7494fa212e72e1ef52b74",
            "tabbable": null,
            "tooltip": null,
            "value": 116
          }
        },
        "533056cf64b54f7f814f5ec6216ba75c": {
          "model_module": "@jupyter-widgets/controls",
          "model_name": "HTMLModel",
          "model_module_version": "2.0.0",
          "state": {
            "_dom_classes": [],
            "_model_module": "@jupyter-widgets/controls",
            "_model_module_version": "2.0.0",
            "_model_name": "HTMLModel",
            "_view_count": null,
            "_view_module": "@jupyter-widgets/controls",
            "_view_module_version": "2.0.0",
            "_view_name": "HTMLView",
            "description": "",
            "description_allow_html": false,
            "layout": "IPY_MODEL_aad48a38ad9b49f088e72f0481935a4f",
            "placeholder": "​",
            "style": "IPY_MODEL_3f30f18ebf0c49ebbbd80a4aa3f518d9",
            "tabbable": null,
            "tooltip": null,
            "value": " 116/116 [00:00&lt;00:00, 11.2kB/s]"
          }
        },
        "0776ff70143a44829ec955040833cc2d": {
          "model_module": "@jupyter-widgets/base",
          "model_name": "LayoutModel",
          "model_module_version": "2.0.0",
          "state": {
            "_model_module": "@jupyter-widgets/base",
            "_model_module_version": "2.0.0",
            "_model_name": "LayoutModel",
            "_view_count": null,
            "_view_module": "@jupyter-widgets/base",
            "_view_module_version": "2.0.0",
            "_view_name": "LayoutView",
            "align_content": null,
            "align_items": null,
            "align_self": null,
            "border_bottom": null,
            "border_left": null,
            "border_right": null,
            "border_top": null,
            "bottom": null,
            "display": null,
            "flex": null,
            "flex_flow": null,
            "grid_area": null,
            "grid_auto_columns": null,
            "grid_auto_flow": null,
            "grid_auto_rows": null,
            "grid_column": null,
            "grid_gap": null,
            "grid_row": null,
            "grid_template_areas": null,
            "grid_template_columns": null,
            "grid_template_rows": null,
            "height": null,
            "justify_content": null,
            "justify_items": null,
            "left": null,
            "margin": null,
            "max_height": null,
            "max_width": null,
            "min_height": null,
            "min_width": null,
            "object_fit": null,
            "object_position": null,
            "order": null,
            "overflow": null,
            "padding": null,
            "right": null,
            "top": null,
            "visibility": null,
            "width": null
          }
        },
        "e5b39efde3264dc4b11cb735160ad7b0": {
          "model_module": "@jupyter-widgets/base",
          "model_name": "LayoutModel",
          "model_module_version": "2.0.0",
          "state": {
            "_model_module": "@jupyter-widgets/base",
            "_model_module_version": "2.0.0",
            "_model_name": "LayoutModel",
            "_view_count": null,
            "_view_module": "@jupyter-widgets/base",
            "_view_module_version": "2.0.0",
            "_view_name": "LayoutView",
            "align_content": null,
            "align_items": null,
            "align_self": null,
            "border_bottom": null,
            "border_left": null,
            "border_right": null,
            "border_top": null,
            "bottom": null,
            "display": null,
            "flex": null,
            "flex_flow": null,
            "grid_area": null,
            "grid_auto_columns": null,
            "grid_auto_flow": null,
            "grid_auto_rows": null,
            "grid_column": null,
            "grid_gap": null,
            "grid_row": null,
            "grid_template_areas": null,
            "grid_template_columns": null,
            "grid_template_rows": null,
            "height": null,
            "justify_content": null,
            "justify_items": null,
            "left": null,
            "margin": null,
            "max_height": null,
            "max_width": null,
            "min_height": null,
            "min_width": null,
            "object_fit": null,
            "object_position": null,
            "order": null,
            "overflow": null,
            "padding": null,
            "right": null,
            "top": null,
            "visibility": null,
            "width": null
          }
        },
        "bf3c8f46ca0c4555b0239af72c481f89": {
          "model_module": "@jupyter-widgets/controls",
          "model_name": "HTMLStyleModel",
          "model_module_version": "2.0.0",
          "state": {
            "_model_module": "@jupyter-widgets/controls",
            "_model_module_version": "2.0.0",
            "_model_name": "HTMLStyleModel",
            "_view_count": null,
            "_view_module": "@jupyter-widgets/base",
            "_view_module_version": "2.0.0",
            "_view_name": "StyleView",
            "background": null,
            "description_width": "",
            "font_size": null,
            "text_color": null
          }
        },
        "e25e7135fdff45ba96253694329f2b80": {
          "model_module": "@jupyter-widgets/base",
          "model_name": "LayoutModel",
          "model_module_version": "2.0.0",
          "state": {
            "_model_module": "@jupyter-widgets/base",
            "_model_module_version": "2.0.0",
            "_model_name": "LayoutModel",
            "_view_count": null,
            "_view_module": "@jupyter-widgets/base",
            "_view_module_version": "2.0.0",
            "_view_name": "LayoutView",
            "align_content": null,
            "align_items": null,
            "align_self": null,
            "border_bottom": null,
            "border_left": null,
            "border_right": null,
            "border_top": null,
            "bottom": null,
            "display": null,
            "flex": null,
            "flex_flow": null,
            "grid_area": null,
            "grid_auto_columns": null,
            "grid_auto_flow": null,
            "grid_auto_rows": null,
            "grid_column": null,
            "grid_gap": null,
            "grid_row": null,
            "grid_template_areas": null,
            "grid_template_columns": null,
            "grid_template_rows": null,
            "height": null,
            "justify_content": null,
            "justify_items": null,
            "left": null,
            "margin": null,
            "max_height": null,
            "max_width": null,
            "min_height": null,
            "min_width": null,
            "object_fit": null,
            "object_position": null,
            "order": null,
            "overflow": null,
            "padding": null,
            "right": null,
            "top": null,
            "visibility": null,
            "width": null
          }
        },
        "364924df9db7494fa212e72e1ef52b74": {
          "model_module": "@jupyter-widgets/controls",
          "model_name": "ProgressStyleModel",
          "model_module_version": "2.0.0",
          "state": {
            "_model_module": "@jupyter-widgets/controls",
            "_model_module_version": "2.0.0",
            "_model_name": "ProgressStyleModel",
            "_view_count": null,
            "_view_module": "@jupyter-widgets/base",
            "_view_module_version": "2.0.0",
            "_view_name": "StyleView",
            "bar_color": null,
            "description_width": ""
          }
        },
        "aad48a38ad9b49f088e72f0481935a4f": {
          "model_module": "@jupyter-widgets/base",
          "model_name": "LayoutModel",
          "model_module_version": "2.0.0",
          "state": {
            "_model_module": "@jupyter-widgets/base",
            "_model_module_version": "2.0.0",
            "_model_name": "LayoutModel",
            "_view_count": null,
            "_view_module": "@jupyter-widgets/base",
            "_view_module_version": "2.0.0",
            "_view_name": "LayoutView",
            "align_content": null,
            "align_items": null,
            "align_self": null,
            "border_bottom": null,
            "border_left": null,
            "border_right": null,
            "border_top": null,
            "bottom": null,
            "display": null,
            "flex": null,
            "flex_flow": null,
            "grid_area": null,
            "grid_auto_columns": null,
            "grid_auto_flow": null,
            "grid_auto_rows": null,
            "grid_column": null,
            "grid_gap": null,
            "grid_row": null,
            "grid_template_areas": null,
            "grid_template_columns": null,
            "grid_template_rows": null,
            "height": null,
            "justify_content": null,
            "justify_items": null,
            "left": null,
            "margin": null,
            "max_height": null,
            "max_width": null,
            "min_height": null,
            "min_width": null,
            "object_fit": null,
            "object_position": null,
            "order": null,
            "overflow": null,
            "padding": null,
            "right": null,
            "top": null,
            "visibility": null,
            "width": null
          }
        },
        "3f30f18ebf0c49ebbbd80a4aa3f518d9": {
          "model_module": "@jupyter-widgets/controls",
          "model_name": "HTMLStyleModel",
          "model_module_version": "2.0.0",
          "state": {
            "_model_module": "@jupyter-widgets/controls",
            "_model_module_version": "2.0.0",
            "_model_name": "HTMLStyleModel",
            "_view_count": null,
            "_view_module": "@jupyter-widgets/base",
            "_view_module_version": "2.0.0",
            "_view_name": "StyleView",
            "background": null,
            "description_width": "",
            "font_size": null,
            "text_color": null
          }
        },
        "70714d6656d7427ea779554c444f3be8": {
          "model_module": "@jupyter-widgets/controls",
          "model_name": "HBoxModel",
          "model_module_version": "2.0.0",
          "state": {
            "_dom_classes": [],
            "_model_module": "@jupyter-widgets/controls",
            "_model_module_version": "2.0.0",
            "_model_name": "HBoxModel",
            "_view_count": null,
            "_view_module": "@jupyter-widgets/controls",
            "_view_module_version": "2.0.0",
            "_view_name": "HBoxView",
            "box_style": "",
            "children": [
              "IPY_MODEL_2c46b37e9f664317a61739fa13976db5",
              "IPY_MODEL_cc0f3e07d3ed4a7eaa70a46cdfbe2593",
              "IPY_MODEL_8d940a1c87c447bfb30090c0a280dd26"
            ],
            "layout": "IPY_MODEL_8b607235c53b4f408ab2ecb681a0b5d8",
            "tabbable": null,
            "tooltip": null
          }
        },
        "2c46b37e9f664317a61739fa13976db5": {
          "model_module": "@jupyter-widgets/controls",
          "model_name": "HTMLModel",
          "model_module_version": "2.0.0",
          "state": {
            "_dom_classes": [],
            "_model_module": "@jupyter-widgets/controls",
            "_model_module_version": "2.0.0",
            "_model_name": "HTMLModel",
            "_view_count": null,
            "_view_module": "@jupyter-widgets/controls",
            "_view_module_version": "2.0.0",
            "_view_name": "HTMLView",
            "description": "",
            "description_allow_html": false,
            "layout": "IPY_MODEL_1f6df72f00604abdbd6a8937c4598124",
            "placeholder": "​",
            "style": "IPY_MODEL_ae0294cdfa81432aa5e91ddd2da56385",
            "tabbable": null,
            "tooltip": null,
            "value": "Map: 100%"
          }
        },
        "cc0f3e07d3ed4a7eaa70a46cdfbe2593": {
          "model_module": "@jupyter-widgets/controls",
          "model_name": "FloatProgressModel",
          "model_module_version": "2.0.0",
          "state": {
            "_dom_classes": [],
            "_model_module": "@jupyter-widgets/controls",
            "_model_module_version": "2.0.0",
            "_model_name": "FloatProgressModel",
            "_view_count": null,
            "_view_module": "@jupyter-widgets/controls",
            "_view_module_version": "2.0.0",
            "_view_name": "ProgressView",
            "bar_style": "success",
            "description": "",
            "description_allow_html": false,
            "layout": "IPY_MODEL_18eaf528581b447592a708ebca20624a",
            "max": 24,
            "min": 0,
            "orientation": "horizontal",
            "style": "IPY_MODEL_9e81d451069e40a190bbf263f7b05f93",
            "tabbable": null,
            "tooltip": null,
            "value": 24
          }
        },
        "8d940a1c87c447bfb30090c0a280dd26": {
          "model_module": "@jupyter-widgets/controls",
          "model_name": "HTMLModel",
          "model_module_version": "2.0.0",
          "state": {
            "_dom_classes": [],
            "_model_module": "@jupyter-widgets/controls",
            "_model_module_version": "2.0.0",
            "_model_name": "HTMLModel",
            "_view_count": null,
            "_view_module": "@jupyter-widgets/controls",
            "_view_module_version": "2.0.0",
            "_view_name": "HTMLView",
            "description": "",
            "description_allow_html": false,
            "layout": "IPY_MODEL_fe255ee43d7d4976afbf7c1370d55d8a",
            "placeholder": "​",
            "style": "IPY_MODEL_4084dbd608604480a64eba8ed84f97e5",
            "tabbable": null,
            "tooltip": null,
            "value": " 24/24 [00:00&lt;00:00, 77.79 examples/s]"
          }
        },
        "8b607235c53b4f408ab2ecb681a0b5d8": {
          "model_module": "@jupyter-widgets/base",
          "model_name": "LayoutModel",
          "model_module_version": "2.0.0",
          "state": {
            "_model_module": "@jupyter-widgets/base",
            "_model_module_version": "2.0.0",
            "_model_name": "LayoutModel",
            "_view_count": null,
            "_view_module": "@jupyter-widgets/base",
            "_view_module_version": "2.0.0",
            "_view_name": "LayoutView",
            "align_content": null,
            "align_items": null,
            "align_self": null,
            "border_bottom": null,
            "border_left": null,
            "border_right": null,
            "border_top": null,
            "bottom": null,
            "display": null,
            "flex": null,
            "flex_flow": null,
            "grid_area": null,
            "grid_auto_columns": null,
            "grid_auto_flow": null,
            "grid_auto_rows": null,
            "grid_column": null,
            "grid_gap": null,
            "grid_row": null,
            "grid_template_areas": null,
            "grid_template_columns": null,
            "grid_template_rows": null,
            "height": null,
            "justify_content": null,
            "justify_items": null,
            "left": null,
            "margin": null,
            "max_height": null,
            "max_width": null,
            "min_height": null,
            "min_width": null,
            "object_fit": null,
            "object_position": null,
            "order": null,
            "overflow": null,
            "padding": null,
            "right": null,
            "top": null,
            "visibility": null,
            "width": null
          }
        },
        "1f6df72f00604abdbd6a8937c4598124": {
          "model_module": "@jupyter-widgets/base",
          "model_name": "LayoutModel",
          "model_module_version": "2.0.0",
          "state": {
            "_model_module": "@jupyter-widgets/base",
            "_model_module_version": "2.0.0",
            "_model_name": "LayoutModel",
            "_view_count": null,
            "_view_module": "@jupyter-widgets/base",
            "_view_module_version": "2.0.0",
            "_view_name": "LayoutView",
            "align_content": null,
            "align_items": null,
            "align_self": null,
            "border_bottom": null,
            "border_left": null,
            "border_right": null,
            "border_top": null,
            "bottom": null,
            "display": null,
            "flex": null,
            "flex_flow": null,
            "grid_area": null,
            "grid_auto_columns": null,
            "grid_auto_flow": null,
            "grid_auto_rows": null,
            "grid_column": null,
            "grid_gap": null,
            "grid_row": null,
            "grid_template_areas": null,
            "grid_template_columns": null,
            "grid_template_rows": null,
            "height": null,
            "justify_content": null,
            "justify_items": null,
            "left": null,
            "margin": null,
            "max_height": null,
            "max_width": null,
            "min_height": null,
            "min_width": null,
            "object_fit": null,
            "object_position": null,
            "order": null,
            "overflow": null,
            "padding": null,
            "right": null,
            "top": null,
            "visibility": null,
            "width": null
          }
        },
        "ae0294cdfa81432aa5e91ddd2da56385": {
          "model_module": "@jupyter-widgets/controls",
          "model_name": "HTMLStyleModel",
          "model_module_version": "2.0.0",
          "state": {
            "_model_module": "@jupyter-widgets/controls",
            "_model_module_version": "2.0.0",
            "_model_name": "HTMLStyleModel",
            "_view_count": null,
            "_view_module": "@jupyter-widgets/base",
            "_view_module_version": "2.0.0",
            "_view_name": "StyleView",
            "background": null,
            "description_width": "",
            "font_size": null,
            "text_color": null
          }
        },
        "18eaf528581b447592a708ebca20624a": {
          "model_module": "@jupyter-widgets/base",
          "model_name": "LayoutModel",
          "model_module_version": "2.0.0",
          "state": {
            "_model_module": "@jupyter-widgets/base",
            "_model_module_version": "2.0.0",
            "_model_name": "LayoutModel",
            "_view_count": null,
            "_view_module": "@jupyter-widgets/base",
            "_view_module_version": "2.0.0",
            "_view_name": "LayoutView",
            "align_content": null,
            "align_items": null,
            "align_self": null,
            "border_bottom": null,
            "border_left": null,
            "border_right": null,
            "border_top": null,
            "bottom": null,
            "display": null,
            "flex": null,
            "flex_flow": null,
            "grid_area": null,
            "grid_auto_columns": null,
            "grid_auto_flow": null,
            "grid_auto_rows": null,
            "grid_column": null,
            "grid_gap": null,
            "grid_row": null,
            "grid_template_areas": null,
            "grid_template_columns": null,
            "grid_template_rows": null,
            "height": null,
            "justify_content": null,
            "justify_items": null,
            "left": null,
            "margin": null,
            "max_height": null,
            "max_width": null,
            "min_height": null,
            "min_width": null,
            "object_fit": null,
            "object_position": null,
            "order": null,
            "overflow": null,
            "padding": null,
            "right": null,
            "top": null,
            "visibility": null,
            "width": null
          }
        },
        "9e81d451069e40a190bbf263f7b05f93": {
          "model_module": "@jupyter-widgets/controls",
          "model_name": "ProgressStyleModel",
          "model_module_version": "2.0.0",
          "state": {
            "_model_module": "@jupyter-widgets/controls",
            "_model_module_version": "2.0.0",
            "_model_name": "ProgressStyleModel",
            "_view_count": null,
            "_view_module": "@jupyter-widgets/base",
            "_view_module_version": "2.0.0",
            "_view_name": "StyleView",
            "bar_color": null,
            "description_width": ""
          }
        },
        "fe255ee43d7d4976afbf7c1370d55d8a": {
          "model_module": "@jupyter-widgets/base",
          "model_name": "LayoutModel",
          "model_module_version": "2.0.0",
          "state": {
            "_model_module": "@jupyter-widgets/base",
            "_model_module_version": "2.0.0",
            "_model_name": "LayoutModel",
            "_view_count": null,
            "_view_module": "@jupyter-widgets/base",
            "_view_module_version": "2.0.0",
            "_view_name": "LayoutView",
            "align_content": null,
            "align_items": null,
            "align_self": null,
            "border_bottom": null,
            "border_left": null,
            "border_right": null,
            "border_top": null,
            "bottom": null,
            "display": null,
            "flex": null,
            "flex_flow": null,
            "grid_area": null,
            "grid_auto_columns": null,
            "grid_auto_flow": null,
            "grid_auto_rows": null,
            "grid_column": null,
            "grid_gap": null,
            "grid_row": null,
            "grid_template_areas": null,
            "grid_template_columns": null,
            "grid_template_rows": null,
            "height": null,
            "justify_content": null,
            "justify_items": null,
            "left": null,
            "margin": null,
            "max_height": null,
            "max_width": null,
            "min_height": null,
            "min_width": null,
            "object_fit": null,
            "object_position": null,
            "order": null,
            "overflow": null,
            "padding": null,
            "right": null,
            "top": null,
            "visibility": null,
            "width": null
          }
        },
        "4084dbd608604480a64eba8ed84f97e5": {
          "model_module": "@jupyter-widgets/controls",
          "model_name": "HTMLStyleModel",
          "model_module_version": "2.0.0",
          "state": {
            "_model_module": "@jupyter-widgets/controls",
            "_model_module_version": "2.0.0",
            "_model_name": "HTMLStyleModel",
            "_view_count": null,
            "_view_module": "@jupyter-widgets/base",
            "_view_module_version": "2.0.0",
            "_view_name": "StyleView",
            "background": null,
            "description_width": "",
            "font_size": null,
            "text_color": null
          }
        },
        "0f2b0b06d671497a8ac00082dfcc221b": {
          "model_module": "@jupyter-widgets/controls",
          "model_name": "HBoxModel",
          "model_module_version": "2.0.0",
          "state": {
            "_dom_classes": [],
            "_model_module": "@jupyter-widgets/controls",
            "_model_module_version": "2.0.0",
            "_model_name": "HBoxModel",
            "_view_count": null,
            "_view_module": "@jupyter-widgets/controls",
            "_view_module_version": "2.0.0",
            "_view_name": "HBoxView",
            "box_style": "",
            "children": [
              "IPY_MODEL_eaa79f737bf24b55a7a108ce5fcb2c49",
              "IPY_MODEL_a07166f51bf54979a9807c1f3cdb2fa2",
              "IPY_MODEL_fad0b60c8e1b4a51a1382a846b93e0d0"
            ],
            "layout": "IPY_MODEL_e9b9176483a147a8bae949ee40b2ea73",
            "tabbable": null,
            "tooltip": null
          }
        },
        "eaa79f737bf24b55a7a108ce5fcb2c49": {
          "model_module": "@jupyter-widgets/controls",
          "model_name": "HTMLModel",
          "model_module_version": "2.0.0",
          "state": {
            "_dom_classes": [],
            "_model_module": "@jupyter-widgets/controls",
            "_model_module_version": "2.0.0",
            "_model_name": "HTMLModel",
            "_view_count": null,
            "_view_module": "@jupyter-widgets/controls",
            "_view_module_version": "2.0.0",
            "_view_name": "HTMLView",
            "description": "",
            "description_allow_html": false,
            "layout": "IPY_MODEL_6a24fb250dd146139e3b678afde34ae6",
            "placeholder": "​",
            "style": "IPY_MODEL_e205206e968748f7817a64affdcb0348",
            "tabbable": null,
            "tooltip": null,
            "value": "Map: 100%"
          }
        },
        "a07166f51bf54979a9807c1f3cdb2fa2": {
          "model_module": "@jupyter-widgets/controls",
          "model_name": "FloatProgressModel",
          "model_module_version": "2.0.0",
          "state": {
            "_dom_classes": [],
            "_model_module": "@jupyter-widgets/controls",
            "_model_module_version": "2.0.0",
            "_model_name": "FloatProgressModel",
            "_view_count": null,
            "_view_module": "@jupyter-widgets/controls",
            "_view_module_version": "2.0.0",
            "_view_name": "ProgressView",
            "bar_style": "success",
            "description": "",
            "description_allow_html": false,
            "layout": "IPY_MODEL_1cdfaaeafe4f4ca693a5453200e25afb",
            "max": 6,
            "min": 0,
            "orientation": "horizontal",
            "style": "IPY_MODEL_648fe551874140f9b73f83db64416111",
            "tabbable": null,
            "tooltip": null,
            "value": 6
          }
        },
        "fad0b60c8e1b4a51a1382a846b93e0d0": {
          "model_module": "@jupyter-widgets/controls",
          "model_name": "HTMLModel",
          "model_module_version": "2.0.0",
          "state": {
            "_dom_classes": [],
            "_model_module": "@jupyter-widgets/controls",
            "_model_module_version": "2.0.0",
            "_model_name": "HTMLModel",
            "_view_count": null,
            "_view_module": "@jupyter-widgets/controls",
            "_view_module_version": "2.0.0",
            "_view_name": "HTMLView",
            "description": "",
            "description_allow_html": false,
            "layout": "IPY_MODEL_5b666c8681d24d7eb32b5150f20f9a9f",
            "placeholder": "​",
            "style": "IPY_MODEL_5fb8c285ae5a4cf19a472ea9316b8166",
            "tabbable": null,
            "tooltip": null,
            "value": " 6/6 [00:00&lt;00:00, 124.08 examples/s]"
          }
        },
        "e9b9176483a147a8bae949ee40b2ea73": {
          "model_module": "@jupyter-widgets/base",
          "model_name": "LayoutModel",
          "model_module_version": "2.0.0",
          "state": {
            "_model_module": "@jupyter-widgets/base",
            "_model_module_version": "2.0.0",
            "_model_name": "LayoutModel",
            "_view_count": null,
            "_view_module": "@jupyter-widgets/base",
            "_view_module_version": "2.0.0",
            "_view_name": "LayoutView",
            "align_content": null,
            "align_items": null,
            "align_self": null,
            "border_bottom": null,
            "border_left": null,
            "border_right": null,
            "border_top": null,
            "bottom": null,
            "display": null,
            "flex": null,
            "flex_flow": null,
            "grid_area": null,
            "grid_auto_columns": null,
            "grid_auto_flow": null,
            "grid_auto_rows": null,
            "grid_column": null,
            "grid_gap": null,
            "grid_row": null,
            "grid_template_areas": null,
            "grid_template_columns": null,
            "grid_template_rows": null,
            "height": null,
            "justify_content": null,
            "justify_items": null,
            "left": null,
            "margin": null,
            "max_height": null,
            "max_width": null,
            "min_height": null,
            "min_width": null,
            "object_fit": null,
            "object_position": null,
            "order": null,
            "overflow": null,
            "padding": null,
            "right": null,
            "top": null,
            "visibility": null,
            "width": null
          }
        },
        "6a24fb250dd146139e3b678afde34ae6": {
          "model_module": "@jupyter-widgets/base",
          "model_name": "LayoutModel",
          "model_module_version": "2.0.0",
          "state": {
            "_model_module": "@jupyter-widgets/base",
            "_model_module_version": "2.0.0",
            "_model_name": "LayoutModel",
            "_view_count": null,
            "_view_module": "@jupyter-widgets/base",
            "_view_module_version": "2.0.0",
            "_view_name": "LayoutView",
            "align_content": null,
            "align_items": null,
            "align_self": null,
            "border_bottom": null,
            "border_left": null,
            "border_right": null,
            "border_top": null,
            "bottom": null,
            "display": null,
            "flex": null,
            "flex_flow": null,
            "grid_area": null,
            "grid_auto_columns": null,
            "grid_auto_flow": null,
            "grid_auto_rows": null,
            "grid_column": null,
            "grid_gap": null,
            "grid_row": null,
            "grid_template_areas": null,
            "grid_template_columns": null,
            "grid_template_rows": null,
            "height": null,
            "justify_content": null,
            "justify_items": null,
            "left": null,
            "margin": null,
            "max_height": null,
            "max_width": null,
            "min_height": null,
            "min_width": null,
            "object_fit": null,
            "object_position": null,
            "order": null,
            "overflow": null,
            "padding": null,
            "right": null,
            "top": null,
            "visibility": null,
            "width": null
          }
        },
        "e205206e968748f7817a64affdcb0348": {
          "model_module": "@jupyter-widgets/controls",
          "model_name": "HTMLStyleModel",
          "model_module_version": "2.0.0",
          "state": {
            "_model_module": "@jupyter-widgets/controls",
            "_model_module_version": "2.0.0",
            "_model_name": "HTMLStyleModel",
            "_view_count": null,
            "_view_module": "@jupyter-widgets/base",
            "_view_module_version": "2.0.0",
            "_view_name": "StyleView",
            "background": null,
            "description_width": "",
            "font_size": null,
            "text_color": null
          }
        },
        "1cdfaaeafe4f4ca693a5453200e25afb": {
          "model_module": "@jupyter-widgets/base",
          "model_name": "LayoutModel",
          "model_module_version": "2.0.0",
          "state": {
            "_model_module": "@jupyter-widgets/base",
            "_model_module_version": "2.0.0",
            "_model_name": "LayoutModel",
            "_view_count": null,
            "_view_module": "@jupyter-widgets/base",
            "_view_module_version": "2.0.0",
            "_view_name": "LayoutView",
            "align_content": null,
            "align_items": null,
            "align_self": null,
            "border_bottom": null,
            "border_left": null,
            "border_right": null,
            "border_top": null,
            "bottom": null,
            "display": null,
            "flex": null,
            "flex_flow": null,
            "grid_area": null,
            "grid_auto_columns": null,
            "grid_auto_flow": null,
            "grid_auto_rows": null,
            "grid_column": null,
            "grid_gap": null,
            "grid_row": null,
            "grid_template_areas": null,
            "grid_template_columns": null,
            "grid_template_rows": null,
            "height": null,
            "justify_content": null,
            "justify_items": null,
            "left": null,
            "margin": null,
            "max_height": null,
            "max_width": null,
            "min_height": null,
            "min_width": null,
            "object_fit": null,
            "object_position": null,
            "order": null,
            "overflow": null,
            "padding": null,
            "right": null,
            "top": null,
            "visibility": null,
            "width": null
          }
        },
        "648fe551874140f9b73f83db64416111": {
          "model_module": "@jupyter-widgets/controls",
          "model_name": "ProgressStyleModel",
          "model_module_version": "2.0.0",
          "state": {
            "_model_module": "@jupyter-widgets/controls",
            "_model_module_version": "2.0.0",
            "_model_name": "ProgressStyleModel",
            "_view_count": null,
            "_view_module": "@jupyter-widgets/base",
            "_view_module_version": "2.0.0",
            "_view_name": "StyleView",
            "bar_color": null,
            "description_width": ""
          }
        },
        "5b666c8681d24d7eb32b5150f20f9a9f": {
          "model_module": "@jupyter-widgets/base",
          "model_name": "LayoutModel",
          "model_module_version": "2.0.0",
          "state": {
            "_model_module": "@jupyter-widgets/base",
            "_model_module_version": "2.0.0",
            "_model_name": "LayoutModel",
            "_view_count": null,
            "_view_module": "@jupyter-widgets/base",
            "_view_module_version": "2.0.0",
            "_view_name": "LayoutView",
            "align_content": null,
            "align_items": null,
            "align_self": null,
            "border_bottom": null,
            "border_left": null,
            "border_right": null,
            "border_top": null,
            "bottom": null,
            "display": null,
            "flex": null,
            "flex_flow": null,
            "grid_area": null,
            "grid_auto_columns": null,
            "grid_auto_flow": null,
            "grid_auto_rows": null,
            "grid_column": null,
            "grid_gap": null,
            "grid_row": null,
            "grid_template_areas": null,
            "grid_template_columns": null,
            "grid_template_rows": null,
            "height": null,
            "justify_content": null,
            "justify_items": null,
            "left": null,
            "margin": null,
            "max_height": null,
            "max_width": null,
            "min_height": null,
            "min_width": null,
            "object_fit": null,
            "object_position": null,
            "order": null,
            "overflow": null,
            "padding": null,
            "right": null,
            "top": null,
            "visibility": null,
            "width": null
          }
        },
        "5fb8c285ae5a4cf19a472ea9316b8166": {
          "model_module": "@jupyter-widgets/controls",
          "model_name": "HTMLStyleModel",
          "model_module_version": "2.0.0",
          "state": {
            "_model_module": "@jupyter-widgets/controls",
            "_model_module_version": "2.0.0",
            "_model_name": "HTMLStyleModel",
            "_view_count": null,
            "_view_module": "@jupyter-widgets/base",
            "_view_module_version": "2.0.0",
            "_view_name": "StyleView",
            "background": null,
            "description_width": "",
            "font_size": null,
            "text_color": null
          }
        },
        "6af7268684064c588dabea50864d7d0d": {
          "model_module": "@jupyter-widgets/controls",
          "model_name": "HBoxModel",
          "model_module_version": "2.0.0",
          "state": {
            "_dom_classes": [],
            "_model_module": "@jupyter-widgets/controls",
            "_model_module_version": "2.0.0",
            "_model_name": "HBoxModel",
            "_view_count": null,
            "_view_module": "@jupyter-widgets/controls",
            "_view_module_version": "2.0.0",
            "_view_name": "HBoxView",
            "box_style": "",
            "children": [
              "IPY_MODEL_834bd694b1554b279257db1aa5597b8c",
              "IPY_MODEL_ff06b5de8a3a4f99b8dd8c98cd1e85e7",
              "IPY_MODEL_2f9cb0d737114a85bcfd4f1505482f21"
            ],
            "layout": "IPY_MODEL_c71ed80f369748678f76cf7b0daa0422",
            "tabbable": null,
            "tooltip": null
          }
        },
        "834bd694b1554b279257db1aa5597b8c": {
          "model_module": "@jupyter-widgets/controls",
          "model_name": "HTMLModel",
          "model_module_version": "2.0.0",
          "state": {
            "_dom_classes": [],
            "_model_module": "@jupyter-widgets/controls",
            "_model_module_version": "2.0.0",
            "_model_name": "HTMLModel",
            "_view_count": null,
            "_view_module": "@jupyter-widgets/controls",
            "_view_module_version": "2.0.0",
            "_view_name": "HTMLView",
            "description": "",
            "description_allow_html": false,
            "layout": "IPY_MODEL_2b752e8398af4f4f87be546af786d9d2",
            "placeholder": "​",
            "style": "IPY_MODEL_0b9095dd53504dfc90ec6b06a72f2b2d",
            "tabbable": null,
            "tooltip": null,
            "value": "Map: 100%"
          }
        },
        "ff06b5de8a3a4f99b8dd8c98cd1e85e7": {
          "model_module": "@jupyter-widgets/controls",
          "model_name": "FloatProgressModel",
          "model_module_version": "2.0.0",
          "state": {
            "_dom_classes": [],
            "_model_module": "@jupyter-widgets/controls",
            "_model_module_version": "2.0.0",
            "_model_name": "FloatProgressModel",
            "_view_count": null,
            "_view_module": "@jupyter-widgets/controls",
            "_view_module_version": "2.0.0",
            "_view_name": "ProgressView",
            "bar_style": "success",
            "description": "",
            "description_allow_html": false,
            "layout": "IPY_MODEL_9b6350c560264770b83bd295de1e1925",
            "max": 24,
            "min": 0,
            "orientation": "horizontal",
            "style": "IPY_MODEL_642be0d7a0ee42ab8d2821012154348b",
            "tabbable": null,
            "tooltip": null,
            "value": 24
          }
        },
        "2f9cb0d737114a85bcfd4f1505482f21": {
          "model_module": "@jupyter-widgets/controls",
          "model_name": "HTMLModel",
          "model_module_version": "2.0.0",
          "state": {
            "_dom_classes": [],
            "_model_module": "@jupyter-widgets/controls",
            "_model_module_version": "2.0.0",
            "_model_name": "HTMLModel",
            "_view_count": null,
            "_view_module": "@jupyter-widgets/controls",
            "_view_module_version": "2.0.0",
            "_view_name": "HTMLView",
            "description": "",
            "description_allow_html": false,
            "layout": "IPY_MODEL_221eab91ac614d78b520b4043540b2fe",
            "placeholder": "​",
            "style": "IPY_MODEL_bf9971eec6a24c248c12139e5714cfdb",
            "tabbable": null,
            "tooltip": null,
            "value": " 24/24 [00:00&lt;00:00, 99.76 examples/s]"
          }
        },
        "c71ed80f369748678f76cf7b0daa0422": {
          "model_module": "@jupyter-widgets/base",
          "model_name": "LayoutModel",
          "model_module_version": "2.0.0",
          "state": {
            "_model_module": "@jupyter-widgets/base",
            "_model_module_version": "2.0.0",
            "_model_name": "LayoutModel",
            "_view_count": null,
            "_view_module": "@jupyter-widgets/base",
            "_view_module_version": "2.0.0",
            "_view_name": "LayoutView",
            "align_content": null,
            "align_items": null,
            "align_self": null,
            "border_bottom": null,
            "border_left": null,
            "border_right": null,
            "border_top": null,
            "bottom": null,
            "display": null,
            "flex": null,
            "flex_flow": null,
            "grid_area": null,
            "grid_auto_columns": null,
            "grid_auto_flow": null,
            "grid_auto_rows": null,
            "grid_column": null,
            "grid_gap": null,
            "grid_row": null,
            "grid_template_areas": null,
            "grid_template_columns": null,
            "grid_template_rows": null,
            "height": null,
            "justify_content": null,
            "justify_items": null,
            "left": null,
            "margin": null,
            "max_height": null,
            "max_width": null,
            "min_height": null,
            "min_width": null,
            "object_fit": null,
            "object_position": null,
            "order": null,
            "overflow": null,
            "padding": null,
            "right": null,
            "top": null,
            "visibility": null,
            "width": null
          }
        },
        "2b752e8398af4f4f87be546af786d9d2": {
          "model_module": "@jupyter-widgets/base",
          "model_name": "LayoutModel",
          "model_module_version": "2.0.0",
          "state": {
            "_model_module": "@jupyter-widgets/base",
            "_model_module_version": "2.0.0",
            "_model_name": "LayoutModel",
            "_view_count": null,
            "_view_module": "@jupyter-widgets/base",
            "_view_module_version": "2.0.0",
            "_view_name": "LayoutView",
            "align_content": null,
            "align_items": null,
            "align_self": null,
            "border_bottom": null,
            "border_left": null,
            "border_right": null,
            "border_top": null,
            "bottom": null,
            "display": null,
            "flex": null,
            "flex_flow": null,
            "grid_area": null,
            "grid_auto_columns": null,
            "grid_auto_flow": null,
            "grid_auto_rows": null,
            "grid_column": null,
            "grid_gap": null,
            "grid_row": null,
            "grid_template_areas": null,
            "grid_template_columns": null,
            "grid_template_rows": null,
            "height": null,
            "justify_content": null,
            "justify_items": null,
            "left": null,
            "margin": null,
            "max_height": null,
            "max_width": null,
            "min_height": null,
            "min_width": null,
            "object_fit": null,
            "object_position": null,
            "order": null,
            "overflow": null,
            "padding": null,
            "right": null,
            "top": null,
            "visibility": null,
            "width": null
          }
        },
        "0b9095dd53504dfc90ec6b06a72f2b2d": {
          "model_module": "@jupyter-widgets/controls",
          "model_name": "HTMLStyleModel",
          "model_module_version": "2.0.0",
          "state": {
            "_model_module": "@jupyter-widgets/controls",
            "_model_module_version": "2.0.0",
            "_model_name": "HTMLStyleModel",
            "_view_count": null,
            "_view_module": "@jupyter-widgets/base",
            "_view_module_version": "2.0.0",
            "_view_name": "StyleView",
            "background": null,
            "description_width": "",
            "font_size": null,
            "text_color": null
          }
        },
        "9b6350c560264770b83bd295de1e1925": {
          "model_module": "@jupyter-widgets/base",
          "model_name": "LayoutModel",
          "model_module_version": "2.0.0",
          "state": {
            "_model_module": "@jupyter-widgets/base",
            "_model_module_version": "2.0.0",
            "_model_name": "LayoutModel",
            "_view_count": null,
            "_view_module": "@jupyter-widgets/base",
            "_view_module_version": "2.0.0",
            "_view_name": "LayoutView",
            "align_content": null,
            "align_items": null,
            "align_self": null,
            "border_bottom": null,
            "border_left": null,
            "border_right": null,
            "border_top": null,
            "bottom": null,
            "display": null,
            "flex": null,
            "flex_flow": null,
            "grid_area": null,
            "grid_auto_columns": null,
            "grid_auto_flow": null,
            "grid_auto_rows": null,
            "grid_column": null,
            "grid_gap": null,
            "grid_row": null,
            "grid_template_areas": null,
            "grid_template_columns": null,
            "grid_template_rows": null,
            "height": null,
            "justify_content": null,
            "justify_items": null,
            "left": null,
            "margin": null,
            "max_height": null,
            "max_width": null,
            "min_height": null,
            "min_width": null,
            "object_fit": null,
            "object_position": null,
            "order": null,
            "overflow": null,
            "padding": null,
            "right": null,
            "top": null,
            "visibility": null,
            "width": null
          }
        },
        "642be0d7a0ee42ab8d2821012154348b": {
          "model_module": "@jupyter-widgets/controls",
          "model_name": "ProgressStyleModel",
          "model_module_version": "2.0.0",
          "state": {
            "_model_module": "@jupyter-widgets/controls",
            "_model_module_version": "2.0.0",
            "_model_name": "ProgressStyleModel",
            "_view_count": null,
            "_view_module": "@jupyter-widgets/base",
            "_view_module_version": "2.0.0",
            "_view_name": "StyleView",
            "bar_color": null,
            "description_width": ""
          }
        },
        "221eab91ac614d78b520b4043540b2fe": {
          "model_module": "@jupyter-widgets/base",
          "model_name": "LayoutModel",
          "model_module_version": "2.0.0",
          "state": {
            "_model_module": "@jupyter-widgets/base",
            "_model_module_version": "2.0.0",
            "_model_name": "LayoutModel",
            "_view_count": null,
            "_view_module": "@jupyter-widgets/base",
            "_view_module_version": "2.0.0",
            "_view_name": "LayoutView",
            "align_content": null,
            "align_items": null,
            "align_self": null,
            "border_bottom": null,
            "border_left": null,
            "border_right": null,
            "border_top": null,
            "bottom": null,
            "display": null,
            "flex": null,
            "flex_flow": null,
            "grid_area": null,
            "grid_auto_columns": null,
            "grid_auto_flow": null,
            "grid_auto_rows": null,
            "grid_column": null,
            "grid_gap": null,
            "grid_row": null,
            "grid_template_areas": null,
            "grid_template_columns": null,
            "grid_template_rows": null,
            "height": null,
            "justify_content": null,
            "justify_items": null,
            "left": null,
            "margin": null,
            "max_height": null,
            "max_width": null,
            "min_height": null,
            "min_width": null,
            "object_fit": null,
            "object_position": null,
            "order": null,
            "overflow": null,
            "padding": null,
            "right": null,
            "top": null,
            "visibility": null,
            "width": null
          }
        },
        "bf9971eec6a24c248c12139e5714cfdb": {
          "model_module": "@jupyter-widgets/controls",
          "model_name": "HTMLStyleModel",
          "model_module_version": "2.0.0",
          "state": {
            "_model_module": "@jupyter-widgets/controls",
            "_model_module_version": "2.0.0",
            "_model_name": "HTMLStyleModel",
            "_view_count": null,
            "_view_module": "@jupyter-widgets/base",
            "_view_module_version": "2.0.0",
            "_view_name": "StyleView",
            "background": null,
            "description_width": "",
            "font_size": null,
            "text_color": null
          }
        },
        "f5ec4d914ca6481a84b6e4ff4563d95f": {
          "model_module": "@jupyter-widgets/controls",
          "model_name": "HBoxModel",
          "model_module_version": "2.0.0",
          "state": {
            "_dom_classes": [],
            "_model_module": "@jupyter-widgets/controls",
            "_model_module_version": "2.0.0",
            "_model_name": "HBoxModel",
            "_view_count": null,
            "_view_module": "@jupyter-widgets/controls",
            "_view_module_version": "2.0.0",
            "_view_name": "HBoxView",
            "box_style": "",
            "children": [
              "IPY_MODEL_bd95f16cd44e46c8bb6462197e440fca",
              "IPY_MODEL_5828f8658d6948cc814aa0a83479a022",
              "IPY_MODEL_f3b35894e770415e8d73e45cdcb5c4da"
            ],
            "layout": "IPY_MODEL_43c3051769474ef7a59b2900a68af534",
            "tabbable": null,
            "tooltip": null
          }
        },
        "bd95f16cd44e46c8bb6462197e440fca": {
          "model_module": "@jupyter-widgets/controls",
          "model_name": "HTMLModel",
          "model_module_version": "2.0.0",
          "state": {
            "_dom_classes": [],
            "_model_module": "@jupyter-widgets/controls",
            "_model_module_version": "2.0.0",
            "_model_name": "HTMLModel",
            "_view_count": null,
            "_view_module": "@jupyter-widgets/controls",
            "_view_module_version": "2.0.0",
            "_view_name": "HTMLView",
            "description": "",
            "description_allow_html": false,
            "layout": "IPY_MODEL_5cb8dbb812fa49d882d4cc99e70cd041",
            "placeholder": "​",
            "style": "IPY_MODEL_99978735917147f6a7c79ef1bf7fb4c2",
            "tabbable": null,
            "tooltip": null,
            "value": "Map: 100%"
          }
        },
        "5828f8658d6948cc814aa0a83479a022": {
          "model_module": "@jupyter-widgets/controls",
          "model_name": "FloatProgressModel",
          "model_module_version": "2.0.0",
          "state": {
            "_dom_classes": [],
            "_model_module": "@jupyter-widgets/controls",
            "_model_module_version": "2.0.0",
            "_model_name": "FloatProgressModel",
            "_view_count": null,
            "_view_module": "@jupyter-widgets/controls",
            "_view_module_version": "2.0.0",
            "_view_name": "ProgressView",
            "bar_style": "success",
            "description": "",
            "description_allow_html": false,
            "layout": "IPY_MODEL_685a0b7313b644f6a8767e0c0fe63637",
            "max": 6,
            "min": 0,
            "orientation": "horizontal",
            "style": "IPY_MODEL_c882ee6e948b43a18357aed35229e3bd",
            "tabbable": null,
            "tooltip": null,
            "value": 6
          }
        },
        "f3b35894e770415e8d73e45cdcb5c4da": {
          "model_module": "@jupyter-widgets/controls",
          "model_name": "HTMLModel",
          "model_module_version": "2.0.0",
          "state": {
            "_dom_classes": [],
            "_model_module": "@jupyter-widgets/controls",
            "_model_module_version": "2.0.0",
            "_model_name": "HTMLModel",
            "_view_count": null,
            "_view_module": "@jupyter-widgets/controls",
            "_view_module_version": "2.0.0",
            "_view_name": "HTMLView",
            "description": "",
            "description_allow_html": false,
            "layout": "IPY_MODEL_b5b982a4085d4eb982fcf700ca3b627c",
            "placeholder": "​",
            "style": "IPY_MODEL_45f7aed717c644f7adebd0cc3f4359ba",
            "tabbable": null,
            "tooltip": null,
            "value": " 6/6 [00:00&lt;00:00, 162.90 examples/s]"
          }
        },
        "43c3051769474ef7a59b2900a68af534": {
          "model_module": "@jupyter-widgets/base",
          "model_name": "LayoutModel",
          "model_module_version": "2.0.0",
          "state": {
            "_model_module": "@jupyter-widgets/base",
            "_model_module_version": "2.0.0",
            "_model_name": "LayoutModel",
            "_view_count": null,
            "_view_module": "@jupyter-widgets/base",
            "_view_module_version": "2.0.0",
            "_view_name": "LayoutView",
            "align_content": null,
            "align_items": null,
            "align_self": null,
            "border_bottom": null,
            "border_left": null,
            "border_right": null,
            "border_top": null,
            "bottom": null,
            "display": null,
            "flex": null,
            "flex_flow": null,
            "grid_area": null,
            "grid_auto_columns": null,
            "grid_auto_flow": null,
            "grid_auto_rows": null,
            "grid_column": null,
            "grid_gap": null,
            "grid_row": null,
            "grid_template_areas": null,
            "grid_template_columns": null,
            "grid_template_rows": null,
            "height": null,
            "justify_content": null,
            "justify_items": null,
            "left": null,
            "margin": null,
            "max_height": null,
            "max_width": null,
            "min_height": null,
            "min_width": null,
            "object_fit": null,
            "object_position": null,
            "order": null,
            "overflow": null,
            "padding": null,
            "right": null,
            "top": null,
            "visibility": null,
            "width": null
          }
        },
        "5cb8dbb812fa49d882d4cc99e70cd041": {
          "model_module": "@jupyter-widgets/base",
          "model_name": "LayoutModel",
          "model_module_version": "2.0.0",
          "state": {
            "_model_module": "@jupyter-widgets/base",
            "_model_module_version": "2.0.0",
            "_model_name": "LayoutModel",
            "_view_count": null,
            "_view_module": "@jupyter-widgets/base",
            "_view_module_version": "2.0.0",
            "_view_name": "LayoutView",
            "align_content": null,
            "align_items": null,
            "align_self": null,
            "border_bottom": null,
            "border_left": null,
            "border_right": null,
            "border_top": null,
            "bottom": null,
            "display": null,
            "flex": null,
            "flex_flow": null,
            "grid_area": null,
            "grid_auto_columns": null,
            "grid_auto_flow": null,
            "grid_auto_rows": null,
            "grid_column": null,
            "grid_gap": null,
            "grid_row": null,
            "grid_template_areas": null,
            "grid_template_columns": null,
            "grid_template_rows": null,
            "height": null,
            "justify_content": null,
            "justify_items": null,
            "left": null,
            "margin": null,
            "max_height": null,
            "max_width": null,
            "min_height": null,
            "min_width": null,
            "object_fit": null,
            "object_position": null,
            "order": null,
            "overflow": null,
            "padding": null,
            "right": null,
            "top": null,
            "visibility": null,
            "width": null
          }
        },
        "99978735917147f6a7c79ef1bf7fb4c2": {
          "model_module": "@jupyter-widgets/controls",
          "model_name": "HTMLStyleModel",
          "model_module_version": "2.0.0",
          "state": {
            "_model_module": "@jupyter-widgets/controls",
            "_model_module_version": "2.0.0",
            "_model_name": "HTMLStyleModel",
            "_view_count": null,
            "_view_module": "@jupyter-widgets/base",
            "_view_module_version": "2.0.0",
            "_view_name": "StyleView",
            "background": null,
            "description_width": "",
            "font_size": null,
            "text_color": null
          }
        },
        "685a0b7313b644f6a8767e0c0fe63637": {
          "model_module": "@jupyter-widgets/base",
          "model_name": "LayoutModel",
          "model_module_version": "2.0.0",
          "state": {
            "_model_module": "@jupyter-widgets/base",
            "_model_module_version": "2.0.0",
            "_model_name": "LayoutModel",
            "_view_count": null,
            "_view_module": "@jupyter-widgets/base",
            "_view_module_version": "2.0.0",
            "_view_name": "LayoutView",
            "align_content": null,
            "align_items": null,
            "align_self": null,
            "border_bottom": null,
            "border_left": null,
            "border_right": null,
            "border_top": null,
            "bottom": null,
            "display": null,
            "flex": null,
            "flex_flow": null,
            "grid_area": null,
            "grid_auto_columns": null,
            "grid_auto_flow": null,
            "grid_auto_rows": null,
            "grid_column": null,
            "grid_gap": null,
            "grid_row": null,
            "grid_template_areas": null,
            "grid_template_columns": null,
            "grid_template_rows": null,
            "height": null,
            "justify_content": null,
            "justify_items": null,
            "left": null,
            "margin": null,
            "max_height": null,
            "max_width": null,
            "min_height": null,
            "min_width": null,
            "object_fit": null,
            "object_position": null,
            "order": null,
            "overflow": null,
            "padding": null,
            "right": null,
            "top": null,
            "visibility": null,
            "width": null
          }
        },
        "c882ee6e948b43a18357aed35229e3bd": {
          "model_module": "@jupyter-widgets/controls",
          "model_name": "ProgressStyleModel",
          "model_module_version": "2.0.0",
          "state": {
            "_model_module": "@jupyter-widgets/controls",
            "_model_module_version": "2.0.0",
            "_model_name": "ProgressStyleModel",
            "_view_count": null,
            "_view_module": "@jupyter-widgets/base",
            "_view_module_version": "2.0.0",
            "_view_name": "StyleView",
            "bar_color": null,
            "description_width": ""
          }
        },
        "b5b982a4085d4eb982fcf700ca3b627c": {
          "model_module": "@jupyter-widgets/base",
          "model_name": "LayoutModel",
          "model_module_version": "2.0.0",
          "state": {
            "_model_module": "@jupyter-widgets/base",
            "_model_module_version": "2.0.0",
            "_model_name": "LayoutModel",
            "_view_count": null,
            "_view_module": "@jupyter-widgets/base",
            "_view_module_version": "2.0.0",
            "_view_name": "LayoutView",
            "align_content": null,
            "align_items": null,
            "align_self": null,
            "border_bottom": null,
            "border_left": null,
            "border_right": null,
            "border_top": null,
            "bottom": null,
            "display": null,
            "flex": null,
            "flex_flow": null,
            "grid_area": null,
            "grid_auto_columns": null,
            "grid_auto_flow": null,
            "grid_auto_rows": null,
            "grid_column": null,
            "grid_gap": null,
            "grid_row": null,
            "grid_template_areas": null,
            "grid_template_columns": null,
            "grid_template_rows": null,
            "height": null,
            "justify_content": null,
            "justify_items": null,
            "left": null,
            "margin": null,
            "max_height": null,
            "max_width": null,
            "min_height": null,
            "min_width": null,
            "object_fit": null,
            "object_position": null,
            "order": null,
            "overflow": null,
            "padding": null,
            "right": null,
            "top": null,
            "visibility": null,
            "width": null
          }
        },
        "45f7aed717c644f7adebd0cc3f4359ba": {
          "model_module": "@jupyter-widgets/controls",
          "model_name": "HTMLStyleModel",
          "model_module_version": "2.0.0",
          "state": {
            "_model_module": "@jupyter-widgets/controls",
            "_model_module_version": "2.0.0",
            "_model_name": "HTMLStyleModel",
            "_view_count": null,
            "_view_module": "@jupyter-widgets/base",
            "_view_module_version": "2.0.0",
            "_view_name": "StyleView",
            "background": null,
            "description_width": "",
            "font_size": null,
            "text_color": null
          }
        },
        "f2e9e74a8cf34aae85b522568129c716": {
          "model_module": "@jupyter-widgets/controls",
          "model_name": "HBoxModel",
          "model_module_version": "2.0.0",
          "state": {
            "_dom_classes": [],
            "_model_module": "@jupyter-widgets/controls",
            "_model_module_version": "2.0.0",
            "_model_name": "HBoxModel",
            "_view_count": null,
            "_view_module": "@jupyter-widgets/controls",
            "_view_module_version": "2.0.0",
            "_view_name": "HBoxView",
            "box_style": "",
            "children": [
              "IPY_MODEL_7b4a82abef804bf1bd15a3cc0709f8e3",
              "IPY_MODEL_752db48cf52b472f8eb1a3bba507ac36",
              "IPY_MODEL_5f8c48e530ee479486a94104e490c561"
            ],
            "layout": "IPY_MODEL_2b9775b3d40f430b92bde91bb9873b4d",
            "tabbable": null,
            "tooltip": null
          }
        },
        "7b4a82abef804bf1bd15a3cc0709f8e3": {
          "model_module": "@jupyter-widgets/controls",
          "model_name": "HTMLModel",
          "model_module_version": "2.0.0",
          "state": {
            "_dom_classes": [],
            "_model_module": "@jupyter-widgets/controls",
            "_model_module_version": "2.0.0",
            "_model_name": "HTMLModel",
            "_view_count": null,
            "_view_module": "@jupyter-widgets/controls",
            "_view_module_version": "2.0.0",
            "_view_name": "HTMLView",
            "description": "",
            "description_allow_html": false,
            "layout": "IPY_MODEL_e0dce95be4d54e62a127c30e30998113",
            "placeholder": "​",
            "style": "IPY_MODEL_72b0da55e3064db8aac130d91dedd390",
            "tabbable": null,
            "tooltip": null,
            "value": "Loading checkpoint shards: 100%"
          }
        },
        "752db48cf52b472f8eb1a3bba507ac36": {
          "model_module": "@jupyter-widgets/controls",
          "model_name": "FloatProgressModel",
          "model_module_version": "2.0.0",
          "state": {
            "_dom_classes": [],
            "_model_module": "@jupyter-widgets/controls",
            "_model_module_version": "2.0.0",
            "_model_name": "FloatProgressModel",
            "_view_count": null,
            "_view_module": "@jupyter-widgets/controls",
            "_view_module_version": "2.0.0",
            "_view_name": "ProgressView",
            "bar_style": "success",
            "description": "",
            "description_allow_html": false,
            "layout": "IPY_MODEL_45f18e2ede2a4ef6b85e1f2b675638cd",
            "max": 2,
            "min": 0,
            "orientation": "horizontal",
            "style": "IPY_MODEL_830a7469d2204eb68ade554ebb01e509",
            "tabbable": null,
            "tooltip": null,
            "value": 2
          }
        },
        "5f8c48e530ee479486a94104e490c561": {
          "model_module": "@jupyter-widgets/controls",
          "model_name": "HTMLModel",
          "model_module_version": "2.0.0",
          "state": {
            "_dom_classes": [],
            "_model_module": "@jupyter-widgets/controls",
            "_model_module_version": "2.0.0",
            "_model_name": "HTMLModel",
            "_view_count": null,
            "_view_module": "@jupyter-widgets/controls",
            "_view_module_version": "2.0.0",
            "_view_name": "HTMLView",
            "description": "",
            "description_allow_html": false,
            "layout": "IPY_MODEL_413fd10a89ee453fa7fb8858d7a471b7",
            "placeholder": "​",
            "style": "IPY_MODEL_fc06ff4d27e2449e8ff3e37e444f9ab5",
            "tabbable": null,
            "tooltip": null,
            "value": " 2/2 [00:42&lt;00:00, 20.04s/it]"
          }
        },
        "2b9775b3d40f430b92bde91bb9873b4d": {
          "model_module": "@jupyter-widgets/base",
          "model_name": "LayoutModel",
          "model_module_version": "2.0.0",
          "state": {
            "_model_module": "@jupyter-widgets/base",
            "_model_module_version": "2.0.0",
            "_model_name": "LayoutModel",
            "_view_count": null,
            "_view_module": "@jupyter-widgets/base",
            "_view_module_version": "2.0.0",
            "_view_name": "LayoutView",
            "align_content": null,
            "align_items": null,
            "align_self": null,
            "border_bottom": null,
            "border_left": null,
            "border_right": null,
            "border_top": null,
            "bottom": null,
            "display": null,
            "flex": null,
            "flex_flow": null,
            "grid_area": null,
            "grid_auto_columns": null,
            "grid_auto_flow": null,
            "grid_auto_rows": null,
            "grid_column": null,
            "grid_gap": null,
            "grid_row": null,
            "grid_template_areas": null,
            "grid_template_columns": null,
            "grid_template_rows": null,
            "height": null,
            "justify_content": null,
            "justify_items": null,
            "left": null,
            "margin": null,
            "max_height": null,
            "max_width": null,
            "min_height": null,
            "min_width": null,
            "object_fit": null,
            "object_position": null,
            "order": null,
            "overflow": null,
            "padding": null,
            "right": null,
            "top": null,
            "visibility": null,
            "width": null
          }
        },
        "e0dce95be4d54e62a127c30e30998113": {
          "model_module": "@jupyter-widgets/base",
          "model_name": "LayoutModel",
          "model_module_version": "2.0.0",
          "state": {
            "_model_module": "@jupyter-widgets/base",
            "_model_module_version": "2.0.0",
            "_model_name": "LayoutModel",
            "_view_count": null,
            "_view_module": "@jupyter-widgets/base",
            "_view_module_version": "2.0.0",
            "_view_name": "LayoutView",
            "align_content": null,
            "align_items": null,
            "align_self": null,
            "border_bottom": null,
            "border_left": null,
            "border_right": null,
            "border_top": null,
            "bottom": null,
            "display": null,
            "flex": null,
            "flex_flow": null,
            "grid_area": null,
            "grid_auto_columns": null,
            "grid_auto_flow": null,
            "grid_auto_rows": null,
            "grid_column": null,
            "grid_gap": null,
            "grid_row": null,
            "grid_template_areas": null,
            "grid_template_columns": null,
            "grid_template_rows": null,
            "height": null,
            "justify_content": null,
            "justify_items": null,
            "left": null,
            "margin": null,
            "max_height": null,
            "max_width": null,
            "min_height": null,
            "min_width": null,
            "object_fit": null,
            "object_position": null,
            "order": null,
            "overflow": null,
            "padding": null,
            "right": null,
            "top": null,
            "visibility": null,
            "width": null
          }
        },
        "72b0da55e3064db8aac130d91dedd390": {
          "model_module": "@jupyter-widgets/controls",
          "model_name": "HTMLStyleModel",
          "model_module_version": "2.0.0",
          "state": {
            "_model_module": "@jupyter-widgets/controls",
            "_model_module_version": "2.0.0",
            "_model_name": "HTMLStyleModel",
            "_view_count": null,
            "_view_module": "@jupyter-widgets/base",
            "_view_module_version": "2.0.0",
            "_view_name": "StyleView",
            "background": null,
            "description_width": "",
            "font_size": null,
            "text_color": null
          }
        },
        "45f18e2ede2a4ef6b85e1f2b675638cd": {
          "model_module": "@jupyter-widgets/base",
          "model_name": "LayoutModel",
          "model_module_version": "2.0.0",
          "state": {
            "_model_module": "@jupyter-widgets/base",
            "_model_module_version": "2.0.0",
            "_model_name": "LayoutModel",
            "_view_count": null,
            "_view_module": "@jupyter-widgets/base",
            "_view_module_version": "2.0.0",
            "_view_name": "LayoutView",
            "align_content": null,
            "align_items": null,
            "align_self": null,
            "border_bottom": null,
            "border_left": null,
            "border_right": null,
            "border_top": null,
            "bottom": null,
            "display": null,
            "flex": null,
            "flex_flow": null,
            "grid_area": null,
            "grid_auto_columns": null,
            "grid_auto_flow": null,
            "grid_auto_rows": null,
            "grid_column": null,
            "grid_gap": null,
            "grid_row": null,
            "grid_template_areas": null,
            "grid_template_columns": null,
            "grid_template_rows": null,
            "height": null,
            "justify_content": null,
            "justify_items": null,
            "left": null,
            "margin": null,
            "max_height": null,
            "max_width": null,
            "min_height": null,
            "min_width": null,
            "object_fit": null,
            "object_position": null,
            "order": null,
            "overflow": null,
            "padding": null,
            "right": null,
            "top": null,
            "visibility": null,
            "width": null
          }
        },
        "830a7469d2204eb68ade554ebb01e509": {
          "model_module": "@jupyter-widgets/controls",
          "model_name": "ProgressStyleModel",
          "model_module_version": "2.0.0",
          "state": {
            "_model_module": "@jupyter-widgets/controls",
            "_model_module_version": "2.0.0",
            "_model_name": "ProgressStyleModel",
            "_view_count": null,
            "_view_module": "@jupyter-widgets/base",
            "_view_module_version": "2.0.0",
            "_view_name": "StyleView",
            "bar_color": null,
            "description_width": ""
          }
        },
        "413fd10a89ee453fa7fb8858d7a471b7": {
          "model_module": "@jupyter-widgets/base",
          "model_name": "LayoutModel",
          "model_module_version": "2.0.0",
          "state": {
            "_model_module": "@jupyter-widgets/base",
            "_model_module_version": "2.0.0",
            "_model_name": "LayoutModel",
            "_view_count": null,
            "_view_module": "@jupyter-widgets/base",
            "_view_module_version": "2.0.0",
            "_view_name": "LayoutView",
            "align_content": null,
            "align_items": null,
            "align_self": null,
            "border_bottom": null,
            "border_left": null,
            "border_right": null,
            "border_top": null,
            "bottom": null,
            "display": null,
            "flex": null,
            "flex_flow": null,
            "grid_area": null,
            "grid_auto_columns": null,
            "grid_auto_flow": null,
            "grid_auto_rows": null,
            "grid_column": null,
            "grid_gap": null,
            "grid_row": null,
            "grid_template_areas": null,
            "grid_template_columns": null,
            "grid_template_rows": null,
            "height": null,
            "justify_content": null,
            "justify_items": null,
            "left": null,
            "margin": null,
            "max_height": null,
            "max_width": null,
            "min_height": null,
            "min_width": null,
            "object_fit": null,
            "object_position": null,
            "order": null,
            "overflow": null,
            "padding": null,
            "right": null,
            "top": null,
            "visibility": null,
            "width": null
          }
        },
        "fc06ff4d27e2449e8ff3e37e444f9ab5": {
          "model_module": "@jupyter-widgets/controls",
          "model_name": "HTMLStyleModel",
          "model_module_version": "2.0.0",
          "state": {
            "_model_module": "@jupyter-widgets/controls",
            "_model_module_version": "2.0.0",
            "_model_name": "HTMLStyleModel",
            "_view_count": null,
            "_view_module": "@jupyter-widgets/base",
            "_view_module_version": "2.0.0",
            "_view_name": "StyleView",
            "background": null,
            "description_width": "",
            "font_size": null,
            "text_color": null
          }
        }
      }
    }
  },
  "nbformat": 4,
  "nbformat_minor": 0
}